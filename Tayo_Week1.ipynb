{
 "cells": [
  {
   "cell_type": "code",
   "execution_count": 13,
   "id": "noticed-festival",
   "metadata": {},
   "outputs": [],
   "source": [
    "import pandas as pd\n",
    "from matplotlib import pyplot as plt\n",
    "import seaborn as sns\n",
    "import numpy as np"
   ]
  },
  {
   "cell_type": "code",
   "execution_count": 2,
   "id": "surface-sherman",
   "metadata": {},
   "outputs": [],
   "source": [
    "enrolledApplicants = pd.read_csv(\"C:/Users/tbuai/Desktop/UNIVEL_DATA_SCIENCE/V_INTERNSHIP/Files/enrolled applicants.csv\")\n",
    "registeredApplicants = pd.read_csv(\"C:/Users/tbuai/Desktop/UNIVEL_DATA_SCIENCE/V_INTERNSHIP/Files/registered applicants.csv\")"
   ]
  },
  {
   "cell_type": "markdown",
   "id": "specialized-subscriber",
   "metadata": {},
   "source": [
    "DATA WRANGLING"
   ]
  },
  {
   "cell_type": "markdown",
   "id": "upper-lebanon",
   "metadata": {},
   "source": [
    "Enrolled"
   ]
  },
  {
   "cell_type": "code",
   "execution_count": 3,
   "id": "answering-dylan",
   "metadata": {},
   "outputs": [
    {
     "data": {
      "text/html": [
       "<div>\n",
       "<style scoped>\n",
       "    .dataframe tbody tr th:only-of-type {\n",
       "        vertical-align: middle;\n",
       "    }\n",
       "\n",
       "    .dataframe tbody tr th {\n",
       "        vertical-align: top;\n",
       "    }\n",
       "\n",
       "    .dataframe thead th {\n",
       "        text-align: right;\n",
       "    }\n",
       "</style>\n",
       "<table border=\"1\" class=\"dataframe\">\n",
       "  <thead>\n",
       "    <tr style=\"text-align: right;\">\n",
       "      <th></th>\n",
       "      <th>Unnamed: 0</th>\n",
       "      <th>FIRST NAME</th>\n",
       "      <th>LAST NAME</th>\n",
       "      <th>SOURCE</th>\n",
       "      <th>COURSE</th>\n",
       "      <th>TRACK</th>\n",
       "      <th>GENDER</th>\n",
       "    </tr>\n",
       "  </thead>\n",
       "  <tbody>\n",
       "    <tr>\n",
       "      <th>0</th>\n",
       "      <td>1120</td>\n",
       "      <td>Robert</td>\n",
       "      <td>Mccain</td>\n",
       "      <td>WEBSITE</td>\n",
       "      <td>Full Stack</td>\n",
       "      <td>Weekday</td>\n",
       "      <td>Male</td>\n",
       "    </tr>\n",
       "    <tr>\n",
       "      <th>1</th>\n",
       "      <td>2557</td>\n",
       "      <td>Russel</td>\n",
       "      <td>Reagin</td>\n",
       "      <td>Mr Simps</td>\n",
       "      <td>Full Stack</td>\n",
       "      <td>Weekday</td>\n",
       "      <td>Male</td>\n",
       "    </tr>\n",
       "    <tr>\n",
       "      <th>2</th>\n",
       "      <td>1682</td>\n",
       "      <td>Barry</td>\n",
       "      <td>Dickson</td>\n",
       "      <td>WEBSITE</td>\n",
       "      <td>Full Stack</td>\n",
       "      <td>Weekday</td>\n",
       "      <td>Male</td>\n",
       "    </tr>\n",
       "    <tr>\n",
       "      <th>3</th>\n",
       "      <td>1961</td>\n",
       "      <td>Allen</td>\n",
       "      <td>Williams</td>\n",
       "      <td>Mr Simps</td>\n",
       "      <td>NaN</td>\n",
       "      <td>Weekday</td>\n",
       "      <td>Male</td>\n",
       "    </tr>\n",
       "    <tr>\n",
       "      <th>4</th>\n",
       "      <td>295</td>\n",
       "      <td>Brian</td>\n",
       "      <td>Bryon</td>\n",
       "      <td>Social Media</td>\n",
       "      <td>Python For Data Science</td>\n",
       "      <td>Weekend</td>\n",
       "      <td>Male</td>\n",
       "    </tr>\n",
       "  </tbody>\n",
       "</table>\n",
       "</div>"
      ],
      "text/plain": [
       "   Unnamed: 0 FIRST NAME LAST NAME        SOURCE                   COURSE  \\\n",
       "0        1120     Robert    Mccain       WEBSITE               Full Stack   \n",
       "1        2557     Russel    Reagin      Mr Simps               Full Stack   \n",
       "2        1682      Barry   Dickson       WEBSITE               Full Stack   \n",
       "3        1961      Allen  Williams      Mr Simps                      NaN   \n",
       "4         295      Brian     Bryon  Social Media  Python For Data Science   \n",
       "\n",
       "     TRACK GENDER  \n",
       "0  Weekday   Male  \n",
       "1  Weekday   Male  \n",
       "2  Weekday   Male  \n",
       "3  Weekday   Male  \n",
       "4  Weekend   Male  "
      ]
     },
     "execution_count": 3,
     "metadata": {},
     "output_type": "execute_result"
    }
   ],
   "source": [
    "enrolledApplicants.head()"
   ]
  },
  {
   "cell_type": "code",
   "execution_count": 15,
   "id": "egyptian-fashion",
   "metadata": {},
   "outputs": [
    {
     "data": {
      "text/plain": [
       "Male      1611\n",
       "Female     142\n",
       "male        12\n",
       "female       1\n",
       "Name: GENDER, dtype: int64"
      ]
     },
     "execution_count": 15,
     "metadata": {},
     "output_type": "execute_result"
    }
   ],
   "source": [
    "enrolledApplicants[\"GENDER\"].value_counts()"
   ]
  },
  {
   "cell_type": "code",
   "execution_count": 18,
   "id": "central-struggle",
   "metadata": {},
   "outputs": [
    {
     "data": {
      "text/plain": [
       "Male      1623\n",
       "Female     143\n",
       "Name: GENDER, dtype: int64"
      ]
     },
     "execution_count": 18,
     "metadata": {},
     "output_type": "execute_result"
    }
   ],
   "source": [
    "enrolledApplicants[\"GENDER\"] = enrolledApplicants[\"GENDER\"].apply(lambda x: x.capitalize())\n",
    "enrolledApplicants[\"GENDER\"].value_counts()"
   ]
  },
  {
   "cell_type": "code",
   "execution_count": 20,
   "id": "african-haven",
   "metadata": {},
   "outputs": [
    {
     "data": {
      "text/plain": [
       "Social Media    1096\n",
       "WEBSITE          436\n",
       "Mr Simps         222\n",
       "Name: SOURCE, dtype: int64"
      ]
     },
     "execution_count": 20,
     "metadata": {},
     "output_type": "execute_result"
    }
   ],
   "source": [
    "enrolledApplicants[\"SOURCE\"].value_counts()"
   ]
  },
  {
   "cell_type": "code",
   "execution_count": 21,
   "id": "civil-mississippi",
   "metadata": {},
   "outputs": [
    {
     "data": {
      "text/plain": [
       "Full Stack                      310\n",
       "FullStack                       298\n",
       "Product Design(UI/UX)           124\n",
       "Figma Design to Webflow         122\n",
       "Frontend Web Development        121\n",
       "Product Design(UI/UX) ONLINE    112\n",
       "Python For DataScience          102\n",
       "Product Design                  100\n",
       "CyberSecurity                    97\n",
       "Product Management               93\n",
       "Backend With Python Django       92\n",
       "Frontend                         88\n",
       "Python For Data Science          82\n",
       "Name: COURSE, dtype: int64"
      ]
     },
     "execution_count": 21,
     "metadata": {},
     "output_type": "execute_result"
    }
   ],
   "source": [
    "enrolledApplicants[\"COURSE\"].value_counts()"
   ]
  },
  {
   "cell_type": "code",
   "execution_count": null,
   "id": "chemical-imperial",
   "metadata": {},
   "outputs": [],
   "source": []
  },
  {
   "cell_type": "code",
   "execution_count": 4,
   "id": "arabic-republic",
   "metadata": {},
   "outputs": [
    {
     "data": {
      "text/html": [
       "<div>\n",
       "<style scoped>\n",
       "    .dataframe tbody tr th:only-of-type {\n",
       "        vertical-align: middle;\n",
       "    }\n",
       "\n",
       "    .dataframe tbody tr th {\n",
       "        vertical-align: top;\n",
       "    }\n",
       "\n",
       "    .dataframe thead th {\n",
       "        text-align: right;\n",
       "    }\n",
       "</style>\n",
       "<table border=\"1\" class=\"dataframe\">\n",
       "  <thead>\n",
       "    <tr style=\"text-align: right;\">\n",
       "      <th></th>\n",
       "      <th>Unnamed: 0</th>\n",
       "      <th>FIRST NAME</th>\n",
       "      <th>LAST NAME</th>\n",
       "      <th>SOURCE</th>\n",
       "      <th>COURSE</th>\n",
       "      <th>TRACK</th>\n",
       "      <th>GENDER</th>\n",
       "    </tr>\n",
       "  </thead>\n",
       "  <tbody>\n",
       "    <tr>\n",
       "      <th>0</th>\n",
       "      <td>2373</td>\n",
       "      <td>Brian</td>\n",
       "      <td>May</td>\n",
       "      <td>Social Media</td>\n",
       "      <td>Python For DataScience</td>\n",
       "      <td>Weekend</td>\n",
       "      <td>Male</td>\n",
       "    </tr>\n",
       "    <tr>\n",
       "      <th>1</th>\n",
       "      <td>758</td>\n",
       "      <td>Leon</td>\n",
       "      <td>Melvin</td>\n",
       "      <td>Social Media</td>\n",
       "      <td>Product Design(UI/UX)</td>\n",
       "      <td>Weekend</td>\n",
       "      <td>Male</td>\n",
       "    </tr>\n",
       "    <tr>\n",
       "      <th>2</th>\n",
       "      <td>2287</td>\n",
       "      <td>Juan</td>\n",
       "      <td>Harris</td>\n",
       "      <td>Mr Simps</td>\n",
       "      <td>Product Design(UI/UX)</td>\n",
       "      <td>Weekday</td>\n",
       "      <td>Male</td>\n",
       "    </tr>\n",
       "    <tr>\n",
       "      <th>3</th>\n",
       "      <td>2480</td>\n",
       "      <td>Gilbert</td>\n",
       "      <td>Denson</td>\n",
       "      <td>Social Media</td>\n",
       "      <td>Figma Design to Webflow</td>\n",
       "      <td>Weekend</td>\n",
       "      <td>Male</td>\n",
       "    </tr>\n",
       "    <tr>\n",
       "      <th>4</th>\n",
       "      <td>1359</td>\n",
       "      <td>Larry</td>\n",
       "      <td>Williams</td>\n",
       "      <td>WEBSITE</td>\n",
       "      <td>Python For DataScience</td>\n",
       "      <td>Weekday</td>\n",
       "      <td>Male</td>\n",
       "    </tr>\n",
       "  </tbody>\n",
       "</table>\n",
       "</div>"
      ],
      "text/plain": [
       "   Unnamed: 0 FIRST NAME LAST NAME        SOURCE                   COURSE  \\\n",
       "0        2373      Brian       May  Social Media   Python For DataScience   \n",
       "1         758       Leon    Melvin  Social Media    Product Design(UI/UX)   \n",
       "2        2287       Juan    Harris      Mr Simps    Product Design(UI/UX)   \n",
       "3        2480    Gilbert    Denson  Social Media  Figma Design to Webflow   \n",
       "4        1359      Larry  Williams       WEBSITE   Python For DataScience   \n",
       "\n",
       "     TRACK GENDER  \n",
       "0  Weekend   Male  \n",
       "1  Weekend   Male  \n",
       "2  Weekday   Male  \n",
       "3  Weekend   Male  \n",
       "4  Weekday   Male  "
      ]
     },
     "execution_count": 4,
     "metadata": {},
     "output_type": "execute_result"
    }
   ],
   "source": [
    "registeredApplicants.head()"
   ]
  },
  {
   "cell_type": "code",
   "execution_count": 5,
   "id": "controlling-issue",
   "metadata": {},
   "outputs": [
    {
     "data": {
      "text/html": [
       "<div>\n",
       "<style scoped>\n",
       "    .dataframe tbody tr th:only-of-type {\n",
       "        vertical-align: middle;\n",
       "    }\n",
       "\n",
       "    .dataframe tbody tr th {\n",
       "        vertical-align: top;\n",
       "    }\n",
       "\n",
       "    .dataframe thead th {\n",
       "        text-align: right;\n",
       "    }\n",
       "</style>\n",
       "<table border=\"1\" class=\"dataframe\">\n",
       "  <thead>\n",
       "    <tr style=\"text-align: right;\">\n",
       "      <th></th>\n",
       "      <th>SOURCE</th>\n",
       "      <th>GENDER</th>\n",
       "    </tr>\n",
       "  </thead>\n",
       "  <tbody>\n",
       "    <tr>\n",
       "      <th>0</th>\n",
       "      <td>WEBSITE</td>\n",
       "      <td>Male</td>\n",
       "    </tr>\n",
       "    <tr>\n",
       "      <th>1</th>\n",
       "      <td>Mr Simps</td>\n",
       "      <td>Male</td>\n",
       "    </tr>\n",
       "    <tr>\n",
       "      <th>2</th>\n",
       "      <td>WEBSITE</td>\n",
       "      <td>Male</td>\n",
       "    </tr>\n",
       "    <tr>\n",
       "      <th>3</th>\n",
       "      <td>Mr Simps</td>\n",
       "      <td>Male</td>\n",
       "    </tr>\n",
       "    <tr>\n",
       "      <th>4</th>\n",
       "      <td>Social Media</td>\n",
       "      <td>Male</td>\n",
       "    </tr>\n",
       "    <tr>\n",
       "      <th>...</th>\n",
       "      <td>...</td>\n",
       "      <td>...</td>\n",
       "    </tr>\n",
       "    <tr>\n",
       "      <th>1761</th>\n",
       "      <td>WEBSITE</td>\n",
       "      <td>Male</td>\n",
       "    </tr>\n",
       "    <tr>\n",
       "      <th>1762</th>\n",
       "      <td>Social Media</td>\n",
       "      <td>Male</td>\n",
       "    </tr>\n",
       "    <tr>\n",
       "      <th>1763</th>\n",
       "      <td>Social Media</td>\n",
       "      <td>Male</td>\n",
       "    </tr>\n",
       "    <tr>\n",
       "      <th>1764</th>\n",
       "      <td>Social Media</td>\n",
       "      <td>Male</td>\n",
       "    </tr>\n",
       "    <tr>\n",
       "      <th>1765</th>\n",
       "      <td>Social Media</td>\n",
       "      <td>Male</td>\n",
       "    </tr>\n",
       "  </tbody>\n",
       "</table>\n",
       "<p>1766 rows × 2 columns</p>\n",
       "</div>"
      ],
      "text/plain": [
       "            SOURCE GENDER\n",
       "0          WEBSITE   Male\n",
       "1         Mr Simps   Male\n",
       "2          WEBSITE   Male\n",
       "3         Mr Simps   Male\n",
       "4     Social Media   Male\n",
       "...            ...    ...\n",
       "1761       WEBSITE   Male\n",
       "1762  Social Media   Male\n",
       "1763  Social Media   Male\n",
       "1764  Social Media   Male\n",
       "1765  Social Media   Male\n",
       "\n",
       "[1766 rows x 2 columns]"
      ]
     },
     "execution_count": 5,
     "metadata": {},
     "output_type": "execute_result"
    }
   ],
   "source": [
    "enrolledApplicants[[\"SOURCE\",\"GENDER\"]]"
   ]
  },
  {
   "cell_type": "code",
   "execution_count": 8,
   "id": "catholic-turkish",
   "metadata": {},
   "outputs": [
    {
     "name": "stdout",
     "output_type": "stream",
     "text": [
      "Collecting seaborn\n",
      "  Downloading seaborn-0.11.1-py3-none-any.whl (285 kB)\n",
      "Requirement already satisfied: matplotlib>=2.2 in c:\\users\\tbuai\\appdata\\local\\programs\\python\\python38-32\\lib\\site-packages (from seaborn) (3.3.4)\n",
      "Requirement already satisfied: numpy>=1.15 in c:\\users\\tbuai\\appdata\\local\\programs\\python\\python38-32\\lib\\site-packages (from seaborn) (1.20.0)\n",
      "Requirement already satisfied: pandas>=0.23 in c:\\users\\tbuai\\appdata\\local\\programs\\python\\python38-32\\lib\\site-packages (from seaborn) (1.2.2)\n",
      "Collecting scipy>=1.0\n",
      "  Downloading scipy-1.6.1-cp38-cp38-win_amd64.whl (32.7 MB)\n",
      "Requirement already satisfied: pyparsing!=2.0.4,!=2.1.2,!=2.1.6,>=2.0.3 in c:\\users\\tbuai\\appdata\\local\\programs\\python\\python38-32\\lib\\site-packages (from matplotlib>=2.2->seaborn) (2.4.7)\n",
      "Requirement already satisfied: python-dateutil>=2.1 in c:\\users\\tbuai\\appdata\\roaming\\python\\python38\\site-packages (from matplotlib>=2.2->seaborn) (2.8.1)\n",
      "Requirement already satisfied: cycler>=0.10 in c:\\users\\tbuai\\appdata\\local\\programs\\python\\python38-32\\lib\\site-packages (from matplotlib>=2.2->seaborn) (0.10.0)\n",
      "Requirement already satisfied: pillow>=6.2.0 in c:\\users\\tbuai\\appdata\\local\\programs\\python\\python38-32\\lib\\site-packages (from matplotlib>=2.2->seaborn) (8.1.0)\n",
      "Requirement already satisfied: kiwisolver>=1.0.1 in c:\\users\\tbuai\\appdata\\local\\programs\\python\\python38-32\\lib\\site-packages (from matplotlib>=2.2->seaborn) (1.3.1)\n",
      "Requirement already satisfied: six in c:\\users\\tbuai\\appdata\\roaming\\python\\python38\\site-packages (from cycler>=0.10->matplotlib>=2.2->seaborn) (1.15.0)\n",
      "Requirement already satisfied: pytz>=2017.3 in c:\\users\\tbuai\\appdata\\local\\programs\\python\\python38-32\\lib\\site-packages (from pandas>=0.23->seaborn) (2021.1)\n",
      "Installing collected packages: scipy, seaborn\n",
      "Successfully installed scipy-1.6.1 seaborn-0.11.1\n"
     ]
    }
   ],
   "source": [
    "!pip install seaborn"
   ]
  },
  {
   "cell_type": "code",
   "execution_count": 10,
   "id": "capital-journalism",
   "metadata": {},
   "outputs": [],
   "source": [
    "import seaborn as sns"
   ]
  },
  {
   "cell_type": "code",
   "execution_count": null,
   "id": "adjustable-tracy",
   "metadata": {},
   "outputs": [],
   "source": []
  }
 ],
 "metadata": {
  "kernelspec": {
   "display_name": "Python 3",
   "language": "python",
   "name": "python3"
  },
  "language_info": {
   "codemirror_mode": {
    "name": "ipython",
    "version": 3
   },
   "file_extension": ".py",
   "mimetype": "text/x-python",
   "name": "python",
   "nbconvert_exporter": "python",
   "pygments_lexer": "ipython3",
   "version": "3.8.1"
  }
 },
 "nbformat": 4,
 "nbformat_minor": 5
}
