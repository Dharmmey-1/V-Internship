{
 "cells": [
  {
   "cell_type": "markdown",
   "id": "accessible-youth",
   "metadata": {},
   "source": [
    "# Virtual Internship Assignment 1\n",
    "\n",
    "## Instructions\n",
    "There are two documents attached; one contains the list of people who registered for a program while the other contains the list of those that eventually got enrolled.\n",
    "1. Applying Data Analysis and Visualization, glean out insights from both datasets with respect to the Gender of the applicants.\n",
    "2. What is the probability that a randomly selected registered female will be enrolled in the program?\n",
    "3. What is the probability that a randomly selected registered male will be enrolled in the program?\n",
    "4. What is the probability that a registered applicant will eventually enroll in the program?\n",
    "\n",
    "### Submission deadline is: 12:00pm on Thursday, 25th February 2021\n",
    "Submissions are made by initiating a pull request from the branch assigned to you in your forked version of the repository.\n",
    "Cheers!\n"
   ]
  },
  {
   "cell_type": "code",
   "execution_count": 4,
   "id": "cubic-booth",
   "metadata": {},
   "outputs": [],
   "source": [
    "import pandas as pd \n",
    "import matplotlib as plt\n",
    "import seaborn as sns\n",
    "import matplotlib.pyplot as plt \n",
    "%matplotlib inline"
   ]
  },
  {
   "cell_type": "code",
   "execution_count": 5,
   "id": "known-jonathan",
   "metadata": {},
   "outputs": [],
   "source": [
    "enrolled = pd.read_csv(\"enrolled applicants.csv\", index_col = \"Unnamed: 0\")\n",
    "registered = pd.read_csv(\"registered applicants.csv\", index_col = \"Unnamed: 0\")"
   ]
  },
  {
   "cell_type": "markdown",
   "id": "experimental-importance",
   "metadata": {},
   "source": [
    "### Data Wrangling\n",
    "    Enrolled"
   ]
  },
  {
   "cell_type": "code",
   "execution_count": 6,
   "id": "under-hungary",
   "metadata": {},
   "outputs": [
    {
     "data": {
      "text/html": [
       "<div>\n",
       "<style scoped>\n",
       "    .dataframe tbody tr th:only-of-type {\n",
       "        vertical-align: middle;\n",
       "    }\n",
       "\n",
       "    .dataframe tbody tr th {\n",
       "        vertical-align: top;\n",
       "    }\n",
       "\n",
       "    .dataframe thead th {\n",
       "        text-align: right;\n",
       "    }\n",
       "</style>\n",
       "<table border=\"1\" class=\"dataframe\">\n",
       "  <thead>\n",
       "    <tr style=\"text-align: right;\">\n",
       "      <th></th>\n",
       "      <th>FIRST NAME</th>\n",
       "      <th>LAST NAME</th>\n",
       "      <th>SOURCE</th>\n",
       "      <th>COURSE</th>\n",
       "      <th>TRACK</th>\n",
       "      <th>GENDER</th>\n",
       "    </tr>\n",
       "    <tr>\n",
       "      <th>Unnamed: 0</th>\n",
       "      <th></th>\n",
       "      <th></th>\n",
       "      <th></th>\n",
       "      <th></th>\n",
       "      <th></th>\n",
       "      <th></th>\n",
       "    </tr>\n",
       "  </thead>\n",
       "  <tbody>\n",
       "    <tr>\n",
       "      <th>1120</th>\n",
       "      <td>Robert</td>\n",
       "      <td>Mccain</td>\n",
       "      <td>WEBSITE</td>\n",
       "      <td>Full Stack</td>\n",
       "      <td>Weekday</td>\n",
       "      <td>Male</td>\n",
       "    </tr>\n",
       "    <tr>\n",
       "      <th>2557</th>\n",
       "      <td>Russel</td>\n",
       "      <td>Reagin</td>\n",
       "      <td>Mr Simps</td>\n",
       "      <td>Full Stack</td>\n",
       "      <td>Weekday</td>\n",
       "      <td>Male</td>\n",
       "    </tr>\n",
       "    <tr>\n",
       "      <th>1682</th>\n",
       "      <td>Barry</td>\n",
       "      <td>Dickson</td>\n",
       "      <td>WEBSITE</td>\n",
       "      <td>Full Stack</td>\n",
       "      <td>Weekday</td>\n",
       "      <td>Male</td>\n",
       "    </tr>\n",
       "    <tr>\n",
       "      <th>1961</th>\n",
       "      <td>Allen</td>\n",
       "      <td>Williams</td>\n",
       "      <td>Mr Simps</td>\n",
       "      <td>NaN</td>\n",
       "      <td>Weekday</td>\n",
       "      <td>Male</td>\n",
       "    </tr>\n",
       "    <tr>\n",
       "      <th>295</th>\n",
       "      <td>Brian</td>\n",
       "      <td>Bryon</td>\n",
       "      <td>Social Media</td>\n",
       "      <td>Python For Data Science</td>\n",
       "      <td>Weekend</td>\n",
       "      <td>Male</td>\n",
       "    </tr>\n",
       "  </tbody>\n",
       "</table>\n",
       "</div>"
      ],
      "text/plain": [
       "           FIRST NAME LAST NAME        SOURCE                   COURSE  \\\n",
       "Unnamed: 0                                                               \n",
       "1120           Robert    Mccain       WEBSITE               Full Stack   \n",
       "2557           Russel    Reagin      Mr Simps               Full Stack   \n",
       "1682            Barry   Dickson       WEBSITE               Full Stack   \n",
       "1961            Allen  Williams      Mr Simps                      NaN   \n",
       "295             Brian     Bryon  Social Media  Python For Data Science   \n",
       "\n",
       "              TRACK GENDER  \n",
       "Unnamed: 0                  \n",
       "1120        Weekday   Male  \n",
       "2557        Weekday   Male  \n",
       "1682        Weekday   Male  \n",
       "1961        Weekday   Male  \n",
       "295         Weekend   Male  "
      ]
     },
     "execution_count": 6,
     "metadata": {},
     "output_type": "execute_result"
    }
   ],
   "source": [
    "enrolled.head()"
   ]
  },
  {
   "cell_type": "code",
   "execution_count": 7,
   "id": "worse-species",
   "metadata": {},
   "outputs": [
    {
     "data": {
      "text/plain": [
       "Male      1611\n",
       "Female     142\n",
       "male        12\n",
       "female       1\n",
       "Name: GENDER, dtype: int64"
      ]
     },
     "execution_count": 7,
     "metadata": {},
     "output_type": "execute_result"
    }
   ],
   "source": [
    "enrolled[\"GENDER\"].value_counts()"
   ]
  },
  {
   "cell_type": "code",
   "execution_count": 8,
   "id": "damaged-height",
   "metadata": {},
   "outputs": [
    {
     "data": {
      "text/plain": [
       "array(['Male', 'Female'], dtype=object)"
      ]
     },
     "execution_count": 8,
     "metadata": {},
     "output_type": "execute_result"
    }
   ],
   "source": [
    "enrolled[\"GENDER\"]=enrolled[\"GENDER\"].apply(lambda x: x.capitalize())\n",
    "enrolled[\"GENDER\"].unique()"
   ]
  },
  {
   "cell_type": "code",
   "execution_count": 9,
   "id": "tropical-hardware",
   "metadata": {},
   "outputs": [
    {
     "data": {
      "text/html": [
       "<div>\n",
       "<style scoped>\n",
       "    .dataframe tbody tr th:only-of-type {\n",
       "        vertical-align: middle;\n",
       "    }\n",
       "\n",
       "    .dataframe tbody tr th {\n",
       "        vertical-align: top;\n",
       "    }\n",
       "\n",
       "    .dataframe thead th {\n",
       "        text-align: right;\n",
       "    }\n",
       "</style>\n",
       "<table border=\"1\" class=\"dataframe\">\n",
       "  <thead>\n",
       "    <tr style=\"text-align: right;\">\n",
       "      <th></th>\n",
       "      <th>count</th>\n",
       "      <th>unique</th>\n",
       "      <th>top</th>\n",
       "      <th>freq</th>\n",
       "    </tr>\n",
       "  </thead>\n",
       "  <tbody>\n",
       "    <tr>\n",
       "      <th>FIRST NAME</th>\n",
       "      <td>1766</td>\n",
       "      <td>550</td>\n",
       "      <td>James</td>\n",
       "      <td>63</td>\n",
       "    </tr>\n",
       "    <tr>\n",
       "      <th>LAST NAME</th>\n",
       "      <td>1766</td>\n",
       "      <td>1323</td>\n",
       "      <td>Brown</td>\n",
       "      <td>16</td>\n",
       "    </tr>\n",
       "    <tr>\n",
       "      <th>SOURCE</th>\n",
       "      <td>1754</td>\n",
       "      <td>3</td>\n",
       "      <td>Social Media</td>\n",
       "      <td>1096</td>\n",
       "    </tr>\n",
       "    <tr>\n",
       "      <th>COURSE</th>\n",
       "      <td>1741</td>\n",
       "      <td>13</td>\n",
       "      <td>Full Stack</td>\n",
       "      <td>310</td>\n",
       "    </tr>\n",
       "    <tr>\n",
       "      <th>TRACK</th>\n",
       "      <td>1766</td>\n",
       "      <td>3</td>\n",
       "      <td>Weekday</td>\n",
       "      <td>1131</td>\n",
       "    </tr>\n",
       "    <tr>\n",
       "      <th>GENDER</th>\n",
       "      <td>1766</td>\n",
       "      <td>2</td>\n",
       "      <td>Male</td>\n",
       "      <td>1623</td>\n",
       "    </tr>\n",
       "  </tbody>\n",
       "</table>\n",
       "</div>"
      ],
      "text/plain": [
       "           count unique           top  freq\n",
       "FIRST NAME  1766    550         James    63\n",
       "LAST NAME   1766   1323         Brown    16\n",
       "SOURCE      1754      3  Social Media  1096\n",
       "COURSE      1741     13    Full Stack   310\n",
       "TRACK       1766      3       Weekday  1131\n",
       "GENDER      1766      2          Male  1623"
      ]
     },
     "execution_count": 9,
     "metadata": {},
     "output_type": "execute_result"
    }
   ],
   "source": [
    "enrolled.describe(include='O').T"
   ]
  },
  {
   "cell_type": "code",
   "execution_count": 10,
   "id": "scheduled-immigration",
   "metadata": {},
   "outputs": [],
   "source": [
    "enrolled[\"status\"] = \"Enrolled\""
   ]
  },
  {
   "cell_type": "markdown",
   "id": "differential-mouth",
   "metadata": {},
   "source": [
    "   ### Registered"
   ]
  },
  {
   "cell_type": "code",
   "execution_count": 11,
   "id": "breathing-formula",
   "metadata": {},
   "outputs": [
    {
     "data": {
      "text/html": [
       "<div>\n",
       "<style scoped>\n",
       "    .dataframe tbody tr th:only-of-type {\n",
       "        vertical-align: middle;\n",
       "    }\n",
       "\n",
       "    .dataframe tbody tr th {\n",
       "        vertical-align: top;\n",
       "    }\n",
       "\n",
       "    .dataframe thead th {\n",
       "        text-align: right;\n",
       "    }\n",
       "</style>\n",
       "<table border=\"1\" class=\"dataframe\">\n",
       "  <thead>\n",
       "    <tr style=\"text-align: right;\">\n",
       "      <th></th>\n",
       "      <th>FIRST NAME</th>\n",
       "      <th>LAST NAME</th>\n",
       "      <th>SOURCE</th>\n",
       "      <th>COURSE</th>\n",
       "      <th>TRACK</th>\n",
       "      <th>GENDER</th>\n",
       "    </tr>\n",
       "    <tr>\n",
       "      <th>Unnamed: 0</th>\n",
       "      <th></th>\n",
       "      <th></th>\n",
       "      <th></th>\n",
       "      <th></th>\n",
       "      <th></th>\n",
       "      <th></th>\n",
       "    </tr>\n",
       "  </thead>\n",
       "  <tbody>\n",
       "    <tr>\n",
       "      <th>2373</th>\n",
       "      <td>Brian</td>\n",
       "      <td>May</td>\n",
       "      <td>Social Media</td>\n",
       "      <td>Python For DataScience</td>\n",
       "      <td>Weekend</td>\n",
       "      <td>Male</td>\n",
       "    </tr>\n",
       "    <tr>\n",
       "      <th>758</th>\n",
       "      <td>Leon</td>\n",
       "      <td>Melvin</td>\n",
       "      <td>Social Media</td>\n",
       "      <td>Product Design(UI/UX)</td>\n",
       "      <td>Weekend</td>\n",
       "      <td>Male</td>\n",
       "    </tr>\n",
       "    <tr>\n",
       "      <th>2287</th>\n",
       "      <td>Juan</td>\n",
       "      <td>Harris</td>\n",
       "      <td>Mr Simps</td>\n",
       "      <td>Product Design(UI/UX)</td>\n",
       "      <td>Weekday</td>\n",
       "      <td>Male</td>\n",
       "    </tr>\n",
       "    <tr>\n",
       "      <th>2480</th>\n",
       "      <td>Gilbert</td>\n",
       "      <td>Denson</td>\n",
       "      <td>Social Media</td>\n",
       "      <td>Figma Design to Webflow</td>\n",
       "      <td>Weekend</td>\n",
       "      <td>Male</td>\n",
       "    </tr>\n",
       "    <tr>\n",
       "      <th>1359</th>\n",
       "      <td>Larry</td>\n",
       "      <td>Williams</td>\n",
       "      <td>WEBSITE</td>\n",
       "      <td>Python For DataScience</td>\n",
       "      <td>Weekday</td>\n",
       "      <td>Male</td>\n",
       "    </tr>\n",
       "  </tbody>\n",
       "</table>\n",
       "</div>"
      ],
      "text/plain": [
       "           FIRST NAME LAST NAME        SOURCE                   COURSE  \\\n",
       "Unnamed: 0                                                               \n",
       "2373            Brian       May  Social Media   Python For DataScience   \n",
       "758              Leon    Melvin  Social Media    Product Design(UI/UX)   \n",
       "2287             Juan    Harris      Mr Simps    Product Design(UI/UX)   \n",
       "2480          Gilbert    Denson  Social Media  Figma Design to Webflow   \n",
       "1359            Larry  Williams       WEBSITE   Python For DataScience   \n",
       "\n",
       "              TRACK GENDER  \n",
       "Unnamed: 0                  \n",
       "2373        Weekend   Male  \n",
       "758         Weekend   Male  \n",
       "2287        Weekday   Male  \n",
       "2480        Weekend   Male  \n",
       "1359        Weekday   Male  "
      ]
     },
     "execution_count": 11,
     "metadata": {},
     "output_type": "execute_result"
    }
   ],
   "source": [
    "registered.head()"
   ]
  },
  {
   "cell_type": "code",
   "execution_count": 12,
   "id": "adolescent-unemployment",
   "metadata": {},
   "outputs": [
    {
     "data": {
      "text/plain": [
       "FIRST NAME    0.000\n",
       "LAST NAME     0.000\n",
       "SOURCE        0.007\n",
       "COURSE        0.007\n",
       "TRACK         0.000\n",
       "GENDER        0.015\n",
       "dtype: float64"
      ]
     },
     "execution_count": 12,
     "metadata": {},
     "output_type": "execute_result"
    }
   ],
   "source": [
    "# Missing \n",
    "registered.isnull().mean().round(3)"
   ]
  },
  {
   "cell_type": "code",
   "execution_count": 13,
   "id": "lesbian-distinction",
   "metadata": {},
   "outputs": [
    {
     "data": {
      "text/plain": [
       "array(['Male', 'Female', nan, 'male', 'female'], dtype=object)"
      ]
     },
     "execution_count": 13,
     "metadata": {},
     "output_type": "execute_result"
    }
   ],
   "source": [
    "registered[\"GENDER\"].unique()"
   ]
  },
  {
   "cell_type": "code",
   "execution_count": 14,
   "id": "ethical-rolling",
   "metadata": {},
   "outputs": [
    {
     "data": {
      "text/plain": [
       "array(['Male', 'Female', 'Nan'], dtype=object)"
      ]
     },
     "execution_count": 14,
     "metadata": {},
     "output_type": "execute_result"
    }
   ],
   "source": [
    "registered[\"GENDER\"] = registered[\"GENDER\"].apply(lambda x: str(x).capitalize())\n",
    "registered[\"GENDER\"].unique()"
   ]
  },
  {
   "cell_type": "code",
   "execution_count": 21,
   "id": "atlantic-nature",
   "metadata": {},
   "outputs": [
    {
     "data": {
      "text/html": [
       "<div>\n",
       "<style scoped>\n",
       "    .dataframe tbody tr th:only-of-type {\n",
       "        vertical-align: middle;\n",
       "    }\n",
       "\n",
       "    .dataframe tbody tr th {\n",
       "        vertical-align: top;\n",
       "    }\n",
       "\n",
       "    .dataframe thead th {\n",
       "        text-align: right;\n",
       "    }\n",
       "</style>\n",
       "<table border=\"1\" class=\"dataframe\">\n",
       "  <thead>\n",
       "    <tr style=\"text-align: right;\">\n",
       "      <th></th>\n",
       "      <th>count</th>\n",
       "      <th>unique</th>\n",
       "      <th>top</th>\n",
       "      <th>freq</th>\n",
       "    </tr>\n",
       "  </thead>\n",
       "  <tbody>\n",
       "    <tr>\n",
       "      <th>FIRST NAME</th>\n",
       "      <td>3676</td>\n",
       "      <td>921</td>\n",
       "      <td>James</td>\n",
       "      <td>121</td>\n",
       "    </tr>\n",
       "    <tr>\n",
       "      <th>LAST NAME</th>\n",
       "      <td>3676</td>\n",
       "      <td>2453</td>\n",
       "      <td>Williams</td>\n",
       "      <td>33</td>\n",
       "    </tr>\n",
       "    <tr>\n",
       "      <th>SOURCE</th>\n",
       "      <td>3650</td>\n",
       "      <td>3</td>\n",
       "      <td>Social Media</td>\n",
       "      <td>2225</td>\n",
       "    </tr>\n",
       "    <tr>\n",
       "      <th>COURSE</th>\n",
       "      <td>3651</td>\n",
       "      <td>13</td>\n",
       "      <td>Full Stack</td>\n",
       "      <td>668</td>\n",
       "    </tr>\n",
       "    <tr>\n",
       "      <th>TRACK</th>\n",
       "      <td>3676</td>\n",
       "      <td>3</td>\n",
       "      <td>Weekday</td>\n",
       "      <td>2312</td>\n",
       "    </tr>\n",
       "    <tr>\n",
       "      <th>GENDER</th>\n",
       "      <td>3676</td>\n",
       "      <td>3</td>\n",
       "      <td>Male</td>\n",
       "      <td>2903</td>\n",
       "    </tr>\n",
       "  </tbody>\n",
       "</table>\n",
       "</div>"
      ],
      "text/plain": [
       "           count unique           top  freq\n",
       "FIRST NAME  3676    921         James   121\n",
       "LAST NAME   3676   2453      Williams    33\n",
       "SOURCE      3650      3  Social Media  2225\n",
       "COURSE      3651     13    Full Stack   668\n",
       "TRACK       3676      3       Weekday  2312\n",
       "GENDER      3676      3          Male  2903"
      ]
     },
     "execution_count": 21,
     "metadata": {},
     "output_type": "execute_result"
    }
   ],
   "source": [
    "registered.describe(include='O').T"
   ]
  },
  {
   "cell_type": "code",
   "execution_count": 15,
   "id": "institutional-species",
   "metadata": {},
   "outputs": [],
   "source": [
    "registered[\"status\"] = \"Not Enrolled\""
   ]
  },
  {
   "cell_type": "markdown",
   "id": "protecting-salem",
   "metadata": {},
   "source": [
    "### Merge"
   ]
  },
  {
   "cell_type": "code",
   "execution_count": 19,
   "id": "hairy-magnet",
   "metadata": {},
   "outputs": [
    {
     "data": {
      "text/plain": [
       "False"
      ]
     },
     "execution_count": 19,
     "metadata": {},
     "output_type": "execute_result"
    }
   ],
   "source": [
    "list(enrolled.index) in list(registered.index) #####Data Overlap"
   ]
  },
  {
   "cell_type": "code",
   "execution_count": 18,
   "id": "described-microphone",
   "metadata": {},
   "outputs": [
    {
     "data": {
      "text/html": [
       "<div>\n",
       "<style scoped>\n",
       "    .dataframe tbody tr th:only-of-type {\n",
       "        vertical-align: middle;\n",
       "    }\n",
       "\n",
       "    .dataframe tbody tr th {\n",
       "        vertical-align: top;\n",
       "    }\n",
       "\n",
       "    .dataframe thead th {\n",
       "        text-align: right;\n",
       "    }\n",
       "</style>\n",
       "<table border=\"1\" class=\"dataframe\">\n",
       "  <thead>\n",
       "    <tr style=\"text-align: right;\">\n",
       "      <th></th>\n",
       "      <th>FIRST NAME</th>\n",
       "      <th>LAST NAME</th>\n",
       "      <th>SOURCE</th>\n",
       "      <th>COURSE</th>\n",
       "      <th>TRACK</th>\n",
       "      <th>GENDER</th>\n",
       "      <th>status</th>\n",
       "    </tr>\n",
       "  </thead>\n",
       "  <tbody>\n",
       "    <tr>\n",
       "      <th>count</th>\n",
       "      <td>5442</td>\n",
       "      <td>5442</td>\n",
       "      <td>5404</td>\n",
       "      <td>5392</td>\n",
       "      <td>5442</td>\n",
       "      <td>5442</td>\n",
       "      <td>5442</td>\n",
       "    </tr>\n",
       "    <tr>\n",
       "      <th>unique</th>\n",
       "      <td>921</td>\n",
       "      <td>2453</td>\n",
       "      <td>3</td>\n",
       "      <td>13</td>\n",
       "      <td>3</td>\n",
       "      <td>3</td>\n",
       "      <td>2</td>\n",
       "    </tr>\n",
       "    <tr>\n",
       "      <th>top</th>\n",
       "      <td>James</td>\n",
       "      <td>Williams</td>\n",
       "      <td>Social Media</td>\n",
       "      <td>Full Stack</td>\n",
       "      <td>Weekday</td>\n",
       "      <td>Male</td>\n",
       "      <td>Not Enrolled</td>\n",
       "    </tr>\n",
       "    <tr>\n",
       "      <th>freq</th>\n",
       "      <td>184</td>\n",
       "      <td>49</td>\n",
       "      <td>3321</td>\n",
       "      <td>978</td>\n",
       "      <td>3443</td>\n",
       "      <td>4526</td>\n",
       "      <td>3676</td>\n",
       "    </tr>\n",
       "  </tbody>\n",
       "</table>\n",
       "</div>"
      ],
      "text/plain": [
       "       FIRST NAME LAST NAME        SOURCE      COURSE    TRACK GENDER  \\\n",
       "count        5442      5442          5404        5392     5442   5442   \n",
       "unique        921      2453             3          13        3      3   \n",
       "top         James  Williams  Social Media  Full Stack  Weekday   Male   \n",
       "freq          184        49          3321         978     3443   4526   \n",
       "\n",
       "              status  \n",
       "count           5442  \n",
       "unique             2  \n",
       "top     Not Enrolled  \n",
       "freq            3676  "
      ]
     },
     "execution_count": 18,
     "metadata": {},
     "output_type": "execute_result"
    }
   ],
   "source": [
    "data = pd.concat([enrolled, registered])\n",
    "data.describe(include='O')"
   ]
  },
  {
   "cell_type": "code",
   "execution_count": 20,
   "id": "fitting-purse",
   "metadata": {},
   "outputs": [
    {
     "data": {
      "text/plain": [
       "array(['Full Stack', nan, 'Python For Data Science', 'FullStack',\n",
       "       'Product Design(UI/UX)', 'Product Management', 'Frontend',\n",
       "       'Frontend Web Development', 'Figma Design to Webflow',\n",
       "       'Product Design(UI/UX) ONLINE', 'Product Design',\n",
       "       'Backend With Python Django', 'CyberSecurity',\n",
       "       'Python For DataScience'], dtype=object)"
      ]
     },
     "execution_count": 20,
     "metadata": {},
     "output_type": "execute_result"
    }
   ],
   "source": [
    "data[\"COURSE\"].unique()"
   ]
  },
  {
   "cell_type": "code",
   "execution_count": 21,
   "id": "fleet-canal",
   "metadata": {},
   "outputs": [
    {
     "data": {
      "text/plain": [
       "array(['FullStack', 'PythonForDataScience', 'Product Design',\n",
       "       'ProductManagement', 'Frontend', 'FigmaDesigntoWebflow',\n",
       "       'ProductDesign', 'BackendWithPythonDjango', 'CyberSecurity'],\n",
       "      dtype=object)"
      ]
     },
     "execution_count": 21,
     "metadata": {},
     "output_type": "execute_result"
    }
   ],
   "source": [
    "# Merging and cleaning courses\n",
    "\n",
    "data[\"COURSE\"] = data[\"COURSE\"].apply(lambda x:str(x).replace(' ',''))\n",
    "data[\"COURSE\"]= data[\"COURSE\"].replace([\"ProductDesign(UI/UX)\",\"ProductDesign(UI/UX)ONLINE\"], \"Product Design\")\n",
    "data[\"COURSE\"] =data[\"COURSE\"].replace([\"FrontendWebDevelopment\"], \"Frontend\")\n",
    "data[\"COURSE\"] =data[\"COURSE\"].replace([\"Python For Data Science\", \"Python For DataScience\"], \"Pyhton for Data Science\")\n",
    "data[\"COURSE\"] =data[\"COURSE\"].replace(['nan'], data['COURSE'].mode()[0])\n",
    "\n",
    "data['COURSE'].unique()"
   ]
  },
  {
   "cell_type": "code",
   "execution_count": 41,
   "id": "linear-shakespeare",
   "metadata": {},
   "outputs": [
    {
     "data": {
      "image/png": "[encoded data removed]",
      "text/plain": [
       "<Figure size 1440x720 with 4 Axes>"
      ]
     },
     "metadata": {
      "needs_background": "light"
     },
     "output_type": "display_data"
    }
   ],
   "source": [
    "features = [x for x in data.columns if data[x].dtypes and data[x].nunique() < 10]\n",
    "features.pop(-2)\n",
    "features\n",
    "\n",
    "fig, axs = plt.subplots(nrows=2, ncols=2, figsize=(18,10))\n",
    "fig.set_size_inches(20, 10)\n",
    "fig.subplots_adjust(wspace=0.2)\n",
    "fig.subplots_adjust(hspace=0.5)\n",
    "\n",
    "for feature, ax in zip(features, axs.flatten()):\n",
    "    sns.countplot(x=data[feature], ax=ax, hue=\"GENDER\", data=data)\n",
    "    ax.set_title(feature)\n",
    "    ax.tick_params(axis='x', labelrotation=30)\n",
    "\n",
    "plt.show()"
   ]
  },
  {
   "cell_type": "markdown",
   "id": "assisted-height",
   "metadata": {},
   "source": [
    "#### 2. What is the probability that a randomly selected registered female will be enrolled in the program?\n",
    "#### 3. What is the probability that a randomly selected registered male will be enrolled in the program?\n"
   ]
  },
  {
   "cell_type": "code",
   "execution_count": 22,
   "id": "acute-runner",
   "metadata": {},
   "outputs": [],
   "source": [
    "data[\"gender_status\"] = data[\"GENDER\"] +\"_\"+ data[\"status\"]"
   ]
  },
  {
   "cell_type": "code",
   "execution_count": 27,
   "id": "governing-exception",
   "metadata": {},
   "outputs": [
    {
     "name": "stdout",
     "output_type": "stream",
     "text": [
      "Probability of randomly selecting a Female who enrolled is 0.166\n"
     ]
    }
   ],
   "source": [
    "#### 3. What is the probability that a randomly selected registered female will be enrolled in the program?\n",
    "\n",
    "num_female_enrolled = len(data[(data['GENDER']=='Female') & (data['status'] == 'Enrolled')])\n",
    "total_number_female = len(data[(data['GENDER']=='Female')])\n",
    "\n",
    "print('Probability of randomly selecting a Female who enrolled is {}'.format(round(num_female_enrolled/total_number_female,3)))"
   ]
  },
  {
   "cell_type": "code",
   "execution_count": 26,
   "id": "lasting-facial",
   "metadata": {},
   "outputs": [
    {
     "name": "stdout",
     "output_type": "stream",
     "text": [
      "Probability of randomly selecting a Male who enrolled is 0.359\n"
     ]
    }
   ],
   "source": [
    "#### 3. What is the probability that a randomly selected registered male will be enrolled in the program?\n",
    "\n",
    "num_male_enrolled = len(data[(data['GENDER']=='Male') & (data['status'] == 'Enrolled')])\n",
    "total_number_male = len(data[(data['GENDER']=='Male')])\n",
    "\n",
    "print('Probability of randomly selecting a Male who enrolled is {}'.format(round(num_male_enrolled/total_number_male,3)))"
   ]
  },
  {
   "cell_type": "markdown",
   "id": "fourth-shield",
   "metadata": {},
   "source": [
    "#### 4. What is the probability that a registered applicant will eventually enroll in the program?"
   ]
  },
  {
   "cell_type": "code",
   "execution_count": 28,
   "id": "colored-contract",
   "metadata": {},
   "outputs": [
    {
     "name": "stdout",
     "output_type": "stream",
     "text": [
      "Probability of randomly selecting a person who enrolled is 0.32\n"
     ]
    }
   ],
   "source": [
    "num_enrolled = len(data[(data[\"status\"]==\"Enrolled\")])\n",
    "total_number_enrolled = len(data)\n",
    "\n",
    "\n",
    "print('Probability of randomly selecting a person who enrolled is {}'.format(round(num_enrolled/total_number_enrolled,2)))"
   ]
  },
  {
   "cell_type": "code",
   "execution_count": null,
   "id": "graduate-congo",
   "metadata": {},
   "outputs": [],
   "source": []
  }
 ],
 "metadata": {
  "kernelspec": {
   "display_name": "Python 3",
   "language": "python",
   "name": "python3"
  }
 },
 "nbformat": 4,
 "nbformat_minor": 5
}
