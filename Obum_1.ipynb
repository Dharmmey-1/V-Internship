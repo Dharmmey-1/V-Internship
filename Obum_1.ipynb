{
 "cells": [
  {
   "cell_type": "markdown",
   "id": "persistent-yesterday",
   "metadata": {},
   "source": [
    "# Univelcity Virtual Internship - Obum Week 1"
   ]
  },
  {
   "cell_type": "code",
   "execution_count": 3,
   "id": "hindu-employment",
   "metadata": {},
   "outputs": [],
   "source": [
    "import pandas as pd\n",
    "import matplotlib.pyplot as plt"
   ]
  },
  {
   "cell_type": "code",
   "execution_count": 8,
   "id": "excess-louisville",
   "metadata": {},
   "outputs": [],
   "source": [
    "enrolled_data = pd.read_csv('V-Internship/birthdays.csv')\n",
    "enrolled_data\n",
    "\n",
    "# Rename Unnamed: 0 to studentID column\n",
    "enrolled_data = enrolled_data.rename(columns = {'Unnamed: 0':'studentID'})\n",
    "enrolled_data\n",
    "\n",
    "# Create a subset of original dataframe\n",
    "subset_of_enrolled_data = enrolled_data[['studentID', 'GENDER']]\n"
   ]
  },
  {
   "cell_type": "markdown",
   "id": "proved-singles",
   "metadata": {},
   "source": [
    "# Data Wrangling\n",
    "\n",
    "## Q1. Applying Data Analysis and Visualization, glean out insights from both datasets with respect to the Gender of the applicants.\n",
    "\n",
    "###  From the Enrolled file - Gender should have 2 unique objects (Male or Female)"
   ]
  },
  {
   "cell_type": "code",
   "execution_count": 5,
   "id": "julian-matrix",
   "metadata": {},
   "outputs": [],
   "source": [
    "enrolled_data.GENDER = enrolled_data.GENDER.replace(['male', 'female'], ['Male', 'Female'])"
   ]
  },
  {
   "cell_type": "code",
   "execution_count": 6,
   "id": "blond-audit",
   "metadata": {},
   "outputs": [
    {
     "data": {
      "text/plain": [
       "array(['Male', 'Female'], dtype=object)"
      ]
     },
     "execution_count": 6,
     "metadata": {},
     "output_type": "execute_result"
    }
   ],
   "source": [
    "enrolled_data.GENDER.unique()"
   ]
  },
  {
   "cell_type": "code",
   "execution_count": 25,
   "id": "parliamentary-nepal",
   "metadata": {},
   "outputs": [
    {
     "data": {
      "text/plain": [
       "1766"
      ]
     },
     "execution_count": 25,
     "metadata": {},
     "output_type": "execute_result"
    }
   ],
   "source": [
    "# To get the number of enrolled applicants\n",
    "no_of_enrolled_applicants = enrolled_data.GENDER.count()\n",
    "no_of_enrolled_applicants"
   ]
  },
  {
   "cell_type": "code",
   "execution_count": 141,
   "id": "arbitrary-french",
   "metadata": {},
   "outputs": [
    {
     "data": {
      "text/plain": [
       "1623"
      ]
     },
     "execution_count": 141,
     "metadata": {},
     "output_type": "execute_result"
    }
   ],
   "source": [
    "# To get the number of enrolled males\n",
    "bool_df_of_enrolled_males = enrolled_data.GENDER == \"Male\"\n",
    "no_of_enrolled_males =  enrolled_data[bool_df_of_enrolled_males].GENDER.count()\n",
    "no_of_enrolled_males"
   ]
  },
  {
   "cell_type": "code",
   "execution_count": 22,
   "id": "veterinary-sheriff",
   "metadata": {},
   "outputs": [
    {
     "data": {
      "text/plain": [
       "143"
      ]
     },
     "execution_count": 22,
     "metadata": {},
     "output_type": "execute_result"
    }
   ],
   "source": [
    "# To get the number of enrolled females\n",
    "bool_df_of_enrolled_females = enrolled_data.GENDER == \"Female\"\n",
    "no_of_enrolled_females = enrolled_data[bool_df_of_enrolled_females].GENDER.count()\n",
    "no_of_enrolled_females"
   ]
  },
  {
   "cell_type": "code",
   "execution_count": 167,
   "id": "wooden-south",
   "metadata": {},
   "outputs": [
    {
     "data": {
      "image/png": "[encoded data removed]",
      "text/plain": [
       "<Figure size 432x288 with 1 Axes>"
      ]
     },
     "metadata": {
      "needs_background": "light"
     },
     "output_type": "display_data"
    }
   ],
   "source": [
    "New_Colors = ['grey','yellow']\n",
    "plt.bar(['Male', 'Female'],[no_of_enrolled_males, no_of_enrolled_females], color=New_Colors)\n",
    "plt.title('Gender Distribution - Enrolled applicants', fontsize=20)\n",
    "plt.ylabel('Number of applicants', fontsize=15)\n",
    "plt.xlabel('Gender', fontsize=15)\n",
    "plt.show()"
   ]
  },
  {
   "cell_type": "markdown",
   "id": "mysterious-rolling",
   "metadata": {},
   "source": [
    "# Registered dataSet"
   ]
  },
  {
   "cell_type": "code",
   "execution_count": 6,
   "id": "broken-nudist",
   "metadata": {},
   "outputs": [],
   "source": [
    "register_data = pd.read_csv('V-Internship/registered applicants.csv')\n",
    "register_data\n",
    "\n",
    "# Rename Unnamed: 0 to studentID column\n",
    "register_data = register_data.rename(columns = {'Unnamed: 0':'studentID'})\n",
    "register_data\n",
    "\n",
    "# Create a subset from the registered dataset - for only StudentsID and Gender\n",
    "subset_of_registered_data = register_data[['studentID', 'GENDER']]"
   ]
  },
  {
   "cell_type": "code",
   "execution_count": 85,
   "id": "psychological-assist",
   "metadata": {},
   "outputs": [
    {
     "data": {
      "text/plain": [
       "array(['Male', 'Female', nan, 'male', 'female'], dtype=object)"
      ]
     },
     "execution_count": 85,
     "metadata": {},
     "output_type": "execute_result"
    }
   ],
   "source": [
    "# to Know the unique values in the gender column\n",
    "register_data.GENDER.unique()"
   ]
  },
  {
   "cell_type": "code",
   "execution_count": 86,
   "id": "continent-belly",
   "metadata": {},
   "outputs": [],
   "source": [
    "register_data.GENDER = register_data.GENDER.replace(['male', 'female'], ['Male', 'Female'])"
   ]
  },
  {
   "cell_type": "code",
   "execution_count": 87,
   "id": "musical-mattress",
   "metadata": {},
   "outputs": [
    {
     "data": {
      "text/plain": [
       "array(['Male', 'Female', nan], dtype=object)"
      ]
     },
     "execution_count": 87,
     "metadata": {},
     "output_type": "execute_result"
    }
   ],
   "source": [
    "register_data.GENDER.unique()"
   ]
  },
  {
   "cell_type": "code",
   "execution_count": 96,
   "id": "sealed-course",
   "metadata": {},
   "outputs": [
    {
     "data": {
      "text/plain": [
       "3676"
      ]
     },
     "execution_count": 96,
     "metadata": {},
     "output_type": "execute_result"
    }
   ],
   "source": [
    "# No of registered Students\n",
    "register_data_is_null =  register_data[register_data['GENDER'].isnull()].count()\n",
    "register_data_is_null['studentID']\n",
    "no_of_registered_applicants = register_data.studentID.count()\n",
    "no_of_registered_applicants"
   ]
  },
  {
   "cell_type": "code",
   "execution_count": 139,
   "id": "afraid-governor",
   "metadata": {},
   "outputs": [
    {
     "data": {
      "text/plain": [
       "56"
      ]
     },
     "execution_count": 139,
     "metadata": {},
     "output_type": "execute_result"
    }
   ],
   "source": [
    "# No of registered Students without a Gender\n",
    "register_data_is_null =  register_data[register_data['GENDER'].isnull()][['studentID', 'GENDER']]\n",
    "register_data_is_null.studentID.count()"
   ]
  },
  {
   "cell_type": "code",
   "execution_count": 119,
   "id": "limited-musician",
   "metadata": {},
   "outputs": [
    {
     "data": {
      "text/plain": [
       "0"
      ]
     },
     "execution_count": 119,
     "metadata": {},
     "output_type": "execute_result"
    }
   ],
   "source": [
    "# Note no registered student with Gender blank (NaN) was enrolled\n",
    "null_gender_in_enrolled = pd.merge(register_data_is_null, subset_of_enrolled_data).studentID.count()\n",
    "null_gender_in_enrolled"
   ]
  },
  {
   "cell_type": "code",
   "execution_count": 121,
   "id": "valid-antibody",
   "metadata": {},
   "outputs": [
    {
     "data": {
      "text/plain": [
       "717"
      ]
     },
     "execution_count": 121,
     "metadata": {},
     "output_type": "execute_result"
    }
   ],
   "source": [
    "# No of registered females\n",
    "no_of_registered_female = register_data[register_data.GENDER == 'Female']['GENDER'].count()\n",
    "no_of_registered_female"
   ]
  },
  {
   "cell_type": "code",
   "execution_count": 122,
   "id": "outstanding-evening",
   "metadata": {},
   "outputs": [
    {
     "data": {
      "text/plain": [
       "2903"
      ]
     },
     "execution_count": 122,
     "metadata": {},
     "output_type": "execute_result"
    }
   ],
   "source": [
    "# No of registered males\n",
    "no_of_registered_male = register_data[register_data.GENDER == 'Male']['GENDER'].count()\n",
    "no_of_registered_male"
   ]
  },
  {
   "cell_type": "code",
   "execution_count": 166,
   "id": "stylish-philip",
   "metadata": {},
   "outputs": [
    {
     "data": {
      "image/png": "[encoded data removed]",
      "text/plain": [
       "<Figure size 432x288 with 1 Axes>"
      ]
     },
     "metadata": {
      "needs_background": "light"
     },
     "output_type": "display_data"
    }
   ],
   "source": [
    "New_Colors = ['black','orange']\n",
    "plt.bar([ 'Female','Male'],[no_of_registered_female, no_of_registered_male], color=New_Colors)\n",
    "plt.title('Gender Distribution - Registered applicants', fontsize=20)\n",
    "plt.ylabel('Number of applicants', fontsize=15)\n",
    "plt.xlabel('Gender', fontsize=15)\n",
    "plt.show()"
   ]
  },
  {
   "cell_type": "code",
   "execution_count": 9,
   "id": "neural-blackberry",
   "metadata": {},
   "outputs": [],
   "source": [
    "# Get the table of applicants that are both on the registered list and enrolled list\n",
    "registered_and_enrolled_applicants = pd.merge(subset_of_registered_data, subset_of_enrolled_data)"
   ]
  },
  {
   "cell_type": "code",
   "execution_count": 60,
   "id": "needed-allah",
   "metadata": {},
   "outputs": [
    {
     "data": {
      "text/plain": [
       "1766"
      ]
     },
     "execution_count": 60,
     "metadata": {},
     "output_type": "execute_result"
    }
   ],
   "source": [
    "No_of_registered_and_enrolled_applicants = registered_and_enrolled_applicants.GENDER.count()\n",
    "No_of_registered_and_enrolled_applicants"
   ]
  },
  {
   "cell_type": "code",
   "execution_count": 102,
   "id": "compact-astronomy",
   "metadata": {},
   "outputs": [
    {
     "data": {
      "text/plain": [
       "143"
      ]
     },
     "execution_count": 102,
     "metadata": {},
     "output_type": "execute_result"
    }
   ],
   "source": [
    "no_of_registered_and_enrolled_females = registered_and_enrolled_applicants[registered_and_enrolled_applicants.GENDER == 'Female']['GENDER'].count()\n",
    "no_of_registered_and_enrolled_females"
   ]
  },
  {
   "cell_type": "code",
   "execution_count": 103,
   "id": "answering-source",
   "metadata": {},
   "outputs": [
    {
     "data": {
      "text/plain": [
       "1623"
      ]
     },
     "execution_count": 103,
     "metadata": {},
     "output_type": "execute_result"
    }
   ],
   "source": [
    "no_of_registered_and_enrolled_male = registered_and_enrolled_applicants[registered_and_enrolled_applicants.GENDER == 'Male']['GENDER'].count()\n",
    "no_of_registered_and_enrolled_male"
   ]
  },
  {
   "cell_type": "markdown",
   "id": "analyzed-timothy",
   "metadata": {},
   "source": [
    "# Q2. What is the probability that a randomly selected registered female will be enrolled in the program?"
   ]
  },
  {
   "cell_type": "code",
   "execution_count": 128,
   "id": "convertible-morocco",
   "metadata": {},
   "outputs": [
    {
     "data": {
      "text/plain": [
       "0.2"
      ]
     },
     "execution_count": 128,
     "metadata": {},
     "output_type": "execute_result"
    }
   ],
   "source": [
    "Prob_of_selecting_an_enrolled_female_from_registered_female = no_of_registered_and_enrolled_females/no_of_registered_female\n",
    "Prob_of_selecting_an_enrolled_female_from_registered_female.round(2)"
   ]
  },
  {
   "cell_type": "markdown",
   "id": "loving-injury",
   "metadata": {},
   "source": [
    "# Q3. What is the probability that a randomly selected registered male will be enrolled in the program?"
   ]
  },
  {
   "cell_type": "code",
   "execution_count": 129,
   "id": "dramatic-craps",
   "metadata": {},
   "outputs": [
    {
     "data": {
      "text/plain": [
       "0.56"
      ]
     },
     "execution_count": 129,
     "metadata": {},
     "output_type": "execute_result"
    }
   ],
   "source": [
    "Prob_of_selecting_an_enrolled_female_from_registered_male = no_of_registered_and_enrolled_male/no_of_registered_male\n",
    "Prob_of_selecting_an_enrolled_female_from_registered_male.round(2)"
   ]
  },
  {
   "cell_type": "markdown",
   "id": "aquatic-central",
   "metadata": {},
   "source": [
    "# Q4. What is the probability that a registered applicant will eventually enroll in the program?"
   ]
  },
  {
   "cell_type": "code",
   "execution_count": 130,
   "id": "approximate-overall",
   "metadata": {},
   "outputs": [
    {
     "data": {
      "text/plain": [
       "0.48"
      ]
     },
     "execution_count": 130,
     "metadata": {},
     "output_type": "execute_result"
    }
   ],
   "source": [
    "Prob_that_applicants_enroll = no_of_enrolled_applicants/no_of_registered_applicants\n",
    "Prob_that_applicants_enroll.round(2)"
   ]
  },
  {
   "cell_type": "code",
   "execution_count": null,
   "id": "electric-silence",
   "metadata": {},
   "outputs": [],
   "source": []
  }
 ],
 "metadata": {
  "kernelspec": {
   "display_name": "Python 3",
   "language": "python",
   "name": "python3"
  },
  "language_info": {
   "codemirror_mode": {
    "name": "ipython",
    "version": 3
   },
   "file_extension": ".py",
   "mimetype": "text/x-python",
   "name": "python",
   "nbconvert_exporter": "python",
   "pygments_lexer": "ipython3",
   "version": "3.9.1"
  }
 },
 "nbformat": 4,
 "nbformat_minor": 5
}
