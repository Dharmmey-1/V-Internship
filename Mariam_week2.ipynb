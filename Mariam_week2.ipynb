{
 "cells": [
  {
   "cell_type": "markdown",
   "id": "proud-republican",
   "metadata": {
    "slideshow": {
     "slide_type": "slide"
    }
   },
   "source": [
    "# This is  an exploratory analysis that gleans out insights and trends in the dataset.\n",
    "It notices trends in what triggers transactions at certain times of the year, what could be the possible cause of increased failed transactions… etc."
   ]
  },
  {
   "cell_type": "code",
   "execution_count": 2,
   "id": "extraordinary-canvas",
   "metadata": {
    "slideshow": {
     "slide_type": "-"
    }
   },
   "outputs": [],
   "source": [
    "import matplotlib.pyplot as plt\n",
    "import numpy as np\n",
    "import seaborn as sns\n",
    "plt.style.use(\"ggplot\")\n",
    "import pandas as pd\n",
    "import pymysql.cursors\n",
    "# %pip install seaborn"
   ]
  },
  {
   "cell_type": "code",
   "execution_count": 4,
   "id": "nominated-oakland",
   "metadata": {
    "slideshow": {
     "slide_type": "slide"
    }
   },
   "outputs": [
    {
     "data": {
      "text/html": [
       "<div>\n",
       "<style scoped>\n",
       "    .dataframe tbody tr th:only-of-type {\n",
       "        vertical-align: middle;\n",
       "    }\n",
       "\n",
       "    .dataframe tbody tr th {\n",
       "        vertical-align: top;\n",
       "    }\n",
       "\n",
       "    .dataframe thead th {\n",
       "        text-align: right;\n",
       "    }\n",
       "</style>\n",
       "<table border=\"1\" class=\"dataframe\">\n",
       "  <thead>\n",
       "    <tr style=\"text-align: right;\">\n",
       "      <th></th>\n",
       "      <th>Unnamed: 0</th>\n",
       "      <th>acct_no</th>\n",
       "      <th>txnYear</th>\n",
       "      <th>txnMonth</th>\n",
       "      <th>txnDay</th>\n",
       "      <th>status</th>\n",
       "      <th>no of txns</th>\n",
       "    </tr>\n",
       "  </thead>\n",
       "  <tbody>\n",
       "    <tr>\n",
       "      <th>0</th>\n",
       "      <td>0</td>\n",
       "      <td>1001192k</td>\n",
       "      <td>2019</td>\n",
       "      <td>10</td>\n",
       "      <td>29</td>\n",
       "      <td>successful</td>\n",
       "      <td>1</td>\n",
       "    </tr>\n",
       "    <tr>\n",
       "      <th>1</th>\n",
       "      <td>1</td>\n",
       "      <td>1001192k</td>\n",
       "      <td>2019</td>\n",
       "      <td>11</td>\n",
       "      <td>12</td>\n",
       "      <td>failed</td>\n",
       "      <td>2</td>\n",
       "    </tr>\n",
       "    <tr>\n",
       "      <th>2</th>\n",
       "      <td>2</td>\n",
       "      <td>1001192k</td>\n",
       "      <td>2019</td>\n",
       "      <td>11</td>\n",
       "      <td>18</td>\n",
       "      <td>failed</td>\n",
       "      <td>1</td>\n",
       "    </tr>\n",
       "    <tr>\n",
       "      <th>3</th>\n",
       "      <td>3</td>\n",
       "      <td>1001192k</td>\n",
       "      <td>2019</td>\n",
       "      <td>11</td>\n",
       "      <td>27</td>\n",
       "      <td>successful</td>\n",
       "      <td>1</td>\n",
       "    </tr>\n",
       "    <tr>\n",
       "      <th>4</th>\n",
       "      <td>4</td>\n",
       "      <td>1001192k</td>\n",
       "      <td>2019</td>\n",
       "      <td>12</td>\n",
       "      <td>8</td>\n",
       "      <td>failed</td>\n",
       "      <td>1</td>\n",
       "    </tr>\n",
       "    <tr>\n",
       "      <th>...</th>\n",
       "      <td>...</td>\n",
       "      <td>...</td>\n",
       "      <td>...</td>\n",
       "      <td>...</td>\n",
       "      <td>...</td>\n",
       "      <td>...</td>\n",
       "      <td>...</td>\n",
       "    </tr>\n",
       "    <tr>\n",
       "      <th>513242</th>\n",
       "      <td>513242</td>\n",
       "      <td>9999437n</td>\n",
       "      <td>2020</td>\n",
       "      <td>10</td>\n",
       "      <td>15</td>\n",
       "      <td>successful</td>\n",
       "      <td>2</td>\n",
       "    </tr>\n",
       "    <tr>\n",
       "      <th>513243</th>\n",
       "      <td>513243</td>\n",
       "      <td>9999437n</td>\n",
       "      <td>2020</td>\n",
       "      <td>10</td>\n",
       "      <td>16</td>\n",
       "      <td>successful</td>\n",
       "      <td>1</td>\n",
       "    </tr>\n",
       "    <tr>\n",
       "      <th>513244</th>\n",
       "      <td>513244</td>\n",
       "      <td>9999437n</td>\n",
       "      <td>2020</td>\n",
       "      <td>10</td>\n",
       "      <td>21</td>\n",
       "      <td>successful</td>\n",
       "      <td>2</td>\n",
       "    </tr>\n",
       "    <tr>\n",
       "      <th>513245</th>\n",
       "      <td>513245</td>\n",
       "      <td>9999437n</td>\n",
       "      <td>2020</td>\n",
       "      <td>10</td>\n",
       "      <td>23</td>\n",
       "      <td>successful</td>\n",
       "      <td>2</td>\n",
       "    </tr>\n",
       "    <tr>\n",
       "      <th>513246</th>\n",
       "      <td>513246</td>\n",
       "      <td>9999437n</td>\n",
       "      <td>2020</td>\n",
       "      <td>10</td>\n",
       "      <td>26</td>\n",
       "      <td>successful</td>\n",
       "      <td>1</td>\n",
       "    </tr>\n",
       "  </tbody>\n",
       "</table>\n",
       "<p>513247 rows × 7 columns</p>\n",
       "</div>"
      ],
      "text/plain": [
       "        Unnamed: 0   acct_no  txnYear  txnMonth  txnDay      status  \\\n",
       "0                0  1001192k     2019        10      29  successful   \n",
       "1                1  1001192k     2019        11      12      failed   \n",
       "2                2  1001192k     2019        11      18      failed   \n",
       "3                3  1001192k     2019        11      27  successful   \n",
       "4                4  1001192k     2019        12       8      failed   \n",
       "...            ...       ...      ...       ...     ...         ...   \n",
       "513242      513242  9999437n     2020        10      15  successful   \n",
       "513243      513243  9999437n     2020        10      16  successful   \n",
       "513244      513244  9999437n     2020        10      21  successful   \n",
       "513245      513245  9999437n     2020        10      23  successful   \n",
       "513246      513246  9999437n     2020        10      26  successful   \n",
       "\n",
       "        no of txns  \n",
       "0                1  \n",
       "1                2  \n",
       "2                1  \n",
       "3                1  \n",
       "4                1  \n",
       "...            ...  \n",
       "513242           2  \n",
       "513243           1  \n",
       "513244           2  \n",
       "513245           2  \n",
       "513246           1  \n",
       "\n",
       "[513247 rows x 7 columns]"
      ]
     },
     "execution_count": 4,
     "metadata": {},
     "output_type": "execute_result"
    }
   ],
   "source": [
    "# This code reads the data from the file.\n",
    "data = pd.read_csv(r\"C:\\Users\\ACER\\Desktop\\Data Science Univel\\Programs\\Internship Projects\\txn_data.csv\")\n",
    "data"
   ]
  },
  {
   "cell_type": "code",
   "execution_count": 5,
   "id": "harmful-essay",
   "metadata": {},
   "outputs": [
    {
     "name": "stdout",
     "output_type": "stream",
     "text": [
      "<class 'pandas.core.frame.DataFrame'>\n",
      "RangeIndex: 513247 entries, 0 to 513246\n",
      "Data columns (total 7 columns):\n",
      " #   Column        Non-Null Count   Dtype \n",
      "---  ------        --------------   ----- \n",
      " 0   Unnamed: 0    513247 non-null  int64 \n",
      " 1   acct_no       513247 non-null  object\n",
      " 2   txnYear       513247 non-null  int64 \n",
      " 3   txnMonth      513247 non-null  int64 \n",
      " 4   txnDay        513247 non-null  int64 \n",
      " 5   status        513247 non-null  object\n",
      " 6   transactions  513247 non-null  int64 \n",
      "dtypes: int64(5), object(2)\n",
      "memory usage: 23.5+ MB\n"
     ]
    }
   ],
   "source": [
    "len(data)\n",
    "# data.shape\n",
    "data = data.rename(columns={\"no of txns\": \"transactions\"})\n",
    "data.info()"
   ]
  },
  {
   "cell_type": "code",
   "execution_count": 6,
   "id": "suffering-attitude",
   "metadata": {
    "slideshow": {
     "slide_type": "slide"
    }
   },
   "outputs": [
    {
     "data": {
      "text/html": [
       "<div>\n",
       "<style scoped>\n",
       "    .dataframe tbody tr th:only-of-type {\n",
       "        vertical-align: middle;\n",
       "    }\n",
       "\n",
       "    .dataframe tbody tr th {\n",
       "        vertical-align: top;\n",
       "    }\n",
       "\n",
       "    .dataframe thead th {\n",
       "        text-align: right;\n",
       "    }\n",
       "</style>\n",
       "<table border=\"1\" class=\"dataframe\">\n",
       "  <thead>\n",
       "    <tr style=\"text-align: right;\">\n",
       "      <th></th>\n",
       "      <th>Unnamed: 0</th>\n",
       "      <th>acct_no</th>\n",
       "      <th>txnYear</th>\n",
       "      <th>txnMonth</th>\n",
       "      <th>txnDay</th>\n",
       "      <th>status</th>\n",
       "      <th>transactions</th>\n",
       "      <th>date</th>\n",
       "    </tr>\n",
       "  </thead>\n",
       "  <tbody>\n",
       "    <tr>\n",
       "      <th>0</th>\n",
       "      <td>0</td>\n",
       "      <td>1001192k</td>\n",
       "      <td>2019</td>\n",
       "      <td>10</td>\n",
       "      <td>29</td>\n",
       "      <td>successful</td>\n",
       "      <td>1</td>\n",
       "      <td>29-10-2019</td>\n",
       "    </tr>\n",
       "    <tr>\n",
       "      <th>1</th>\n",
       "      <td>1</td>\n",
       "      <td>1001192k</td>\n",
       "      <td>2019</td>\n",
       "      <td>11</td>\n",
       "      <td>12</td>\n",
       "      <td>failed</td>\n",
       "      <td>2</td>\n",
       "      <td>12-11-2019</td>\n",
       "    </tr>\n",
       "    <tr>\n",
       "      <th>2</th>\n",
       "      <td>2</td>\n",
       "      <td>1001192k</td>\n",
       "      <td>2019</td>\n",
       "      <td>11</td>\n",
       "      <td>18</td>\n",
       "      <td>failed</td>\n",
       "      <td>1</td>\n",
       "      <td>18-11-2019</td>\n",
       "    </tr>\n",
       "    <tr>\n",
       "      <th>3</th>\n",
       "      <td>3</td>\n",
       "      <td>1001192k</td>\n",
       "      <td>2019</td>\n",
       "      <td>11</td>\n",
       "      <td>27</td>\n",
       "      <td>successful</td>\n",
       "      <td>1</td>\n",
       "      <td>27-11-2019</td>\n",
       "    </tr>\n",
       "    <tr>\n",
       "      <th>4</th>\n",
       "      <td>4</td>\n",
       "      <td>1001192k</td>\n",
       "      <td>2019</td>\n",
       "      <td>12</td>\n",
       "      <td>8</td>\n",
       "      <td>failed</td>\n",
       "      <td>1</td>\n",
       "      <td>8-12-2019</td>\n",
       "    </tr>\n",
       "    <tr>\n",
       "      <th>...</th>\n",
       "      <td>...</td>\n",
       "      <td>...</td>\n",
       "      <td>...</td>\n",
       "      <td>...</td>\n",
       "      <td>...</td>\n",
       "      <td>...</td>\n",
       "      <td>...</td>\n",
       "      <td>...</td>\n",
       "    </tr>\n",
       "    <tr>\n",
       "      <th>513242</th>\n",
       "      <td>513242</td>\n",
       "      <td>9999437n</td>\n",
       "      <td>2020</td>\n",
       "      <td>10</td>\n",
       "      <td>15</td>\n",
       "      <td>successful</td>\n",
       "      <td>2</td>\n",
       "      <td>15-10-2020</td>\n",
       "    </tr>\n",
       "    <tr>\n",
       "      <th>513243</th>\n",
       "      <td>513243</td>\n",
       "      <td>9999437n</td>\n",
       "      <td>2020</td>\n",
       "      <td>10</td>\n",
       "      <td>16</td>\n",
       "      <td>successful</td>\n",
       "      <td>1</td>\n",
       "      <td>16-10-2020</td>\n",
       "    </tr>\n",
       "    <tr>\n",
       "      <th>513244</th>\n",
       "      <td>513244</td>\n",
       "      <td>9999437n</td>\n",
       "      <td>2020</td>\n",
       "      <td>10</td>\n",
       "      <td>21</td>\n",
       "      <td>successful</td>\n",
       "      <td>2</td>\n",
       "      <td>21-10-2020</td>\n",
       "    </tr>\n",
       "    <tr>\n",
       "      <th>513245</th>\n",
       "      <td>513245</td>\n",
       "      <td>9999437n</td>\n",
       "      <td>2020</td>\n",
       "      <td>10</td>\n",
       "      <td>23</td>\n",
       "      <td>successful</td>\n",
       "      <td>2</td>\n",
       "      <td>23-10-2020</td>\n",
       "    </tr>\n",
       "    <tr>\n",
       "      <th>513246</th>\n",
       "      <td>513246</td>\n",
       "      <td>9999437n</td>\n",
       "      <td>2020</td>\n",
       "      <td>10</td>\n",
       "      <td>26</td>\n",
       "      <td>successful</td>\n",
       "      <td>1</td>\n",
       "      <td>26-10-2020</td>\n",
       "    </tr>\n",
       "  </tbody>\n",
       "</table>\n",
       "<p>513247 rows × 8 columns</p>\n",
       "</div>"
      ],
      "text/plain": [
       "        Unnamed: 0   acct_no  txnYear  txnMonth  txnDay      status  \\\n",
       "0                0  1001192k     2019        10      29  successful   \n",
       "1                1  1001192k     2019        11      12      failed   \n",
       "2                2  1001192k     2019        11      18      failed   \n",
       "3                3  1001192k     2019        11      27  successful   \n",
       "4                4  1001192k     2019        12       8      failed   \n",
       "...            ...       ...      ...       ...     ...         ...   \n",
       "513242      513242  9999437n     2020        10      15  successful   \n",
       "513243      513243  9999437n     2020        10      16  successful   \n",
       "513244      513244  9999437n     2020        10      21  successful   \n",
       "513245      513245  9999437n     2020        10      23  successful   \n",
       "513246      513246  9999437n     2020        10      26  successful   \n",
       "\n",
       "        transactions        date  \n",
       "0                  1  29-10-2019  \n",
       "1                  2  12-11-2019  \n",
       "2                  1  18-11-2019  \n",
       "3                  1  27-11-2019  \n",
       "4                  1   8-12-2019  \n",
       "...              ...         ...  \n",
       "513242             2  15-10-2020  \n",
       "513243             1  16-10-2020  \n",
       "513244             2  21-10-2020  \n",
       "513245             2  23-10-2020  \n",
       "513246             1  26-10-2020  \n",
       "\n",
       "[513247 rows x 8 columns]"
      ]
     },
     "execution_count": 6,
     "metadata": {},
     "output_type": "execute_result"
    }
   ],
   "source": [
    "# This code creates a date column, putting the days and month together.\n",
    "\n",
    "data['date']=data['txnDay'].astype(str)+'-'+data['txnMonth'].astype(str)+'-'+data['txnYear'].astype(str)\n",
    "data"
   ]
  },
  {
   "cell_type": "code",
   "execution_count": 5,
   "id": "administrative-tennessee",
   "metadata": {},
   "outputs": [
    {
     "data": {
      "text/plain": [
       "Unnamed: 0       int64\n",
       "acct_no         object\n",
       "txnYear          int64\n",
       "txnMonth         int64\n",
       "txnDay           int64\n",
       "status          object\n",
       "transactions     int64\n",
       "date            object\n",
       "dtype: object"
      ]
     },
     "execution_count": 5,
     "metadata": {},
     "output_type": "execute_result"
    }
   ],
   "source": [
    "data.dtypes"
   ]
  },
  {
   "cell_type": "code",
   "execution_count": 7,
   "id": "distinguished-album",
   "metadata": {
    "slideshow": {
     "slide_type": "-"
    }
   },
   "outputs": [
    {
     "data": {
      "text/html": [
       "<div>\n",
       "<style scoped>\n",
       "    .dataframe tbody tr th:only-of-type {\n",
       "        vertical-align: middle;\n",
       "    }\n",
       "\n",
       "    .dataframe tbody tr th {\n",
       "        vertical-align: top;\n",
       "    }\n",
       "\n",
       "    .dataframe thead th {\n",
       "        text-align: right;\n",
       "    }\n",
       "</style>\n",
       "<table border=\"1\" class=\"dataframe\">\n",
       "  <thead>\n",
       "    <tr style=\"text-align: right;\">\n",
       "      <th></th>\n",
       "      <th>Unnamed: 0</th>\n",
       "      <th>acct_no</th>\n",
       "      <th>txnYear</th>\n",
       "      <th>txnMonth</th>\n",
       "      <th>txnDay</th>\n",
       "      <th>status</th>\n",
       "      <th>transactions</th>\n",
       "      <th>date</th>\n",
       "    </tr>\n",
       "  </thead>\n",
       "  <tbody>\n",
       "    <tr>\n",
       "      <th>0</th>\n",
       "      <td>0</td>\n",
       "      <td>1001192k</td>\n",
       "      <td>2019</td>\n",
       "      <td>10</td>\n",
       "      <td>29</td>\n",
       "      <td>successful</td>\n",
       "      <td>1</td>\n",
       "      <td>2019-10-29</td>\n",
       "    </tr>\n",
       "    <tr>\n",
       "      <th>1</th>\n",
       "      <td>1</td>\n",
       "      <td>1001192k</td>\n",
       "      <td>2019</td>\n",
       "      <td>11</td>\n",
       "      <td>12</td>\n",
       "      <td>failed</td>\n",
       "      <td>2</td>\n",
       "      <td>2019-12-11</td>\n",
       "    </tr>\n",
       "    <tr>\n",
       "      <th>2</th>\n",
       "      <td>2</td>\n",
       "      <td>1001192k</td>\n",
       "      <td>2019</td>\n",
       "      <td>11</td>\n",
       "      <td>18</td>\n",
       "      <td>failed</td>\n",
       "      <td>1</td>\n",
       "      <td>2019-11-18</td>\n",
       "    </tr>\n",
       "    <tr>\n",
       "      <th>3</th>\n",
       "      <td>3</td>\n",
       "      <td>1001192k</td>\n",
       "      <td>2019</td>\n",
       "      <td>11</td>\n",
       "      <td>27</td>\n",
       "      <td>successful</td>\n",
       "      <td>1</td>\n",
       "      <td>2019-11-27</td>\n",
       "    </tr>\n",
       "    <tr>\n",
       "      <th>4</th>\n",
       "      <td>4</td>\n",
       "      <td>1001192k</td>\n",
       "      <td>2019</td>\n",
       "      <td>12</td>\n",
       "      <td>8</td>\n",
       "      <td>failed</td>\n",
       "      <td>1</td>\n",
       "      <td>2019-08-12</td>\n",
       "    </tr>\n",
       "    <tr>\n",
       "      <th>...</th>\n",
       "      <td>...</td>\n",
       "      <td>...</td>\n",
       "      <td>...</td>\n",
       "      <td>...</td>\n",
       "      <td>...</td>\n",
       "      <td>...</td>\n",
       "      <td>...</td>\n",
       "      <td>...</td>\n",
       "    </tr>\n",
       "    <tr>\n",
       "      <th>513242</th>\n",
       "      <td>513242</td>\n",
       "      <td>9999437n</td>\n",
       "      <td>2020</td>\n",
       "      <td>10</td>\n",
       "      <td>15</td>\n",
       "      <td>successful</td>\n",
       "      <td>2</td>\n",
       "      <td>2020-10-15</td>\n",
       "    </tr>\n",
       "    <tr>\n",
       "      <th>513243</th>\n",
       "      <td>513243</td>\n",
       "      <td>9999437n</td>\n",
       "      <td>2020</td>\n",
       "      <td>10</td>\n",
       "      <td>16</td>\n",
       "      <td>successful</td>\n",
       "      <td>1</td>\n",
       "      <td>2020-10-16</td>\n",
       "    </tr>\n",
       "    <tr>\n",
       "      <th>513244</th>\n",
       "      <td>513244</td>\n",
       "      <td>9999437n</td>\n",
       "      <td>2020</td>\n",
       "      <td>10</td>\n",
       "      <td>21</td>\n",
       "      <td>successful</td>\n",
       "      <td>2</td>\n",
       "      <td>2020-10-21</td>\n",
       "    </tr>\n",
       "    <tr>\n",
       "      <th>513245</th>\n",
       "      <td>513245</td>\n",
       "      <td>9999437n</td>\n",
       "      <td>2020</td>\n",
       "      <td>10</td>\n",
       "      <td>23</td>\n",
       "      <td>successful</td>\n",
       "      <td>2</td>\n",
       "      <td>2020-10-23</td>\n",
       "    </tr>\n",
       "    <tr>\n",
       "      <th>513246</th>\n",
       "      <td>513246</td>\n",
       "      <td>9999437n</td>\n",
       "      <td>2020</td>\n",
       "      <td>10</td>\n",
       "      <td>26</td>\n",
       "      <td>successful</td>\n",
       "      <td>1</td>\n",
       "      <td>2020-10-26</td>\n",
       "    </tr>\n",
       "  </tbody>\n",
       "</table>\n",
       "<p>513247 rows × 8 columns</p>\n",
       "</div>"
      ],
      "text/plain": [
       "        Unnamed: 0   acct_no  txnYear  txnMonth  txnDay      status  \\\n",
       "0                0  1001192k     2019        10      29  successful   \n",
       "1                1  1001192k     2019        11      12      failed   \n",
       "2                2  1001192k     2019        11      18      failed   \n",
       "3                3  1001192k     2019        11      27  successful   \n",
       "4                4  1001192k     2019        12       8      failed   \n",
       "...            ...       ...      ...       ...     ...         ...   \n",
       "513242      513242  9999437n     2020        10      15  successful   \n",
       "513243      513243  9999437n     2020        10      16  successful   \n",
       "513244      513244  9999437n     2020        10      21  successful   \n",
       "513245      513245  9999437n     2020        10      23  successful   \n",
       "513246      513246  9999437n     2020        10      26  successful   \n",
       "\n",
       "        transactions       date  \n",
       "0                  1 2019-10-29  \n",
       "1                  2 2019-12-11  \n",
       "2                  1 2019-11-18  \n",
       "3                  1 2019-11-27  \n",
       "4                  1 2019-08-12  \n",
       "...              ...        ...  \n",
       "513242             2 2020-10-15  \n",
       "513243             1 2020-10-16  \n",
       "513244             2 2020-10-21  \n",
       "513245             2 2020-10-23  \n",
       "513246             1 2020-10-26  \n",
       "\n",
       "[513247 rows x 8 columns]"
      ]
     },
     "execution_count": 7,
     "metadata": {},
     "output_type": "execute_result"
    }
   ],
   "source": [
    "# The column date type,was changed from into to datetime here.\n",
    "\n",
    "data['date'] =  pd.to_datetime(data['date'])\n",
    "data"
   ]
  },
  {
   "cell_type": "code",
   "execution_count": 9,
   "id": "functional-transcript",
   "metadata": {
    "slideshow": {
     "slide_type": "slide"
    }
   },
   "outputs": [
    {
     "data": {
      "text/html": [
       "<div>\n",
       "<style scoped>\n",
       "    .dataframe tbody tr th:only-of-type {\n",
       "        vertical-align: middle;\n",
       "    }\n",
       "\n",
       "    .dataframe tbody tr th {\n",
       "        vertical-align: top;\n",
       "    }\n",
       "\n",
       "    .dataframe thead th {\n",
       "        text-align: right;\n",
       "    }\n",
       "</style>\n",
       "<table border=\"1\" class=\"dataframe\">\n",
       "  <thead>\n",
       "    <tr style=\"text-align: right;\">\n",
       "      <th></th>\n",
       "      <th>Unnamed: 0</th>\n",
       "      <th>acct_no</th>\n",
       "      <th>txnYear</th>\n",
       "      <th>txnMonth</th>\n",
       "      <th>txnDay</th>\n",
       "      <th>status</th>\n",
       "      <th>transactions</th>\n",
       "      <th>date</th>\n",
       "    </tr>\n",
       "  </thead>\n",
       "  <tbody>\n",
       "    <tr>\n",
       "      <th>513242</th>\n",
       "      <td>513242</td>\n",
       "      <td>9999437n</td>\n",
       "      <td>2020</td>\n",
       "      <td>10</td>\n",
       "      <td>15</td>\n",
       "      <td>successful</td>\n",
       "      <td>2</td>\n",
       "      <td>2020-10-15</td>\n",
       "    </tr>\n",
       "    <tr>\n",
       "      <th>513243</th>\n",
       "      <td>513243</td>\n",
       "      <td>9999437n</td>\n",
       "      <td>2020</td>\n",
       "      <td>10</td>\n",
       "      <td>16</td>\n",
       "      <td>successful</td>\n",
       "      <td>1</td>\n",
       "      <td>2020-10-16</td>\n",
       "    </tr>\n",
       "    <tr>\n",
       "      <th>513244</th>\n",
       "      <td>513244</td>\n",
       "      <td>9999437n</td>\n",
       "      <td>2020</td>\n",
       "      <td>10</td>\n",
       "      <td>21</td>\n",
       "      <td>successful</td>\n",
       "      <td>2</td>\n",
       "      <td>2020-10-21</td>\n",
       "    </tr>\n",
       "    <tr>\n",
       "      <th>513245</th>\n",
       "      <td>513245</td>\n",
       "      <td>9999437n</td>\n",
       "      <td>2020</td>\n",
       "      <td>10</td>\n",
       "      <td>23</td>\n",
       "      <td>successful</td>\n",
       "      <td>2</td>\n",
       "      <td>2020-10-23</td>\n",
       "    </tr>\n",
       "    <tr>\n",
       "      <th>513246</th>\n",
       "      <td>513246</td>\n",
       "      <td>9999437n</td>\n",
       "      <td>2020</td>\n",
       "      <td>10</td>\n",
       "      <td>26</td>\n",
       "      <td>successful</td>\n",
       "      <td>1</td>\n",
       "      <td>2020-10-26</td>\n",
       "    </tr>\n",
       "  </tbody>\n",
       "</table>\n",
       "</div>"
      ],
      "text/plain": [
       "        Unnamed: 0   acct_no  txnYear  txnMonth  txnDay      status  \\\n",
       "513242      513242  9999437n     2020        10      15  successful   \n",
       "513243      513243  9999437n     2020        10      16  successful   \n",
       "513244      513244  9999437n     2020        10      21  successful   \n",
       "513245      513245  9999437n     2020        10      23  successful   \n",
       "513246      513246  9999437n     2020        10      26  successful   \n",
       "\n",
       "        transactions       date  \n",
       "513242             2 2020-10-15  \n",
       "513243             1 2020-10-16  \n",
       "513244             2 2020-10-21  \n",
       "513245             2 2020-10-23  \n",
       "513246             1 2020-10-26  "
      ]
     },
     "execution_count": 9,
     "metadata": {},
     "output_type": "execute_result"
    }
   ],
   "source": [
    "# These are the last few rows of the data. \n",
    "# Notice that there are no transactions for the month of November and December for the year 2020.\n",
    "\n",
    "data.tail()"
   ]
  },
  {
   "cell_type": "code",
   "execution_count": 10,
   "id": "unexpected-course",
   "metadata": {
    "slideshow": {
     "slide_type": "slide"
    }
   },
   "outputs": [
    {
     "data": {
      "image/png": "[encoded data removed]",
      "text/plain": [
       "<Figure size 432x288 with 1 Axes>"
      ]
     },
     "metadata": {},
     "output_type": "display_data"
    }
   ],
   "source": [
    "# This shows the transactions trends in the months of both years. \n",
    "# It shows the last three months of the year experienced the most transactions. \n",
    "\n",
    "fig, ax = plt.subplots()  \n",
    "x = data.txnMonth.unique() \n",
    "y = data.txnMonth.value_counts()\n",
    "ax.bar(x, y)  \n",
    "ax.set_xlabel('Months of the year')  \n",
    "ax.set_ylabel('Transactions')\n",
    "plt.show()"
   ]
  },
  {
   "cell_type": "markdown",
   "id": "previous-change",
   "metadata": {
    "slideshow": {
     "slide_type": "slide"
    }
   },
   "source": [
    "As shown in the last plot, the last three months of the year experienced the most transactions. "
   ]
  },
  {
   "cell_type": "code",
   "execution_count": 11,
   "id": "diverse-extension",
   "metadata": {},
   "outputs": [
    {
     "data": {
      "text/plain": [
       "0         successful\n",
       "3         successful\n",
       "5         successful\n",
       "6         successful\n",
       "7         successful\n",
       "             ...    \n",
       "513242    successful\n",
       "513243    successful\n",
       "513244    successful\n",
       "513245    successful\n",
       "513246    successful\n",
       "Name: status, Length: 473051, dtype: object"
      ]
     },
     "execution_count": 11,
     "metadata": {},
     "output_type": "execute_result"
    }
   ],
   "source": [
    "successful = data['status'][data['status'] == 'successful']\n",
    "successful"
   ]
  },
  {
   "cell_type": "code",
   "execution_count": 10,
   "id": "fifty-interim",
   "metadata": {},
   "outputs": [
    {
     "data": {
      "text/plain": [
       "1         failed\n",
       "2         failed\n",
       "4         failed\n",
       "19        failed\n",
       "31        failed\n",
       "           ...  \n",
       "513130    failed\n",
       "513143    failed\n",
       "513162    failed\n",
       "513163    failed\n",
       "513210    failed\n",
       "Name: status, Length: 28636, dtype: object"
      ]
     },
     "execution_count": 10,
     "metadata": {},
     "output_type": "execute_result"
    }
   ],
   "source": [
    "failed = data['status'][data['status'] == 'failed']\n",
    "failed"
   ]
  },
  {
   "cell_type": "code",
   "execution_count": 12,
   "id": "structural-clothing",
   "metadata": {
    "slideshow": {
     "slide_type": "slide"
    }
   },
   "outputs": [
    {
     "data": {
      "text/html": [
       "<div>\n",
       "<style scoped>\n",
       "    .dataframe tbody tr th:only-of-type {\n",
       "        vertical-align: middle;\n",
       "    }\n",
       "\n",
       "    .dataframe tbody tr th {\n",
       "        vertical-align: top;\n",
       "    }\n",
       "\n",
       "    .dataframe thead th {\n",
       "        text-align: right;\n",
       "    }\n",
       "</style>\n",
       "<table border=\"1\" class=\"dataframe\">\n",
       "  <thead>\n",
       "    <tr style=\"text-align: right;\">\n",
       "      <th></th>\n",
       "      <th>Unnamed: 0</th>\n",
       "      <th>acct_no</th>\n",
       "      <th>txnYear</th>\n",
       "      <th>txnMonth</th>\n",
       "      <th>txnDay</th>\n",
       "      <th>transactions</th>\n",
       "      <th>date</th>\n",
       "    </tr>\n",
       "    <tr>\n",
       "      <th>status</th>\n",
       "      <th></th>\n",
       "      <th></th>\n",
       "      <th></th>\n",
       "      <th></th>\n",
       "      <th></th>\n",
       "      <th></th>\n",
       "      <th></th>\n",
       "    </tr>\n",
       "  </thead>\n",
       "  <tbody>\n",
       "    <tr>\n",
       "      <th>debited</th>\n",
       "      <td>37</td>\n",
       "      <td>37</td>\n",
       "      <td>37</td>\n",
       "      <td>37</td>\n",
       "      <td>37</td>\n",
       "      <td>37</td>\n",
       "      <td>37</td>\n",
       "    </tr>\n",
       "    <tr>\n",
       "      <th>declined</th>\n",
       "      <td>10243</td>\n",
       "      <td>10243</td>\n",
       "      <td>10243</td>\n",
       "      <td>10243</td>\n",
       "      <td>10243</td>\n",
       "      <td>10243</td>\n",
       "      <td>10243</td>\n",
       "    </tr>\n",
       "    <tr>\n",
       "      <th>failed</th>\n",
       "      <td>28636</td>\n",
       "      <td>28636</td>\n",
       "      <td>28636</td>\n",
       "      <td>28636</td>\n",
       "      <td>28636</td>\n",
       "      <td>28636</td>\n",
       "      <td>28636</td>\n",
       "    </tr>\n",
       "    <tr>\n",
       "      <th>initialized</th>\n",
       "      <td>1216</td>\n",
       "      <td>1216</td>\n",
       "      <td>1216</td>\n",
       "      <td>1216</td>\n",
       "      <td>1216</td>\n",
       "      <td>1216</td>\n",
       "      <td>1216</td>\n",
       "    </tr>\n",
       "    <tr>\n",
       "      <th>pending</th>\n",
       "      <td>64</td>\n",
       "      <td>64</td>\n",
       "      <td>64</td>\n",
       "      <td>64</td>\n",
       "      <td>64</td>\n",
       "      <td>64</td>\n",
       "      <td>64</td>\n",
       "    </tr>\n",
       "    <tr>\n",
       "      <th>successful</th>\n",
       "      <td>473051</td>\n",
       "      <td>473051</td>\n",
       "      <td>473051</td>\n",
       "      <td>473051</td>\n",
       "      <td>473051</td>\n",
       "      <td>473051</td>\n",
       "      <td>473051</td>\n",
       "    </tr>\n",
       "  </tbody>\n",
       "</table>\n",
       "</div>"
      ],
      "text/plain": [
       "             Unnamed: 0  acct_no  txnYear  txnMonth  txnDay  transactions  \\\n",
       "status                                                                      \n",
       "debited              37       37       37        37      37            37   \n",
       "declined          10243    10243    10243     10243   10243         10243   \n",
       "failed            28636    28636    28636     28636   28636         28636   \n",
       "initialized        1216     1216     1216      1216    1216          1216   \n",
       "pending              64       64       64        64      64            64   \n",
       "successful       473051   473051   473051    473051  473051        473051   \n",
       "\n",
       "               date  \n",
       "status               \n",
       "debited          37  \n",
       "declined      10243  \n",
       "failed        28636  \n",
       "initialized    1216  \n",
       "pending          64  \n",
       "successful   473051  "
      ]
     },
     "execution_count": 12,
     "metadata": {},
     "output_type": "execute_result"
    }
   ],
   "source": [
    "# This shows the status of all the transactions.\n",
    "# Most of the transactions were successful.\n",
    "\n",
    "data.groupby(\"status\").count()"
   ]
  },
  {
   "cell_type": "code",
   "execution_count": 16,
   "id": "loving-annotation",
   "metadata": {
    "slideshow": {
     "slide_type": "slide"
    }
   },
   "outputs": [
    {
     "data": {
      "image/png": "[encoded data removed]",
      "text/plain": [
       "<Figure size 432x288 with 1 Axes>"
      ]
     },
     "metadata": {},
     "output_type": "display_data"
    }
   ],
   "source": [
    "# This is a graphical representation of all the transactions.\n",
    "\n",
    "fig, ax = plt.subplots()  \n",
    "x = data.status.unique()  \n",
    "# Counting the transactions in the dataset  \n",
    "y = data.status.value_counts()\n",
    "year = data.txnYear.value_counts() \n",
    "# Plotting the bar graph  \n",
    "ax.bar(x, y)  \n",
    "ax.set_xlabel('Transactions status')  \n",
    "ax.set_ylabel('Transactions')  \n",
    "plt.show()  "
   ]
  },
  {
   "cell_type": "code",
   "execution_count": 14,
   "id": "muslim-wrestling",
   "metadata": {
    "slideshow": {
     "slide_type": "slide"
    }
   },
   "outputs": [
    {
     "name": "stderr",
     "output_type": "stream",
     "text": [
      "c:\\users\\acer\\appdata\\local\\programs\\python\\python37-32\\lib\\site-packages\\seaborn\\_decorators.py:43: FutureWarning: Pass the following variable as a keyword arg: x. From version 0.12, the only valid positional argument will be `data`, and passing other arguments without an explicit keyword will result in an error or misinterpretation.\n",
      "  FutureWarning\n"
     ]
    },
    {
     "data": {
      "text/plain": [
       "<AxesSubplot:xlabel='txnYear', ylabel='count'>"
      ]
     },
     "execution_count": 14,
     "metadata": {},
     "output_type": "execute_result"
    },
    {
     "data": {
      "image/png": "[encoded data removed]",
      "text/plain": [
       "<Figure size 432x288 with 1 Axes>"
      ]
     },
     "metadata": {},
     "output_type": "display_data"
    }
   ],
   "source": [
    "# This is the graphical representation of the transactions of botth years.\n",
    "# Year 2020 had the higher number of transactions.\n",
    "# This could be due to the COVID-19 pandemic, the country experienced lockdown for the most part of the year (total and partial locakdown).\n",
    "# So people could not go about their businesses as usual, stayinng indoors, working from home, being sick most likely led to more consumption and transactions.\n",
    "\n",
    "sns.countplot(data.txnYear)"
   ]
  },
  {
   "cell_type": "code",
   "execution_count": 70,
   "id": "statutory-bridal",
   "metadata": {},
   "outputs": [
    {
     "name": "stderr",
     "output_type": "stream",
     "text": [
      "c:\\users\\acer\\appdata\\local\\programs\\python\\python37-32\\lib\\site-packages\\seaborn\\_decorators.py:43: FutureWarning: Pass the following variable as a keyword arg: x. From version 0.12, the only valid positional argument will be `data`, and passing other arguments without an explicit keyword will result in an error or misinterpretation.\n",
      "  FutureWarning\n"
     ]
    },
    {
     "data": {
      "text/plain": [
       "<AxesSubplot:xlabel='status', ylabel='count'>"
      ]
     },
     "execution_count": 70,
     "metadata": {},
     "output_type": "execute_result"
    },
    {
     "data": {
      "image/png": "[encoded data removed]",
      "text/plain": [
       "<Figure size 432x288 with 1 Axes>"
      ]
     },
     "metadata": {},
     "output_type": "display_data"
    }
   ],
   "source": [
    "\n",
    "\n",
    "sns.countplot(data.status)"
   ]
  },
  {
   "cell_type": "code",
   "execution_count": 18,
   "id": "structural-practitioner",
   "metadata": {
    "slideshow": {
     "slide_type": "slide"
    }
   },
   "outputs": [
    {
     "name": "stderr",
     "output_type": "stream",
     "text": [
      "c:\\users\\acer\\appdata\\local\\programs\\python\\python37-32\\lib\\site-packages\\seaborn\\_decorators.py:43: FutureWarning: Pass the following variable as a keyword arg: x. From version 0.12, the only valid positional argument will be `data`, and passing other arguments without an explicit keyword will result in an error or misinterpretation.\n",
      "  FutureWarning\n"
     ]
    },
    {
     "data": {
      "text/plain": [
       "<AxesSubplot:xlabel='status', ylabel='count'>"
      ]
     },
     "execution_count": 18,
     "metadata": {},
     "output_type": "execute_result"
    },
    {
     "data": {
      "image/png": "[encoded data removed]",
      "text/plain": [
       "<Figure size 432x288 with 1 Axes>"
      ]
     },
     "metadata": {},
     "output_type": "display_data"
    }
   ],
   "source": [
    "# This shows the various transactions status for each year.\n",
    "\n",
    "sns.countplot('status', hue = 'txnYear', data = data)"
   ]
  },
  {
   "cell_type": "code",
   "execution_count": 19,
   "id": "worse-gathering",
   "metadata": {
    "slideshow": {
     "slide_type": "slide"
    }
   },
   "outputs": [
    {
     "data": {
      "text/html": [
       "<div>\n",
       "<style scoped>\n",
       "    .dataframe tbody tr th:only-of-type {\n",
       "        vertical-align: middle;\n",
       "    }\n",
       "\n",
       "    .dataframe tbody tr th {\n",
       "        vertical-align: top;\n",
       "    }\n",
       "\n",
       "    .dataframe thead th {\n",
       "        text-align: right;\n",
       "    }\n",
       "</style>\n",
       "<table border=\"1\" class=\"dataframe\">\n",
       "  <thead>\n",
       "    <tr style=\"text-align: right;\">\n",
       "      <th></th>\n",
       "      <th>Unnamed: 0</th>\n",
       "      <th>acct_no</th>\n",
       "      <th>txnYear</th>\n",
       "      <th>txnMonth</th>\n",
       "      <th>txnDay</th>\n",
       "      <th>status</th>\n",
       "      <th>transactions</th>\n",
       "      <th>date</th>\n",
       "    </tr>\n",
       "  </thead>\n",
       "  <tbody>\n",
       "    <tr>\n",
       "      <th>0</th>\n",
       "      <td>0</td>\n",
       "      <td>1001192k</td>\n",
       "      <td>2019</td>\n",
       "      <td>10</td>\n",
       "      <td>29</td>\n",
       "      <td>successful</td>\n",
       "      <td>1</td>\n",
       "      <td>2019-10-29</td>\n",
       "    </tr>\n",
       "    <tr>\n",
       "      <th>1</th>\n",
       "      <td>1</td>\n",
       "      <td>1001192k</td>\n",
       "      <td>2019</td>\n",
       "      <td>11</td>\n",
       "      <td>12</td>\n",
       "      <td>failed</td>\n",
       "      <td>2</td>\n",
       "      <td>2019-12-11</td>\n",
       "    </tr>\n",
       "    <tr>\n",
       "      <th>2</th>\n",
       "      <td>2</td>\n",
       "      <td>1001192k</td>\n",
       "      <td>2019</td>\n",
       "      <td>11</td>\n",
       "      <td>18</td>\n",
       "      <td>failed</td>\n",
       "      <td>1</td>\n",
       "      <td>2019-11-18</td>\n",
       "    </tr>\n",
       "    <tr>\n",
       "      <th>3</th>\n",
       "      <td>3</td>\n",
       "      <td>1001192k</td>\n",
       "      <td>2019</td>\n",
       "      <td>11</td>\n",
       "      <td>27</td>\n",
       "      <td>successful</td>\n",
       "      <td>1</td>\n",
       "      <td>2019-11-27</td>\n",
       "    </tr>\n",
       "    <tr>\n",
       "      <th>4</th>\n",
       "      <td>4</td>\n",
       "      <td>1001192k</td>\n",
       "      <td>2019</td>\n",
       "      <td>12</td>\n",
       "      <td>8</td>\n",
       "      <td>failed</td>\n",
       "      <td>1</td>\n",
       "      <td>2019-08-12</td>\n",
       "    </tr>\n",
       "    <tr>\n",
       "      <th>...</th>\n",
       "      <td>...</td>\n",
       "      <td>...</td>\n",
       "      <td>...</td>\n",
       "      <td>...</td>\n",
       "      <td>...</td>\n",
       "      <td>...</td>\n",
       "      <td>...</td>\n",
       "      <td>...</td>\n",
       "    </tr>\n",
       "    <tr>\n",
       "      <th>513073</th>\n",
       "      <td>513073</td>\n",
       "      <td>9996144s</td>\n",
       "      <td>2019</td>\n",
       "      <td>12</td>\n",
       "      <td>9</td>\n",
       "      <td>successful</td>\n",
       "      <td>1</td>\n",
       "      <td>2019-09-12</td>\n",
       "    </tr>\n",
       "    <tr>\n",
       "      <th>513074</th>\n",
       "      <td>513074</td>\n",
       "      <td>9996144s</td>\n",
       "      <td>2019</td>\n",
       "      <td>12</td>\n",
       "      <td>16</td>\n",
       "      <td>successful</td>\n",
       "      <td>1</td>\n",
       "      <td>2019-12-16</td>\n",
       "    </tr>\n",
       "    <tr>\n",
       "      <th>513177</th>\n",
       "      <td>513177</td>\n",
       "      <td>9999437n</td>\n",
       "      <td>2019</td>\n",
       "      <td>12</td>\n",
       "      <td>24</td>\n",
       "      <td>successful</td>\n",
       "      <td>1</td>\n",
       "      <td>2019-12-24</td>\n",
       "    </tr>\n",
       "    <tr>\n",
       "      <th>513178</th>\n",
       "      <td>513178</td>\n",
       "      <td>9999437n</td>\n",
       "      <td>2019</td>\n",
       "      <td>12</td>\n",
       "      <td>25</td>\n",
       "      <td>successful</td>\n",
       "      <td>1</td>\n",
       "      <td>2019-12-25</td>\n",
       "    </tr>\n",
       "    <tr>\n",
       "      <th>513179</th>\n",
       "      <td>513179</td>\n",
       "      <td>9999437n</td>\n",
       "      <td>2019</td>\n",
       "      <td>12</td>\n",
       "      <td>27</td>\n",
       "      <td>successful</td>\n",
       "      <td>1</td>\n",
       "      <td>2019-12-27</td>\n",
       "    </tr>\n",
       "  </tbody>\n",
       "</table>\n",
       "<p>151583 rows × 8 columns</p>\n",
       "</div>"
      ],
      "text/plain": [
       "        Unnamed: 0   acct_no  txnYear  txnMonth  txnDay      status  \\\n",
       "0                0  1001192k     2019        10      29  successful   \n",
       "1                1  1001192k     2019        11      12      failed   \n",
       "2                2  1001192k     2019        11      18      failed   \n",
       "3                3  1001192k     2019        11      27  successful   \n",
       "4                4  1001192k     2019        12       8      failed   \n",
       "...            ...       ...      ...       ...     ...         ...   \n",
       "513073      513073  9996144s     2019        12       9  successful   \n",
       "513074      513074  9996144s     2019        12      16  successful   \n",
       "513177      513177  9999437n     2019        12      24  successful   \n",
       "513178      513178  9999437n     2019        12      25  successful   \n",
       "513179      513179  9999437n     2019        12      27  successful   \n",
       "\n",
       "        transactions       date  \n",
       "0                  1 2019-10-29  \n",
       "1                  2 2019-12-11  \n",
       "2                  1 2019-11-18  \n",
       "3                  1 2019-11-27  \n",
       "4                  1 2019-08-12  \n",
       "...              ...        ...  \n",
       "513073             1 2019-09-12  \n",
       "513074             1 2019-12-16  \n",
       "513177             1 2019-12-24  \n",
       "513178             1 2019-12-25  \n",
       "513179             1 2019-12-27  \n",
       "\n",
       "[151583 rows x 8 columns]"
      ]
     },
     "execution_count": 19,
     "metadata": {},
     "output_type": "execute_result"
    }
   ],
   "source": [
    "# This is the data for the year 2019.\n",
    "\n",
    "data2019 = data[data.txnYear == 2019]\n",
    "data2019"
   ]
  },
  {
   "cell_type": "code",
   "execution_count": 20,
   "id": "foreign-blade",
   "metadata": {
    "slideshow": {
     "slide_type": "slide"
    }
   },
   "outputs": [
    {
     "data": {
      "image/png": "[encoded data removed]",
      "text/plain": [
       "<Figure size 432x288 with 1 Axes>"
      ]
     },
     "metadata": {},
     "output_type": "display_data"
    }
   ],
   "source": [
    "#This is the graphical representation for each month in the year 2019.\n",
    "# The last 3 months experienced the most transactions. This could be due to the festivities during those period.\n",
    "# June, July and August had the least transactions, people could be trying to save up for the festival periods, hence the reduction in transactions.\n",
    "\n",
    "fig, ax = plt.subplots()  \n",
    "x = data2019.txnMonth.unique() \n",
    "y = data2019.txnMonth.value_counts()\n",
    "ax.bar(x, y)  \n",
    "ax.set_xlabel('Months of the year')  \n",
    "ax.set_ylabel('Transactions')\n",
    "plt.show()"
   ]
  },
  {
   "cell_type": "code",
   "execution_count": 21,
   "id": "killing-frequency",
   "metadata": {
    "slideshow": {
     "slide_type": "slide"
    }
   },
   "outputs": [
    {
     "data": {
      "text/html": [
       "<div>\n",
       "<style scoped>\n",
       "    .dataframe tbody tr th:only-of-type {\n",
       "        vertical-align: middle;\n",
       "    }\n",
       "\n",
       "    .dataframe tbody tr th {\n",
       "        vertical-align: top;\n",
       "    }\n",
       "\n",
       "    .dataframe thead th {\n",
       "        text-align: right;\n",
       "    }\n",
       "</style>\n",
       "<table border=\"1\" class=\"dataframe\">\n",
       "  <thead>\n",
       "    <tr style=\"text-align: right;\">\n",
       "      <th></th>\n",
       "      <th>Unnamed: 0</th>\n",
       "      <th>acct_no</th>\n",
       "      <th>txnYear</th>\n",
       "      <th>txnMonth</th>\n",
       "      <th>txnDay</th>\n",
       "      <th>transactions</th>\n",
       "      <th>date</th>\n",
       "    </tr>\n",
       "    <tr>\n",
       "      <th>status</th>\n",
       "      <th></th>\n",
       "      <th></th>\n",
       "      <th></th>\n",
       "      <th></th>\n",
       "      <th></th>\n",
       "      <th></th>\n",
       "      <th></th>\n",
       "    </tr>\n",
       "  </thead>\n",
       "  <tbody>\n",
       "    <tr>\n",
       "      <th>debited</th>\n",
       "      <td>30</td>\n",
       "      <td>30</td>\n",
       "      <td>30</td>\n",
       "      <td>30</td>\n",
       "      <td>30</td>\n",
       "      <td>30</td>\n",
       "      <td>30</td>\n",
       "    </tr>\n",
       "    <tr>\n",
       "      <th>declined</th>\n",
       "      <td>3451</td>\n",
       "      <td>3451</td>\n",
       "      <td>3451</td>\n",
       "      <td>3451</td>\n",
       "      <td>3451</td>\n",
       "      <td>3451</td>\n",
       "      <td>3451</td>\n",
       "    </tr>\n",
       "    <tr>\n",
       "      <th>failed</th>\n",
       "      <td>15621</td>\n",
       "      <td>15621</td>\n",
       "      <td>15621</td>\n",
       "      <td>15621</td>\n",
       "      <td>15621</td>\n",
       "      <td>15621</td>\n",
       "      <td>15621</td>\n",
       "    </tr>\n",
       "    <tr>\n",
       "      <th>initialized</th>\n",
       "      <td>465</td>\n",
       "      <td>465</td>\n",
       "      <td>465</td>\n",
       "      <td>465</td>\n",
       "      <td>465</td>\n",
       "      <td>465</td>\n",
       "      <td>465</td>\n",
       "    </tr>\n",
       "    <tr>\n",
       "      <th>pending</th>\n",
       "      <td>42</td>\n",
       "      <td>42</td>\n",
       "      <td>42</td>\n",
       "      <td>42</td>\n",
       "      <td>42</td>\n",
       "      <td>42</td>\n",
       "      <td>42</td>\n",
       "    </tr>\n",
       "    <tr>\n",
       "      <th>successful</th>\n",
       "      <td>131974</td>\n",
       "      <td>131974</td>\n",
       "      <td>131974</td>\n",
       "      <td>131974</td>\n",
       "      <td>131974</td>\n",
       "      <td>131974</td>\n",
       "      <td>131974</td>\n",
       "    </tr>\n",
       "  </tbody>\n",
       "</table>\n",
       "</div>"
      ],
      "text/plain": [
       "             Unnamed: 0  acct_no  txnYear  txnMonth  txnDay  transactions  \\\n",
       "status                                                                      \n",
       "debited              30       30       30        30      30            30   \n",
       "declined           3451     3451     3451      3451    3451          3451   \n",
       "failed            15621    15621    15621     15621   15621         15621   \n",
       "initialized         465      465      465       465     465           465   \n",
       "pending              42       42       42        42      42            42   \n",
       "successful       131974   131974   131974    131974  131974        131974   \n",
       "\n",
       "               date  \n",
       "status               \n",
       "debited          30  \n",
       "declined       3451  \n",
       "failed        15621  \n",
       "initialized     465  \n",
       "pending          42  \n",
       "successful   131974  "
      ]
     },
     "execution_count": 21,
     "metadata": {},
     "output_type": "execute_result"
    }
   ],
   "source": [
    "# This shows the breakdown of the transactions status for the year 2019.\n",
    "\n",
    "data2019.groupby(\"status\").count()"
   ]
  },
  {
   "cell_type": "code",
   "execution_count": 22,
   "id": "blessed-copyright",
   "metadata": {
    "slideshow": {
     "slide_type": "slide"
    }
   },
   "outputs": [
    {
     "name": "stderr",
     "output_type": "stream",
     "text": [
      "c:\\users\\acer\\appdata\\local\\programs\\python\\python37-32\\lib\\site-packages\\seaborn\\_decorators.py:43: FutureWarning: Pass the following variable as a keyword arg: x. From version 0.12, the only valid positional argument will be `data`, and passing other arguments without an explicit keyword will result in an error or misinterpretation.\n",
      "  FutureWarning\n"
     ]
    },
    {
     "data": {
      "text/plain": [
       "<AxesSubplot:xlabel='status', ylabel='count'>"
      ]
     },
     "execution_count": 22,
     "metadata": {},
     "output_type": "execute_result"
    },
    {
     "data": {
      "image/png": "[encoded data removed]",
      "text/plain": [
       "<Figure size 432x288 with 1 Axes>"
      ]
     },
     "metadata": {},
     "output_type": "display_data"
    }
   ],
   "source": [
    "# This is the graphical representation.\n",
    "\n",
    "sns.countplot(data2019.status)"
   ]
  },
  {
   "cell_type": "code",
   "execution_count": 23,
   "id": "greek-workstation",
   "metadata": {
    "slideshow": {
     "slide_type": "slide"
    }
   },
   "outputs": [
    {
     "name": "stderr",
     "output_type": "stream",
     "text": [
      "c:\\users\\acer\\appdata\\local\\programs\\python\\python37-32\\lib\\site-packages\\seaborn\\_decorators.py:43: FutureWarning: Pass the following variable as a keyword arg: x. From version 0.12, the only valid positional argument will be `data`, and passing other arguments without an explicit keyword will result in an error or misinterpretation.\n",
      "  FutureWarning\n"
     ]
    },
    {
     "data": {
      "image/png": "[encoded data removed]",
      "text/plain": [
       "<Figure size 1440x720 with 1 Axes>"
      ]
     },
     "metadata": {},
     "output_type": "display_data"
    }
   ],
   "source": [
    "# This graph is showing the different transactions status of each month of the year 2019.\n",
    "# Most of the transactions were successful. The month of October had the most successful transactions.\n",
    "# The month of November has the most failed transactions.\n",
    "plt.figure(figsize = (20,10))\n",
    "sns.countplot('status', hue = 'txnMonth', data = data2019)\n",
    "plt.show()"
   ]
  },
  {
   "cell_type": "code",
   "execution_count": 24,
   "id": "rising-small",
   "metadata": {
    "slideshow": {
     "slide_type": "slide"
    }
   },
   "outputs": [
    {
     "data": {
      "text/html": [
       "<div>\n",
       "<style scoped>\n",
       "    .dataframe tbody tr th:only-of-type {\n",
       "        vertical-align: middle;\n",
       "    }\n",
       "\n",
       "    .dataframe tbody tr th {\n",
       "        vertical-align: top;\n",
       "    }\n",
       "\n",
       "    .dataframe thead th {\n",
       "        text-align: right;\n",
       "    }\n",
       "</style>\n",
       "<table border=\"1\" class=\"dataframe\">\n",
       "  <thead>\n",
       "    <tr style=\"text-align: right;\">\n",
       "      <th></th>\n",
       "      <th>Unnamed: 0</th>\n",
       "      <th>acct_no</th>\n",
       "      <th>txnYear</th>\n",
       "      <th>txnMonth</th>\n",
       "      <th>txnDay</th>\n",
       "      <th>status</th>\n",
       "      <th>transactions</th>\n",
       "      <th>date</th>\n",
       "    </tr>\n",
       "  </thead>\n",
       "  <tbody>\n",
       "    <tr>\n",
       "      <th>7</th>\n",
       "      <td>7</td>\n",
       "      <td>1001192k</td>\n",
       "      <td>2020</td>\n",
       "      <td>2</td>\n",
       "      <td>6</td>\n",
       "      <td>successful</td>\n",
       "      <td>1</td>\n",
       "      <td>2020-06-02</td>\n",
       "    </tr>\n",
       "    <tr>\n",
       "      <th>8</th>\n",
       "      <td>8</td>\n",
       "      <td>1001192k</td>\n",
       "      <td>2020</td>\n",
       "      <td>3</td>\n",
       "      <td>8</td>\n",
       "      <td>successful</td>\n",
       "      <td>1</td>\n",
       "      <td>2020-08-03</td>\n",
       "    </tr>\n",
       "    <tr>\n",
       "      <th>9</th>\n",
       "      <td>9</td>\n",
       "      <td>1001192k</td>\n",
       "      <td>2020</td>\n",
       "      <td>3</td>\n",
       "      <td>10</td>\n",
       "      <td>successful</td>\n",
       "      <td>1</td>\n",
       "      <td>2020-10-03</td>\n",
       "    </tr>\n",
       "    <tr>\n",
       "      <th>10</th>\n",
       "      <td>10</td>\n",
       "      <td>1001192k</td>\n",
       "      <td>2020</td>\n",
       "      <td>3</td>\n",
       "      <td>17</td>\n",
       "      <td>successful</td>\n",
       "      <td>1</td>\n",
       "      <td>2020-03-17</td>\n",
       "    </tr>\n",
       "    <tr>\n",
       "      <th>11</th>\n",
       "      <td>11</td>\n",
       "      <td>1001192k</td>\n",
       "      <td>2020</td>\n",
       "      <td>3</td>\n",
       "      <td>25</td>\n",
       "      <td>successful</td>\n",
       "      <td>2</td>\n",
       "      <td>2020-03-25</td>\n",
       "    </tr>\n",
       "    <tr>\n",
       "      <th>...</th>\n",
       "      <td>...</td>\n",
       "      <td>...</td>\n",
       "      <td>...</td>\n",
       "      <td>...</td>\n",
       "      <td>...</td>\n",
       "      <td>...</td>\n",
       "      <td>...</td>\n",
       "      <td>...</td>\n",
       "    </tr>\n",
       "    <tr>\n",
       "      <th>513242</th>\n",
       "      <td>513242</td>\n",
       "      <td>9999437n</td>\n",
       "      <td>2020</td>\n",
       "      <td>10</td>\n",
       "      <td>15</td>\n",
       "      <td>successful</td>\n",
       "      <td>2</td>\n",
       "      <td>2020-10-15</td>\n",
       "    </tr>\n",
       "    <tr>\n",
       "      <th>513243</th>\n",
       "      <td>513243</td>\n",
       "      <td>9999437n</td>\n",
       "      <td>2020</td>\n",
       "      <td>10</td>\n",
       "      <td>16</td>\n",
       "      <td>successful</td>\n",
       "      <td>1</td>\n",
       "      <td>2020-10-16</td>\n",
       "    </tr>\n",
       "    <tr>\n",
       "      <th>513244</th>\n",
       "      <td>513244</td>\n",
       "      <td>9999437n</td>\n",
       "      <td>2020</td>\n",
       "      <td>10</td>\n",
       "      <td>21</td>\n",
       "      <td>successful</td>\n",
       "      <td>2</td>\n",
       "      <td>2020-10-21</td>\n",
       "    </tr>\n",
       "    <tr>\n",
       "      <th>513245</th>\n",
       "      <td>513245</td>\n",
       "      <td>9999437n</td>\n",
       "      <td>2020</td>\n",
       "      <td>10</td>\n",
       "      <td>23</td>\n",
       "      <td>successful</td>\n",
       "      <td>2</td>\n",
       "      <td>2020-10-23</td>\n",
       "    </tr>\n",
       "    <tr>\n",
       "      <th>513246</th>\n",
       "      <td>513246</td>\n",
       "      <td>9999437n</td>\n",
       "      <td>2020</td>\n",
       "      <td>10</td>\n",
       "      <td>26</td>\n",
       "      <td>successful</td>\n",
       "      <td>1</td>\n",
       "      <td>2020-10-26</td>\n",
       "    </tr>\n",
       "  </tbody>\n",
       "</table>\n",
       "<p>361664 rows × 8 columns</p>\n",
       "</div>"
      ],
      "text/plain": [
       "        Unnamed: 0   acct_no  txnYear  txnMonth  txnDay      status  \\\n",
       "7                7  1001192k     2020         2       6  successful   \n",
       "8                8  1001192k     2020         3       8  successful   \n",
       "9                9  1001192k     2020         3      10  successful   \n",
       "10              10  1001192k     2020         3      17  successful   \n",
       "11              11  1001192k     2020         3      25  successful   \n",
       "...            ...       ...      ...       ...     ...         ...   \n",
       "513242      513242  9999437n     2020        10      15  successful   \n",
       "513243      513243  9999437n     2020        10      16  successful   \n",
       "513244      513244  9999437n     2020        10      21  successful   \n",
       "513245      513245  9999437n     2020        10      23  successful   \n",
       "513246      513246  9999437n     2020        10      26  successful   \n",
       "\n",
       "        transactions       date  \n",
       "7                  1 2020-06-02  \n",
       "8                  1 2020-08-03  \n",
       "9                  1 2020-10-03  \n",
       "10                 1 2020-03-17  \n",
       "11                 2 2020-03-25  \n",
       "...              ...        ...  \n",
       "513242             2 2020-10-15  \n",
       "513243             1 2020-10-16  \n",
       "513244             2 2020-10-21  \n",
       "513245             2 2020-10-23  \n",
       "513246             1 2020-10-26  \n",
       "\n",
       "[361664 rows x 8 columns]"
      ]
     },
     "execution_count": 24,
     "metadata": {},
     "output_type": "execute_result"
    }
   ],
   "source": [
    "# This shows the breakdown of the transactions status for the year 2020.\n",
    "\n",
    "data2020 = data[data.txnYear == 2020]\n",
    "data2020"
   ]
  },
  {
   "cell_type": "code",
   "execution_count": 25,
   "id": "matched-thanks",
   "metadata": {
    "slideshow": {
     "slide_type": "slide"
    }
   },
   "outputs": [
    {
     "data": {
      "image/png": "[encoded data removed]",
      "text/plain": [
       "<Figure size 432x288 with 1 Axes>"
      ]
     },
     "metadata": {},
     "output_type": "display_data"
    }
   ],
   "source": [
    "#This is the graphical representation for each month in the year 2020.\n",
    "# February, March and April had the most transactions. The COVID-19 got into the country during this period and the lockdown began during this period.\n",
    "# There was a surge in buying of items, hence the rise in transactions.\n",
    "fig, ax = plt.subplots()  \n",
    "x = data2020.txnMonth.unique() \n",
    "y = data2020.txnMonth.value_counts()\n",
    "ax.bar(x, y)  \n",
    "ax.set_xlabel('Months of the year')  \n",
    "ax.set_ylabel('Transactions')\n",
    "plt.show()"
   ]
  },
  {
   "cell_type": "code",
   "execution_count": 26,
   "id": "fatty-rapid",
   "metadata": {
    "slideshow": {
     "slide_type": "slide"
    }
   },
   "outputs": [
    {
     "data": {
      "text/html": [
       "<div>\n",
       "<style scoped>\n",
       "    .dataframe tbody tr th:only-of-type {\n",
       "        vertical-align: middle;\n",
       "    }\n",
       "\n",
       "    .dataframe tbody tr th {\n",
       "        vertical-align: top;\n",
       "    }\n",
       "\n",
       "    .dataframe thead th {\n",
       "        text-align: right;\n",
       "    }\n",
       "</style>\n",
       "<table border=\"1\" class=\"dataframe\">\n",
       "  <thead>\n",
       "    <tr style=\"text-align: right;\">\n",
       "      <th></th>\n",
       "      <th>Unnamed: 0</th>\n",
       "      <th>acct_no</th>\n",
       "      <th>txnYear</th>\n",
       "      <th>txnMonth</th>\n",
       "      <th>txnDay</th>\n",
       "      <th>transactions</th>\n",
       "      <th>date</th>\n",
       "    </tr>\n",
       "    <tr>\n",
       "      <th>status</th>\n",
       "      <th></th>\n",
       "      <th></th>\n",
       "      <th></th>\n",
       "      <th></th>\n",
       "      <th></th>\n",
       "      <th></th>\n",
       "      <th></th>\n",
       "    </tr>\n",
       "  </thead>\n",
       "  <tbody>\n",
       "    <tr>\n",
       "      <th>debited</th>\n",
       "      <td>7</td>\n",
       "      <td>7</td>\n",
       "      <td>7</td>\n",
       "      <td>7</td>\n",
       "      <td>7</td>\n",
       "      <td>7</td>\n",
       "      <td>7</td>\n",
       "    </tr>\n",
       "    <tr>\n",
       "      <th>declined</th>\n",
       "      <td>6792</td>\n",
       "      <td>6792</td>\n",
       "      <td>6792</td>\n",
       "      <td>6792</td>\n",
       "      <td>6792</td>\n",
       "      <td>6792</td>\n",
       "      <td>6792</td>\n",
       "    </tr>\n",
       "    <tr>\n",
       "      <th>failed</th>\n",
       "      <td>13015</td>\n",
       "      <td>13015</td>\n",
       "      <td>13015</td>\n",
       "      <td>13015</td>\n",
       "      <td>13015</td>\n",
       "      <td>13015</td>\n",
       "      <td>13015</td>\n",
       "    </tr>\n",
       "    <tr>\n",
       "      <th>initialized</th>\n",
       "      <td>751</td>\n",
       "      <td>751</td>\n",
       "      <td>751</td>\n",
       "      <td>751</td>\n",
       "      <td>751</td>\n",
       "      <td>751</td>\n",
       "      <td>751</td>\n",
       "    </tr>\n",
       "    <tr>\n",
       "      <th>pending</th>\n",
       "      <td>22</td>\n",
       "      <td>22</td>\n",
       "      <td>22</td>\n",
       "      <td>22</td>\n",
       "      <td>22</td>\n",
       "      <td>22</td>\n",
       "      <td>22</td>\n",
       "    </tr>\n",
       "    <tr>\n",
       "      <th>successful</th>\n",
       "      <td>341077</td>\n",
       "      <td>341077</td>\n",
       "      <td>341077</td>\n",
       "      <td>341077</td>\n",
       "      <td>341077</td>\n",
       "      <td>341077</td>\n",
       "      <td>341077</td>\n",
       "    </tr>\n",
       "  </tbody>\n",
       "</table>\n",
       "</div>"
      ],
      "text/plain": [
       "             Unnamed: 0  acct_no  txnYear  txnMonth  txnDay  transactions  \\\n",
       "status                                                                      \n",
       "debited               7        7        7         7       7             7   \n",
       "declined           6792     6792     6792      6792    6792          6792   \n",
       "failed            13015    13015    13015     13015   13015         13015   \n",
       "initialized         751      751      751       751     751           751   \n",
       "pending              22       22       22        22      22            22   \n",
       "successful       341077   341077   341077    341077  341077        341077   \n",
       "\n",
       "               date  \n",
       "status               \n",
       "debited           7  \n",
       "declined       6792  \n",
       "failed        13015  \n",
       "initialized     751  \n",
       "pending          22  \n",
       "successful   341077  "
      ]
     },
     "execution_count": 26,
     "metadata": {},
     "output_type": "execute_result"
    }
   ],
   "source": [
    "# This shows the breakdown of the transactions status for the year 2020.\n",
    "\n",
    "data2020.groupby(\"status\").count()"
   ]
  },
  {
   "cell_type": "code",
   "execution_count": 100,
   "id": "defined-threat",
   "metadata": {
    "slideshow": {
     "slide_type": "slide"
    }
   },
   "outputs": [
    {
     "name": "stderr",
     "output_type": "stream",
     "text": [
      "c:\\users\\acer\\appdata\\local\\programs\\python\\python37-32\\lib\\site-packages\\seaborn\\_decorators.py:43: FutureWarning: Pass the following variable as a keyword arg: x. From version 0.12, the only valid positional argument will be `data`, and passing other arguments without an explicit keyword will result in an error or misinterpretation.\n",
      "  FutureWarning\n"
     ]
    },
    {
     "data": {
      "text/plain": [
       "<AxesSubplot:xlabel='status', ylabel='count'>"
      ]
     },
     "execution_count": 100,
     "metadata": {},
     "output_type": "execute_result"
    },
    {
     "data": {
      "image/png": "[encoded data removed]",
      "text/plain": [
       "<Figure size 432x288 with 1 Axes>"
      ]
     },
     "metadata": {},
     "output_type": "display_data"
    }
   ],
   "source": [
    "# This is the graphical representation.\n",
    "\n",
    "sns.countplot(data2020.status)"
   ]
  },
  {
   "cell_type": "code",
   "execution_count": null,
   "id": "sharp-rental",
   "metadata": {
    "slideshow": {
     "slide_type": "slide"
    }
   },
   "outputs": [
    {
     "name": "stderr",
     "output_type": "stream",
     "text": [
      "c:\\users\\acer\\appdata\\local\\programs\\python\\python37-32\\lib\\site-packages\\seaborn\\_decorators.py:43: FutureWarning: Pass the following variable as a keyword arg: x. From version 0.12, the only valid positional argument will be `data`, and passing other arguments without an explicit keyword will result in an error or misinterpretation.\n",
      "  FutureWarning\n"
     ]
    }
   ],
   "source": [
    "# This graph is showing the different transactions status of each month of the year 2020.\n",
    "# The months of October and November experienced the most successful transactions.\n",
    "# They also experienced the most failed. This surge could be due to the #EndSARS protest that took place against police brutality.\n",
    "plt.figure(figsize = (20,10))\n",
    "sns.countplot('status', hue = 'txnMonth', data = data2020)\n",
    "plt.show()"
   ]
  },
  {
   "cell_type": "code",
   "execution_count": null,
   "id": "buried-complement",
   "metadata": {},
   "outputs": [],
   "source": []
  }
 ],
 "metadata": {
  "celltoolbar": "Slideshow",
  "kernelspec": {
   "display_name": "Python 3",
   "language": "python",
   "name": "python3"
  },
  "language_info": {
   "codemirror_mode": {
    "name": "ipython",
    "version": 3
   },
   "file_extension": ".py",
   "mimetype": "text/x-python",
   "name": "python",
   "nbconvert_exporter": "python",
   "pygments_lexer": "ipython3",
   "version": "3.7.9"
  }
 },
 "nbformat": 4,
 "nbformat_minor": 5
}
