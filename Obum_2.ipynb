{
 "cells": [
  {
   "cell_type": "markdown",
   "id": "recognized-aquarium",
   "metadata": {
    "slideshow": {
     "slide_type": "skip"
    }
   },
   "source": [
    "# Univelcity Week 2 -  \n",
    "\n",
    "## Carry out an exploratory analysis to glean out insights and trends in the dataset.\n",
    "\n",
    "## Find a means to relate it with external data to help understand user behaviour. \n",
    "## Try to notice trends in what triggers transactions at certain times of the year, \n",
    "## what could be the possible cause of increased failed transactions… etc.\n",
    "\n",
    "## Make a mini presentation with the use of the jupyter slides extension and hide the input cells of the selected pages of the slide."
   ]
  },
  {
   "cell_type": "markdown",
   "id": "about-necklace",
   "metadata": {
    "slideshow": {
     "slide_type": "slide"
    }
   },
   "source": [
    "# Title.\n",
    "\n",
    "\n",
    "## An Exploratory Analysis of Transactions of XYZ bank for a one and half year period."
   ]
  },
  {
   "cell_type": "code",
   "execution_count": 1,
   "id": "blessed-burner",
   "metadata": {
    "slideshow": {
     "slide_type": "skip"
    }
   },
   "outputs": [
    {
     "name": "stdout",
     "output_type": "stream",
     "text": [
      "Note: you may need to restart the kernel to use updated packages.\n"
     ]
    }
   ],
   "source": [
    "pip install RISE --quiet"
   ]
  },
  {
   "cell_type": "code",
   "execution_count": 62,
   "id": "pregnant-upset",
   "metadata": {
    "slideshow": {
     "slide_type": "skip"
    }
   },
   "outputs": [
    {
     "name": "stdout",
     "output_type": "stream",
     "text": [
      "Note: you may need to restart the kernel to use updated packages.\n"
     ]
    },
    {
     "name": "stderr",
     "output_type": "stream",
     "text": [
      "WARNING: Retrying (Retry(total=4, connect=None, read=None, redirect=None, status=None)) after connection broken by 'SSLError(SSLError(1, '[SSL: WRONG_VERSION_NUMBER] wrong version number (_ssl.c:1123)'))': /simple/pip/\n",
      "WARNING: Retrying (Retry(total=3, connect=None, read=None, redirect=None, status=None)) after connection broken by 'SSLError(SSLError(1, '[SSL: WRONG_VERSION_NUMBER] wrong version number (_ssl.c:1123)'))': /simple/pip/\n",
      "WARNING: Retrying (Retry(total=2, connect=None, read=None, redirect=None, status=None)) after connection broken by 'SSLError(SSLError(1, '[SSL: WRONG_VERSION_NUMBER] wrong version number (_ssl.c:1123)'))': /simple/pip/\n",
      "WARNING: Retrying (Retry(total=1, connect=None, read=None, redirect=None, status=None)) after connection broken by 'SSLError(SSLError(1, '[SSL: WRONG_VERSION_NUMBER] wrong version number (_ssl.c:1123)'))': /simple/pip/\n",
      "WARNING: Retrying (Retry(total=0, connect=None, read=None, redirect=None, status=None)) after connection broken by 'SSLError(SSLError(1, '[SSL: WRONG_VERSION_NUMBER] wrong version number (_ssl.c:1123)'))': /simple/pip/\n"
     ]
    }
   ],
   "source": [
    "pip install --upgrade pip --quiet"
   ]
  },
  {
   "cell_type": "code",
   "execution_count": 2,
   "id": "russian-decision",
   "metadata": {
    "slideshow": {
     "slide_type": "skip"
    }
   },
   "outputs": [],
   "source": [
    "import pandas as pd\n",
    "import numpy as np\n",
    "import seaborn as sns\n",
    "import matplotlib.pyplot as plt\n",
    "import datetime as dt\n",
    "%matplotlib inline"
   ]
  },
  {
   "cell_type": "code",
   "execution_count": null,
   "id": "unnecessary-minimum",
   "metadata": {
    "slideshow": {
     "slide_type": "skip"
    }
   },
   "outputs": [],
   "source": []
  },
  {
   "cell_type": "code",
   "execution_count": 151,
   "id": "gross-gnome",
   "metadata": {
    "slideshow": {
     "slide_type": "skip"
    }
   },
   "outputs": [],
   "source": [
    "# Converting the txn data into a dataframe and passing the multiple date columns into a single date column\n",
    "tranx_data = pd.read_csv('txn_data.csv', parse_dates={\"Dates\":['txnYear', 'txnMonth', 'txnDay']})"
   ]
  },
  {
   "cell_type": "code",
   "execution_count": 152,
   "id": "engaged-algorithm",
   "metadata": {
    "slideshow": {
     "slide_type": "skip"
    }
   },
   "outputs": [
    {
     "data": {
      "text/plain": [
       "Dates          object\n",
       "txnID         float64\n",
       "acct_no        object\n",
       "status         object\n",
       "no of txns      int64\n",
       "dtype: object"
      ]
     },
     "execution_count": 152,
     "metadata": {},
     "output_type": "execute_result"
    }
   ],
   "source": [
    "# Create a tranx_ID column\n",
    "tranx_data = tranx_data.rename(columns={'Unnamed: 0':'txnID'})\n",
    "tranx_data.dtypes"
   ]
  },
  {
   "cell_type": "code",
   "execution_count": 153,
   "id": "collective-cosmetic",
   "metadata": {
    "slideshow": {
     "slide_type": "skip"
    }
   },
   "outputs": [
    {
     "data": {
      "text/plain": [
       "RangeIndex(start=0, stop=513248, step=1)"
      ]
     },
     "execution_count": 153,
     "metadata": {},
     "output_type": "execute_result"
    }
   ],
   "source": [
    "# Discover missing values in dataset.\n",
    "tranx_data.isnull().index"
   ]
  },
  {
   "cell_type": "code",
   "execution_count": 154,
   "id": "polyphonic-audience",
   "metadata": {
    "slideshow": {
     "slide_type": "skip"
    }
   },
   "outputs": [
    {
     "data": {
      "text/html": [
       "<div>\n",
       "<style scoped>\n",
       "    .dataframe tbody tr th:only-of-type {\n",
       "        vertical-align: middle;\n",
       "    }\n",
       "\n",
       "    .dataframe tbody tr th {\n",
       "        vertical-align: top;\n",
       "    }\n",
       "\n",
       "    .dataframe thead th {\n",
       "        text-align: right;\n",
       "    }\n",
       "</style>\n",
       "<table border=\"1\" class=\"dataframe\">\n",
       "  <thead>\n",
       "    <tr style=\"text-align: right;\">\n",
       "      <th></th>\n",
       "      <th>Dates</th>\n",
       "      <th>txnID</th>\n",
       "      <th>acct_no</th>\n",
       "      <th>status</th>\n",
       "      <th>no of txns</th>\n",
       "    </tr>\n",
       "  </thead>\n",
       "  <tbody>\n",
       "    <tr>\n",
       "      <th>0</th>\n",
       "      <td>2019 10 29</td>\n",
       "      <td>0.0</td>\n",
       "      <td>1001192k</td>\n",
       "      <td>successful</td>\n",
       "      <td>1</td>\n",
       "    </tr>\n",
       "    <tr>\n",
       "      <th>1</th>\n",
       "      <td>2019 11 12</td>\n",
       "      <td>1.0</td>\n",
       "      <td>1001192k</td>\n",
       "      <td>failed</td>\n",
       "      <td>2</td>\n",
       "    </tr>\n",
       "    <tr>\n",
       "      <th>2</th>\n",
       "      <td>2019 11 18</td>\n",
       "      <td>2.0</td>\n",
       "      <td>1001192k</td>\n",
       "      <td>failed</td>\n",
       "      <td>1</td>\n",
       "    </tr>\n",
       "    <tr>\n",
       "      <th>3</th>\n",
       "      <td>2019 11 27</td>\n",
       "      <td>3.0</td>\n",
       "      <td>1001192k</td>\n",
       "      <td>successful</td>\n",
       "      <td>1</td>\n",
       "    </tr>\n",
       "    <tr>\n",
       "      <th>4</th>\n",
       "      <td>2019 12 8</td>\n",
       "      <td>4.0</td>\n",
       "      <td>1001192k</td>\n",
       "      <td>failed</td>\n",
       "      <td>1</td>\n",
       "    </tr>\n",
       "    <tr>\n",
       "      <th>...</th>\n",
       "      <td>...</td>\n",
       "      <td>...</td>\n",
       "      <td>...</td>\n",
       "      <td>...</td>\n",
       "      <td>...</td>\n",
       "    </tr>\n",
       "    <tr>\n",
       "      <th>513242</th>\n",
       "      <td>2020 10 15</td>\n",
       "      <td>513242.0</td>\n",
       "      <td>9999437n</td>\n",
       "      <td>successful</td>\n",
       "      <td>2</td>\n",
       "    </tr>\n",
       "    <tr>\n",
       "      <th>513243</th>\n",
       "      <td>2020 10 16</td>\n",
       "      <td>513243.0</td>\n",
       "      <td>9999437n</td>\n",
       "      <td>successful</td>\n",
       "      <td>1</td>\n",
       "    </tr>\n",
       "    <tr>\n",
       "      <th>513244</th>\n",
       "      <td>2020 10 21</td>\n",
       "      <td>513244.0</td>\n",
       "      <td>9999437n</td>\n",
       "      <td>successful</td>\n",
       "      <td>2</td>\n",
       "    </tr>\n",
       "    <tr>\n",
       "      <th>513245</th>\n",
       "      <td>2020 10 23</td>\n",
       "      <td>513245.0</td>\n",
       "      <td>9999437n</td>\n",
       "      <td>successful</td>\n",
       "      <td>2</td>\n",
       "    </tr>\n",
       "    <tr>\n",
       "      <th>513246</th>\n",
       "      <td>2020 10 26</td>\n",
       "      <td>513246.0</td>\n",
       "      <td>9999437n</td>\n",
       "      <td>successful</td>\n",
       "      <td>1</td>\n",
       "    </tr>\n",
       "  </tbody>\n",
       "</table>\n",
       "<p>513247 rows × 5 columns</p>\n",
       "</div>"
      ],
      "text/plain": [
       "             Dates     txnID   acct_no      status  no of txns\n",
       "0       2019 10 29       0.0  1001192k  successful           1\n",
       "1       2019 11 12       1.0  1001192k      failed           2\n",
       "2       2019 11 18       2.0  1001192k      failed           1\n",
       "3       2019 11 27       3.0  1001192k  successful           1\n",
       "4        2019 12 8       4.0  1001192k      failed           1\n",
       "...            ...       ...       ...         ...         ...\n",
       "513242  2020 10 15  513242.0  9999437n  successful           2\n",
       "513243  2020 10 16  513243.0  9999437n  successful           1\n",
       "513244  2020 10 21  513244.0  9999437n  successful           2\n",
       "513245  2020 10 23  513245.0  9999437n  successful           2\n",
       "513246  2020 10 26  513246.0  9999437n  successful           1\n",
       "\n",
       "[513247 rows x 5 columns]"
      ]
     },
     "execution_count": 154,
     "metadata": {},
     "output_type": "execute_result"
    }
   ],
   "source": [
    " # Remove missing values in dataset.\n",
    "tranx_data = tranx_data.drop(tranx_data.index[[513247]])\n",
    "tranx_data"
   ]
  },
  {
   "cell_type": "code",
   "execution_count": 288,
   "id": "coral-updating",
   "metadata": {
    "slideshow": {
     "slide_type": "skip"
    }
   },
   "outputs": [
    {
     "data": {
      "text/html": [
       "<div>\n",
       "<style scoped>\n",
       "    .dataframe tbody tr th:only-of-type {\n",
       "        vertical-align: middle;\n",
       "    }\n",
       "\n",
       "    .dataframe tbody tr th {\n",
       "        vertical-align: top;\n",
       "    }\n",
       "\n",
       "    .dataframe thead th {\n",
       "        text-align: right;\n",
       "    }\n",
       "</style>\n",
       "<table border=\"1\" class=\"dataframe\">\n",
       "  <thead>\n",
       "    <tr style=\"text-align: right;\">\n",
       "      <th></th>\n",
       "      <th>Dates</th>\n",
       "      <th>txnID</th>\n",
       "      <th>acct_no</th>\n",
       "      <th>status</th>\n",
       "      <th>no of txns</th>\n",
       "      <th>year_month</th>\n",
       "    </tr>\n",
       "  </thead>\n",
       "  <tbody>\n",
       "    <tr>\n",
       "      <th>491362</th>\n",
       "      <td>2019-12-24</td>\n",
       "      <td>491362.0</td>\n",
       "      <td>9633969j</td>\n",
       "      <td>successful</td>\n",
       "      <td>1</td>\n",
       "      <td>2019-12</td>\n",
       "    </tr>\n",
       "    <tr>\n",
       "      <th>41051</th>\n",
       "      <td>2020-07-28</td>\n",
       "      <td>41051.0</td>\n",
       "      <td>1751469r</td>\n",
       "      <td>successful</td>\n",
       "      <td>1</td>\n",
       "      <td>2020-07</td>\n",
       "    </tr>\n",
       "    <tr>\n",
       "      <th>465996</th>\n",
       "      <td>2020-09-16</td>\n",
       "      <td>465996.0</td>\n",
       "      <td>9213892k</td>\n",
       "      <td>successful</td>\n",
       "      <td>5</td>\n",
       "      <td>2020-09</td>\n",
       "    </tr>\n",
       "    <tr>\n",
       "      <th>437315</th>\n",
       "      <td>2020-10-12</td>\n",
       "      <td>437315.0</td>\n",
       "      <td>8617197s</td>\n",
       "      <td>successful</td>\n",
       "      <td>3</td>\n",
       "      <td>2020-10</td>\n",
       "    </tr>\n",
       "    <tr>\n",
       "      <th>467950</th>\n",
       "      <td>2020-07-19</td>\n",
       "      <td>467950.0</td>\n",
       "      <td>9244841j</td>\n",
       "      <td>successful</td>\n",
       "      <td>1</td>\n",
       "      <td>2020-07</td>\n",
       "    </tr>\n",
       "    <tr>\n",
       "      <th>252004</th>\n",
       "      <td>2020-09-14</td>\n",
       "      <td>252004.0</td>\n",
       "      <td>5340330j</td>\n",
       "      <td>successful</td>\n",
       "      <td>2</td>\n",
       "      <td>2020-09</td>\n",
       "    </tr>\n",
       "    <tr>\n",
       "      <th>152999</th>\n",
       "      <td>2020-10-18</td>\n",
       "      <td>152999.0</td>\n",
       "      <td>3625634j</td>\n",
       "      <td>successful</td>\n",
       "      <td>1</td>\n",
       "      <td>2020-10</td>\n",
       "    </tr>\n",
       "    <tr>\n",
       "      <th>347826</th>\n",
       "      <td>2019-07-12</td>\n",
       "      <td>347826.0</td>\n",
       "      <td>7055793n</td>\n",
       "      <td>successful</td>\n",
       "      <td>3</td>\n",
       "      <td>2019-07</td>\n",
       "    </tr>\n",
       "    <tr>\n",
       "      <th>254493</th>\n",
       "      <td>2020-09-23</td>\n",
       "      <td>254493.0</td>\n",
       "      <td>5378276q</td>\n",
       "      <td>successful</td>\n",
       "      <td>5</td>\n",
       "      <td>2020-09</td>\n",
       "    </tr>\n",
       "    <tr>\n",
       "      <th>161497</th>\n",
       "      <td>2020-11-02</td>\n",
       "      <td>161497.0</td>\n",
       "      <td>3779399q</td>\n",
       "      <td>successful</td>\n",
       "      <td>1</td>\n",
       "      <td>2020-11</td>\n",
       "    </tr>\n",
       "  </tbody>\n",
       "</table>\n",
       "</div>"
      ],
      "text/plain": [
       "            Dates     txnID   acct_no      status  no of txns year_month\n",
       "491362 2019-12-24  491362.0  9633969j  successful           1    2019-12\n",
       "41051  2020-07-28   41051.0  1751469r  successful           1    2020-07\n",
       "465996 2020-09-16  465996.0  9213892k  successful           5    2020-09\n",
       "437315 2020-10-12  437315.0  8617197s  successful           3    2020-10\n",
       "467950 2020-07-19  467950.0  9244841j  successful           1    2020-07\n",
       "252004 2020-09-14  252004.0  5340330j  successful           2    2020-09\n",
       "152999 2020-10-18  152999.0  3625634j  successful           1    2020-10\n",
       "347826 2019-07-12  347826.0  7055793n  successful           3    2019-07\n",
       "254493 2020-09-23  254493.0  5378276q  successful           5    2020-09\n",
       "161497 2020-11-02  161497.0  3779399q  successful           1    2020-11"
      ]
     },
     "execution_count": 288,
     "metadata": {},
     "output_type": "execute_result"
    }
   ],
   "source": [
    "# A sample of the dataset.\n",
    "tranx_data.sample(10)"
   ]
  },
  {
   "cell_type": "markdown",
   "id": "structured-subsection",
   "metadata": {
    "slideshow": {
     "slide_type": "slide"
    }
   },
   "source": [
    "# Total Volume of transactions across the review period is 1237429 transactions\n",
    "\n"
   ]
  },
  {
   "cell_type": "code",
   "execution_count": 155,
   "id": "absent-dressing",
   "metadata": {
    "slideshow": {
     "slide_type": "skip"
    }
   },
   "outputs": [
    {
     "data": {
      "text/plain": [
       "1237429"
      ]
     },
     "execution_count": 155,
     "metadata": {},
     "output_type": "execute_result"
    }
   ],
   "source": [
    "# Total number of transactions carried out in 1.5 Years\n",
    "tranx_data['no of txns'].sum()"
   ]
  },
  {
   "cell_type": "code",
   "execution_count": 156,
   "id": "plastic-vampire",
   "metadata": {
    "slideshow": {
     "slide_type": "skip"
    }
   },
   "outputs": [
    {
     "data": {
      "text/plain": [
       "0"
      ]
     },
     "execution_count": 156,
     "metadata": {},
     "output_type": "execute_result"
    }
   ],
   "source": [
    "# No Missing data in dataset\n",
    "tranx_data.isnull().sum().sum()"
   ]
  },
  {
   "cell_type": "code",
   "execution_count": 159,
   "id": "other-rhythm",
   "metadata": {
    "slideshow": {
     "slide_type": "skip"
    }
   },
   "outputs": [
    {
     "data": {
      "text/plain": [
       "0         2019 10 29\n",
       "1         2019 11 12\n",
       "2         2019 11 18\n",
       "3         2019 11 27\n",
       "4          2019 12 8\n",
       "             ...    \n",
       "513242    2020 10 15\n",
       "513243    2020 10 16\n",
       "513244    2020 10 21\n",
       "513245    2020 10 23\n",
       "513246    2020 10 26\n",
       "Name: Dates, Length: 513247, dtype: object"
      ]
     },
     "execution_count": 159,
     "metadata": {},
     "output_type": "execute_result"
    }
   ],
   "source": [
    "tranx_data['Dates']"
   ]
  },
  {
   "cell_type": "code",
   "execution_count": 160,
   "id": "disabled-fence",
   "metadata": {
    "slideshow": {
     "slide_type": "skip"
    }
   },
   "outputs": [],
   "source": [
    "tranx_data['Dates'] = pd.to_datetime(tranx_data['Dates'])\n",
    "tranx_data['year_month'] = tranx_data['Dates'].dt.strftime('%Y-%m')"
   ]
  },
  {
   "cell_type": "code",
   "execution_count": 161,
   "id": "charged-nitrogen",
   "metadata": {
    "slideshow": {
     "slide_type": "skip"
    }
   },
   "outputs": [
    {
     "data": {
      "text/html": [
       "<div>\n",
       "<style scoped>\n",
       "    .dataframe tbody tr th:only-of-type {\n",
       "        vertical-align: middle;\n",
       "    }\n",
       "\n",
       "    .dataframe tbody tr th {\n",
       "        vertical-align: top;\n",
       "    }\n",
       "\n",
       "    .dataframe thead th {\n",
       "        text-align: right;\n",
       "    }\n",
       "</style>\n",
       "<table border=\"1\" class=\"dataframe\">\n",
       "  <thead>\n",
       "    <tr style=\"text-align: right;\">\n",
       "      <th></th>\n",
       "      <th>Dates</th>\n",
       "      <th>txnID</th>\n",
       "      <th>acct_no</th>\n",
       "      <th>status</th>\n",
       "      <th>no of txns</th>\n",
       "      <th>year_month</th>\n",
       "    </tr>\n",
       "  </thead>\n",
       "  <tbody>\n",
       "    <tr>\n",
       "      <th>0</th>\n",
       "      <td>2019-10-29</td>\n",
       "      <td>0.0</td>\n",
       "      <td>1001192k</td>\n",
       "      <td>successful</td>\n",
       "      <td>1</td>\n",
       "      <td>2019-10</td>\n",
       "    </tr>\n",
       "    <tr>\n",
       "      <th>1</th>\n",
       "      <td>2019-11-12</td>\n",
       "      <td>1.0</td>\n",
       "      <td>1001192k</td>\n",
       "      <td>failed</td>\n",
       "      <td>2</td>\n",
       "      <td>2019-11</td>\n",
       "    </tr>\n",
       "    <tr>\n",
       "      <th>2</th>\n",
       "      <td>2019-11-18</td>\n",
       "      <td>2.0</td>\n",
       "      <td>1001192k</td>\n",
       "      <td>failed</td>\n",
       "      <td>1</td>\n",
       "      <td>2019-11</td>\n",
       "    </tr>\n",
       "    <tr>\n",
       "      <th>3</th>\n",
       "      <td>2019-11-27</td>\n",
       "      <td>3.0</td>\n",
       "      <td>1001192k</td>\n",
       "      <td>successful</td>\n",
       "      <td>1</td>\n",
       "      <td>2019-11</td>\n",
       "    </tr>\n",
       "    <tr>\n",
       "      <th>4</th>\n",
       "      <td>2019-12-08</td>\n",
       "      <td>4.0</td>\n",
       "      <td>1001192k</td>\n",
       "      <td>failed</td>\n",
       "      <td>1</td>\n",
       "      <td>2019-12</td>\n",
       "    </tr>\n",
       "    <tr>\n",
       "      <th>5</th>\n",
       "      <td>2019-12-12</td>\n",
       "      <td>5.0</td>\n",
       "      <td>1001192k</td>\n",
       "      <td>successful</td>\n",
       "      <td>2</td>\n",
       "      <td>2019-12</td>\n",
       "    </tr>\n",
       "    <tr>\n",
       "      <th>6</th>\n",
       "      <td>2019-12-16</td>\n",
       "      <td>6.0</td>\n",
       "      <td>1001192k</td>\n",
       "      <td>successful</td>\n",
       "      <td>3</td>\n",
       "      <td>2019-12</td>\n",
       "    </tr>\n",
       "    <tr>\n",
       "      <th>7</th>\n",
       "      <td>2020-02-06</td>\n",
       "      <td>7.0</td>\n",
       "      <td>1001192k</td>\n",
       "      <td>successful</td>\n",
       "      <td>1</td>\n",
       "      <td>2020-02</td>\n",
       "    </tr>\n",
       "    <tr>\n",
       "      <th>8</th>\n",
       "      <td>2020-03-08</td>\n",
       "      <td>8.0</td>\n",
       "      <td>1001192k</td>\n",
       "      <td>successful</td>\n",
       "      <td>1</td>\n",
       "      <td>2020-03</td>\n",
       "    </tr>\n",
       "    <tr>\n",
       "      <th>9</th>\n",
       "      <td>2020-03-10</td>\n",
       "      <td>9.0</td>\n",
       "      <td>1001192k</td>\n",
       "      <td>successful</td>\n",
       "      <td>1</td>\n",
       "      <td>2020-03</td>\n",
       "    </tr>\n",
       "  </tbody>\n",
       "</table>\n",
       "</div>"
      ],
      "text/plain": [
       "       Dates  txnID   acct_no      status  no of txns year_month\n",
       "0 2019-10-29    0.0  1001192k  successful           1    2019-10\n",
       "1 2019-11-12    1.0  1001192k      failed           2    2019-11\n",
       "2 2019-11-18    2.0  1001192k      failed           1    2019-11\n",
       "3 2019-11-27    3.0  1001192k  successful           1    2019-11\n",
       "4 2019-12-08    4.0  1001192k      failed           1    2019-12\n",
       "5 2019-12-12    5.0  1001192k  successful           2    2019-12\n",
       "6 2019-12-16    6.0  1001192k  successful           3    2019-12\n",
       "7 2020-02-06    7.0  1001192k  successful           1    2020-02\n",
       "8 2020-03-08    8.0  1001192k  successful           1    2020-03\n",
       "9 2020-03-10    9.0  1001192k  successful           1    2020-03"
      ]
     },
     "execution_count": 161,
     "metadata": {},
     "output_type": "execute_result"
    }
   ],
   "source": [
    "tranx_data.head(10)"
   ]
  },
  {
   "cell_type": "code",
   "execution_count": 162,
   "id": "contrary-crazy",
   "metadata": {
    "slideshow": {
     "slide_type": "skip"
    }
   },
   "outputs": [],
   "source": [
    "sorted_tranx_data = tranx_data.sort_values(by='year_month' , ascending=True)"
   ]
  },
  {
   "cell_type": "code",
   "execution_count": 163,
   "id": "regular-likelihood",
   "metadata": {
    "slideshow": {
     "slide_type": "skip"
    }
   },
   "outputs": [
    {
     "data": {
      "text/html": [
       "<div>\n",
       "<style scoped>\n",
       "    .dataframe tbody tr th:only-of-type {\n",
       "        vertical-align: middle;\n",
       "    }\n",
       "\n",
       "    .dataframe tbody tr th {\n",
       "        vertical-align: top;\n",
       "    }\n",
       "\n",
       "    .dataframe thead th {\n",
       "        text-align: right;\n",
       "    }\n",
       "</style>\n",
       "<table border=\"1\" class=\"dataframe\">\n",
       "  <thead>\n",
       "    <tr style=\"text-align: right;\">\n",
       "      <th></th>\n",
       "      <th>Dates</th>\n",
       "      <th>txnID</th>\n",
       "      <th>acct_no</th>\n",
       "      <th>status</th>\n",
       "      <th>no of txns</th>\n",
       "    </tr>\n",
       "    <tr>\n",
       "      <th>year_month</th>\n",
       "      <th></th>\n",
       "      <th></th>\n",
       "      <th></th>\n",
       "      <th></th>\n",
       "      <th></th>\n",
       "    </tr>\n",
       "  </thead>\n",
       "  <tbody>\n",
       "    <tr>\n",
       "      <th>2019-05</th>\n",
       "      <td>2019-05-28</td>\n",
       "      <td>262731.0</td>\n",
       "      <td>5558818j</td>\n",
       "      <td>successful</td>\n",
       "      <td>4</td>\n",
       "    </tr>\n",
       "    <tr>\n",
       "      <th>2019-05</th>\n",
       "      <td>2019-05-29</td>\n",
       "      <td>148783.0</td>\n",
       "      <td>3565135m</td>\n",
       "      <td>successful</td>\n",
       "      <td>1</td>\n",
       "    </tr>\n",
       "    <tr>\n",
       "      <th>2019-05</th>\n",
       "      <td>2019-05-28</td>\n",
       "      <td>63862.0</td>\n",
       "      <td>2076288n</td>\n",
       "      <td>successful</td>\n",
       "      <td>1</td>\n",
       "    </tr>\n",
       "    <tr>\n",
       "      <th>2019-05</th>\n",
       "      <td>2019-05-29</td>\n",
       "      <td>63863.0</td>\n",
       "      <td>2076288n</td>\n",
       "      <td>successful</td>\n",
       "      <td>2</td>\n",
       "    </tr>\n",
       "    <tr>\n",
       "      <th>2019-05</th>\n",
       "      <td>2019-05-30</td>\n",
       "      <td>63864.0</td>\n",
       "      <td>2076288n</td>\n",
       "      <td>successful</td>\n",
       "      <td>3</td>\n",
       "    </tr>\n",
       "    <tr>\n",
       "      <th>...</th>\n",
       "      <td>...</td>\n",
       "      <td>...</td>\n",
       "      <td>...</td>\n",
       "      <td>...</td>\n",
       "      <td>...</td>\n",
       "    </tr>\n",
       "    <tr>\n",
       "      <th>2020-11</th>\n",
       "      <td>2020-11-01</td>\n",
       "      <td>182284.0</td>\n",
       "      <td>4120306p</td>\n",
       "      <td>successful</td>\n",
       "      <td>1</td>\n",
       "    </tr>\n",
       "    <tr>\n",
       "      <th>2020-11</th>\n",
       "      <td>2020-11-02</td>\n",
       "      <td>182285.0</td>\n",
       "      <td>4120306p</td>\n",
       "      <td>successful</td>\n",
       "      <td>1</td>\n",
       "    </tr>\n",
       "    <tr>\n",
       "      <th>2020-11</th>\n",
       "      <td>2020-11-03</td>\n",
       "      <td>182286.0</td>\n",
       "      <td>4120306p</td>\n",
       "      <td>successful</td>\n",
       "      <td>1</td>\n",
       "    </tr>\n",
       "    <tr>\n",
       "      <th>2020-11</th>\n",
       "      <td>2020-11-04</td>\n",
       "      <td>255963.0</td>\n",
       "      <td>5420849l</td>\n",
       "      <td>successful</td>\n",
       "      <td>2</td>\n",
       "    </tr>\n",
       "    <tr>\n",
       "      <th>2020-11</th>\n",
       "      <td>2020-11-04</td>\n",
       "      <td>445498.0</td>\n",
       "      <td>8755005r</td>\n",
       "      <td>successful</td>\n",
       "      <td>1</td>\n",
       "    </tr>\n",
       "  </tbody>\n",
       "</table>\n",
       "<p>513247 rows × 5 columns</p>\n",
       "</div>"
      ],
      "text/plain": [
       "                Dates     txnID   acct_no      status  no of txns\n",
       "year_month                                                       \n",
       "2019-05    2019-05-28  262731.0  5558818j  successful           4\n",
       "2019-05    2019-05-29  148783.0  3565135m  successful           1\n",
       "2019-05    2019-05-28   63862.0  2076288n  successful           1\n",
       "2019-05    2019-05-29   63863.0  2076288n  successful           2\n",
       "2019-05    2019-05-30   63864.0  2076288n  successful           3\n",
       "...               ...       ...       ...         ...         ...\n",
       "2020-11    2020-11-01  182284.0  4120306p  successful           1\n",
       "2020-11    2020-11-02  182285.0  4120306p  successful           1\n",
       "2020-11    2020-11-03  182286.0  4120306p  successful           1\n",
       "2020-11    2020-11-04  255963.0  5420849l  successful           2\n",
       "2020-11    2020-11-04  445498.0  8755005r  successful           1\n",
       "\n",
       "[513247 rows x 5 columns]"
      ]
     },
     "execution_count": 163,
     "metadata": {},
     "output_type": "execute_result"
    }
   ],
   "source": [
    "sorted_tranx_data.set_index(\"year_month\")"
   ]
  },
  {
   "cell_type": "code",
   "execution_count": 164,
   "id": "precious-minimum",
   "metadata": {
    "slideshow": {
     "slide_type": "skip"
    }
   },
   "outputs": [],
   "source": [
    "tranx_metrics = sorted_tranx_data.drop(columns=['txnID']).groupby(['year_month']).sum()"
   ]
  },
  {
   "cell_type": "code",
   "execution_count": 295,
   "id": "invalid-hybrid",
   "metadata": {
    "slideshow": {
     "slide_type": "skip"
    }
   },
   "outputs": [
    {
     "data": {
      "text/plain": [
       "no of txns    65127.842105\n",
       "dtype: float64"
      ]
     },
     "execution_count": 295,
     "metadata": {},
     "output_type": "execute_result"
    }
   ],
   "source": [
    "avg_monthly_transc = tranx_metrics.mean()\n",
    "avg_monthly_transc"
   ]
  },
  {
   "cell_type": "markdown",
   "id": "human-contributor",
   "metadata": {
    "slideshow": {
     "slide_type": "slide"
    }
   },
   "source": [
    "# Question: Monthly Distribution - Total Volume of Transactions ?\n",
    "\n",
    "### ---- To Understand our user behaviour."
   ]
  },
  {
   "cell_type": "code",
   "execution_count": 166,
   "id": "defined-priest",
   "metadata": {
    "scrolled": false,
    "slideshow": {
     "slide_type": "slide"
    }
   },
   "outputs": [
    {
     "data": {
      "image/png": "[encoded data removed]",
      "text/plain": [
       "<Figure size 1152x576 with 1 Axes>"
      ]
     },
     "metadata": {},
     "output_type": "display_data"
    }
   ],
   "source": [
    "# Plot of the Volume of Transactions across the one and half years in Nigeria\n",
    "\n",
    "plt.figure(figsize=(16,8))\n",
    "plt.title('Total Transaction volume - Monthly', fontsize=20)\n",
    "sns.set(style=\"darkgrid\")\n",
    "ax = sns.barplot(x=tranx_metrics.index, y=tranx_metrics['no of txns'], data=tranx_metrics)"
   ]
  },
  {
   "cell_type": "markdown",
   "id": "electronic-onion",
   "metadata": {
    "slideshow": {
     "slide_type": "slide"
    }
   },
   "source": [
    "# Insight:\n",
    "### Transaction volume shows a significant increase in September 2020 and October 2020.                                          \n",
    "### We can link this increase to the Nation-wide End SARS protest which began in October 2020."
   ]
  },
  {
   "cell_type": "markdown",
   "id": "formal-stomach",
   "metadata": {
    "slideshow": {
     "slide_type": "slide"
    }
   },
   "source": [
    "# Question: \n",
    "\n",
    "# Which accounts performed the most transactions during the End SARS Period?"
   ]
  },
  {
   "cell_type": "code",
   "execution_count": 167,
   "id": "skilled-festival",
   "metadata": {
    "slideshow": {
     "slide_type": "skip"
    }
   },
   "outputs": [
    {
     "data": {
      "text/html": [
       "<div>\n",
       "<style scoped>\n",
       "    .dataframe tbody tr th:only-of-type {\n",
       "        vertical-align: middle;\n",
       "    }\n",
       "\n",
       "    .dataframe tbody tr th {\n",
       "        vertical-align: top;\n",
       "    }\n",
       "\n",
       "    .dataframe thead th {\n",
       "        text-align: right;\n",
       "    }\n",
       "</style>\n",
       "<table border=\"1\" class=\"dataframe\">\n",
       "  <thead>\n",
       "    <tr style=\"text-align: right;\">\n",
       "      <th></th>\n",
       "      <th>Dates</th>\n",
       "      <th>txnID</th>\n",
       "      <th>acct_no</th>\n",
       "      <th>status</th>\n",
       "      <th>no of txns</th>\n",
       "    </tr>\n",
       "    <tr>\n",
       "      <th>year_month</th>\n",
       "      <th></th>\n",
       "      <th></th>\n",
       "      <th></th>\n",
       "      <th></th>\n",
       "      <th></th>\n",
       "    </tr>\n",
       "  </thead>\n",
       "  <tbody>\n",
       "    <tr>\n",
       "      <th>2020-09</th>\n",
       "      <td>2020-09-08</td>\n",
       "      <td>424806.0</td>\n",
       "      <td>8422951r</td>\n",
       "      <td>successful</td>\n",
       "      <td>1</td>\n",
       "    </tr>\n",
       "    <tr>\n",
       "      <th>2020-09</th>\n",
       "      <td>2020-09-07</td>\n",
       "      <td>424805.0</td>\n",
       "      <td>8422951r</td>\n",
       "      <td>successful</td>\n",
       "      <td>1</td>\n",
       "    </tr>\n",
       "    <tr>\n",
       "      <th>2020-09</th>\n",
       "      <td>2020-09-14</td>\n",
       "      <td>388933.0</td>\n",
       "      <td>7844050q</td>\n",
       "      <td>successful</td>\n",
       "      <td>4</td>\n",
       "    </tr>\n",
       "    <tr>\n",
       "      <th>2020-09</th>\n",
       "      <td>2020-09-14</td>\n",
       "      <td>388932.0</td>\n",
       "      <td>7844050q</td>\n",
       "      <td>failed</td>\n",
       "      <td>1</td>\n",
       "    </tr>\n",
       "    <tr>\n",
       "      <th>2020-09</th>\n",
       "      <td>2020-09-29</td>\n",
       "      <td>4849.0</td>\n",
       "      <td>1105991s</td>\n",
       "      <td>successful</td>\n",
       "      <td>3</td>\n",
       "    </tr>\n",
       "    <tr>\n",
       "      <th>...</th>\n",
       "      <td>...</td>\n",
       "      <td>...</td>\n",
       "      <td>...</td>\n",
       "      <td>...</td>\n",
       "      <td>...</td>\n",
       "    </tr>\n",
       "    <tr>\n",
       "      <th>2020-10</th>\n",
       "      <td>2020-10-13</td>\n",
       "      <td>340441.0</td>\n",
       "      <td>6912156m</td>\n",
       "      <td>successful</td>\n",
       "      <td>4</td>\n",
       "    </tr>\n",
       "    <tr>\n",
       "      <th>2020-10</th>\n",
       "      <td>2020-10-15</td>\n",
       "      <td>340442.0</td>\n",
       "      <td>6912156m</td>\n",
       "      <td>successful</td>\n",
       "      <td>1</td>\n",
       "    </tr>\n",
       "    <tr>\n",
       "      <th>2020-10</th>\n",
       "      <td>2020-10-28</td>\n",
       "      <td>337326.0</td>\n",
       "      <td>6858725p</td>\n",
       "      <td>successful</td>\n",
       "      <td>2</td>\n",
       "    </tr>\n",
       "    <tr>\n",
       "      <th>2020-10</th>\n",
       "      <td>2020-10-12</td>\n",
       "      <td>340440.0</td>\n",
       "      <td>6912156m</td>\n",
       "      <td>successful</td>\n",
       "      <td>1</td>\n",
       "    </tr>\n",
       "    <tr>\n",
       "      <th>2020-10</th>\n",
       "      <td>2020-10-27</td>\n",
       "      <td>337325.0</td>\n",
       "      <td>6858725p</td>\n",
       "      <td>successful</td>\n",
       "      <td>5</td>\n",
       "    </tr>\n",
       "  </tbody>\n",
       "</table>\n",
       "<p>150567 rows × 5 columns</p>\n",
       "</div>"
      ],
      "text/plain": [
       "                Dates     txnID   acct_no      status  no of txns\n",
       "year_month                                                       \n",
       "2020-09    2020-09-08  424806.0  8422951r  successful           1\n",
       "2020-09    2020-09-07  424805.0  8422951r  successful           1\n",
       "2020-09    2020-09-14  388933.0  7844050q  successful           4\n",
       "2020-09    2020-09-14  388932.0  7844050q      failed           1\n",
       "2020-09    2020-09-29    4849.0  1105991s  successful           3\n",
       "...               ...       ...       ...         ...         ...\n",
       "2020-10    2020-10-13  340441.0  6912156m  successful           4\n",
       "2020-10    2020-10-15  340442.0  6912156m  successful           1\n",
       "2020-10    2020-10-28  337326.0  6858725p  successful           2\n",
       "2020-10    2020-10-12  340440.0  6912156m  successful           1\n",
       "2020-10    2020-10-27  337325.0  6858725p  successful           5\n",
       "\n",
       "[150567 rows x 5 columns]"
      ]
     },
     "execution_count": 167,
     "metadata": {},
     "output_type": "execute_result"
    }
   ],
   "source": [
    "sept_oct_txn = sorted_tranx_data.set_index('year_month').loc['2020-09':'2020-10']\n",
    "sept_oct_txn"
   ]
  },
  {
   "cell_type": "code",
   "execution_count": 168,
   "id": "cooperative-shadow",
   "metadata": {
    "slideshow": {
     "slide_type": "skip"
    }
   },
   "outputs": [],
   "source": [
    "sept_oct_acct_info = sept_oct_txn.drop(columns=['Dates', 'txnID', 'txnID', 'status']).groupby(['acct_no']).sum()\n",
    "sept_oct_acct_info_sorted = sept_oct_acct_info.sort_values('no of txns',ascending=False)\n"
   ]
  },
  {
   "cell_type": "markdown",
   "id": "growing-firewall",
   "metadata": {
    "slideshow": {
     "slide_type": "slide"
    }
   },
   "source": [
    "# There was a total of 441175 transcations during the End SARS period.\n",
    "\n",
    "###  -- An 85% increase from the average monthly transaction volume"
   ]
  },
  {
   "cell_type": "code",
   "execution_count": 169,
   "id": "convenient-reunion",
   "metadata": {
    "slideshow": {
     "slide_type": "subslide"
    }
   },
   "outputs": [
    {
     "data": {
      "text/plain": [
       "441175"
      ]
     },
     "execution_count": 169,
     "metadata": {},
     "output_type": "execute_result"
    }
   ],
   "source": [
    "total_txns = sept_oct_acct_info_sorted['no of txns'].sum()\n",
    "total_txns"
   ]
  },
  {
   "cell_type": "code",
   "execution_count": 308,
   "id": "caring-direction",
   "metadata": {
    "slideshow": {
     "slide_type": "subslide"
    }
   },
   "outputs": [
    {
     "name": "stdout",
     "output_type": "stream",
     "text": [
      "There was an 85% from the average monthly transaction of 65128\n"
     ]
    }
   ],
   "source": [
    "percent_inc = ((total_txns - avg_monthly_transc)/total_txns*100).item()\n",
    "print(f\"There was an {round(percent_inc)}% from the average monthly transaction of {round(avg_monthly_transc.item())}\")"
   ]
  },
  {
   "cell_type": "code",
   "execution_count": 170,
   "id": "mighty-warrior",
   "metadata": {
    "slideshow": {
     "slide_type": "skip"
    }
   },
   "outputs": [
    {
     "data": {
      "text/html": [
       "<div>\n",
       "<style scoped>\n",
       "    .dataframe tbody tr th:only-of-type {\n",
       "        vertical-align: middle;\n",
       "    }\n",
       "\n",
       "    .dataframe tbody tr th {\n",
       "        vertical-align: top;\n",
       "    }\n",
       "\n",
       "    .dataframe thead th {\n",
       "        text-align: right;\n",
       "    }\n",
       "</style>\n",
       "<table border=\"1\" class=\"dataframe\">\n",
       "  <thead>\n",
       "    <tr style=\"text-align: right;\">\n",
       "      <th></th>\n",
       "      <th>no of txns</th>\n",
       "    </tr>\n",
       "    <tr>\n",
       "      <th>acct_no</th>\n",
       "      <th></th>\n",
       "    </tr>\n",
       "  </thead>\n",
       "  <tbody>\n",
       "    <tr>\n",
       "      <th>4203382q</th>\n",
       "      <td>19408</td>\n",
       "    </tr>\n",
       "    <tr>\n",
       "      <th>9850157q</th>\n",
       "      <td>6039</td>\n",
       "    </tr>\n",
       "    <tr>\n",
       "      <th>5843310m</th>\n",
       "      <td>3652</td>\n",
       "    </tr>\n",
       "    <tr>\n",
       "      <th>7502779o</th>\n",
       "      <td>3515</td>\n",
       "    </tr>\n",
       "    <tr>\n",
       "      <th>2029125q</th>\n",
       "      <td>2586</td>\n",
       "    </tr>\n",
       "    <tr>\n",
       "      <th>...</th>\n",
       "      <td>...</td>\n",
       "    </tr>\n",
       "    <tr>\n",
       "      <th>9272875r</th>\n",
       "      <td>1</td>\n",
       "    </tr>\n",
       "    <tr>\n",
       "      <th>7672316n</th>\n",
       "      <td>1</td>\n",
       "    </tr>\n",
       "    <tr>\n",
       "      <th>1968232p</th>\n",
       "      <td>1</td>\n",
       "    </tr>\n",
       "    <tr>\n",
       "      <th>9254760m</th>\n",
       "      <td>1</td>\n",
       "    </tr>\n",
       "    <tr>\n",
       "      <th>5199821s</th>\n",
       "      <td>1</td>\n",
       "    </tr>\n",
       "  </tbody>\n",
       "</table>\n",
       "<p>5861 rows × 1 columns</p>\n",
       "</div>"
      ],
      "text/plain": [
       "          no of txns\n",
       "acct_no             \n",
       "4203382q       19408\n",
       "9850157q        6039\n",
       "5843310m        3652\n",
       "7502779o        3515\n",
       "2029125q        2586\n",
       "...              ...\n",
       "9272875r           1\n",
       "7672316n           1\n",
       "1968232p           1\n",
       "9254760m           1\n",
       "5199821s           1\n",
       "\n",
       "[5861 rows x 1 columns]"
      ]
     },
     "execution_count": 170,
     "metadata": {},
     "output_type": "execute_result"
    }
   ],
   "source": [
    "sept_oct_acct_info_sorted"
   ]
  },
  {
   "cell_type": "code",
   "execution_count": 287,
   "id": "classical-louis",
   "metadata": {
    "slideshow": {
     "slide_type": "skip"
    }
   },
   "outputs": [],
   "source": [
    "sorted_data = sept_oct_acct_info_sorted.iloc[:20]\n"
   ]
  },
  {
   "cell_type": "code",
   "execution_count": 119,
   "id": "tested-banner",
   "metadata": {
    "scrolled": false,
    "slideshow": {
     "slide_type": "slide"
    }
   },
   "outputs": [
    {
     "data": {
      "image/png": "[encoded data removed]",
      "text/plain": [
       "<Figure size 1080x720 with 1 Axes>"
      ]
     },
     "metadata": {},
     "output_type": "display_data"
    }
   ],
   "source": [
    "plt.figure(figsize=(15,10))\n",
    "plt.title('Top 20 Account IDs by Total volume of Transactions  - During the End SARS Protest Period',fontsize=18)\n",
    "sns.set(style=\"darkgrid\")\n",
    "ax = sns.barplot(x=sorted_data['no of txns'], y=sorted_data.index, data=sorted_data)\n",
    "\n",
    "for p in ax.patches:\n",
    "    percentage = f'{round(1000 * p.get_width()/total_txns)}%'\n",
    "    x = p.get_width()\n",
    "    y = p.get_y() + p.get_height() / 2\n",
    "    ax.annotate(percentage, (x+400, y+0.1),ha='center')"
   ]
  },
  {
   "cell_type": "code",
   "execution_count": 22,
   "id": "assigned-election",
   "metadata": {
    "slideshow": {
     "slide_type": "slide"
    }
   },
   "outputs": [
    {
     "data": {
      "image/png": "[encoded data removed]",
      "text/plain": [
       "<Figure size 1440x864 with 1 Axes>"
      ]
     },
     "metadata": {},
     "output_type": "display_data"
    }
   ],
   "source": [
    "#Using matplotlib\n",
    "pie, ax = plt.subplots(figsize=[20,12])\n",
    "labels = sept_oct_acct_info_sorted.index[:13]\n",
    "plt.pie(x=sept_oct_acct_info_sorted['no of txns'][:13], autopct=\"%.1f%%\", explode=[0.05]*13, labels=labels, pctdistance=0.8,textprops={'fontsize': 16})\n",
    "plt.title('Top Account IDs by Total volume of Transactions  - During the End SARS Protest Period', fontsize=18);\n",
    "# pie.savefig(\"DeliveryPieChart.png\")"
   ]
  },
  {
   "cell_type": "markdown",
   "id": "completed-compression",
   "metadata": {
    "slideshow": {
     "slide_type": "slide"
    }
   },
   "source": [
    "# Insight:\n",
    "\n",
    "## 4203382q Account ID made 44% of the transaction volume during this period.\n",
    "\n",
    "## 9850157q Account ID made 14% of the transaction volume during this period.\n",
    "\n",
    "## 5843310m Account ID made 8% of the transaction volume during this period."
   ]
  },
  {
   "cell_type": "markdown",
   "id": "fifteen-digit",
   "metadata": {
    "slideshow": {
     "slide_type": "slide"
    }
   },
   "source": [
    "# Question: What is the distribution of transactions status across weekdays\n",
    "\n",
    "### -- To Discover the trend of transaction status with respect to time (weekdays) and users"
   ]
  },
  {
   "cell_type": "code",
   "execution_count": 172,
   "id": "electronic-database",
   "metadata": {
    "slideshow": {
     "slide_type": "skip"
    }
   },
   "outputs": [],
   "source": [
    "sorted_tranx_data['weekday'] = pd.DatetimeIndex(sorted_tranx_data.Dates).weekday\n",
    "sorted_tranx_data['month'] = pd.DatetimeIndex(sorted_tranx_data.Dates).month\n",
    "sorted_tranx_data['year'] = pd.DatetimeIndex(sorted_tranx_data.Dates).year"
   ]
  },
  {
   "cell_type": "code",
   "execution_count": 173,
   "id": "brazilian-drink",
   "metadata": {
    "slideshow": {
     "slide_type": "skip"
    }
   },
   "outputs": [
    {
     "data": {
      "text/html": [
       "<div>\n",
       "<style scoped>\n",
       "    .dataframe tbody tr th:only-of-type {\n",
       "        vertical-align: middle;\n",
       "    }\n",
       "\n",
       "    .dataframe tbody tr th {\n",
       "        vertical-align: top;\n",
       "    }\n",
       "\n",
       "    .dataframe thead th {\n",
       "        text-align: right;\n",
       "    }\n",
       "</style>\n",
       "<table border=\"1\" class=\"dataframe\">\n",
       "  <thead>\n",
       "    <tr style=\"text-align: right;\">\n",
       "      <th></th>\n",
       "      <th>Dates</th>\n",
       "      <th>txnID</th>\n",
       "      <th>acct_no</th>\n",
       "      <th>status</th>\n",
       "      <th>no of txns</th>\n",
       "      <th>year_month</th>\n",
       "      <th>weekday</th>\n",
       "      <th>month</th>\n",
       "      <th>year</th>\n",
       "    </tr>\n",
       "  </thead>\n",
       "  <tbody>\n",
       "    <tr>\n",
       "      <th>262731</th>\n",
       "      <td>2019-05-28</td>\n",
       "      <td>262731.0</td>\n",
       "      <td>5558818j</td>\n",
       "      <td>successful</td>\n",
       "      <td>4</td>\n",
       "      <td>2019-05</td>\n",
       "      <td>1</td>\n",
       "      <td>5</td>\n",
       "      <td>2019</td>\n",
       "    </tr>\n",
       "    <tr>\n",
       "      <th>148783</th>\n",
       "      <td>2019-05-29</td>\n",
       "      <td>148783.0</td>\n",
       "      <td>3565135m</td>\n",
       "      <td>successful</td>\n",
       "      <td>1</td>\n",
       "      <td>2019-05</td>\n",
       "      <td>2</td>\n",
       "      <td>5</td>\n",
       "      <td>2019</td>\n",
       "    </tr>\n",
       "    <tr>\n",
       "      <th>63862</th>\n",
       "      <td>2019-05-28</td>\n",
       "      <td>63862.0</td>\n",
       "      <td>2076288n</td>\n",
       "      <td>successful</td>\n",
       "      <td>1</td>\n",
       "      <td>2019-05</td>\n",
       "      <td>1</td>\n",
       "      <td>5</td>\n",
       "      <td>2019</td>\n",
       "    </tr>\n",
       "    <tr>\n",
       "      <th>63863</th>\n",
       "      <td>2019-05-29</td>\n",
       "      <td>63863.0</td>\n",
       "      <td>2076288n</td>\n",
       "      <td>successful</td>\n",
       "      <td>2</td>\n",
       "      <td>2019-05</td>\n",
       "      <td>2</td>\n",
       "      <td>5</td>\n",
       "      <td>2019</td>\n",
       "    </tr>\n",
       "    <tr>\n",
       "      <th>63864</th>\n",
       "      <td>2019-05-30</td>\n",
       "      <td>63864.0</td>\n",
       "      <td>2076288n</td>\n",
       "      <td>successful</td>\n",
       "      <td>3</td>\n",
       "      <td>2019-05</td>\n",
       "      <td>3</td>\n",
       "      <td>5</td>\n",
       "      <td>2019</td>\n",
       "    </tr>\n",
       "    <tr>\n",
       "      <th>...</th>\n",
       "      <td>...</td>\n",
       "      <td>...</td>\n",
       "      <td>...</td>\n",
       "      <td>...</td>\n",
       "      <td>...</td>\n",
       "      <td>...</td>\n",
       "      <td>...</td>\n",
       "      <td>...</td>\n",
       "      <td>...</td>\n",
       "    </tr>\n",
       "    <tr>\n",
       "      <th>182284</th>\n",
       "      <td>2020-11-01</td>\n",
       "      <td>182284.0</td>\n",
       "      <td>4120306p</td>\n",
       "      <td>successful</td>\n",
       "      <td>1</td>\n",
       "      <td>2020-11</td>\n",
       "      <td>6</td>\n",
       "      <td>11</td>\n",
       "      <td>2020</td>\n",
       "    </tr>\n",
       "    <tr>\n",
       "      <th>182285</th>\n",
       "      <td>2020-11-02</td>\n",
       "      <td>182285.0</td>\n",
       "      <td>4120306p</td>\n",
       "      <td>successful</td>\n",
       "      <td>1</td>\n",
       "      <td>2020-11</td>\n",
       "      <td>0</td>\n",
       "      <td>11</td>\n",
       "      <td>2020</td>\n",
       "    </tr>\n",
       "    <tr>\n",
       "      <th>182286</th>\n",
       "      <td>2020-11-03</td>\n",
       "      <td>182286.0</td>\n",
       "      <td>4120306p</td>\n",
       "      <td>successful</td>\n",
       "      <td>1</td>\n",
       "      <td>2020-11</td>\n",
       "      <td>1</td>\n",
       "      <td>11</td>\n",
       "      <td>2020</td>\n",
       "    </tr>\n",
       "    <tr>\n",
       "      <th>255963</th>\n",
       "      <td>2020-11-04</td>\n",
       "      <td>255963.0</td>\n",
       "      <td>5420849l</td>\n",
       "      <td>successful</td>\n",
       "      <td>2</td>\n",
       "      <td>2020-11</td>\n",
       "      <td>2</td>\n",
       "      <td>11</td>\n",
       "      <td>2020</td>\n",
       "    </tr>\n",
       "    <tr>\n",
       "      <th>445498</th>\n",
       "      <td>2020-11-04</td>\n",
       "      <td>445498.0</td>\n",
       "      <td>8755005r</td>\n",
       "      <td>successful</td>\n",
       "      <td>1</td>\n",
       "      <td>2020-11</td>\n",
       "      <td>2</td>\n",
       "      <td>11</td>\n",
       "      <td>2020</td>\n",
       "    </tr>\n",
       "  </tbody>\n",
       "</table>\n",
       "<p>513247 rows × 9 columns</p>\n",
       "</div>"
      ],
      "text/plain": [
       "            Dates     txnID   acct_no      status  no of txns year_month  \\\n",
       "262731 2019-05-28  262731.0  5558818j  successful           4    2019-05   \n",
       "148783 2019-05-29  148783.0  3565135m  successful           1    2019-05   \n",
       "63862  2019-05-28   63862.0  2076288n  successful           1    2019-05   \n",
       "63863  2019-05-29   63863.0  2076288n  successful           2    2019-05   \n",
       "63864  2019-05-30   63864.0  2076288n  successful           3    2019-05   \n",
       "...           ...       ...       ...         ...         ...        ...   \n",
       "182284 2020-11-01  182284.0  4120306p  successful           1    2020-11   \n",
       "182285 2020-11-02  182285.0  4120306p  successful           1    2020-11   \n",
       "182286 2020-11-03  182286.0  4120306p  successful           1    2020-11   \n",
       "255963 2020-11-04  255963.0  5420849l  successful           2    2020-11   \n",
       "445498 2020-11-04  445498.0  8755005r  successful           1    2020-11   \n",
       "\n",
       "        weekday  month  year  \n",
       "262731        1      5  2019  \n",
       "148783        2      5  2019  \n",
       "63862         1      5  2019  \n",
       "63863         2      5  2019  \n",
       "63864         3      5  2019  \n",
       "...         ...    ...   ...  \n",
       "182284        6     11  2020  \n",
       "182285        0     11  2020  \n",
       "182286        1     11  2020  \n",
       "255963        2     11  2020  \n",
       "445498        2     11  2020  \n",
       "\n",
       "[513247 rows x 9 columns]"
      ]
     },
     "execution_count": 173,
     "metadata": {},
     "output_type": "execute_result"
    }
   ],
   "source": [
    "sorted_tranx_data"
   ]
  },
  {
   "cell_type": "code",
   "execution_count": 174,
   "id": "skilled-structure",
   "metadata": {
    "slideshow": {
     "slide_type": "skip"
    }
   },
   "outputs": [],
   "source": [
    "weekday_tranx = sorted_tranx_data.drop(columns=['year', 'month', 'year_month', 'acct_no','Dates', 'txnID'])"
   ]
  },
  {
   "cell_type": "code",
   "execution_count": 175,
   "id": "verified-suspect",
   "metadata": {
    "slideshow": {
     "slide_type": "skip"
    }
   },
   "outputs": [
    {
     "data": {
      "text/html": [
       "<div>\n",
       "<style scoped>\n",
       "    .dataframe tbody tr th:only-of-type {\n",
       "        vertical-align: middle;\n",
       "    }\n",
       "\n",
       "    .dataframe tbody tr th {\n",
       "        vertical-align: top;\n",
       "    }\n",
       "\n",
       "    .dataframe thead th {\n",
       "        text-align: right;\n",
       "    }\n",
       "</style>\n",
       "<table border=\"1\" class=\"dataframe\">\n",
       "  <thead>\n",
       "    <tr style=\"text-align: right;\">\n",
       "      <th></th>\n",
       "      <th>status</th>\n",
       "      <th>no of txns</th>\n",
       "      <th>weekday</th>\n",
       "    </tr>\n",
       "  </thead>\n",
       "  <tbody>\n",
       "    <tr>\n",
       "      <th>262731</th>\n",
       "      <td>successful</td>\n",
       "      <td>4</td>\n",
       "      <td>1</td>\n",
       "    </tr>\n",
       "    <tr>\n",
       "      <th>148783</th>\n",
       "      <td>successful</td>\n",
       "      <td>1</td>\n",
       "      <td>2</td>\n",
       "    </tr>\n",
       "    <tr>\n",
       "      <th>63862</th>\n",
       "      <td>successful</td>\n",
       "      <td>1</td>\n",
       "      <td>1</td>\n",
       "    </tr>\n",
       "    <tr>\n",
       "      <th>63863</th>\n",
       "      <td>successful</td>\n",
       "      <td>2</td>\n",
       "      <td>2</td>\n",
       "    </tr>\n",
       "    <tr>\n",
       "      <th>63864</th>\n",
       "      <td>successful</td>\n",
       "      <td>3</td>\n",
       "      <td>3</td>\n",
       "    </tr>\n",
       "    <tr>\n",
       "      <th>...</th>\n",
       "      <td>...</td>\n",
       "      <td>...</td>\n",
       "      <td>...</td>\n",
       "    </tr>\n",
       "    <tr>\n",
       "      <th>182284</th>\n",
       "      <td>successful</td>\n",
       "      <td>1</td>\n",
       "      <td>6</td>\n",
       "    </tr>\n",
       "    <tr>\n",
       "      <th>182285</th>\n",
       "      <td>successful</td>\n",
       "      <td>1</td>\n",
       "      <td>0</td>\n",
       "    </tr>\n",
       "    <tr>\n",
       "      <th>182286</th>\n",
       "      <td>successful</td>\n",
       "      <td>1</td>\n",
       "      <td>1</td>\n",
       "    </tr>\n",
       "    <tr>\n",
       "      <th>255963</th>\n",
       "      <td>successful</td>\n",
       "      <td>2</td>\n",
       "      <td>2</td>\n",
       "    </tr>\n",
       "    <tr>\n",
       "      <th>445498</th>\n",
       "      <td>successful</td>\n",
       "      <td>1</td>\n",
       "      <td>2</td>\n",
       "    </tr>\n",
       "  </tbody>\n",
       "</table>\n",
       "<p>513247 rows × 3 columns</p>\n",
       "</div>"
      ],
      "text/plain": [
       "            status  no of txns  weekday\n",
       "262731  successful           4        1\n",
       "148783  successful           1        2\n",
       "63862   successful           1        1\n",
       "63863   successful           2        2\n",
       "63864   successful           3        3\n",
       "...            ...         ...      ...\n",
       "182284  successful           1        6\n",
       "182285  successful           1        0\n",
       "182286  successful           1        1\n",
       "255963  successful           2        2\n",
       "445498  successful           1        2\n",
       "\n",
       "[513247 rows x 3 columns]"
      ]
     },
     "execution_count": 175,
     "metadata": {},
     "output_type": "execute_result"
    }
   ],
   "source": [
    "weekday_tranx"
   ]
  },
  {
   "cell_type": "code",
   "execution_count": 177,
   "id": "eight-wrong",
   "metadata": {
    "slideshow": {
     "slide_type": "skip"
    }
   },
   "outputs": [],
   "source": [
    "weekday_tranx_pivot = pd.pivot_table(weekday_tranx, index=['weekday'], columns=['status'], values=['no of txns'], aggfunc='sum')"
   ]
  },
  {
   "cell_type": "code",
   "execution_count": 176,
   "id": "valued-prophet",
   "metadata": {
    "slideshow": {
     "slide_type": "fragment"
    }
   },
   "outputs": [
    {
     "data": {
      "text/html": [
       "<div>\n",
       "<style scoped>\n",
       "    .dataframe tbody tr th:only-of-type {\n",
       "        vertical-align: middle;\n",
       "    }\n",
       "\n",
       "    .dataframe tbody tr th {\n",
       "        vertical-align: top;\n",
       "    }\n",
       "\n",
       "    .dataframe thead tr th {\n",
       "        text-align: left;\n",
       "    }\n",
       "\n",
       "    .dataframe thead tr:last-of-type th {\n",
       "        text-align: right;\n",
       "    }\n",
       "</style>\n",
       "<table border=\"1\" class=\"dataframe\">\n",
       "  <thead>\n",
       "    <tr>\n",
       "      <th></th>\n",
       "      <th colspan=\"6\" halign=\"left\">no of txns</th>\n",
       "    </tr>\n",
       "    <tr>\n",
       "      <th>status</th>\n",
       "      <th>debited</th>\n",
       "      <th>declined</th>\n",
       "      <th>failed</th>\n",
       "      <th>initialized</th>\n",
       "      <th>pending</th>\n",
       "      <th>successful</th>\n",
       "    </tr>\n",
       "    <tr>\n",
       "      <th>weekday</th>\n",
       "      <th></th>\n",
       "      <th></th>\n",
       "      <th></th>\n",
       "      <th></th>\n",
       "      <th></th>\n",
       "      <th></th>\n",
       "    </tr>\n",
       "  </thead>\n",
       "  <tbody>\n",
       "    <tr>\n",
       "      <th>0</th>\n",
       "      <td>3.0</td>\n",
       "      <td>2250.0</td>\n",
       "      <td>9155.0</td>\n",
       "      <td>357.0</td>\n",
       "      <td>37.0</td>\n",
       "      <td>192643.0</td>\n",
       "    </tr>\n",
       "    <tr>\n",
       "      <th>1</th>\n",
       "      <td>21.0</td>\n",
       "      <td>1610.0</td>\n",
       "      <td>7556.0</td>\n",
       "      <td>274.0</td>\n",
       "      <td>13.0</td>\n",
       "      <td>183564.0</td>\n",
       "    </tr>\n",
       "    <tr>\n",
       "      <th>2</th>\n",
       "      <td>9.0</td>\n",
       "      <td>2205.0</td>\n",
       "      <td>7198.0</td>\n",
       "      <td>257.0</td>\n",
       "      <td>7.0</td>\n",
       "      <td>181411.0</td>\n",
       "    </tr>\n",
       "    <tr>\n",
       "      <th>3</th>\n",
       "      <td>NaN</td>\n",
       "      <td>2013.0</td>\n",
       "      <td>6288.0</td>\n",
       "      <td>271.0</td>\n",
       "      <td>7.0</td>\n",
       "      <td>183198.0</td>\n",
       "    </tr>\n",
       "    <tr>\n",
       "      <th>4</th>\n",
       "      <td>3.0</td>\n",
       "      <td>1714.0</td>\n",
       "      <td>5512.0</td>\n",
       "      <td>151.0</td>\n",
       "      <td>NaN</td>\n",
       "      <td>172988.0</td>\n",
       "    </tr>\n",
       "    <tr>\n",
       "      <th>5</th>\n",
       "      <td>1.0</td>\n",
       "      <td>1725.0</td>\n",
       "      <td>6321.0</td>\n",
       "      <td>117.0</td>\n",
       "      <td>1.0</td>\n",
       "      <td>172456.0</td>\n",
       "    </tr>\n",
       "    <tr>\n",
       "      <th>6</th>\n",
       "      <td>NaN</td>\n",
       "      <td>1574.0</td>\n",
       "      <td>4209.0</td>\n",
       "      <td>39.0</td>\n",
       "      <td>NaN</td>\n",
       "      <td>90271.0</td>\n",
       "    </tr>\n",
       "  </tbody>\n",
       "</table>\n",
       "</div>"
      ],
      "text/plain": [
       "        no of txns                                                \n",
       "status     debited declined  failed initialized pending successful\n",
       "weekday                                                           \n",
       "0              3.0   2250.0  9155.0       357.0    37.0   192643.0\n",
       "1             21.0   1610.0  7556.0       274.0    13.0   183564.0\n",
       "2              9.0   2205.0  7198.0       257.0     7.0   181411.0\n",
       "3              NaN   2013.0  6288.0       271.0     7.0   183198.0\n",
       "4              3.0   1714.0  5512.0       151.0     NaN   172988.0\n",
       "5              1.0   1725.0  6321.0       117.0     1.0   172456.0\n",
       "6              NaN   1574.0  4209.0        39.0     NaN    90271.0"
      ]
     },
     "execution_count": 176,
     "metadata": {},
     "output_type": "execute_result"
    }
   ],
   "source": [
    "weekday_tranx_pivot"
   ]
  },
  {
   "cell_type": "code",
   "execution_count": 54,
   "id": "comparable-republican",
   "metadata": {
    "slideshow": {
     "slide_type": "slide"
    }
   },
   "outputs": [
    {
     "data": {
      "image/png": "[encoded data removed]",
      "text/plain": [
       "<Figure size 1152x576 with 1 Axes>"
      ]
     },
     "metadata": {},
     "output_type": "display_data"
    }
   ],
   "source": [
    "# Plot of the Volume of Transactions across the one and half years in Nigeria\n",
    "\n",
    "# plt.figure(figsize=(16,8))\n",
    "# plt.title('Total Transaction volume - Monthly', fontsize=20)\n",
    "ax = weekday_tranx_pivot.plot(xticks=weekday_tranx_pivot.index, figsize=(16,8) )\n",
    "ylab = ax.set_ylabel('no of txns')"
   ]
  },
  {
   "cell_type": "markdown",
   "id": "julian-modern",
   "metadata": {
    "slideshow": {
     "slide_type": "slide"
    }
   },
   "source": [
    "# Insight:\n",
    "\n",
    "## There is a significant drop in successful transactions on Sundays compared to other days.\n",
    "\n",
    "## All other transaction status maintain near uniform volume through out the weekdays"
   ]
  },
  {
   "cell_type": "markdown",
   "id": "stuck-theme",
   "metadata": {
    "slideshow": {
     "slide_type": "slide"
    }
   },
   "source": [
    "# Question: How does transaction volume vary with weekdays ? \n",
    "\n",
    "### NB: September 2020 and October 2020 was exluded ( In other to show an unbiased user behaviour)"
   ]
  },
  {
   "cell_type": "code",
   "execution_count": 189,
   "id": "under-anime",
   "metadata": {
    "slideshow": {
     "slide_type": "skip"
    }
   },
   "outputs": [],
   "source": [
    "tranx_data_1 = tranx_data[tranx_data.year_month != '2020-09']\n",
    "non_protest_tranx_data =  tranx_data_1[tranx_data_1.year_month != '2020-10']"
   ]
  },
  {
   "cell_type": "code",
   "execution_count": 190,
   "id": "capital-liver",
   "metadata": {
    "slideshow": {
     "slide_type": "skip"
    }
   },
   "outputs": [
    {
     "data": {
      "text/html": [
       "<div>\n",
       "<style scoped>\n",
       "    .dataframe tbody tr th:only-of-type {\n",
       "        vertical-align: middle;\n",
       "    }\n",
       "\n",
       "    .dataframe tbody tr th {\n",
       "        vertical-align: top;\n",
       "    }\n",
       "\n",
       "    .dataframe thead th {\n",
       "        text-align: right;\n",
       "    }\n",
       "</style>\n",
       "<table border=\"1\" class=\"dataframe\">\n",
       "  <thead>\n",
       "    <tr style=\"text-align: right;\">\n",
       "      <th></th>\n",
       "      <th>Dates</th>\n",
       "      <th>txnID</th>\n",
       "      <th>acct_no</th>\n",
       "      <th>status</th>\n",
       "      <th>no of txns</th>\n",
       "      <th>year_month</th>\n",
       "    </tr>\n",
       "  </thead>\n",
       "  <tbody>\n",
       "    <tr>\n",
       "      <th>0</th>\n",
       "      <td>2019-10-29</td>\n",
       "      <td>0.0</td>\n",
       "      <td>1001192k</td>\n",
       "      <td>successful</td>\n",
       "      <td>1</td>\n",
       "      <td>2019-10</td>\n",
       "    </tr>\n",
       "    <tr>\n",
       "      <th>1</th>\n",
       "      <td>2019-11-12</td>\n",
       "      <td>1.0</td>\n",
       "      <td>1001192k</td>\n",
       "      <td>failed</td>\n",
       "      <td>2</td>\n",
       "      <td>2019-11</td>\n",
       "    </tr>\n",
       "    <tr>\n",
       "      <th>2</th>\n",
       "      <td>2019-11-18</td>\n",
       "      <td>2.0</td>\n",
       "      <td>1001192k</td>\n",
       "      <td>failed</td>\n",
       "      <td>1</td>\n",
       "      <td>2019-11</td>\n",
       "    </tr>\n",
       "    <tr>\n",
       "      <th>3</th>\n",
       "      <td>2019-11-27</td>\n",
       "      <td>3.0</td>\n",
       "      <td>1001192k</td>\n",
       "      <td>successful</td>\n",
       "      <td>1</td>\n",
       "      <td>2019-11</td>\n",
       "    </tr>\n",
       "    <tr>\n",
       "      <th>4</th>\n",
       "      <td>2019-12-08</td>\n",
       "      <td>4.0</td>\n",
       "      <td>1001192k</td>\n",
       "      <td>failed</td>\n",
       "      <td>1</td>\n",
       "      <td>2019-12</td>\n",
       "    </tr>\n",
       "    <tr>\n",
       "      <th>...</th>\n",
       "      <td>...</td>\n",
       "      <td>...</td>\n",
       "      <td>...</td>\n",
       "      <td>...</td>\n",
       "      <td>...</td>\n",
       "      <td>...</td>\n",
       "    </tr>\n",
       "    <tr>\n",
       "      <th>513224</th>\n",
       "      <td>2020-07-20</td>\n",
       "      <td>513224.0</td>\n",
       "      <td>9999437n</td>\n",
       "      <td>successful</td>\n",
       "      <td>1</td>\n",
       "      <td>2020-07</td>\n",
       "    </tr>\n",
       "    <tr>\n",
       "      <th>513225</th>\n",
       "      <td>2020-07-26</td>\n",
       "      <td>513225.0</td>\n",
       "      <td>9999437n</td>\n",
       "      <td>declined</td>\n",
       "      <td>1</td>\n",
       "      <td>2020-07</td>\n",
       "    </tr>\n",
       "    <tr>\n",
       "      <th>513226</th>\n",
       "      <td>2020-07-26</td>\n",
       "      <td>513226.0</td>\n",
       "      <td>9999437n</td>\n",
       "      <td>successful</td>\n",
       "      <td>2</td>\n",
       "      <td>2020-07</td>\n",
       "    </tr>\n",
       "    <tr>\n",
       "      <th>513227</th>\n",
       "      <td>2020-08-03</td>\n",
       "      <td>513227.0</td>\n",
       "      <td>9999437n</td>\n",
       "      <td>successful</td>\n",
       "      <td>1</td>\n",
       "      <td>2020-08</td>\n",
       "    </tr>\n",
       "    <tr>\n",
       "      <th>513228</th>\n",
       "      <td>2020-08-31</td>\n",
       "      <td>513228.0</td>\n",
       "      <td>9999437n</td>\n",
       "      <td>successful</td>\n",
       "      <td>2</td>\n",
       "      <td>2020-08</td>\n",
       "    </tr>\n",
       "  </tbody>\n",
       "</table>\n",
       "<p>362680 rows × 6 columns</p>\n",
       "</div>"
      ],
      "text/plain": [
       "            Dates     txnID   acct_no      status  no of txns year_month\n",
       "0      2019-10-29       0.0  1001192k  successful           1    2019-10\n",
       "1      2019-11-12       1.0  1001192k      failed           2    2019-11\n",
       "2      2019-11-18       2.0  1001192k      failed           1    2019-11\n",
       "3      2019-11-27       3.0  1001192k  successful           1    2019-11\n",
       "4      2019-12-08       4.0  1001192k      failed           1    2019-12\n",
       "...           ...       ...       ...         ...         ...        ...\n",
       "513224 2020-07-20  513224.0  9999437n  successful           1    2020-07\n",
       "513225 2020-07-26  513225.0  9999437n    declined           1    2020-07\n",
       "513226 2020-07-26  513226.0  9999437n  successful           2    2020-07\n",
       "513227 2020-08-03  513227.0  9999437n  successful           1    2020-08\n",
       "513228 2020-08-31  513228.0  9999437n  successful           2    2020-08\n",
       "\n",
       "[362680 rows x 6 columns]"
      ]
     },
     "execution_count": 190,
     "metadata": {},
     "output_type": "execute_result"
    }
   ],
   "source": [
    "non_protest_tranx_data"
   ]
  },
  {
   "cell_type": "code",
   "execution_count": 220,
   "id": "numeric-halifax",
   "metadata": {
    "slideshow": {
     "slide_type": "skip"
    }
   },
   "outputs": [
    {
     "name": "stderr",
     "output_type": "stream",
     "text": [
      "<ipython-input-220-56c84f5e2ffe>:1: SettingWithCopyWarning: \n",
      "A value is trying to be set on a copy of a slice from a DataFrame.\n",
      "Try using .loc[row_indexer,col_indexer] = value instead\n",
      "\n",
      "See the caveats in the documentation: https://pandas.pydata.org/pandas-docs/stable/user_guide/indexing.html#returning-a-view-versus-a-copy\n",
      "  non_protest_tranx_data['weekday'] = pd.DatetimeIndex(non_protest_tranx_data.Dates).weekday\n"
     ]
    }
   ],
   "source": [
    "non_protest_tranx_data['weekday'] = pd.DatetimeIndex(non_protest_tranx_data.Dates).weekday"
   ]
  },
  {
   "cell_type": "code",
   "execution_count": 226,
   "id": "chicken-saver",
   "metadata": {
    "slideshow": {
     "slide_type": "fragment"
    }
   },
   "outputs": [
    {
     "data": {
      "text/html": [
       "<div>\n",
       "<style scoped>\n",
       "    .dataframe tbody tr th:only-of-type {\n",
       "        vertical-align: middle;\n",
       "    }\n",
       "\n",
       "    .dataframe tbody tr th {\n",
       "        vertical-align: top;\n",
       "    }\n",
       "\n",
       "    .dataframe thead th {\n",
       "        text-align: right;\n",
       "    }\n",
       "</style>\n",
       "<table border=\"1\" class=\"dataframe\">\n",
       "  <thead>\n",
       "    <tr style=\"text-align: right;\">\n",
       "      <th></th>\n",
       "      <th>Dates</th>\n",
       "      <th>txnID</th>\n",
       "      <th>acct_no</th>\n",
       "      <th>status</th>\n",
       "      <th>no of txns</th>\n",
       "      <th>year_month</th>\n",
       "      <th>weekday</th>\n",
       "    </tr>\n",
       "  </thead>\n",
       "  <tbody>\n",
       "    <tr>\n",
       "      <th>0</th>\n",
       "      <td>2019-10-29</td>\n",
       "      <td>0.0</td>\n",
       "      <td>1001192k</td>\n",
       "      <td>successful</td>\n",
       "      <td>1</td>\n",
       "      <td>2019-10</td>\n",
       "      <td>1</td>\n",
       "    </tr>\n",
       "    <tr>\n",
       "      <th>1</th>\n",
       "      <td>2019-11-12</td>\n",
       "      <td>1.0</td>\n",
       "      <td>1001192k</td>\n",
       "      <td>failed</td>\n",
       "      <td>2</td>\n",
       "      <td>2019-11</td>\n",
       "      <td>1</td>\n",
       "    </tr>\n",
       "    <tr>\n",
       "      <th>2</th>\n",
       "      <td>2019-11-18</td>\n",
       "      <td>2.0</td>\n",
       "      <td>1001192k</td>\n",
       "      <td>failed</td>\n",
       "      <td>1</td>\n",
       "      <td>2019-11</td>\n",
       "      <td>0</td>\n",
       "    </tr>\n",
       "    <tr>\n",
       "      <th>3</th>\n",
       "      <td>2019-11-27</td>\n",
       "      <td>3.0</td>\n",
       "      <td>1001192k</td>\n",
       "      <td>successful</td>\n",
       "      <td>1</td>\n",
       "      <td>2019-11</td>\n",
       "      <td>2</td>\n",
       "    </tr>\n",
       "    <tr>\n",
       "      <th>4</th>\n",
       "      <td>2019-12-08</td>\n",
       "      <td>4.0</td>\n",
       "      <td>1001192k</td>\n",
       "      <td>failed</td>\n",
       "      <td>1</td>\n",
       "      <td>2019-12</td>\n",
       "      <td>6</td>\n",
       "    </tr>\n",
       "    <tr>\n",
       "      <th>...</th>\n",
       "      <td>...</td>\n",
       "      <td>...</td>\n",
       "      <td>...</td>\n",
       "      <td>...</td>\n",
       "      <td>...</td>\n",
       "      <td>...</td>\n",
       "      <td>...</td>\n",
       "    </tr>\n",
       "    <tr>\n",
       "      <th>513224</th>\n",
       "      <td>2020-07-20</td>\n",
       "      <td>513224.0</td>\n",
       "      <td>9999437n</td>\n",
       "      <td>successful</td>\n",
       "      <td>1</td>\n",
       "      <td>2020-07</td>\n",
       "      <td>0</td>\n",
       "    </tr>\n",
       "    <tr>\n",
       "      <th>513225</th>\n",
       "      <td>2020-07-26</td>\n",
       "      <td>513225.0</td>\n",
       "      <td>9999437n</td>\n",
       "      <td>declined</td>\n",
       "      <td>1</td>\n",
       "      <td>2020-07</td>\n",
       "      <td>6</td>\n",
       "    </tr>\n",
       "    <tr>\n",
       "      <th>513226</th>\n",
       "      <td>2020-07-26</td>\n",
       "      <td>513226.0</td>\n",
       "      <td>9999437n</td>\n",
       "      <td>successful</td>\n",
       "      <td>2</td>\n",
       "      <td>2020-07</td>\n",
       "      <td>6</td>\n",
       "    </tr>\n",
       "    <tr>\n",
       "      <th>513227</th>\n",
       "      <td>2020-08-03</td>\n",
       "      <td>513227.0</td>\n",
       "      <td>9999437n</td>\n",
       "      <td>successful</td>\n",
       "      <td>1</td>\n",
       "      <td>2020-08</td>\n",
       "      <td>0</td>\n",
       "    </tr>\n",
       "    <tr>\n",
       "      <th>513228</th>\n",
       "      <td>2020-08-31</td>\n",
       "      <td>513228.0</td>\n",
       "      <td>9999437n</td>\n",
       "      <td>successful</td>\n",
       "      <td>2</td>\n",
       "      <td>2020-08</td>\n",
       "      <td>0</td>\n",
       "    </tr>\n",
       "  </tbody>\n",
       "</table>\n",
       "<p>362680 rows × 7 columns</p>\n",
       "</div>"
      ],
      "text/plain": [
       "            Dates     txnID   acct_no      status  no of txns year_month  \\\n",
       "0      2019-10-29       0.0  1001192k  successful           1    2019-10   \n",
       "1      2019-11-12       1.0  1001192k      failed           2    2019-11   \n",
       "2      2019-11-18       2.0  1001192k      failed           1    2019-11   \n",
       "3      2019-11-27       3.0  1001192k  successful           1    2019-11   \n",
       "4      2019-12-08       4.0  1001192k      failed           1    2019-12   \n",
       "...           ...       ...       ...         ...         ...        ...   \n",
       "513224 2020-07-20  513224.0  9999437n  successful           1    2020-07   \n",
       "513225 2020-07-26  513225.0  9999437n    declined           1    2020-07   \n",
       "513226 2020-07-26  513226.0  9999437n  successful           2    2020-07   \n",
       "513227 2020-08-03  513227.0  9999437n  successful           1    2020-08   \n",
       "513228 2020-08-31  513228.0  9999437n  successful           2    2020-08   \n",
       "\n",
       "        weekday  \n",
       "0             1  \n",
       "1             1  \n",
       "2             0  \n",
       "3             2  \n",
       "4             6  \n",
       "...         ...  \n",
       "513224        0  \n",
       "513225        6  \n",
       "513226        6  \n",
       "513227        0  \n",
       "513228        0  \n",
       "\n",
       "[362680 rows x 7 columns]"
      ]
     },
     "execution_count": 226,
     "metadata": {},
     "output_type": "execute_result"
    }
   ],
   "source": [
    "\n",
    "non_protest_tranx_data"
   ]
  },
  {
   "cell_type": "code",
   "execution_count": 227,
   "id": "extraordinary-monitoring",
   "metadata": {
    "slideshow": {
     "slide_type": "skip"
    }
   },
   "outputs": [],
   "source": [
    "weekday_metrics = non_protest_tranx_data.drop(columns=['txnID']).groupby(['weekday']).sum()"
   ]
  },
  {
   "cell_type": "code",
   "execution_count": 257,
   "id": "treated-adult",
   "metadata": {
    "slideshow": {
     "slide_type": "slide"
    }
   },
   "outputs": [
    {
     "data": {
      "image/png": "[encoded data removed]",
      "text/plain": [
       "<Figure size 1152x576 with 1 Axes>"
      ]
     },
     "metadata": {},
     "output_type": "display_data"
    }
   ],
   "source": [
    "# Plot of the Volume of Transactions across the one and half years in Nigeria\n",
    "\n",
    "plt.figure(figsize=(16,8))\n",
    "plt.title('Daily - Distribution of Total transaction volume', fontsize=20)\n",
    "sns.set(style=\"darkgrid\")\n",
    "ax = sns.barplot(x=weekday_metrics.index, y=weekday_metrics['no of txns'], data=weekday_metrics)\n",
    "\n",
    "for rect in ax.patches:\n",
    "    no_of_trnx = f'{round(rect.get_height())}'\n",
    "    x = rect.get_x() + rect.get_width()/2\n",
    "    y = rect.get_height()\n",
    "    ax.annotate(no_of_trnx, (x, y),ha='center', fontsize=16)"
   ]
  },
  {
   "cell_type": "code",
   "execution_count": 228,
   "id": "historic-skill",
   "metadata": {
    "slideshow": {
     "slide_type": "skip"
    }
   },
   "outputs": [
    {
     "data": {
      "text/html": [
       "<div>\n",
       "<style scoped>\n",
       "    .dataframe tbody tr th:only-of-type {\n",
       "        vertical-align: middle;\n",
       "    }\n",
       "\n",
       "    .dataframe tbody tr th {\n",
       "        vertical-align: top;\n",
       "    }\n",
       "\n",
       "    .dataframe thead th {\n",
       "        text-align: right;\n",
       "    }\n",
       "</style>\n",
       "<table border=\"1\" class=\"dataframe\">\n",
       "  <thead>\n",
       "    <tr style=\"text-align: right;\">\n",
       "      <th></th>\n",
       "      <th>no of txns</th>\n",
       "    </tr>\n",
       "    <tr>\n",
       "      <th>weekday</th>\n",
       "      <th></th>\n",
       "    </tr>\n",
       "  </thead>\n",
       "  <tbody>\n",
       "    <tr>\n",
       "      <th>0</th>\n",
       "      <td>138300</td>\n",
       "    </tr>\n",
       "    <tr>\n",
       "      <th>1</th>\n",
       "      <td>123152</td>\n",
       "    </tr>\n",
       "    <tr>\n",
       "      <th>2</th>\n",
       "      <td>124476</td>\n",
       "    </tr>\n",
       "    <tr>\n",
       "      <th>3</th>\n",
       "      <td>122426</td>\n",
       "    </tr>\n",
       "    <tr>\n",
       "      <th>4</th>\n",
       "      <td>115068</td>\n",
       "    </tr>\n",
       "    <tr>\n",
       "      <th>5</th>\n",
       "      <td>111226</td>\n",
       "    </tr>\n",
       "    <tr>\n",
       "      <th>6</th>\n",
       "      <td>61606</td>\n",
       "    </tr>\n",
       "  </tbody>\n",
       "</table>\n",
       "</div>"
      ],
      "text/plain": [
       "         no of txns\n",
       "weekday            \n",
       "0            138300\n",
       "1            123152\n",
       "2            124476\n",
       "3            122426\n",
       "4            115068\n",
       "5            111226\n",
       "6             61606"
      ]
     },
     "execution_count": 228,
     "metadata": {},
     "output_type": "execute_result"
    }
   ],
   "source": [
    "weekday_metrics"
   ]
  },
  {
   "cell_type": "markdown",
   "id": "limited-brass",
   "metadata": {
    "slideshow": {
     "slide_type": "slide"
    }
   },
   "source": [
    "# Insight:\n",
    "\n",
    "## There is a drop in Transaction volume on sundays against other weekdays."
   ]
  },
  {
   "cell_type": "code",
   "execution_count": 242,
   "id": "fewer-injection",
   "metadata": {
    "slideshow": {
     "slide_type": "skip"
    }
   },
   "outputs": [
    {
     "name": "stdout",
     "output_type": "stream",
     "text": [
      "Average daily tramsaction Volume is 113751 transactions\n",
      "Subday tramsaction Volume is 61606 transactions\n"
     ]
    }
   ],
   "source": [
    "avg_daily_trans = weekday_metrics.mean()\n",
    "print(f\"Average daily tramsaction Volume is {round(avg_daily_trans.item())} transactions\")\n",
    "print(f\"Subday tramsaction Volume is {round(weekday_metrics.loc[6].item())} transactions\")"
   ]
  },
  {
   "cell_type": "markdown",
   "id": "illegal-spotlight",
   "metadata": {
    "slideshow": {
     "slide_type": "slide"
    }
   },
   "source": [
    "# Question: What triggers Failed transactions on certain times of the year"
   ]
  },
  {
   "cell_type": "code",
   "execution_count": 260,
   "id": "married-scratch",
   "metadata": {
    "slideshow": {
     "slide_type": "skip"
    }
   },
   "outputs": [],
   "source": [
    "sorted_daily_tranx_data = tranx_data.sort_values(by='Dates' , ascending=True)"
   ]
  },
  {
   "cell_type": "code",
   "execution_count": 279,
   "id": "distributed-crest",
   "metadata": {
    "slideshow": {
     "slide_type": "skip"
    }
   },
   "outputs": [],
   "source": [
    "failed_txn_data = sorted_daily_tranx_data[sorted_daily_tranx_data.status == 'failed']"
   ]
  },
  {
   "cell_type": "code",
   "execution_count": 263,
   "id": "marine-edward",
   "metadata": {
    "slideshow": {
     "slide_type": "skip"
    }
   },
   "outputs": [],
   "source": [
    "sorted_daily_metric = sorted_daily_tranx_data.drop(columns=['txnID']).groupby(['Dates']).sum()"
   ]
  },
  {
   "cell_type": "code",
   "execution_count": 264,
   "id": "amber-jacksonville",
   "metadata": {
    "slideshow": {
     "slide_type": "skip"
    }
   },
   "outputs": [
    {
     "data": {
      "text/html": [
       "<div>\n",
       "<style scoped>\n",
       "    .dataframe tbody tr th:only-of-type {\n",
       "        vertical-align: middle;\n",
       "    }\n",
       "\n",
       "    .dataframe tbody tr th {\n",
       "        vertical-align: top;\n",
       "    }\n",
       "\n",
       "    .dataframe thead th {\n",
       "        text-align: right;\n",
       "    }\n",
       "</style>\n",
       "<table border=\"1\" class=\"dataframe\">\n",
       "  <thead>\n",
       "    <tr style=\"text-align: right;\">\n",
       "      <th></th>\n",
       "      <th>no of txns</th>\n",
       "    </tr>\n",
       "    <tr>\n",
       "      <th>Dates</th>\n",
       "      <th></th>\n",
       "    </tr>\n",
       "  </thead>\n",
       "  <tbody>\n",
       "    <tr>\n",
       "      <th>2019-05-21</th>\n",
       "      <td>1028</td>\n",
       "    </tr>\n",
       "    <tr>\n",
       "      <th>2019-05-22</th>\n",
       "      <td>963</td>\n",
       "    </tr>\n",
       "    <tr>\n",
       "      <th>2019-05-23</th>\n",
       "      <td>1196</td>\n",
       "    </tr>\n",
       "    <tr>\n",
       "      <th>2019-05-24</th>\n",
       "      <td>1183</td>\n",
       "    </tr>\n",
       "    <tr>\n",
       "      <th>2019-05-25</th>\n",
       "      <td>1043</td>\n",
       "    </tr>\n",
       "    <tr>\n",
       "      <th>...</th>\n",
       "      <td>...</td>\n",
       "    </tr>\n",
       "    <tr>\n",
       "      <th>2020-11-01</th>\n",
       "      <td>4640</td>\n",
       "    </tr>\n",
       "    <tr>\n",
       "      <th>2020-11-02</th>\n",
       "      <td>9200</td>\n",
       "    </tr>\n",
       "    <tr>\n",
       "      <th>2020-11-03</th>\n",
       "      <td>8816</td>\n",
       "    </tr>\n",
       "    <tr>\n",
       "      <th>2020-11-04</th>\n",
       "      <td>8343</td>\n",
       "    </tr>\n",
       "    <tr>\n",
       "      <th>2020-11-05</th>\n",
       "      <td>7870</td>\n",
       "    </tr>\n",
       "  </tbody>\n",
       "</table>\n",
       "<p>524 rows × 1 columns</p>\n",
       "</div>"
      ],
      "text/plain": [
       "            no of txns\n",
       "Dates                 \n",
       "2019-05-21        1028\n",
       "2019-05-22         963\n",
       "2019-05-23        1196\n",
       "2019-05-24        1183\n",
       "2019-05-25        1043\n",
       "...                ...\n",
       "2020-11-01        4640\n",
       "2020-11-02        9200\n",
       "2020-11-03        8816\n",
       "2020-11-04        8343\n",
       "2020-11-05        7870\n",
       "\n",
       "[524 rows x 1 columns]"
      ]
     },
     "execution_count": 264,
     "metadata": {},
     "output_type": "execute_result"
    }
   ],
   "source": [
    "sorted_daily_metric"
   ]
  },
  {
   "cell_type": "code",
   "execution_count": 285,
   "id": "traditional-thousand",
   "metadata": {
    "slideshow": {
     "slide_type": "slide"
    }
   },
   "outputs": [
    {
     "data": {
      "text/plain": [
       "<AxesSubplot:xlabel='no of txns', ylabel='Dates'>"
      ]
     },
     "execution_count": 285,
     "metadata": {},
     "output_type": "execute_result"
    },
    {
     "data": {
      "image/png": "[encoded data removed]",
      "text/plain": [
       "<Figure size 1152x576 with 1 Axes>"
      ]
     },
     "metadata": {},
     "output_type": "display_data"
    }
   ],
   "source": [
    "# ypoints = sorted_daily_metric['no of txns']\n",
    "\n",
    "# plt.plot(sorted_daily_metric.index, ypoints, linestyle = 'dotted')\n",
    "\n",
    "\n",
    "# plt.show()\n",
    "plt.figure(figsize=(16,8))\n",
    "sns.scatterplot(data=failed_txn_data, y=\"Dates\", x=\"no of txns\", hue='status')\n"
   ]
  },
  {
   "cell_type": "markdown",
   "id": "based-arthritis",
   "metadata": {
    "slideshow": {
     "slide_type": "slide"
    }
   },
   "source": [
    "# Insight:\n",
    "\n",
    "## There were increased Failed transactions September and October 2020;\n",
    "\n",
    "## --- Triger =  EndSars Protest\n",
    "\n",
    "\n",
    "## There was also a spike of failed Transactions on March 2020;\n",
    "\n",
    "## ---  Triger =  COVID-19 pandemic Lockdown"
   ]
  },
  {
   "cell_type": "markdown",
   "id": "communist-recycling",
   "metadata": {
    "slideshow": {
     "slide_type": "slide"
    }
   },
   "source": [
    "# Thank You.  \n",
    "\n",
    "# Presentation by Anichebe Obumneme"
   ]
  }
 ],
 "metadata": {
  "celltoolbar": "Slideshow",
  "kernelspec": {
   "display_name": "Python 3",
   "language": "python",
   "name": "python3"
  },
  "language_info": {
   "codemirror_mode": {
    "name": "ipython",
    "version": 3
   },
   "file_extension": ".py",
   "mimetype": "text/x-python",
   "name": "python",
   "nbconvert_exporter": "python",
   "pygments_lexer": "ipython3",
   "version": "3.9.1"
  }
 },
 "nbformat": 4,
 "nbformat_minor": 5
}
