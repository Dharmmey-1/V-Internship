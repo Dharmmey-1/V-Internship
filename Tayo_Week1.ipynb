{
 "cells": [
  {
   "cell_type": "code",
   "execution_count": 46,
   "id": "national-injury",
   "metadata": {},
   "outputs": [],
   "source": [
    "import pandas as pd\n",
    "from matplotlib import pyplot as plt\n",
    "import seaborn as sns\n",
    "import numpy as np"
   ]
  },
  {
   "cell_type": "code",
   "execution_count": 47,
   "id": "adolescent-arena",
   "metadata": {},
   "outputs": [],
   "source": [
    "# import data from it's source\n",
    "\n",
    "enrolledApplicants = pd.read_csv(\"C:/Users/tbuai/Desktop/UNIVEL_DATA_SCIENCE/V_INTERNSHIP/Files/enrolled applicants.csv\")\n",
    "registeredApplicants = pd.read_csv(\"C:/Users/tbuai/Desktop/UNIVEL_DATA_SCIENCE/V_INTERNSHIP/Files/registered applicants.csv\")"
   ]
  },
  {
   "cell_type": "markdown",
   "id": "surgical-devon",
   "metadata": {},
   "source": [
    "# DATA WRANGLING"
   ]
  },
  {
   "cell_type": "markdown",
   "id": "israeli-anatomy",
   "metadata": {},
   "source": [
    "##### Enrolled"
   ]
  },
  {
   "cell_type": "code",
   "execution_count": 48,
   "id": "loved-jimmy",
   "metadata": {},
   "outputs": [
    {
     "data": {
      "text/html": [
       "<div>\n",
       "<style scoped>\n",
       "    .dataframe tbody tr th:only-of-type {\n",
       "        vertical-align: middle;\n",
       "    }\n",
       "\n",
       "    .dataframe tbody tr th {\n",
       "        vertical-align: top;\n",
       "    }\n",
       "\n",
       "    .dataframe thead th {\n",
       "        text-align: right;\n",
       "    }\n",
       "</style>\n",
       "<table border=\"1\" class=\"dataframe\">\n",
       "  <thead>\n",
       "    <tr style=\"text-align: right;\">\n",
       "      <th></th>\n",
       "      <th>Unnamed: 0</th>\n",
       "      <th>FIRST NAME</th>\n",
       "      <th>LAST NAME</th>\n",
       "      <th>SOURCE</th>\n",
       "      <th>COURSE</th>\n",
       "      <th>TRACK</th>\n",
       "      <th>GENDER</th>\n",
       "    </tr>\n",
       "  </thead>\n",
       "  <tbody>\n",
       "    <tr>\n",
       "      <th>0</th>\n",
       "      <td>1120</td>\n",
       "      <td>Robert</td>\n",
       "      <td>Mccain</td>\n",
       "      <td>WEBSITE</td>\n",
       "      <td>Full Stack</td>\n",
       "      <td>Weekday</td>\n",
       "      <td>Male</td>\n",
       "    </tr>\n",
       "    <tr>\n",
       "      <th>1</th>\n",
       "      <td>2557</td>\n",
       "      <td>Russel</td>\n",
       "      <td>Reagin</td>\n",
       "      <td>Mr Simps</td>\n",
       "      <td>Full Stack</td>\n",
       "      <td>Weekday</td>\n",
       "      <td>Male</td>\n",
       "    </tr>\n",
       "    <tr>\n",
       "      <th>2</th>\n",
       "      <td>1682</td>\n",
       "      <td>Barry</td>\n",
       "      <td>Dickson</td>\n",
       "      <td>WEBSITE</td>\n",
       "      <td>Full Stack</td>\n",
       "      <td>Weekday</td>\n",
       "      <td>Male</td>\n",
       "    </tr>\n",
       "    <tr>\n",
       "      <th>3</th>\n",
       "      <td>1961</td>\n",
       "      <td>Allen</td>\n",
       "      <td>Williams</td>\n",
       "      <td>Mr Simps</td>\n",
       "      <td>NaN</td>\n",
       "      <td>Weekday</td>\n",
       "      <td>Male</td>\n",
       "    </tr>\n",
       "    <tr>\n",
       "      <th>4</th>\n",
       "      <td>295</td>\n",
       "      <td>Brian</td>\n",
       "      <td>Bryon</td>\n",
       "      <td>Social Media</td>\n",
       "      <td>Python For Data Science</td>\n",
       "      <td>Weekend</td>\n",
       "      <td>Male</td>\n",
       "    </tr>\n",
       "  </tbody>\n",
       "</table>\n",
       "</div>"
      ],
      "text/plain": [
       "   Unnamed: 0 FIRST NAME LAST NAME        SOURCE                   COURSE  \\\n",
       "0        1120     Robert    Mccain       WEBSITE               Full Stack   \n",
       "1        2557     Russel    Reagin      Mr Simps               Full Stack   \n",
       "2        1682      Barry   Dickson       WEBSITE               Full Stack   \n",
       "3        1961      Allen  Williams      Mr Simps                      NaN   \n",
       "4         295      Brian     Bryon  Social Media  Python For Data Science   \n",
       "\n",
       "     TRACK GENDER  \n",
       "0  Weekday   Male  \n",
       "1  Weekday   Male  \n",
       "2  Weekday   Male  \n",
       "3  Weekday   Male  \n",
       "4  Weekend   Male  "
      ]
     },
     "execution_count": 48,
     "metadata": {},
     "output_type": "execute_result"
    }
   ],
   "source": [
    "# the first five records and header of the enrolled applicants dataset\n",
    "\n",
    "enrolledApplicants.head()\n"
   ]
  },
  {
   "cell_type": "code",
   "execution_count": 49,
   "id": "restricted-gates",
   "metadata": {},
   "outputs": [
    {
     "data": {
      "text/html": [
       "<div>\n",
       "<style scoped>\n",
       "    .dataframe tbody tr th:only-of-type {\n",
       "        vertical-align: middle;\n",
       "    }\n",
       "\n",
       "    .dataframe tbody tr th {\n",
       "        vertical-align: top;\n",
       "    }\n",
       "\n",
       "    .dataframe thead th {\n",
       "        text-align: right;\n",
       "    }\n",
       "</style>\n",
       "<table border=\"1\" class=\"dataframe\">\n",
       "  <thead>\n",
       "    <tr style=\"text-align: right;\">\n",
       "      <th></th>\n",
       "      <th>applicantID</th>\n",
       "      <th>FIRST NAME</th>\n",
       "      <th>LAST NAME</th>\n",
       "      <th>SOURCE</th>\n",
       "      <th>COURSE</th>\n",
       "      <th>TRACK</th>\n",
       "      <th>GENDER</th>\n",
       "    </tr>\n",
       "  </thead>\n",
       "  <tbody>\n",
       "    <tr>\n",
       "      <th>0</th>\n",
       "      <td>1120</td>\n",
       "      <td>Robert</td>\n",
       "      <td>Mccain</td>\n",
       "      <td>WEBSITE</td>\n",
       "      <td>Full Stack</td>\n",
       "      <td>Weekday</td>\n",
       "      <td>Male</td>\n",
       "    </tr>\n",
       "    <tr>\n",
       "      <th>1</th>\n",
       "      <td>2557</td>\n",
       "      <td>Russel</td>\n",
       "      <td>Reagin</td>\n",
       "      <td>Mr Simps</td>\n",
       "      <td>Full Stack</td>\n",
       "      <td>Weekday</td>\n",
       "      <td>Male</td>\n",
       "    </tr>\n",
       "    <tr>\n",
       "      <th>2</th>\n",
       "      <td>1682</td>\n",
       "      <td>Barry</td>\n",
       "      <td>Dickson</td>\n",
       "      <td>WEBSITE</td>\n",
       "      <td>Full Stack</td>\n",
       "      <td>Weekday</td>\n",
       "      <td>Male</td>\n",
       "    </tr>\n",
       "    <tr>\n",
       "      <th>3</th>\n",
       "      <td>1961</td>\n",
       "      <td>Allen</td>\n",
       "      <td>Williams</td>\n",
       "      <td>Mr Simps</td>\n",
       "      <td>NaN</td>\n",
       "      <td>Weekday</td>\n",
       "      <td>Male</td>\n",
       "    </tr>\n",
       "    <tr>\n",
       "      <th>4</th>\n",
       "      <td>295</td>\n",
       "      <td>Brian</td>\n",
       "      <td>Bryon</td>\n",
       "      <td>Social Media</td>\n",
       "      <td>Python For Data Science</td>\n",
       "      <td>Weekend</td>\n",
       "      <td>Male</td>\n",
       "    </tr>\n",
       "  </tbody>\n",
       "</table>\n",
       "</div>"
      ],
      "text/plain": [
       "   applicantID FIRST NAME LAST NAME        SOURCE                   COURSE  \\\n",
       "0         1120     Robert    Mccain       WEBSITE               Full Stack   \n",
       "1         2557     Russel    Reagin      Mr Simps               Full Stack   \n",
       "2         1682      Barry   Dickson       WEBSITE               Full Stack   \n",
       "3         1961      Allen  Williams      Mr Simps                      NaN   \n",
       "4          295      Brian     Bryon  Social Media  Python For Data Science   \n",
       "\n",
       "     TRACK GENDER  \n",
       "0  Weekday   Male  \n",
       "1  Weekday   Male  \n",
       "2  Weekday   Male  \n",
       "3  Weekday   Male  \n",
       "4  Weekend   Male  "
      ]
     },
     "execution_count": 49,
     "metadata": {},
     "output_type": "execute_result"
    }
   ],
   "source": [
    "# rename the first column to \"applicantID\"\n",
    "\n",
    "enrolledApplicants = enrolledApplicants.rename(columns = {\"Unnamed: 0\":\"applicantID\"})\n",
    "enrolledApplicants.head()"
   ]
  },
  {
   "cell_type": "code",
   "execution_count": 84,
   "id": "timely-cannon",
   "metadata": {},
   "outputs": [],
   "source": [
    "# subset of enrolled data\n",
    "\n",
    "subEnrolledApplicants = enrolledApplicants[['applicantID', 'GENDER']]"
   ]
  },
  {
   "cell_type": "code",
   "execution_count": 50,
   "id": "together-medication",
   "metadata": {},
   "outputs": [
    {
     "data": {
      "text/plain": [
       "Male      1611\n",
       "Female     142\n",
       "male        12\n",
       "female       1\n",
       "Name: GENDER, dtype: int64"
      ]
     },
     "execution_count": 50,
     "metadata": {},
     "output_type": "execute_result"
    }
   ],
   "source": [
    "# counts the unique values of the gender column\n",
    "\n",
    "enrolledApplicants[\"GENDER\"].value_counts()"
   ]
  },
  {
   "cell_type": "code",
   "execution_count": 51,
   "id": "middle-vision",
   "metadata": {},
   "outputs": [
    {
     "data": {
      "text/plain": [
       "Male      1623\n",
       "Female     143\n",
       "Name: GENDER, dtype: int64"
      ]
     },
     "execution_count": 51,
     "metadata": {},
     "output_type": "execute_result"
    }
   ],
   "source": [
    "# replaces the \"male\" and \"female\" values with \"Male\" and \"Female\" respectively\n",
    "\n",
    "enrolledApplicants[\"GENDER\"] = enrolledApplicants[\"GENDER\"].apply(lambda x: x.capitalize())\n",
    "enrolledApplicants[\"GENDER\"].value_counts()"
   ]
  },
  {
   "cell_type": "code",
   "execution_count": 52,
   "id": "appointed-installation",
   "metadata": {},
   "outputs": [
    {
     "data": {
      "text/plain": [
       "Social Media    1096\n",
       "WEBSITE          436\n",
       "Mr Simps         222\n",
       "Name: SOURCE, dtype: int64"
      ]
     },
     "execution_count": 52,
     "metadata": {},
     "output_type": "execute_result"
    }
   ],
   "source": [
    "# counts the unique values of the source column\n",
    "\n",
    "enrolledApplicants[\"SOURCE\"].value_counts()"
   ]
  },
  {
   "cell_type": "code",
   "execution_count": 53,
   "id": "secret-humor",
   "metadata": {},
   "outputs": [
    {
     "data": {
      "text/plain": [
       "Weekday    1131\n",
       "Weekend     406\n",
       "ONLINE      229\n",
       "Name: TRACK, dtype: int64"
      ]
     },
     "execution_count": 53,
     "metadata": {},
     "output_type": "execute_result"
    }
   ],
   "source": [
    "# counts the unique values of the track column\n",
    "\n",
    "enrolledApplicants[\"TRACK\"].value_counts()"
   ]
  },
  {
   "cell_type": "code",
   "execution_count": 54,
   "id": "competent-secretary",
   "metadata": {},
   "outputs": [
    {
     "data": {
      "text/plain": [
       "Full Stack                      310\n",
       "FullStack                       298\n",
       "Product Design(UI/UX)           124\n",
       "Figma Design to Webflow         122\n",
       "Frontend Web Development        121\n",
       "Product Design(UI/UX) ONLINE    112\n",
       "Python For DataScience          102\n",
       "Product Design                  100\n",
       "CyberSecurity                    97\n",
       "Product Management               93\n",
       "Backend With Python Django       92\n",
       "Frontend                         88\n",
       "Python For Data Science          82\n",
       "Name: COURSE, dtype: int64"
      ]
     },
     "execution_count": 54,
     "metadata": {},
     "output_type": "execute_result"
    }
   ],
   "source": [
    "# counts the unique values of the course column\n",
    "\n",
    "enrolledApplicants[\"COURSE\"].value_counts()\n",
    "\n",
    "# In this field, there are values that are the same but represented differently e.g \"Full Stack\" and \"FullStack\""
   ]
  },
  {
   "cell_type": "code",
   "execution_count": 55,
   "id": "southern-nature",
   "metadata": {},
   "outputs": [
    {
     "data": {
      "text/plain": [
       "array(['Full Stack', nan, 'Python For Data Science', 'FullStack',\n",
       "       'Product Design(UI/UX)', 'Product Management', 'Frontend',\n",
       "       'Frontend Web Development', 'Figma Design to Webflow',\n",
       "       'Product Design(UI/UX) ONLINE', 'Product Design',\n",
       "       'Backend With Python Django', 'CyberSecurity',\n",
       "       'Python For DataScience'], dtype=object)"
      ]
     },
     "execution_count": 55,
     "metadata": {},
     "output_type": "execute_result"
    }
   ],
   "source": [
    "# unique values in column course\n",
    "\n",
    "enrolledApplicants[\"COURSE\"].unique()"
   ]
  },
  {
   "cell_type": "code",
   "execution_count": 56,
   "id": "educational-asbestos",
   "metadata": {},
   "outputs": [
    {
     "data": {
      "text/plain": [
       "array(['Full Stack', nan, 'Python For Data Science',\n",
       "       'Product Design(UI/UX)', 'Product Management', 'Frontend',\n",
       "       'Frontend Web Development', 'Figma Design to Webflow',\n",
       "       'Product Design(UI/UX) ONLINE', 'Product Design',\n",
       "       'Backend With Python Django', 'CyberSecurity'], dtype=object)"
      ]
     },
     "execution_count": 56,
     "metadata": {},
     "output_type": "execute_result"
    }
   ],
   "source": [
    "# rename values in the column field to ensure data consistency\n",
    "\n",
    "enrolledApplicants.COURSE = enrolledApplicants.COURSE.replace(['FullStack','Python For DataScience'], ['Full Stack','Python For Data Science'])\n",
    "enrolledApplicants.COURSE.unique()"
   ]
  },
  {
   "cell_type": "code",
   "execution_count": 82,
   "id": "sexual-confusion",
   "metadata": {},
   "outputs": [
    {
     "data": {
      "text/plain": [
       "1766"
      ]
     },
     "execution_count": 82,
     "metadata": {},
     "output_type": "execute_result"
    }
   ],
   "source": [
    "# no of enrolled applicants\n",
    "\n",
    "noEnrApplicants = enrolledApplicants.GENDER.count()\n",
    "noEnrApplicants"
   ]
  },
  {
   "cell_type": "code",
   "execution_count": 58,
   "id": "alien-breach",
   "metadata": {},
   "outputs": [
    {
     "data": {
      "text/plain": [
       "1623"
      ]
     },
     "execution_count": 58,
     "metadata": {},
     "output_type": "execute_result"
    }
   ],
   "source": [
    "# no of enrolled applicants that are male\n",
    "\n",
    "noEnrMaleApplicants = enrolledApplicants[enrolledApplicants.GENDER == \"Male\"].GENDER.count()\n",
    "noEnrMaleApplicants"
   ]
  },
  {
   "cell_type": "code",
   "execution_count": 59,
   "id": "least-chuck",
   "metadata": {},
   "outputs": [
    {
     "data": {
      "text/plain": [
       "143"
      ]
     },
     "execution_count": 59,
     "metadata": {},
     "output_type": "execute_result"
    }
   ],
   "source": [
    "# no of enrolled applicants that are female\n",
    "\n",
    "noEnrFemaleApplicants = enrolledApplicants[enrolledApplicants.GENDER == \"Female\"].GENDER.count()\n",
    "noEnrFemaleApplicants"
   ]
  },
  {
   "cell_type": "markdown",
   "id": "secret-potato",
   "metadata": {},
   "source": [
    "#### Registered"
   ]
  },
  {
   "cell_type": "code",
   "execution_count": 60,
   "id": "beautiful-international",
   "metadata": {
    "scrolled": true
   },
   "outputs": [
    {
     "data": {
      "text/html": [
       "<div>\n",
       "<style scoped>\n",
       "    .dataframe tbody tr th:only-of-type {\n",
       "        vertical-align: middle;\n",
       "    }\n",
       "\n",
       "    .dataframe tbody tr th {\n",
       "        vertical-align: top;\n",
       "    }\n",
       "\n",
       "    .dataframe thead th {\n",
       "        text-align: right;\n",
       "    }\n",
       "</style>\n",
       "<table border=\"1\" class=\"dataframe\">\n",
       "  <thead>\n",
       "    <tr style=\"text-align: right;\">\n",
       "      <th></th>\n",
       "      <th>Unnamed: 0</th>\n",
       "      <th>FIRST NAME</th>\n",
       "      <th>LAST NAME</th>\n",
       "      <th>SOURCE</th>\n",
       "      <th>COURSE</th>\n",
       "      <th>TRACK</th>\n",
       "      <th>GENDER</th>\n",
       "    </tr>\n",
       "  </thead>\n",
       "  <tbody>\n",
       "    <tr>\n",
       "      <th>0</th>\n",
       "      <td>2373</td>\n",
       "      <td>Brian</td>\n",
       "      <td>May</td>\n",
       "      <td>Social Media</td>\n",
       "      <td>Python For DataScience</td>\n",
       "      <td>Weekend</td>\n",
       "      <td>Male</td>\n",
       "    </tr>\n",
       "    <tr>\n",
       "      <th>1</th>\n",
       "      <td>758</td>\n",
       "      <td>Leon</td>\n",
       "      <td>Melvin</td>\n",
       "      <td>Social Media</td>\n",
       "      <td>Product Design(UI/UX)</td>\n",
       "      <td>Weekend</td>\n",
       "      <td>Male</td>\n",
       "    </tr>\n",
       "    <tr>\n",
       "      <th>2</th>\n",
       "      <td>2287</td>\n",
       "      <td>Juan</td>\n",
       "      <td>Harris</td>\n",
       "      <td>Mr Simps</td>\n",
       "      <td>Product Design(UI/UX)</td>\n",
       "      <td>Weekday</td>\n",
       "      <td>Male</td>\n",
       "    </tr>\n",
       "    <tr>\n",
       "      <th>3</th>\n",
       "      <td>2480</td>\n",
       "      <td>Gilbert</td>\n",
       "      <td>Denson</td>\n",
       "      <td>Social Media</td>\n",
       "      <td>Figma Design to Webflow</td>\n",
       "      <td>Weekend</td>\n",
       "      <td>Male</td>\n",
       "    </tr>\n",
       "    <tr>\n",
       "      <th>4</th>\n",
       "      <td>1359</td>\n",
       "      <td>Larry</td>\n",
       "      <td>Williams</td>\n",
       "      <td>WEBSITE</td>\n",
       "      <td>Python For DataScience</td>\n",
       "      <td>Weekday</td>\n",
       "      <td>Male</td>\n",
       "    </tr>\n",
       "  </tbody>\n",
       "</table>\n",
       "</div>"
      ],
      "text/plain": [
       "   Unnamed: 0 FIRST NAME LAST NAME        SOURCE                   COURSE  \\\n",
       "0        2373      Brian       May  Social Media   Python For DataScience   \n",
       "1         758       Leon    Melvin  Social Media    Product Design(UI/UX)   \n",
       "2        2287       Juan    Harris      Mr Simps    Product Design(UI/UX)   \n",
       "3        2480    Gilbert    Denson  Social Media  Figma Design to Webflow   \n",
       "4        1359      Larry  Williams       WEBSITE   Python For DataScience   \n",
       "\n",
       "     TRACK GENDER  \n",
       "0  Weekend   Male  \n",
       "1  Weekend   Male  \n",
       "2  Weekday   Male  \n",
       "3  Weekend   Male  \n",
       "4  Weekday   Male  "
      ]
     },
     "execution_count": 60,
     "metadata": {},
     "output_type": "execute_result"
    }
   ],
   "source": [
    "# the first five records and header of the registered applicants dataset\n",
    "\n",
    "registeredApplicants.head()"
   ]
  },
  {
   "cell_type": "code",
   "execution_count": 61,
   "id": "european-beverage",
   "metadata": {},
   "outputs": [
    {
     "data": {
      "text/html": [
       "<div>\n",
       "<style scoped>\n",
       "    .dataframe tbody tr th:only-of-type {\n",
       "        vertical-align: middle;\n",
       "    }\n",
       "\n",
       "    .dataframe tbody tr th {\n",
       "        vertical-align: top;\n",
       "    }\n",
       "\n",
       "    .dataframe thead th {\n",
       "        text-align: right;\n",
       "    }\n",
       "</style>\n",
       "<table border=\"1\" class=\"dataframe\">\n",
       "  <thead>\n",
       "    <tr style=\"text-align: right;\">\n",
       "      <th></th>\n",
       "      <th>applicantID</th>\n",
       "      <th>FIRST NAME</th>\n",
       "      <th>LAST NAME</th>\n",
       "      <th>SOURCE</th>\n",
       "      <th>COURSE</th>\n",
       "      <th>TRACK</th>\n",
       "      <th>GENDER</th>\n",
       "    </tr>\n",
       "  </thead>\n",
       "  <tbody>\n",
       "    <tr>\n",
       "      <th>0</th>\n",
       "      <td>2373</td>\n",
       "      <td>Brian</td>\n",
       "      <td>May</td>\n",
       "      <td>Social Media</td>\n",
       "      <td>Python For DataScience</td>\n",
       "      <td>Weekend</td>\n",
       "      <td>Male</td>\n",
       "    </tr>\n",
       "    <tr>\n",
       "      <th>1</th>\n",
       "      <td>758</td>\n",
       "      <td>Leon</td>\n",
       "      <td>Melvin</td>\n",
       "      <td>Social Media</td>\n",
       "      <td>Product Design(UI/UX)</td>\n",
       "      <td>Weekend</td>\n",
       "      <td>Male</td>\n",
       "    </tr>\n",
       "    <tr>\n",
       "      <th>2</th>\n",
       "      <td>2287</td>\n",
       "      <td>Juan</td>\n",
       "      <td>Harris</td>\n",
       "      <td>Mr Simps</td>\n",
       "      <td>Product Design(UI/UX)</td>\n",
       "      <td>Weekday</td>\n",
       "      <td>Male</td>\n",
       "    </tr>\n",
       "    <tr>\n",
       "      <th>3</th>\n",
       "      <td>2480</td>\n",
       "      <td>Gilbert</td>\n",
       "      <td>Denson</td>\n",
       "      <td>Social Media</td>\n",
       "      <td>Figma Design to Webflow</td>\n",
       "      <td>Weekend</td>\n",
       "      <td>Male</td>\n",
       "    </tr>\n",
       "    <tr>\n",
       "      <th>4</th>\n",
       "      <td>1359</td>\n",
       "      <td>Larry</td>\n",
       "      <td>Williams</td>\n",
       "      <td>WEBSITE</td>\n",
       "      <td>Python For DataScience</td>\n",
       "      <td>Weekday</td>\n",
       "      <td>Male</td>\n",
       "    </tr>\n",
       "  </tbody>\n",
       "</table>\n",
       "</div>"
      ],
      "text/plain": [
       "   applicantID FIRST NAME LAST NAME        SOURCE                   COURSE  \\\n",
       "0         2373      Brian       May  Social Media   Python For DataScience   \n",
       "1          758       Leon    Melvin  Social Media    Product Design(UI/UX)   \n",
       "2         2287       Juan    Harris      Mr Simps    Product Design(UI/UX)   \n",
       "3         2480    Gilbert    Denson  Social Media  Figma Design to Webflow   \n",
       "4         1359      Larry  Williams       WEBSITE   Python For DataScience   \n",
       "\n",
       "     TRACK GENDER  \n",
       "0  Weekend   Male  \n",
       "1  Weekend   Male  \n",
       "2  Weekday   Male  \n",
       "3  Weekend   Male  \n",
       "4  Weekday   Male  "
      ]
     },
     "execution_count": 61,
     "metadata": {},
     "output_type": "execute_result"
    }
   ],
   "source": [
    "# rename the first column to \"applicantID\"\n",
    "\n",
    "registeredApplicants = registeredApplicants.rename(columns = {\"Unnamed: 0\":\"applicantID\"})\n",
    "registeredApplicants.head()"
   ]
  },
  {
   "cell_type": "code",
   "execution_count": 86,
   "id": "approximate-employee",
   "metadata": {},
   "outputs": [],
   "source": [
    "# subset of registered data\n",
    "\n",
    "subRegisteredApplicants = registeredApplicants[['applicantID', 'GENDER']]"
   ]
  },
  {
   "cell_type": "code",
   "execution_count": 62,
   "id": "wireless-container",
   "metadata": {},
   "outputs": [
    {
     "data": {
      "text/plain": [
       "array(['Male', 'Female', nan, 'male', 'female'], dtype=object)"
      ]
     },
     "execution_count": 62,
     "metadata": {},
     "output_type": "execute_result"
    }
   ],
   "source": [
    "# counts the unique values of the gender column\n",
    "\n",
    "registeredApplicants[\"GENDER\"].unique()"
   ]
  },
  {
   "cell_type": "code",
   "execution_count": 63,
   "id": "available-europe",
   "metadata": {},
   "outputs": [
    {
     "data": {
      "text/plain": [
       "array(['Male', 'Female', nan], dtype=object)"
      ]
     },
     "execution_count": 63,
     "metadata": {},
     "output_type": "execute_result"
    }
   ],
   "source": [
    "# replaces the \"male\" and \"female\" values with \"Male\" and \"Female\" respectively\n",
    "\n",
    "registeredApplicants.GENDER = registeredApplicants.GENDER.replace(['male','female'], ['Male','Female'])\n",
    "registeredApplicants.GENDER.unique()"
   ]
  },
  {
   "cell_type": "code",
   "execution_count": 64,
   "id": "amino-pulse",
   "metadata": {},
   "outputs": [
    {
     "data": {
      "text/plain": [
       "3676"
      ]
     },
     "execution_count": 64,
     "metadata": {},
     "output_type": "execute_result"
    }
   ],
   "source": [
    "# no of registered applicants\n",
    "\n",
    "noRegApplicants = registeredApplicants.applicantID.count()\n",
    "noRegApplicants"
   ]
  },
  {
   "cell_type": "code",
   "execution_count": 68,
   "id": "arctic-stake",
   "metadata": {},
   "outputs": [
    {
     "data": {
      "text/plain": [
       "56"
      ]
     },
     "execution_count": 68,
     "metadata": {},
     "output_type": "execute_result"
    }
   ],
   "source": [
    "# No of registered students with missing gender\n",
    "\n",
    "noRegApplicantsNullGender = registeredApplicants[registeredApplicants.GENDER.isnull()]['applicantID']\n",
    "noRegApplicantsNullGender.count()"
   ]
  },
  {
   "cell_type": "code",
   "execution_count": 72,
   "id": "handed-tuesday",
   "metadata": {},
   "outputs": [
    {
     "data": {
      "text/plain": [
       "0"
      ]
     },
     "execution_count": 72,
     "metadata": {},
     "output_type": "execute_result"
    }
   ],
   "source": [
    "# Check if the 56 applicants with no gender were enrolled\n",
    "\n",
    "noRegApplicantsNullGender_Enrolled = pd.merge(noRegApplicantsNullGender, enrolledApplicants.applicantID)\n",
    "noRegApplicantsNullGender_Enrolled.applicantID.count()\n",
    "\n",
    "# result shows the 56 registered applicants with no gender were enrolled"
   ]
  },
  {
   "cell_type": "code",
   "execution_count": 79,
   "id": "liquid-leather",
   "metadata": {},
   "outputs": [
    {
     "data": {
      "text/plain": [
       "2903"
      ]
     },
     "execution_count": 79,
     "metadata": {},
     "output_type": "execute_result"
    }
   ],
   "source": [
    "# no of registered applicants that are male\n",
    "\n",
    "noRegMaleApplicants = registeredApplicants[registeredApplicants.GENDER == \"Male\"].GENDER.count()\n",
    "noRegMaleApplicants"
   ]
  },
  {
   "cell_type": "code",
   "execution_count": 80,
   "id": "polyphonic-operation",
   "metadata": {},
   "outputs": [
    {
     "data": {
      "text/plain": [
       "717"
      ]
     },
     "execution_count": 80,
     "metadata": {},
     "output_type": "execute_result"
    }
   ],
   "source": [
    "# no of registered applicants that are female\n",
    "\n",
    "noRegFemaleApplicants = registeredApplicants[registeredApplicants.GENDER == \"Female\"].GENDER.count()\n",
    "noRegFemaleApplicants"
   ]
  },
  {
   "cell_type": "markdown",
   "id": "liked-albany",
   "metadata": {},
   "source": [
    "### A table containing applicants that registered and were enrolled"
   ]
  },
  {
   "cell_type": "code",
   "execution_count": 89,
   "id": "collected-artist",
   "metadata": {},
   "outputs": [],
   "source": [
    "# enrolled and registered applicants\n",
    "\n",
    "RegAndEnrApplicants = pd.merge(subRegisteredApplicants, subEnrolledApplicants)"
   ]
  },
  {
   "cell_type": "code",
   "execution_count": 91,
   "id": "organizational-creek",
   "metadata": {},
   "outputs": [
    {
     "data": {
      "text/plain": [
       "1766"
      ]
     },
     "execution_count": 91,
     "metadata": {},
     "output_type": "execute_result"
    }
   ],
   "source": [
    "# no of enrolled and registered applicants\n",
    "\n",
    "noRegAndEnrApplicant = RegAndEnrApplicants.GENDER.count()\n",
    "noRegAndEnrApplicant"
   ]
  },
  {
   "cell_type": "code",
   "execution_count": 92,
   "id": "norwegian-father",
   "metadata": {},
   "outputs": [
    {
     "data": {
      "text/plain": [
       "143"
      ]
     },
     "execution_count": 92,
     "metadata": {},
     "output_type": "execute_result"
    }
   ],
   "source": [
    "# no of enrolled and registered applicants that are females\n",
    "\n",
    "noRegAndEnrApplicant_Female = RegAndEnrApplicants[RegAndEnrApplicants.GENDER == \"Female\"].GENDER.count()\n",
    "noRegAndEnrApplicant_Female"
   ]
  },
  {
   "cell_type": "code",
   "execution_count": 93,
   "id": "genuine-possibility",
   "metadata": {},
   "outputs": [
    {
     "data": {
      "text/plain": [
       "1623"
      ]
     },
     "execution_count": 93,
     "metadata": {},
     "output_type": "execute_result"
    }
   ],
   "source": [
    "# no of enrolled and registered applicants that are males\n",
    "\n",
    "noRegAndEnrApplicant_Male = RegAndEnrApplicants[RegAndEnrApplicants.GENDER == \"Male\"].GENDER.count()\n",
    "noRegAndEnrApplicant_Male"
   ]
  },
  {
   "cell_type": "markdown",
   "id": "heavy-virus",
   "metadata": {},
   "source": [
    "### What is the probability that a randomly selected registered female will enrolled in the program?"
   ]
  },
  {
   "cell_type": "code",
   "execution_count": 96,
   "id": "cross-annual",
   "metadata": {},
   "outputs": [
    {
     "data": {
      "text/plain": [
       "0.08"
      ]
     },
     "execution_count": 96,
     "metadata": {},
     "output_type": "execute_result"
    }
   ],
   "source": [
    "probRegFemaleIsEnr = noRegAndEnrApplicant_Female/noRegAndEnrApplicant\n",
    "probRegFemaleIsEnr.round(2)"
   ]
  },
  {
   "cell_type": "markdown",
   "id": "suited-herald",
   "metadata": {},
   "source": [
    "### What is the probability that a randomly selected registered female will enrolled in the program?"
   ]
  },
  {
   "cell_type": "code",
   "execution_count": 97,
   "id": "threatened-sarah",
   "metadata": {},
   "outputs": [
    {
     "data": {
      "text/plain": [
       "0.92"
      ]
     },
     "execution_count": 97,
     "metadata": {},
     "output_type": "execute_result"
    }
   ],
   "source": [
    "probRegMaleIsEnr = noRegAndEnrApplicant_Male/noRegAndEnrApplicant\n",
    "probRegMaleIsEnr.round(2)"
   ]
  },
  {
   "cell_type": "markdown",
   "id": "outer-oxygen",
   "metadata": {},
   "source": [
    "### What is the probability that a registered applicant will eventually enroll in the program?"
   ]
  },
  {
   "cell_type": "code",
   "execution_count": 98,
   "id": "hawaiian-carrier",
   "metadata": {},
   "outputs": [
    {
     "data": {
      "text/plain": [
       "0.48"
      ]
     },
     "execution_count": 98,
     "metadata": {},
     "output_type": "execute_result"
    }
   ],
   "source": [
    "probApplicantWillEnr = noEnrApplicants/noRegApplicants\n",
    "probApplicantWillEnr.round(2)"
   ]
  },
  {
   "cell_type": "code",
   "execution_count": null,
   "id": "alleged-implementation",
   "metadata": {},
   "outputs": [],
   "source": []
  }
 ],
 "metadata": {
  "kernelspec": {
   "display_name": "Python 3",
   "language": "python",
   "name": "python3"
  },
  "language_info": {
   "codemirror_mode": {
    "name": "ipython",
    "version": 3
   },
   "file_extension": ".py",
   "mimetype": "text/x-python",
   "name": "python",
   "nbconvert_exporter": "python",
   "pygments_lexer": "ipython3",
   "version": "3.8.1"
  }
 },
 "nbformat": 4,
 "nbformat_minor": 5
}
