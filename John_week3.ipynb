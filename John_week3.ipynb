{
 "cells": [
  {
   "cell_type": "markdown",
   "id": "heated-technology",
   "metadata": {},
   "source": [
    "# Marketing firm prediction for next product\n",
    "A marketing firm is aiming to be able to predict who will most likely be interested in the purchase of the next advertised product, in the notebook we will perform feaeture engineering to select the best features and also perform hyper parameter tuning on different classififers to determine the one with the highest accuracy"
   ]
  },
  {
   "cell_type": "markdown",
   "id": "atlantic-monaco",
   "metadata": {},
   "source": [
    "# IMPORTING LIBRARIES AND DATASETS FOR EXPLORATION"
   ]
  },
  {
   "cell_type": "code",
   "execution_count": 1,
   "id": "fourth-freight",
   "metadata": {},
   "outputs": [],
   "source": [
    "import numpy as np\n",
    "import pandas as pd\n",
    "import matplotlib.pyplot as plt\n",
    "import seaborn as sns"
   ]
  },
  {
   "cell_type": "code",
   "execution_count": 2,
   "id": "confirmed-japanese",
   "metadata": {},
   "outputs": [
    {
     "data": {
      "text/html": [
       "<div>\n",
       "<style scoped>\n",
       "    .dataframe tbody tr th:only-of-type {\n",
       "        vertical-align: middle;\n",
       "    }\n",
       "\n",
       "    .dataframe tbody tr th {\n",
       "        vertical-align: top;\n",
       "    }\n",
       "\n",
       "    .dataframe thead th {\n",
       "        text-align: right;\n",
       "    }\n",
       "</style>\n",
       "<table border=\"1\" class=\"dataframe\">\n",
       "  <thead>\n",
       "    <tr style=\"text-align: right;\">\n",
       "      <th></th>\n",
       "      <th>ID</th>\n",
       "      <th>Year_Birth</th>\n",
       "      <th>Education</th>\n",
       "      <th>Marital_Status</th>\n",
       "      <th>Income</th>\n",
       "      <th>Kidhome</th>\n",
       "      <th>Teenhome</th>\n",
       "      <th>Dt_Customer</th>\n",
       "      <th>Recency</th>\n",
       "      <th>MntWines</th>\n",
       "      <th>...</th>\n",
       "      <th>NumWebVisitsMonth</th>\n",
       "      <th>AcceptedCmp3</th>\n",
       "      <th>AcceptedCmp4</th>\n",
       "      <th>AcceptedCmp5</th>\n",
       "      <th>AcceptedCmp1</th>\n",
       "      <th>AcceptedCmp2</th>\n",
       "      <th>Complain</th>\n",
       "      <th>Z_CostContact</th>\n",
       "      <th>Z_Revenue</th>\n",
       "      <th>Response</th>\n",
       "    </tr>\n",
       "  </thead>\n",
       "  <tbody>\n",
       "    <tr>\n",
       "      <th>0</th>\n",
       "      <td>500</td>\n",
       "      <td>1977</td>\n",
       "      <td>Graduation</td>\n",
       "      <td>Together</td>\n",
       "      <td>96876.0</td>\n",
       "      <td>0</td>\n",
       "      <td>0</td>\n",
       "      <td>2013-08-06</td>\n",
       "      <td>79</td>\n",
       "      <td>908</td>\n",
       "      <td>...</td>\n",
       "      <td>2</td>\n",
       "      <td>0</td>\n",
       "      <td>1</td>\n",
       "      <td>1</td>\n",
       "      <td>1</td>\n",
       "      <td>0</td>\n",
       "      <td>0</td>\n",
       "      <td>3</td>\n",
       "      <td>11</td>\n",
       "      <td>1</td>\n",
       "    </tr>\n",
       "    <tr>\n",
       "      <th>1</th>\n",
       "      <td>176</td>\n",
       "      <td>1980</td>\n",
       "      <td>2n Cycle</td>\n",
       "      <td>Single</td>\n",
       "      <td>67506.0</td>\n",
       "      <td>0</td>\n",
       "      <td>1</td>\n",
       "      <td>2014-01-02</td>\n",
       "      <td>73</td>\n",
       "      <td>90</td>\n",
       "      <td>...</td>\n",
       "      <td>3</td>\n",
       "      <td>0</td>\n",
       "      <td>0</td>\n",
       "      <td>0</td>\n",
       "      <td>0</td>\n",
       "      <td>0</td>\n",
       "      <td>0</td>\n",
       "      <td>3</td>\n",
       "      <td>11</td>\n",
       "      <td>0</td>\n",
       "    </tr>\n",
       "    <tr>\n",
       "      <th>2</th>\n",
       "      <td>9262</td>\n",
       "      <td>1984</td>\n",
       "      <td>2n Cycle</td>\n",
       "      <td>Together</td>\n",
       "      <td>32414.0</td>\n",
       "      <td>0</td>\n",
       "      <td>0</td>\n",
       "      <td>2013-07-04</td>\n",
       "      <td>11</td>\n",
       "      <td>20</td>\n",
       "      <td>...</td>\n",
       "      <td>7</td>\n",
       "      <td>1</td>\n",
       "      <td>0</td>\n",
       "      <td>0</td>\n",
       "      <td>0</td>\n",
       "      <td>0</td>\n",
       "      <td>0</td>\n",
       "      <td>3</td>\n",
       "      <td>11</td>\n",
       "      <td>0</td>\n",
       "    </tr>\n",
       "    <tr>\n",
       "      <th>3</th>\n",
       "      <td>5252</td>\n",
       "      <td>1969</td>\n",
       "      <td>Graduation</td>\n",
       "      <td>Divorced</td>\n",
       "      <td>23910.0</td>\n",
       "      <td>1</td>\n",
       "      <td>0</td>\n",
       "      <td>2012-10-26</td>\n",
       "      <td>80</td>\n",
       "      <td>16</td>\n",
       "      <td>...</td>\n",
       "      <td>7</td>\n",
       "      <td>0</td>\n",
       "      <td>0</td>\n",
       "      <td>0</td>\n",
       "      <td>0</td>\n",
       "      <td>0</td>\n",
       "      <td>0</td>\n",
       "      <td>3</td>\n",
       "      <td>11</td>\n",
       "      <td>0</td>\n",
       "    </tr>\n",
       "    <tr>\n",
       "      <th>4</th>\n",
       "      <td>4261</td>\n",
       "      <td>1946</td>\n",
       "      <td>PhD</td>\n",
       "      <td>Single</td>\n",
       "      <td>82800.0</td>\n",
       "      <td>0</td>\n",
       "      <td>0</td>\n",
       "      <td>2012-11-24</td>\n",
       "      <td>23</td>\n",
       "      <td>1006</td>\n",
       "      <td>...</td>\n",
       "      <td>3</td>\n",
       "      <td>0</td>\n",
       "      <td>0</td>\n",
       "      <td>1</td>\n",
       "      <td>1</td>\n",
       "      <td>0</td>\n",
       "      <td>0</td>\n",
       "      <td>3</td>\n",
       "      <td>11</td>\n",
       "      <td>1</td>\n",
       "    </tr>\n",
       "    <tr>\n",
       "      <th>...</th>\n",
       "      <td>...</td>\n",
       "      <td>...</td>\n",
       "      <td>...</td>\n",
       "      <td>...</td>\n",
       "      <td>...</td>\n",
       "      <td>...</td>\n",
       "      <td>...</td>\n",
       "      <td>...</td>\n",
       "      <td>...</td>\n",
       "      <td>...</td>\n",
       "      <td>...</td>\n",
       "      <td>...</td>\n",
       "      <td>...</td>\n",
       "      <td>...</td>\n",
       "      <td>...</td>\n",
       "      <td>...</td>\n",
       "      <td>...</td>\n",
       "      <td>...</td>\n",
       "      <td>...</td>\n",
       "      <td>...</td>\n",
       "      <td>...</td>\n",
       "    </tr>\n",
       "    <tr>\n",
       "      <th>1563</th>\n",
       "      <td>6059</td>\n",
       "      <td>1953</td>\n",
       "      <td>PhD</td>\n",
       "      <td>Together</td>\n",
       "      <td>64504.0</td>\n",
       "      <td>1</td>\n",
       "      <td>2</td>\n",
       "      <td>2013-03-04</td>\n",
       "      <td>81</td>\n",
       "      <td>986</td>\n",
       "      <td>...</td>\n",
       "      <td>7</td>\n",
       "      <td>0</td>\n",
       "      <td>0</td>\n",
       "      <td>0</td>\n",
       "      <td>0</td>\n",
       "      <td>0</td>\n",
       "      <td>0</td>\n",
       "      <td>3</td>\n",
       "      <td>11</td>\n",
       "      <td>1</td>\n",
       "    </tr>\n",
       "    <tr>\n",
       "      <th>1564</th>\n",
       "      <td>7152</td>\n",
       "      <td>1983</td>\n",
       "      <td>Master</td>\n",
       "      <td>Married</td>\n",
       "      <td>27100.0</td>\n",
       "      <td>1</td>\n",
       "      <td>0</td>\n",
       "      <td>2013-04-05</td>\n",
       "      <td>64</td>\n",
       "      <td>12</td>\n",
       "      <td>...</td>\n",
       "      <td>7</td>\n",
       "      <td>0</td>\n",
       "      <td>0</td>\n",
       "      <td>0</td>\n",
       "      <td>0</td>\n",
       "      <td>0</td>\n",
       "      <td>0</td>\n",
       "      <td>3</td>\n",
       "      <td>11</td>\n",
       "      <td>0</td>\n",
       "    </tr>\n",
       "    <tr>\n",
       "      <th>1565</th>\n",
       "      <td>5093</td>\n",
       "      <td>1974</td>\n",
       "      <td>PhD</td>\n",
       "      <td>Divorced</td>\n",
       "      <td>25509.0</td>\n",
       "      <td>1</td>\n",
       "      <td>0</td>\n",
       "      <td>2012-09-18</td>\n",
       "      <td>15</td>\n",
       "      <td>40</td>\n",
       "      <td>...</td>\n",
       "      <td>9</td>\n",
       "      <td>0</td>\n",
       "      <td>0</td>\n",
       "      <td>0</td>\n",
       "      <td>0</td>\n",
       "      <td>0</td>\n",
       "      <td>0</td>\n",
       "      <td>3</td>\n",
       "      <td>11</td>\n",
       "      <td>1</td>\n",
       "    </tr>\n",
       "    <tr>\n",
       "      <th>1566</th>\n",
       "      <td>5036</td>\n",
       "      <td>1984</td>\n",
       "      <td>PhD</td>\n",
       "      <td>Single</td>\n",
       "      <td>42710.0</td>\n",
       "      <td>1</td>\n",
       "      <td>0</td>\n",
       "      <td>2012-11-28</td>\n",
       "      <td>38</td>\n",
       "      <td>252</td>\n",
       "      <td>...</td>\n",
       "      <td>6</td>\n",
       "      <td>0</td>\n",
       "      <td>0</td>\n",
       "      <td>0</td>\n",
       "      <td>0</td>\n",
       "      <td>0</td>\n",
       "      <td>0</td>\n",
       "      <td>3</td>\n",
       "      <td>11</td>\n",
       "      <td>0</td>\n",
       "    </tr>\n",
       "    <tr>\n",
       "      <th>1567</th>\n",
       "      <td>4066</td>\n",
       "      <td>1978</td>\n",
       "      <td>2n Cycle</td>\n",
       "      <td>Divorced</td>\n",
       "      <td>21282.0</td>\n",
       "      <td>1</td>\n",
       "      <td>0</td>\n",
       "      <td>2014-05-11</td>\n",
       "      <td>76</td>\n",
       "      <td>1</td>\n",
       "      <td>...</td>\n",
       "      <td>6</td>\n",
       "      <td>0</td>\n",
       "      <td>0</td>\n",
       "      <td>0</td>\n",
       "      <td>0</td>\n",
       "      <td>0</td>\n",
       "      <td>0</td>\n",
       "      <td>3</td>\n",
       "      <td>11</td>\n",
       "      <td>0</td>\n",
       "    </tr>\n",
       "  </tbody>\n",
       "</table>\n",
       "<p>1568 rows × 29 columns</p>\n",
       "</div>"
      ],
      "text/plain": [
       "        ID  Year_Birth   Education Marital_Status   Income  Kidhome  Teenhome  \\\n",
       "0      500        1977  Graduation       Together  96876.0        0         0   \n",
       "1      176        1980    2n Cycle         Single  67506.0        0         1   \n",
       "2     9262        1984    2n Cycle       Together  32414.0        0         0   \n",
       "3     5252        1969  Graduation       Divorced  23910.0        1         0   \n",
       "4     4261        1946         PhD         Single  82800.0        0         0   \n",
       "...    ...         ...         ...            ...      ...      ...       ...   \n",
       "1563  6059        1953         PhD       Together  64504.0        1         2   \n",
       "1564  7152        1983      Master        Married  27100.0        1         0   \n",
       "1565  5093        1974         PhD       Divorced  25509.0        1         0   \n",
       "1566  5036        1984         PhD         Single  42710.0        1         0   \n",
       "1567  4066        1978    2n Cycle       Divorced  21282.0        1         0   \n",
       "\n",
       "     Dt_Customer  Recency  MntWines  ...  NumWebVisitsMonth  AcceptedCmp3  \\\n",
       "0     2013-08-06       79       908  ...                  2             0   \n",
       "1     2014-01-02       73        90  ...                  3             0   \n",
       "2     2013-07-04       11        20  ...                  7             1   \n",
       "3     2012-10-26       80        16  ...                  7             0   \n",
       "4     2012-11-24       23      1006  ...                  3             0   \n",
       "...          ...      ...       ...  ...                ...           ...   \n",
       "1563  2013-03-04       81       986  ...                  7             0   \n",
       "1564  2013-04-05       64        12  ...                  7             0   \n",
       "1565  2012-09-18       15        40  ...                  9             0   \n",
       "1566  2012-11-28       38       252  ...                  6             0   \n",
       "1567  2014-05-11       76         1  ...                  6             0   \n",
       "\n",
       "      AcceptedCmp4  AcceptedCmp5  AcceptedCmp1  AcceptedCmp2  Complain  \\\n",
       "0                1             1             1             0         0   \n",
       "1                0             0             0             0         0   \n",
       "2                0             0             0             0         0   \n",
       "3                0             0             0             0         0   \n",
       "4                0             1             1             0         0   \n",
       "...            ...           ...           ...           ...       ...   \n",
       "1563             0             0             0             0         0   \n",
       "1564             0             0             0             0         0   \n",
       "1565             0             0             0             0         0   \n",
       "1566             0             0             0             0         0   \n",
       "1567             0             0             0             0         0   \n",
       "\n",
       "      Z_CostContact  Z_Revenue  Response  \n",
       "0                 3         11         1  \n",
       "1                 3         11         0  \n",
       "2                 3         11         0  \n",
       "3                 3         11         0  \n",
       "4                 3         11         1  \n",
       "...             ...        ...       ...  \n",
       "1563              3         11         1  \n",
       "1564              3         11         0  \n",
       "1565              3         11         1  \n",
       "1566              3         11         0  \n",
       "1567              3         11         0  \n",
       "\n",
       "[1568 rows x 29 columns]"
      ]
     },
     "execution_count": 2,
     "metadata": {},
     "output_type": "execute_result"
    }
   ],
   "source": [
    "df = pd.read_csv('week3_datasets/train\\Marketing_Campaign_Train.csv') #Importing the training dataset\n",
    "df"
   ]
  },
  {
   "cell_type": "code",
   "execution_count": 3,
   "id": "improving-indonesia",
   "metadata": {},
   "outputs": [
    {
     "data": {
      "text/html": [
       "<div>\n",
       "<style scoped>\n",
       "    .dataframe tbody tr th:only-of-type {\n",
       "        vertical-align: middle;\n",
       "    }\n",
       "\n",
       "    .dataframe tbody tr th {\n",
       "        vertical-align: top;\n",
       "    }\n",
       "\n",
       "    .dataframe thead th {\n",
       "        text-align: right;\n",
       "    }\n",
       "</style>\n",
       "<table border=\"1\" class=\"dataframe\">\n",
       "  <thead>\n",
       "    <tr style=\"text-align: right;\">\n",
       "      <th></th>\n",
       "      <th>ID</th>\n",
       "      <th>Year_Birth</th>\n",
       "      <th>Education</th>\n",
       "      <th>Marital_Status</th>\n",
       "      <th>Income</th>\n",
       "      <th>Kidhome</th>\n",
       "      <th>Teenhome</th>\n",
       "      <th>Dt_Customer</th>\n",
       "      <th>Recency</th>\n",
       "      <th>MntWines</th>\n",
       "      <th>...</th>\n",
       "      <th>NumWebVisitsMonth</th>\n",
       "      <th>AcceptedCmp3</th>\n",
       "      <th>AcceptedCmp4</th>\n",
       "      <th>AcceptedCmp5</th>\n",
       "      <th>AcceptedCmp1</th>\n",
       "      <th>AcceptedCmp2</th>\n",
       "      <th>Complain</th>\n",
       "      <th>Z_CostContact</th>\n",
       "      <th>Z_Revenue</th>\n",
       "      <th>Response</th>\n",
       "    </tr>\n",
       "  </thead>\n",
       "  <tbody>\n",
       "    <tr>\n",
       "      <th>0</th>\n",
       "      <td>5524</td>\n",
       "      <td>1957</td>\n",
       "      <td>Graduation</td>\n",
       "      <td>Single</td>\n",
       "      <td>58138.0</td>\n",
       "      <td>0</td>\n",
       "      <td>0</td>\n",
       "      <td>2012-09-04</td>\n",
       "      <td>58</td>\n",
       "      <td>635</td>\n",
       "      <td>...</td>\n",
       "      <td>7</td>\n",
       "      <td>0</td>\n",
       "      <td>0</td>\n",
       "      <td>0</td>\n",
       "      <td>0</td>\n",
       "      <td>0</td>\n",
       "      <td>0</td>\n",
       "      <td>3</td>\n",
       "      <td>11</td>\n",
       "      <td>1</td>\n",
       "    </tr>\n",
       "    <tr>\n",
       "      <th>1</th>\n",
       "      <td>1994</td>\n",
       "      <td>1983</td>\n",
       "      <td>Graduation</td>\n",
       "      <td>Married</td>\n",
       "      <td>NaN</td>\n",
       "      <td>1</td>\n",
       "      <td>0</td>\n",
       "      <td>2013-11-15</td>\n",
       "      <td>11</td>\n",
       "      <td>5</td>\n",
       "      <td>...</td>\n",
       "      <td>7</td>\n",
       "      <td>0</td>\n",
       "      <td>0</td>\n",
       "      <td>0</td>\n",
       "      <td>0</td>\n",
       "      <td>0</td>\n",
       "      <td>0</td>\n",
       "      <td>3</td>\n",
       "      <td>11</td>\n",
       "      <td>0</td>\n",
       "    </tr>\n",
       "    <tr>\n",
       "      <th>2</th>\n",
       "      <td>8180</td>\n",
       "      <td>1952</td>\n",
       "      <td>Master</td>\n",
       "      <td>Divorced</td>\n",
       "      <td>59354.0</td>\n",
       "      <td>1</td>\n",
       "      <td>1</td>\n",
       "      <td>2013-11-15</td>\n",
       "      <td>53</td>\n",
       "      <td>233</td>\n",
       "      <td>...</td>\n",
       "      <td>6</td>\n",
       "      <td>0</td>\n",
       "      <td>0</td>\n",
       "      <td>0</td>\n",
       "      <td>0</td>\n",
       "      <td>0</td>\n",
       "      <td>0</td>\n",
       "      <td>3</td>\n",
       "      <td>11</td>\n",
       "      <td>0</td>\n",
       "    </tr>\n",
       "    <tr>\n",
       "      <th>3</th>\n",
       "      <td>9736</td>\n",
       "      <td>1980</td>\n",
       "      <td>Graduation</td>\n",
       "      <td>Married</td>\n",
       "      <td>41850.0</td>\n",
       "      <td>1</td>\n",
       "      <td>1</td>\n",
       "      <td>2012-12-24</td>\n",
       "      <td>51</td>\n",
       "      <td>53</td>\n",
       "      <td>...</td>\n",
       "      <td>8</td>\n",
       "      <td>0</td>\n",
       "      <td>0</td>\n",
       "      <td>0</td>\n",
       "      <td>0</td>\n",
       "      <td>0</td>\n",
       "      <td>0</td>\n",
       "      <td>3</td>\n",
       "      <td>11</td>\n",
       "      <td>0</td>\n",
       "    </tr>\n",
       "    <tr>\n",
       "      <th>4</th>\n",
       "      <td>1993</td>\n",
       "      <td>1949</td>\n",
       "      <td>PhD</td>\n",
       "      <td>Married</td>\n",
       "      <td>58607.0</td>\n",
       "      <td>0</td>\n",
       "      <td>1</td>\n",
       "      <td>2012-12-23</td>\n",
       "      <td>63</td>\n",
       "      <td>867</td>\n",
       "      <td>...</td>\n",
       "      <td>8</td>\n",
       "      <td>0</td>\n",
       "      <td>1</td>\n",
       "      <td>0</td>\n",
       "      <td>0</td>\n",
       "      <td>0</td>\n",
       "      <td>0</td>\n",
       "      <td>3</td>\n",
       "      <td>11</td>\n",
       "      <td>0</td>\n",
       "    </tr>\n",
       "    <tr>\n",
       "      <th>...</th>\n",
       "      <td>...</td>\n",
       "      <td>...</td>\n",
       "      <td>...</td>\n",
       "      <td>...</td>\n",
       "      <td>...</td>\n",
       "      <td>...</td>\n",
       "      <td>...</td>\n",
       "      <td>...</td>\n",
       "      <td>...</td>\n",
       "      <td>...</td>\n",
       "      <td>...</td>\n",
       "      <td>...</td>\n",
       "      <td>...</td>\n",
       "      <td>...</td>\n",
       "      <td>...</td>\n",
       "      <td>...</td>\n",
       "      <td>...</td>\n",
       "      <td>...</td>\n",
       "      <td>...</td>\n",
       "      <td>...</td>\n",
       "      <td>...</td>\n",
       "    </tr>\n",
       "    <tr>\n",
       "      <th>667</th>\n",
       "      <td>4201</td>\n",
       "      <td>1962</td>\n",
       "      <td>Graduation</td>\n",
       "      <td>Single</td>\n",
       "      <td>57967.0</td>\n",
       "      <td>0</td>\n",
       "      <td>1</td>\n",
       "      <td>2013-03-03</td>\n",
       "      <td>39</td>\n",
       "      <td>229</td>\n",
       "      <td>...</td>\n",
       "      <td>5</td>\n",
       "      <td>0</td>\n",
       "      <td>0</td>\n",
       "      <td>0</td>\n",
       "      <td>0</td>\n",
       "      <td>0</td>\n",
       "      <td>0</td>\n",
       "      <td>3</td>\n",
       "      <td>11</td>\n",
       "      <td>0</td>\n",
       "    </tr>\n",
       "    <tr>\n",
       "      <th>668</th>\n",
       "      <td>10084</td>\n",
       "      <td>1972</td>\n",
       "      <td>Graduation</td>\n",
       "      <td>Married</td>\n",
       "      <td>24434.0</td>\n",
       "      <td>2</td>\n",
       "      <td>0</td>\n",
       "      <td>2014-05-18</td>\n",
       "      <td>9</td>\n",
       "      <td>3</td>\n",
       "      <td>...</td>\n",
       "      <td>7</td>\n",
       "      <td>0</td>\n",
       "      <td>0</td>\n",
       "      <td>0</td>\n",
       "      <td>0</td>\n",
       "      <td>0</td>\n",
       "      <td>0</td>\n",
       "      <td>3</td>\n",
       "      <td>11</td>\n",
       "      <td>0</td>\n",
       "    </tr>\n",
       "    <tr>\n",
       "      <th>669</th>\n",
       "      <td>9817</td>\n",
       "      <td>1970</td>\n",
       "      <td>Master</td>\n",
       "      <td>Single</td>\n",
       "      <td>44802.0</td>\n",
       "      <td>0</td>\n",
       "      <td>0</td>\n",
       "      <td>2012-08-21</td>\n",
       "      <td>71</td>\n",
       "      <td>853</td>\n",
       "      <td>...</td>\n",
       "      <td>8</td>\n",
       "      <td>0</td>\n",
       "      <td>0</td>\n",
       "      <td>0</td>\n",
       "      <td>0</td>\n",
       "      <td>0</td>\n",
       "      <td>0</td>\n",
       "      <td>3</td>\n",
       "      <td>11</td>\n",
       "      <td>0</td>\n",
       "    </tr>\n",
       "    <tr>\n",
       "      <th>670</th>\n",
       "      <td>9432</td>\n",
       "      <td>1977</td>\n",
       "      <td>Graduation</td>\n",
       "      <td>Together</td>\n",
       "      <td>666666.0</td>\n",
       "      <td>1</td>\n",
       "      <td>0</td>\n",
       "      <td>2013-06-02</td>\n",
       "      <td>23</td>\n",
       "      <td>9</td>\n",
       "      <td>...</td>\n",
       "      <td>6</td>\n",
       "      <td>0</td>\n",
       "      <td>0</td>\n",
       "      <td>0</td>\n",
       "      <td>0</td>\n",
       "      <td>0</td>\n",
       "      <td>0</td>\n",
       "      <td>3</td>\n",
       "      <td>11</td>\n",
       "      <td>0</td>\n",
       "    </tr>\n",
       "    <tr>\n",
       "      <th>671</th>\n",
       "      <td>8372</td>\n",
       "      <td>1974</td>\n",
       "      <td>Graduation</td>\n",
       "      <td>Married</td>\n",
       "      <td>34421.0</td>\n",
       "      <td>1</td>\n",
       "      <td>0</td>\n",
       "      <td>2013-07-01</td>\n",
       "      <td>81</td>\n",
       "      <td>3</td>\n",
       "      <td>...</td>\n",
       "      <td>7</td>\n",
       "      <td>0</td>\n",
       "      <td>0</td>\n",
       "      <td>0</td>\n",
       "      <td>0</td>\n",
       "      <td>0</td>\n",
       "      <td>0</td>\n",
       "      <td>3</td>\n",
       "      <td>11</td>\n",
       "      <td>0</td>\n",
       "    </tr>\n",
       "  </tbody>\n",
       "</table>\n",
       "<p>672 rows × 29 columns</p>\n",
       "</div>"
      ],
      "text/plain": [
       "        ID  Year_Birth   Education Marital_Status    Income  Kidhome  \\\n",
       "0     5524        1957  Graduation         Single   58138.0        0   \n",
       "1     1994        1983  Graduation        Married       NaN        1   \n",
       "2     8180        1952      Master       Divorced   59354.0        1   \n",
       "3     9736        1980  Graduation        Married   41850.0        1   \n",
       "4     1993        1949         PhD        Married   58607.0        0   \n",
       "..     ...         ...         ...            ...       ...      ...   \n",
       "667   4201        1962  Graduation         Single   57967.0        0   \n",
       "668  10084        1972  Graduation        Married   24434.0        2   \n",
       "669   9817        1970      Master         Single   44802.0        0   \n",
       "670   9432        1977  Graduation       Together  666666.0        1   \n",
       "671   8372        1974  Graduation        Married   34421.0        1   \n",
       "\n",
       "     Teenhome Dt_Customer  Recency  MntWines  ...  NumWebVisitsMonth  \\\n",
       "0           0  2012-09-04       58       635  ...                  7   \n",
       "1           0  2013-11-15       11         5  ...                  7   \n",
       "2           1  2013-11-15       53       233  ...                  6   \n",
       "3           1  2012-12-24       51        53  ...                  8   \n",
       "4           1  2012-12-23       63       867  ...                  8   \n",
       "..        ...         ...      ...       ...  ...                ...   \n",
       "667         1  2013-03-03       39       229  ...                  5   \n",
       "668         0  2014-05-18        9         3  ...                  7   \n",
       "669         0  2012-08-21       71       853  ...                  8   \n",
       "670         0  2013-06-02       23         9  ...                  6   \n",
       "671         0  2013-07-01       81         3  ...                  7   \n",
       "\n",
       "     AcceptedCmp3  AcceptedCmp4  AcceptedCmp5  AcceptedCmp1  AcceptedCmp2  \\\n",
       "0               0             0             0             0             0   \n",
       "1               0             0             0             0             0   \n",
       "2               0             0             0             0             0   \n",
       "3               0             0             0             0             0   \n",
       "4               0             1             0             0             0   \n",
       "..            ...           ...           ...           ...           ...   \n",
       "667             0             0             0             0             0   \n",
       "668             0             0             0             0             0   \n",
       "669             0             0             0             0             0   \n",
       "670             0             0             0             0             0   \n",
       "671             0             0             0             0             0   \n",
       "\n",
       "     Complain  Z_CostContact  Z_Revenue  Response  \n",
       "0           0              3         11         1  \n",
       "1           0              3         11         0  \n",
       "2           0              3         11         0  \n",
       "3           0              3         11         0  \n",
       "4           0              3         11         0  \n",
       "..        ...            ...        ...       ...  \n",
       "667         0              3         11         0  \n",
       "668         0              3         11         0  \n",
       "669         0              3         11         0  \n",
       "670         0              3         11         0  \n",
       "671         0              3         11         0  \n",
       "\n",
       "[672 rows x 29 columns]"
      ]
     },
     "execution_count": 3,
     "metadata": {},
     "output_type": "execute_result"
    }
   ],
   "source": [
    "test_df = pd.read_csv('week3_datasets/test/Marketing_Campaign_Test.csv') #importing the testing dataset\n",
    "test_df"
   ]
  },
  {
   "cell_type": "code",
   "execution_count": 4,
   "id": "binary-table",
   "metadata": {},
   "outputs": [
    {
     "data": {
      "text/html": [
       "<div>\n",
       "<style scoped>\n",
       "    .dataframe tbody tr th:only-of-type {\n",
       "        vertical-align: middle;\n",
       "    }\n",
       "\n",
       "    .dataframe tbody tr th {\n",
       "        vertical-align: top;\n",
       "    }\n",
       "\n",
       "    .dataframe thead th {\n",
       "        text-align: right;\n",
       "    }\n",
       "</style>\n",
       "<table border=\"1\" class=\"dataframe\">\n",
       "  <thead>\n",
       "    <tr style=\"text-align: right;\">\n",
       "      <th></th>\n",
       "      <th>ID</th>\n",
       "      <th>Year_Birth</th>\n",
       "      <th>Income</th>\n",
       "      <th>Kidhome</th>\n",
       "      <th>Teenhome</th>\n",
       "      <th>Recency</th>\n",
       "      <th>MntWines</th>\n",
       "      <th>MntFruits</th>\n",
       "      <th>MntMeatProducts</th>\n",
       "      <th>MntFishProducts</th>\n",
       "      <th>...</th>\n",
       "      <th>NumWebVisitsMonth</th>\n",
       "      <th>AcceptedCmp3</th>\n",
       "      <th>AcceptedCmp4</th>\n",
       "      <th>AcceptedCmp5</th>\n",
       "      <th>AcceptedCmp1</th>\n",
       "      <th>AcceptedCmp2</th>\n",
       "      <th>Complain</th>\n",
       "      <th>Z_CostContact</th>\n",
       "      <th>Z_Revenue</th>\n",
       "      <th>Response</th>\n",
       "    </tr>\n",
       "  </thead>\n",
       "  <tbody>\n",
       "    <tr>\n",
       "      <th>count</th>\n",
       "      <td>1568.000000</td>\n",
       "      <td>1568.000000</td>\n",
       "      <td>1556.000000</td>\n",
       "      <td>1568.000000</td>\n",
       "      <td>1568.000000</td>\n",
       "      <td>1568.000000</td>\n",
       "      <td>1568.000000</td>\n",
       "      <td>1568.000000</td>\n",
       "      <td>1568.000000</td>\n",
       "      <td>1568.000000</td>\n",
       "      <td>...</td>\n",
       "      <td>1568.000000</td>\n",
       "      <td>1568.000000</td>\n",
       "      <td>1568.000000</td>\n",
       "      <td>1568.000000</td>\n",
       "      <td>1568.000000</td>\n",
       "      <td>1568.000000</td>\n",
       "      <td>1568.000000</td>\n",
       "      <td>1568.0</td>\n",
       "      <td>1568.0</td>\n",
       "      <td>1568.000000</td>\n",
       "    </tr>\n",
       "    <tr>\n",
       "      <th>mean</th>\n",
       "      <td>5608.586097</td>\n",
       "      <td>1968.935587</td>\n",
       "      <td>52089.928663</td>\n",
       "      <td>0.436862</td>\n",
       "      <td>0.501913</td>\n",
       "      <td>48.708546</td>\n",
       "      <td>307.669643</td>\n",
       "      <td>26.200893</td>\n",
       "      <td>172.030612</td>\n",
       "      <td>37.669005</td>\n",
       "      <td>...</td>\n",
       "      <td>5.255102</td>\n",
       "      <td>0.075893</td>\n",
       "      <td>0.075893</td>\n",
       "      <td>0.070791</td>\n",
       "      <td>0.063138</td>\n",
       "      <td>0.015306</td>\n",
       "      <td>0.009566</td>\n",
       "      <td>3.0</td>\n",
       "      <td>11.0</td>\n",
       "      <td>0.149872</td>\n",
       "    </tr>\n",
       "    <tr>\n",
       "      <th>std</th>\n",
       "      <td>3244.691144</td>\n",
       "      <td>12.066887</td>\n",
       "      <td>21423.626945</td>\n",
       "      <td>0.538113</td>\n",
       "      <td>0.545325</td>\n",
       "      <td>28.973106</td>\n",
       "      <td>335.436382</td>\n",
       "      <td>39.652638</td>\n",
       "      <td>230.678576</td>\n",
       "      <td>54.857646</td>\n",
       "      <td>...</td>\n",
       "      <td>2.437994</td>\n",
       "      <td>0.264911</td>\n",
       "      <td>0.264911</td>\n",
       "      <td>0.256557</td>\n",
       "      <td>0.243288</td>\n",
       "      <td>0.122807</td>\n",
       "      <td>0.097370</td>\n",
       "      <td>0.0</td>\n",
       "      <td>0.0</td>\n",
       "      <td>0.357060</td>\n",
       "    </tr>\n",
       "    <tr>\n",
       "      <th>min</th>\n",
       "      <td>0.000000</td>\n",
       "      <td>1893.000000</td>\n",
       "      <td>1730.000000</td>\n",
       "      <td>0.000000</td>\n",
       "      <td>0.000000</td>\n",
       "      <td>0.000000</td>\n",
       "      <td>0.000000</td>\n",
       "      <td>0.000000</td>\n",
       "      <td>1.000000</td>\n",
       "      <td>0.000000</td>\n",
       "      <td>...</td>\n",
       "      <td>0.000000</td>\n",
       "      <td>0.000000</td>\n",
       "      <td>0.000000</td>\n",
       "      <td>0.000000</td>\n",
       "      <td>0.000000</td>\n",
       "      <td>0.000000</td>\n",
       "      <td>0.000000</td>\n",
       "      <td>3.0</td>\n",
       "      <td>11.0</td>\n",
       "      <td>0.000000</td>\n",
       "    </tr>\n",
       "    <tr>\n",
       "      <th>25%</th>\n",
       "      <td>2859.000000</td>\n",
       "      <td>1959.000000</td>\n",
       "      <td>35303.000000</td>\n",
       "      <td>0.000000</td>\n",
       "      <td>0.000000</td>\n",
       "      <td>24.000000</td>\n",
       "      <td>25.000000</td>\n",
       "      <td>1.750000</td>\n",
       "      <td>16.000000</td>\n",
       "      <td>3.000000</td>\n",
       "      <td>...</td>\n",
       "      <td>3.000000</td>\n",
       "      <td>0.000000</td>\n",
       "      <td>0.000000</td>\n",
       "      <td>0.000000</td>\n",
       "      <td>0.000000</td>\n",
       "      <td>0.000000</td>\n",
       "      <td>0.000000</td>\n",
       "      <td>3.0</td>\n",
       "      <td>11.0</td>\n",
       "      <td>0.000000</td>\n",
       "    </tr>\n",
       "    <tr>\n",
       "      <th>50%</th>\n",
       "      <td>5500.500000</td>\n",
       "      <td>1970.000000</td>\n",
       "      <td>52173.500000</td>\n",
       "      <td>0.000000</td>\n",
       "      <td>0.000000</td>\n",
       "      <td>49.000000</td>\n",
       "      <td>180.000000</td>\n",
       "      <td>8.000000</td>\n",
       "      <td>69.000000</td>\n",
       "      <td>12.000000</td>\n",
       "      <td>...</td>\n",
       "      <td>6.000000</td>\n",
       "      <td>0.000000</td>\n",
       "      <td>0.000000</td>\n",
       "      <td>0.000000</td>\n",
       "      <td>0.000000</td>\n",
       "      <td>0.000000</td>\n",
       "      <td>0.000000</td>\n",
       "      <td>3.0</td>\n",
       "      <td>11.0</td>\n",
       "      <td>0.000000</td>\n",
       "    </tr>\n",
       "    <tr>\n",
       "      <th>75%</th>\n",
       "      <td>8479.250000</td>\n",
       "      <td>1978.000000</td>\n",
       "      <td>68413.250000</td>\n",
       "      <td>1.000000</td>\n",
       "      <td>1.000000</td>\n",
       "      <td>74.000000</td>\n",
       "      <td>509.000000</td>\n",
       "      <td>32.000000</td>\n",
       "      <td>238.000000</td>\n",
       "      <td>50.000000</td>\n",
       "      <td>...</td>\n",
       "      <td>7.000000</td>\n",
       "      <td>0.000000</td>\n",
       "      <td>0.000000</td>\n",
       "      <td>0.000000</td>\n",
       "      <td>0.000000</td>\n",
       "      <td>0.000000</td>\n",
       "      <td>0.000000</td>\n",
       "      <td>3.0</td>\n",
       "      <td>11.0</td>\n",
       "      <td>0.000000</td>\n",
       "    </tr>\n",
       "    <tr>\n",
       "      <th>max</th>\n",
       "      <td>11191.000000</td>\n",
       "      <td>1996.000000</td>\n",
       "      <td>162397.000000</td>\n",
       "      <td>2.000000</td>\n",
       "      <td>2.000000</td>\n",
       "      <td>99.000000</td>\n",
       "      <td>1493.000000</td>\n",
       "      <td>199.000000</td>\n",
       "      <td>1725.000000</td>\n",
       "      <td>259.000000</td>\n",
       "      <td>...</td>\n",
       "      <td>20.000000</td>\n",
       "      <td>1.000000</td>\n",
       "      <td>1.000000</td>\n",
       "      <td>1.000000</td>\n",
       "      <td>1.000000</td>\n",
       "      <td>1.000000</td>\n",
       "      <td>1.000000</td>\n",
       "      <td>3.0</td>\n",
       "      <td>11.0</td>\n",
       "      <td>1.000000</td>\n",
       "    </tr>\n",
       "  </tbody>\n",
       "</table>\n",
       "<p>8 rows × 26 columns</p>\n",
       "</div>"
      ],
      "text/plain": [
       "                 ID   Year_Birth         Income      Kidhome     Teenhome  \\\n",
       "count   1568.000000  1568.000000    1556.000000  1568.000000  1568.000000   \n",
       "mean    5608.586097  1968.935587   52089.928663     0.436862     0.501913   \n",
       "std     3244.691144    12.066887   21423.626945     0.538113     0.545325   \n",
       "min        0.000000  1893.000000    1730.000000     0.000000     0.000000   \n",
       "25%     2859.000000  1959.000000   35303.000000     0.000000     0.000000   \n",
       "50%     5500.500000  1970.000000   52173.500000     0.000000     0.000000   \n",
       "75%     8479.250000  1978.000000   68413.250000     1.000000     1.000000   \n",
       "max    11191.000000  1996.000000  162397.000000     2.000000     2.000000   \n",
       "\n",
       "           Recency     MntWines    MntFruits  MntMeatProducts  \\\n",
       "count  1568.000000  1568.000000  1568.000000      1568.000000   \n",
       "mean     48.708546   307.669643    26.200893       172.030612   \n",
       "std      28.973106   335.436382    39.652638       230.678576   \n",
       "min       0.000000     0.000000     0.000000         1.000000   \n",
       "25%      24.000000    25.000000     1.750000        16.000000   \n",
       "50%      49.000000   180.000000     8.000000        69.000000   \n",
       "75%      74.000000   509.000000    32.000000       238.000000   \n",
       "max      99.000000  1493.000000   199.000000      1725.000000   \n",
       "\n",
       "       MntFishProducts  ...  NumWebVisitsMonth  AcceptedCmp3  AcceptedCmp4  \\\n",
       "count      1568.000000  ...        1568.000000   1568.000000   1568.000000   \n",
       "mean         37.669005  ...           5.255102      0.075893      0.075893   \n",
       "std          54.857646  ...           2.437994      0.264911      0.264911   \n",
       "min           0.000000  ...           0.000000      0.000000      0.000000   \n",
       "25%           3.000000  ...           3.000000      0.000000      0.000000   \n",
       "50%          12.000000  ...           6.000000      0.000000      0.000000   \n",
       "75%          50.000000  ...           7.000000      0.000000      0.000000   \n",
       "max         259.000000  ...          20.000000      1.000000      1.000000   \n",
       "\n",
       "       AcceptedCmp5  AcceptedCmp1  AcceptedCmp2     Complain  Z_CostContact  \\\n",
       "count   1568.000000   1568.000000   1568.000000  1568.000000         1568.0   \n",
       "mean       0.070791      0.063138      0.015306     0.009566            3.0   \n",
       "std        0.256557      0.243288      0.122807     0.097370            0.0   \n",
       "min        0.000000      0.000000      0.000000     0.000000            3.0   \n",
       "25%        0.000000      0.000000      0.000000     0.000000            3.0   \n",
       "50%        0.000000      0.000000      0.000000     0.000000            3.0   \n",
       "75%        0.000000      0.000000      0.000000     0.000000            3.0   \n",
       "max        1.000000      1.000000      1.000000     1.000000            3.0   \n",
       "\n",
       "       Z_Revenue     Response  \n",
       "count     1568.0  1568.000000  \n",
       "mean        11.0     0.149872  \n",
       "std          0.0     0.357060  \n",
       "min         11.0     0.000000  \n",
       "25%         11.0     0.000000  \n",
       "50%         11.0     0.000000  \n",
       "75%         11.0     0.000000  \n",
       "max         11.0     1.000000  \n",
       "\n",
       "[8 rows x 26 columns]"
      ]
     },
     "execution_count": 4,
     "metadata": {},
     "output_type": "execute_result"
    }
   ],
   "source": [
    "df.describe()"
   ]
  },
  {
   "cell_type": "markdown",
   "id": "optimum-netherlands",
   "metadata": {},
   "source": [
    "# Feature Engineering\n",
    "\n",
    "Perfomring feature engineering on the dataset to determine the best features that would be used to train the various algorithms.\n",
    "This involves changing other types to float or int so as to make training easier."
   ]
  },
  {
   "cell_type": "markdown",
   "id": "genuine-transmission",
   "metadata": {},
   "source": [
    "## Converting the values of Marital_status and Education into columns\n",
    "Machine Learning should be performed on numerical values, the values in both series are strings, in order to fix this, each value is made a column and assigned a 1 where is occurs on the original series and 0 where it doesn't."
   ]
  },
  {
   "cell_type": "code",
   "execution_count": 5,
   "id": "italian-vermont",
   "metadata": {},
   "outputs": [
    {
     "data": {
      "text/plain": [
       "array(['Together', 'Single', 'Divorced', 'Married', 'Widow', 'Alone',\n",
       "       'Absurd', 'YOLO'], dtype=object)"
      ]
     },
     "execution_count": 5,
     "metadata": {},
     "output_type": "execute_result"
    }
   ],
   "source": [
    "df.Marital_Status.unique() #finiding all unique values in the marital status series"
   ]
  },
  {
   "cell_type": "code",
   "execution_count": 6,
   "id": "moral-burden",
   "metadata": {},
   "outputs": [],
   "source": [
    "df['Together'] = (df['Marital_Status'] == 'Together').astype('int') #making every value in the marital status series into its own column where 0 neabs false and 1 means true\n",
    "df['Single'] = (df['Marital_Status'] == 'Single').astype('int')\n",
    "df['Divorced'] = (df['Marital_Status'] == 'Divorced').astype('int')\n",
    "df['Married'] = (df['Marital_Status'] == 'Married').astype('int')\n",
    "df['Widow'] = (df['Marital_Status'] == 'Widow').astype('int')\n",
    "df['Alone'] = (df['Marital_Status'] == 'Alone').astype('int')\n",
    "df['Absurd'] = (df['Marital_Status'] == 'Absurd').astype('int')\n",
    "df['Yolo'] = (df['Marital_Status'] == 'Yolo').astype('int')"
   ]
  },
  {
   "cell_type": "code",
   "execution_count": 7,
   "id": "innocent-islam",
   "metadata": {},
   "outputs": [
    {
     "data": {
      "text/plain": [
       "array(['Graduation', '2n Cycle', 'PhD', 'Basic', 'Master'], dtype=object)"
      ]
     },
     "execution_count": 7,
     "metadata": {},
     "output_type": "execute_result"
    }
   ],
   "source": [
    "df.Education.unique() #finiding all unique values in the graduation series"
   ]
  },
  {
   "cell_type": "code",
   "execution_count": 8,
   "id": "blocked-installation",
   "metadata": {},
   "outputs": [],
   "source": [
    "df['Graduation'] = (df['Education'] == 'Graduation').astype('int') #making each value a column as in marital status\n",
    "df['2n Cycle'] = (df['Education'] == '2n Cycle').astype('int')\n",
    "df['PhD'] = (df['Education'] == 'PhD').astype('int')\n",
    "df['Basic'] = (df['Education'] == 'Basic').astype('int')\n",
    "df['Master'] = (df['Education'] == 'Master').astype('int')"
   ]
  },
  {
   "cell_type": "markdown",
   "id": "sporting-belle",
   "metadata": {},
   "source": [
    "## Converting the values of Marital_status and Education into columns for the test dataset\n",
    "to make sure the features in both the training and testing dataset match the same feature engineering is performed on both"
   ]
  },
  {
   "cell_type": "code",
   "execution_count": 9,
   "id": "metric-blast",
   "metadata": {},
   "outputs": [],
   "source": [
    "test_df['Together'] = (test_df['Marital_Status'] == 'Together').astype('int') #making every value in the marital status series into its own column where 0 neabs false and 1 means true\n",
    "test_df['Single'] = (test_df['Marital_Status'] == 'Single').astype('int')\n",
    "test_df['Divorced'] = (test_df['Marital_Status'] == 'Divorced').astype('int')\n",
    "test_df['Married'] = (test_df['Marital_Status'] == 'Married').astype('int')\n",
    "test_df['Widow'] = (test_df['Marital_Status'] == 'Widow').astype('int')\n",
    "test_df['Alone'] = (test_df['Marital_Status'] == 'Alone').astype('int')\n",
    "test_df['Absurd'] = (test_df['Marital_Status'] == 'Absurd').astype('int')\n",
    "test_df['Yolo'] = (test_df['Marital_Status'] == 'Yolo').astype('int')"
   ]
  },
  {
   "cell_type": "code",
   "execution_count": 10,
   "id": "private-studio",
   "metadata": {},
   "outputs": [],
   "source": [
    "test_df['Graduation'] = (test_df['Education'] == 'Graduation').astype('int') #making each value a column as in marital status\n",
    "test_df['2n Cycle'] = (test_df['Education'] == '2n Cycle').astype('int')\n",
    "test_df['PhD'] = (test_df['Education'] == 'PhD').astype('int')\n",
    "test_df['Basic'] = (test_df['Education'] == 'Basic').astype('int')\n",
    "test_df['Master'] = (test_df['Education'] == 'Master').astype('int')"
   ]
  },
  {
   "cell_type": "code",
   "execution_count": 11,
   "id": "conditional-taylor",
   "metadata": {},
   "outputs": [
    {
     "data": {
      "text/html": [
       "<div>\n",
       "<style scoped>\n",
       "    .dataframe tbody tr th:only-of-type {\n",
       "        vertical-align: middle;\n",
       "    }\n",
       "\n",
       "    .dataframe tbody tr th {\n",
       "        vertical-align: top;\n",
       "    }\n",
       "\n",
       "    .dataframe thead th {\n",
       "        text-align: right;\n",
       "    }\n",
       "</style>\n",
       "<table border=\"1\" class=\"dataframe\">\n",
       "  <thead>\n",
       "    <tr style=\"text-align: right;\">\n",
       "      <th></th>\n",
       "      <th>ID</th>\n",
       "      <th>Year_Birth</th>\n",
       "      <th>Education</th>\n",
       "      <th>Marital_Status</th>\n",
       "      <th>Income</th>\n",
       "      <th>Kidhome</th>\n",
       "      <th>Teenhome</th>\n",
       "      <th>Dt_Customer</th>\n",
       "      <th>Recency</th>\n",
       "      <th>MntWines</th>\n",
       "      <th>...</th>\n",
       "      <th>Married</th>\n",
       "      <th>Widow</th>\n",
       "      <th>Alone</th>\n",
       "      <th>Absurd</th>\n",
       "      <th>Yolo</th>\n",
       "      <th>Graduation</th>\n",
       "      <th>2n Cycle</th>\n",
       "      <th>PhD</th>\n",
       "      <th>Basic</th>\n",
       "      <th>Master</th>\n",
       "    </tr>\n",
       "  </thead>\n",
       "  <tbody>\n",
       "    <tr>\n",
       "      <th>0</th>\n",
       "      <td>5524</td>\n",
       "      <td>1957</td>\n",
       "      <td>Graduation</td>\n",
       "      <td>Single</td>\n",
       "      <td>58138.0</td>\n",
       "      <td>0</td>\n",
       "      <td>0</td>\n",
       "      <td>2012-09-04</td>\n",
       "      <td>58</td>\n",
       "      <td>635</td>\n",
       "      <td>...</td>\n",
       "      <td>0</td>\n",
       "      <td>0</td>\n",
       "      <td>0</td>\n",
       "      <td>0</td>\n",
       "      <td>0</td>\n",
       "      <td>1</td>\n",
       "      <td>0</td>\n",
       "      <td>0</td>\n",
       "      <td>0</td>\n",
       "      <td>0</td>\n",
       "    </tr>\n",
       "    <tr>\n",
       "      <th>1</th>\n",
       "      <td>1994</td>\n",
       "      <td>1983</td>\n",
       "      <td>Graduation</td>\n",
       "      <td>Married</td>\n",
       "      <td>NaN</td>\n",
       "      <td>1</td>\n",
       "      <td>0</td>\n",
       "      <td>2013-11-15</td>\n",
       "      <td>11</td>\n",
       "      <td>5</td>\n",
       "      <td>...</td>\n",
       "      <td>1</td>\n",
       "      <td>0</td>\n",
       "      <td>0</td>\n",
       "      <td>0</td>\n",
       "      <td>0</td>\n",
       "      <td>1</td>\n",
       "      <td>0</td>\n",
       "      <td>0</td>\n",
       "      <td>0</td>\n",
       "      <td>0</td>\n",
       "    </tr>\n",
       "    <tr>\n",
       "      <th>2</th>\n",
       "      <td>8180</td>\n",
       "      <td>1952</td>\n",
       "      <td>Master</td>\n",
       "      <td>Divorced</td>\n",
       "      <td>59354.0</td>\n",
       "      <td>1</td>\n",
       "      <td>1</td>\n",
       "      <td>2013-11-15</td>\n",
       "      <td>53</td>\n",
       "      <td>233</td>\n",
       "      <td>...</td>\n",
       "      <td>0</td>\n",
       "      <td>0</td>\n",
       "      <td>0</td>\n",
       "      <td>0</td>\n",
       "      <td>0</td>\n",
       "      <td>0</td>\n",
       "      <td>0</td>\n",
       "      <td>0</td>\n",
       "      <td>0</td>\n",
       "      <td>1</td>\n",
       "    </tr>\n",
       "    <tr>\n",
       "      <th>3</th>\n",
       "      <td>9736</td>\n",
       "      <td>1980</td>\n",
       "      <td>Graduation</td>\n",
       "      <td>Married</td>\n",
       "      <td>41850.0</td>\n",
       "      <td>1</td>\n",
       "      <td>1</td>\n",
       "      <td>2012-12-24</td>\n",
       "      <td>51</td>\n",
       "      <td>53</td>\n",
       "      <td>...</td>\n",
       "      <td>1</td>\n",
       "      <td>0</td>\n",
       "      <td>0</td>\n",
       "      <td>0</td>\n",
       "      <td>0</td>\n",
       "      <td>1</td>\n",
       "      <td>0</td>\n",
       "      <td>0</td>\n",
       "      <td>0</td>\n",
       "      <td>0</td>\n",
       "    </tr>\n",
       "    <tr>\n",
       "      <th>4</th>\n",
       "      <td>1993</td>\n",
       "      <td>1949</td>\n",
       "      <td>PhD</td>\n",
       "      <td>Married</td>\n",
       "      <td>58607.0</td>\n",
       "      <td>0</td>\n",
       "      <td>1</td>\n",
       "      <td>2012-12-23</td>\n",
       "      <td>63</td>\n",
       "      <td>867</td>\n",
       "      <td>...</td>\n",
       "      <td>1</td>\n",
       "      <td>0</td>\n",
       "      <td>0</td>\n",
       "      <td>0</td>\n",
       "      <td>0</td>\n",
       "      <td>0</td>\n",
       "      <td>0</td>\n",
       "      <td>1</td>\n",
       "      <td>0</td>\n",
       "      <td>0</td>\n",
       "    </tr>\n",
       "    <tr>\n",
       "      <th>...</th>\n",
       "      <td>...</td>\n",
       "      <td>...</td>\n",
       "      <td>...</td>\n",
       "      <td>...</td>\n",
       "      <td>...</td>\n",
       "      <td>...</td>\n",
       "      <td>...</td>\n",
       "      <td>...</td>\n",
       "      <td>...</td>\n",
       "      <td>...</td>\n",
       "      <td>...</td>\n",
       "      <td>...</td>\n",
       "      <td>...</td>\n",
       "      <td>...</td>\n",
       "      <td>...</td>\n",
       "      <td>...</td>\n",
       "      <td>...</td>\n",
       "      <td>...</td>\n",
       "      <td>...</td>\n",
       "      <td>...</td>\n",
       "      <td>...</td>\n",
       "    </tr>\n",
       "    <tr>\n",
       "      <th>667</th>\n",
       "      <td>4201</td>\n",
       "      <td>1962</td>\n",
       "      <td>Graduation</td>\n",
       "      <td>Single</td>\n",
       "      <td>57967.0</td>\n",
       "      <td>0</td>\n",
       "      <td>1</td>\n",
       "      <td>2013-03-03</td>\n",
       "      <td>39</td>\n",
       "      <td>229</td>\n",
       "      <td>...</td>\n",
       "      <td>0</td>\n",
       "      <td>0</td>\n",
       "      <td>0</td>\n",
       "      <td>0</td>\n",
       "      <td>0</td>\n",
       "      <td>1</td>\n",
       "      <td>0</td>\n",
       "      <td>0</td>\n",
       "      <td>0</td>\n",
       "      <td>0</td>\n",
       "    </tr>\n",
       "    <tr>\n",
       "      <th>668</th>\n",
       "      <td>10084</td>\n",
       "      <td>1972</td>\n",
       "      <td>Graduation</td>\n",
       "      <td>Married</td>\n",
       "      <td>24434.0</td>\n",
       "      <td>2</td>\n",
       "      <td>0</td>\n",
       "      <td>2014-05-18</td>\n",
       "      <td>9</td>\n",
       "      <td>3</td>\n",
       "      <td>...</td>\n",
       "      <td>1</td>\n",
       "      <td>0</td>\n",
       "      <td>0</td>\n",
       "      <td>0</td>\n",
       "      <td>0</td>\n",
       "      <td>1</td>\n",
       "      <td>0</td>\n",
       "      <td>0</td>\n",
       "      <td>0</td>\n",
       "      <td>0</td>\n",
       "    </tr>\n",
       "    <tr>\n",
       "      <th>669</th>\n",
       "      <td>9817</td>\n",
       "      <td>1970</td>\n",
       "      <td>Master</td>\n",
       "      <td>Single</td>\n",
       "      <td>44802.0</td>\n",
       "      <td>0</td>\n",
       "      <td>0</td>\n",
       "      <td>2012-08-21</td>\n",
       "      <td>71</td>\n",
       "      <td>853</td>\n",
       "      <td>...</td>\n",
       "      <td>0</td>\n",
       "      <td>0</td>\n",
       "      <td>0</td>\n",
       "      <td>0</td>\n",
       "      <td>0</td>\n",
       "      <td>0</td>\n",
       "      <td>0</td>\n",
       "      <td>0</td>\n",
       "      <td>0</td>\n",
       "      <td>1</td>\n",
       "    </tr>\n",
       "    <tr>\n",
       "      <th>670</th>\n",
       "      <td>9432</td>\n",
       "      <td>1977</td>\n",
       "      <td>Graduation</td>\n",
       "      <td>Together</td>\n",
       "      <td>666666.0</td>\n",
       "      <td>1</td>\n",
       "      <td>0</td>\n",
       "      <td>2013-06-02</td>\n",
       "      <td>23</td>\n",
       "      <td>9</td>\n",
       "      <td>...</td>\n",
       "      <td>0</td>\n",
       "      <td>0</td>\n",
       "      <td>0</td>\n",
       "      <td>0</td>\n",
       "      <td>0</td>\n",
       "      <td>1</td>\n",
       "      <td>0</td>\n",
       "      <td>0</td>\n",
       "      <td>0</td>\n",
       "      <td>0</td>\n",
       "    </tr>\n",
       "    <tr>\n",
       "      <th>671</th>\n",
       "      <td>8372</td>\n",
       "      <td>1974</td>\n",
       "      <td>Graduation</td>\n",
       "      <td>Married</td>\n",
       "      <td>34421.0</td>\n",
       "      <td>1</td>\n",
       "      <td>0</td>\n",
       "      <td>2013-07-01</td>\n",
       "      <td>81</td>\n",
       "      <td>3</td>\n",
       "      <td>...</td>\n",
       "      <td>1</td>\n",
       "      <td>0</td>\n",
       "      <td>0</td>\n",
       "      <td>0</td>\n",
       "      <td>0</td>\n",
       "      <td>1</td>\n",
       "      <td>0</td>\n",
       "      <td>0</td>\n",
       "      <td>0</td>\n",
       "      <td>0</td>\n",
       "    </tr>\n",
       "  </tbody>\n",
       "</table>\n",
       "<p>672 rows × 42 columns</p>\n",
       "</div>"
      ],
      "text/plain": [
       "        ID  Year_Birth   Education Marital_Status    Income  Kidhome  \\\n",
       "0     5524        1957  Graduation         Single   58138.0        0   \n",
       "1     1994        1983  Graduation        Married       NaN        1   \n",
       "2     8180        1952      Master       Divorced   59354.0        1   \n",
       "3     9736        1980  Graduation        Married   41850.0        1   \n",
       "4     1993        1949         PhD        Married   58607.0        0   \n",
       "..     ...         ...         ...            ...       ...      ...   \n",
       "667   4201        1962  Graduation         Single   57967.0        0   \n",
       "668  10084        1972  Graduation        Married   24434.0        2   \n",
       "669   9817        1970      Master         Single   44802.0        0   \n",
       "670   9432        1977  Graduation       Together  666666.0        1   \n",
       "671   8372        1974  Graduation        Married   34421.0        1   \n",
       "\n",
       "     Teenhome Dt_Customer  Recency  MntWines  ...  Married  Widow  Alone  \\\n",
       "0           0  2012-09-04       58       635  ...        0      0      0   \n",
       "1           0  2013-11-15       11         5  ...        1      0      0   \n",
       "2           1  2013-11-15       53       233  ...        0      0      0   \n",
       "3           1  2012-12-24       51        53  ...        1      0      0   \n",
       "4           1  2012-12-23       63       867  ...        1      0      0   \n",
       "..        ...         ...      ...       ...  ...      ...    ...    ...   \n",
       "667         1  2013-03-03       39       229  ...        0      0      0   \n",
       "668         0  2014-05-18        9         3  ...        1      0      0   \n",
       "669         0  2012-08-21       71       853  ...        0      0      0   \n",
       "670         0  2013-06-02       23         9  ...        0      0      0   \n",
       "671         0  2013-07-01       81         3  ...        1      0      0   \n",
       "\n",
       "     Absurd  Yolo  Graduation  2n Cycle  PhD  Basic  Master  \n",
       "0         0     0           1         0    0      0       0  \n",
       "1         0     0           1         0    0      0       0  \n",
       "2         0     0           0         0    0      0       1  \n",
       "3         0     0           1         0    0      0       0  \n",
       "4         0     0           0         0    1      0       0  \n",
       "..      ...   ...         ...       ...  ...    ...     ...  \n",
       "667       0     0           1         0    0      0       0  \n",
       "668       0     0           1         0    0      0       0  \n",
       "669       0     0           0         0    0      0       1  \n",
       "670       0     0           1         0    0      0       0  \n",
       "671       0     0           1         0    0      0       0  \n",
       "\n",
       "[672 rows x 42 columns]"
      ]
     },
     "execution_count": 11,
     "metadata": {},
     "output_type": "execute_result"
    }
   ],
   "source": [
    "test_df"
   ]
  },
  {
   "cell_type": "markdown",
   "id": "reflected-triple",
   "metadata": {},
   "source": [
    "## Fixing missing values\n",
    "The missing values occure in the income column and is a small amount so it can be dropped, the same number of missing values occure in the testing dataset"
   ]
  },
  {
   "cell_type": "code",
   "execution_count": 12,
   "id": "optional-saver",
   "metadata": {},
   "outputs": [
    {
     "data": {
      "text/plain": [
       "ID                      0\n",
       "Year_Birth              0\n",
       "Education               0\n",
       "Marital_Status          0\n",
       "Income                 12\n",
       "Kidhome                 0\n",
       "Teenhome                0\n",
       "Dt_Customer             0\n",
       "Recency                 0\n",
       "MntWines                0\n",
       "MntFruits               0\n",
       "MntMeatProducts         0\n",
       "MntFishProducts         0\n",
       "MntSweetProducts        0\n",
       "MntGoldProds            0\n",
       "NumDealsPurchases       0\n",
       "NumWebPurchases         0\n",
       "NumCatalogPurchases     0\n",
       "NumStorePurchases       0\n",
       "NumWebVisitsMonth       0\n",
       "AcceptedCmp3            0\n",
       "AcceptedCmp4            0\n",
       "AcceptedCmp5            0\n",
       "AcceptedCmp1            0\n",
       "AcceptedCmp2            0\n",
       "Complain                0\n",
       "Z_CostContact           0\n",
       "Z_Revenue               0\n",
       "Response                0\n",
       "Together                0\n",
       "Single                  0\n",
       "Divorced                0\n",
       "Married                 0\n",
       "Widow                   0\n",
       "Alone                   0\n",
       "Absurd                  0\n",
       "Yolo                    0\n",
       "Graduation              0\n",
       "2n Cycle                0\n",
       "PhD                     0\n",
       "Basic                   0\n",
       "Master                  0\n",
       "dtype: int64"
      ]
     },
     "execution_count": 12,
     "metadata": {},
     "output_type": "execute_result"
    }
   ],
   "source": [
    "df.isnull().sum()"
   ]
  },
  {
   "cell_type": "code",
   "execution_count": 13,
   "id": "improving-palace",
   "metadata": {},
   "outputs": [],
   "source": [
    "df = df.dropna()\n",
    "test_df = test_df.dropna() #dropping missing values in both the training and testing dataset"
   ]
  },
  {
   "cell_type": "code",
   "execution_count": 14,
   "id": "political-technician",
   "metadata": {},
   "outputs": [
    {
     "name": "stdout",
     "output_type": "stream",
     "text": [
      "<class 'pandas.core.frame.DataFrame'>\n",
      "Int64Index: 1556 entries, 0 to 1567\n",
      "Data columns (total 42 columns):\n",
      " #   Column               Non-Null Count  Dtype  \n",
      "---  ------               --------------  -----  \n",
      " 0   ID                   1556 non-null   int64  \n",
      " 1   Year_Birth           1556 non-null   int64  \n",
      " 2   Education            1556 non-null   object \n",
      " 3   Marital_Status       1556 non-null   object \n",
      " 4   Income               1556 non-null   float64\n",
      " 5   Kidhome              1556 non-null   int64  \n",
      " 6   Teenhome             1556 non-null   int64  \n",
      " 7   Dt_Customer          1556 non-null   object \n",
      " 8   Recency              1556 non-null   int64  \n",
      " 9   MntWines             1556 non-null   int64  \n",
      " 10  MntFruits            1556 non-null   int64  \n",
      " 11  MntMeatProducts      1556 non-null   int64  \n",
      " 12  MntFishProducts      1556 non-null   int64  \n",
      " 13  MntSweetProducts     1556 non-null   int64  \n",
      " 14  MntGoldProds         1556 non-null   int64  \n",
      " 15  NumDealsPurchases    1556 non-null   int64  \n",
      " 16  NumWebPurchases      1556 non-null   int64  \n",
      " 17  NumCatalogPurchases  1556 non-null   int64  \n",
      " 18  NumStorePurchases    1556 non-null   int64  \n",
      " 19  NumWebVisitsMonth    1556 non-null   int64  \n",
      " 20  AcceptedCmp3         1556 non-null   int64  \n",
      " 21  AcceptedCmp4         1556 non-null   int64  \n",
      " 22  AcceptedCmp5         1556 non-null   int64  \n",
      " 23  AcceptedCmp1         1556 non-null   int64  \n",
      " 24  AcceptedCmp2         1556 non-null   int64  \n",
      " 25  Complain             1556 non-null   int64  \n",
      " 26  Z_CostContact        1556 non-null   int64  \n",
      " 27  Z_Revenue            1556 non-null   int64  \n",
      " 28  Response             1556 non-null   int64  \n",
      " 29  Together             1556 non-null   int32  \n",
      " 30  Single               1556 non-null   int32  \n",
      " 31  Divorced             1556 non-null   int32  \n",
      " 32  Married              1556 non-null   int32  \n",
      " 33  Widow                1556 non-null   int32  \n",
      " 34  Alone                1556 non-null   int32  \n",
      " 35  Absurd               1556 non-null   int32  \n",
      " 36  Yolo                 1556 non-null   int32  \n",
      " 37  Graduation           1556 non-null   int32  \n",
      " 38  2n Cycle             1556 non-null   int32  \n",
      " 39  PhD                  1556 non-null   int32  \n",
      " 40  Basic                1556 non-null   int32  \n",
      " 41  Master               1556 non-null   int32  \n",
      "dtypes: float64(1), int32(13), int64(25), object(3)\n",
      "memory usage: 443.7+ KB\n"
     ]
    }
   ],
   "source": [
    "df.info()"
   ]
  },
  {
   "cell_type": "markdown",
   "id": "intermediate-mercy",
   "metadata": {},
   "source": [
    "## Selecting the best features to go into training\n",
    "Picking the best features that will increase the accuracy of the training "
   ]
  },
  {
   "cell_type": "code",
   "execution_count": 15,
   "id": "caring-throw",
   "metadata": {},
   "outputs": [
    {
     "data": {
      "text/plain": [
       "Index(['ID', 'Year_Birth', 'Education', 'Marital_Status', 'Income', 'Kidhome',\n",
       "       'Teenhome', 'Dt_Customer', 'Recency', 'MntWines', 'MntFruits',\n",
       "       'MntMeatProducts', 'MntFishProducts', 'MntSweetProducts',\n",
       "       'MntGoldProds', 'NumDealsPurchases', 'NumWebPurchases',\n",
       "       'NumCatalogPurchases', 'NumStorePurchases', 'NumWebVisitsMonth',\n",
       "       'AcceptedCmp3', 'AcceptedCmp4', 'AcceptedCmp5', 'AcceptedCmp1',\n",
       "       'AcceptedCmp2', 'Complain', 'Z_CostContact', 'Z_Revenue', 'Response',\n",
       "       'Together', 'Single', 'Divorced', 'Married', 'Widow', 'Alone', 'Absurd',\n",
       "       'Yolo', 'Graduation', '2n Cycle', 'PhD', 'Basic', 'Master'],\n",
       "      dtype='object')"
      ]
     },
     "execution_count": 15,
     "metadata": {},
     "output_type": "execute_result"
    }
   ],
   "source": [
    "df.columns"
   ]
  },
  {
   "cell_type": "code",
   "execution_count": 16,
   "id": "agreed-caution",
   "metadata": {},
   "outputs": [],
   "source": [
    "x = df[['Year_Birth','Income', 'Kidhome', # features for the training dataset\n",
    "       'Teenhome', 'Recency', 'MntWines', 'MntFruits',\n",
    "       'MntMeatProducts', 'MntFishProducts', 'MntSweetProducts',\n",
    "       'MntGoldProds', 'NumDealsPurchases', 'NumWebPurchases',\n",
    "       'NumCatalogPurchases', 'NumStorePurchases', 'NumWebVisitsMonth',\n",
    "       'AcceptedCmp3', 'AcceptedCmp4', 'AcceptedCmp5', 'AcceptedCmp1',\n",
    "       'AcceptedCmp2', 'Complain', 'Z_CostContact', 'Z_Revenue',\n",
    "       'Together', 'Single', 'Divorced', 'Married', 'Widow', 'Alone', 'Absurd',\n",
    "       'Yolo', 'Graduation', '2n Cycle', 'PhD', 'Basic', 'Master']]\n",
    "y = df['Response'] # target for the training dataset\n",
    "\n",
    "y_test = test_df[['Year_Birth','Income', 'Kidhome', # features for the test dataset\n",
    "       'Teenhome', 'Recency', 'MntWines', 'MntFruits',\n",
    "       'MntMeatProducts', 'MntFishProducts', 'MntSweetProducts',\n",
    "       'MntGoldProds', 'NumDealsPurchases', 'NumWebPurchases',\n",
    "       'NumCatalogPurchases', 'NumStorePurchases', 'NumWebVisitsMonth',\n",
    "       'AcceptedCmp3', 'AcceptedCmp4', 'AcceptedCmp5', 'AcceptedCmp1',\n",
    "       'AcceptedCmp2', 'Complain', 'Z_CostContact', 'Z_Revenue',\n",
    "       'Together', 'Single', 'Divorced', 'Married', 'Widow', 'Alone', 'Absurd',\n",
    "       'Yolo', 'Graduation', '2n Cycle', 'PhD', 'Basic', 'Master']]\n",
    "\n",
    "y_actual = test_df['Response'] # target for the test dataset"
   ]
  },
  {
   "cell_type": "markdown",
   "id": "diverse-connectivity",
   "metadata": {},
   "source": [
    "# Training the Model on different Classifiers, checking their accuracy and performing parameter tuning"
   ]
  },
  {
   "cell_type": "code",
   "execution_count": 17,
   "id": "useful-undergraduate",
   "metadata": {},
   "outputs": [],
   "source": [
    "from sklearn.metrics import accuracy_score"
   ]
  },
  {
   "cell_type": "markdown",
   "id": "purple-conflict",
   "metadata": {},
   "source": [
    "## Decision Tree Classifier \n",
    "Using the decision tree classifier for training the dataset"
   ]
  },
  {
   "cell_type": "code",
   "execution_count": 18,
   "id": "iraqi-blast",
   "metadata": {},
   "outputs": [],
   "source": [
    "from sklearn.tree import DecisionTreeClassifier"
   ]
  },
  {
   "cell_type": "code",
   "execution_count": 19,
   "id": "adjacent-massachusetts",
   "metadata": {},
   "outputs": [],
   "source": [
    "DT_model = DecisionTreeClassifier(max_leaf_nodes=150, max_depth=5) #parameter tuning"
   ]
  },
  {
   "cell_type": "code",
   "execution_count": 20,
   "id": "incorporated-yemen",
   "metadata": {},
   "outputs": [
    {
     "data": {
      "text/plain": [
       "{'ccp_alpha': 0.0,\n",
       " 'class_weight': None,\n",
       " 'criterion': 'gini',\n",
       " 'max_depth': 5,\n",
       " 'max_features': None,\n",
       " 'max_leaf_nodes': 150,\n",
       " 'min_impurity_decrease': 0.0,\n",
       " 'min_impurity_split': None,\n",
       " 'min_samples_leaf': 1,\n",
       " 'min_samples_split': 2,\n",
       " 'min_weight_fraction_leaf': 0.0,\n",
       " 'random_state': None,\n",
       " 'splitter': 'best'}"
      ]
     },
     "execution_count": 20,
     "metadata": {},
     "output_type": "execute_result"
    }
   ],
   "source": [
    "DT_model.get_params()"
   ]
  },
  {
   "cell_type": "code",
   "execution_count": 21,
   "id": "authentic-arena",
   "metadata": {},
   "outputs": [
    {
     "data": {
      "text/plain": [
       "DecisionTreeClassifier(max_depth=5, max_leaf_nodes=150)"
      ]
     },
     "execution_count": 21,
     "metadata": {},
     "output_type": "execute_result"
    }
   ],
   "source": [
    "DT_model.fit(X=x, y=y)"
   ]
  },
  {
   "cell_type": "code",
   "execution_count": 22,
   "id": "chubby-computer",
   "metadata": {},
   "outputs": [],
   "source": [
    "DT_predicted = DT_model.predict(y_test)"
   ]
  },
  {
   "cell_type": "code",
   "execution_count": 23,
   "id": "constant-commissioner",
   "metadata": {},
   "outputs": [
    {
     "name": "stdout",
     "output_type": "stream",
     "text": [
      "The accuracy score for Decision Tree Classifier is 0.8757575757575757\n"
     ]
    }
   ],
   "source": [
    "dt_acu_sc = accuracy_score(y_true=y_actual, y_pred=DT_predicted)\n",
    "print('The accuracy score for Decision Tree Classifier is {}'.format(dt_acu_sc))"
   ]
  },
  {
   "cell_type": "markdown",
   "id": "cordless-humidity",
   "metadata": {
    "hide_input": false
   },
   "source": [
    "## Support Vector Machine Classifier \n",
    "Using the support vector machine classifier for training the dataset"
   ]
  },
  {
   "cell_type": "code",
   "execution_count": 24,
   "id": "bronze-nelson",
   "metadata": {},
   "outputs": [],
   "source": [
    "from sklearn.svm import SVC"
   ]
  },
  {
   "cell_type": "code",
   "execution_count": 25,
   "id": "fresh-employee",
   "metadata": {},
   "outputs": [],
   "source": [
    "SVC_model = SVC(C=10.0, kernel='linear') #parameter tuning"
   ]
  },
  {
   "cell_type": "code",
   "execution_count": 26,
   "id": "bright-intranet",
   "metadata": {},
   "outputs": [
    {
     "data": {
      "text/plain": [
       "{'C': 10.0,\n",
       " 'break_ties': False,\n",
       " 'cache_size': 200,\n",
       " 'class_weight': None,\n",
       " 'coef0': 0.0,\n",
       " 'decision_function_shape': 'ovr',\n",
       " 'degree': 3,\n",
       " 'gamma': 'scale',\n",
       " 'kernel': 'linear',\n",
       " 'max_iter': -1,\n",
       " 'probability': False,\n",
       " 'random_state': None,\n",
       " 'shrinking': True,\n",
       " 'tol': 0.001,\n",
       " 'verbose': False}"
      ]
     },
     "execution_count": 26,
     "metadata": {},
     "output_type": "execute_result"
    }
   ],
   "source": [
    "SVC_model.get_params()"
   ]
  },
  {
   "cell_type": "code",
   "execution_count": 27,
   "id": "provincial-flower",
   "metadata": {},
   "outputs": [
    {
     "data": {
      "text/plain": [
       "SVC(C=10.0, kernel='linear')"
      ]
     },
     "execution_count": 27,
     "metadata": {},
     "output_type": "execute_result"
    }
   ],
   "source": [
    "SVC_model.fit(X=x, y=y)"
   ]
  },
  {
   "cell_type": "code",
   "execution_count": 28,
   "id": "religious-actress",
   "metadata": {},
   "outputs": [],
   "source": [
    "SVC_predicted = SVC_model.predict(y_test)"
   ]
  },
  {
   "cell_type": "code",
   "execution_count": 29,
   "id": "convertible-bristol",
   "metadata": {},
   "outputs": [
    {
     "name": "stdout",
     "output_type": "stream",
     "text": [
      "The accuracy score for Support Vector Machine Classifier is 0.8621212121212121\n"
     ]
    }
   ],
   "source": [
    "svc_acu_sc = accuracy_score(y_true=y_actual, y_pred=SVC_predicted)\n",
    "print('The accuracy score for Support Vector Machine Classifier is {}'.format(svc_acu_sc))"
   ]
  },
  {
   "cell_type": "markdown",
   "id": "hungarian-engagement",
   "metadata": {},
   "source": [
    "## K Nearest Neighbor Classifier \n",
    "Using the kneighbor classifier for training the dataset"
   ]
  },
  {
   "cell_type": "code",
   "execution_count": 30,
   "id": "economic-instruction",
   "metadata": {},
   "outputs": [],
   "source": [
    "from sklearn.neighbors import KNeighborsClassifier"
   ]
  },
  {
   "cell_type": "code",
   "execution_count": 31,
   "id": "neutral-vienna",
   "metadata": {},
   "outputs": [],
   "source": [
    "KNC_model = KNeighborsClassifier(metric='manhattan', n_neighbors=2)"
   ]
  },
  {
   "cell_type": "code",
   "execution_count": 32,
   "id": "balanced-textbook",
   "metadata": {},
   "outputs": [
    {
     "data": {
      "text/plain": [
       "{'algorithm': 'auto',\n",
       " 'leaf_size': 30,\n",
       " 'metric': 'manhattan',\n",
       " 'metric_params': None,\n",
       " 'n_jobs': None,\n",
       " 'n_neighbors': 2,\n",
       " 'p': 2,\n",
       " 'weights': 'uniform'}"
      ]
     },
     "execution_count": 32,
     "metadata": {},
     "output_type": "execute_result"
    }
   ],
   "source": [
    "KNC_model.get_params()"
   ]
  },
  {
   "cell_type": "code",
   "execution_count": 33,
   "id": "lyric-islam",
   "metadata": {},
   "outputs": [
    {
     "data": {
      "text/plain": [
       "KNeighborsClassifier(metric='manhattan', n_neighbors=2)"
      ]
     },
     "execution_count": 33,
     "metadata": {},
     "output_type": "execute_result"
    }
   ],
   "source": [
    "KNC_model.fit(X=x, y=y)"
   ]
  },
  {
   "cell_type": "code",
   "execution_count": 34,
   "id": "pressing-qualification",
   "metadata": {},
   "outputs": [],
   "source": [
    "KNC_predicted = KNC_model.predict(y_test)"
   ]
  },
  {
   "cell_type": "code",
   "execution_count": 35,
   "id": "lesbian-prompt",
   "metadata": {},
   "outputs": [
    {
     "name": "stdout",
     "output_type": "stream",
     "text": [
      "The accuracy score for KNearest Neighbor Classifier is 0.8469696969696969\n"
     ]
    }
   ],
   "source": [
    "knc_acu_sc = accuracy_score(y_true=y_actual, y_pred=KNC_predicted)\n",
    "print('The accuracy score for KNearest Neighbor Classifier is {}'.format(knc_acu_sc))"
   ]
  },
  {
   "cell_type": "markdown",
   "id": "great-proposition",
   "metadata": {},
   "source": [
    "## Naive Bayes Classifier \n",
    "Using the naive bayes GaussianNB classifier for training the dataset"
   ]
  },
  {
   "cell_type": "code",
   "execution_count": 36,
   "id": "lovely-panel",
   "metadata": {},
   "outputs": [],
   "source": [
    "from sklearn.naive_bayes import GaussianNB"
   ]
  },
  {
   "cell_type": "code",
   "execution_count": 37,
   "id": "appreciated-middle",
   "metadata": {},
   "outputs": [],
   "source": [
    "GNB_model = GaussianNB()"
   ]
  },
  {
   "cell_type": "code",
   "execution_count": 38,
   "id": "worldwide-ontario",
   "metadata": {},
   "outputs": [
    {
     "data": {
      "text/plain": [
       "{'priors': None, 'var_smoothing': 1e-09}"
      ]
     },
     "execution_count": 38,
     "metadata": {},
     "output_type": "execute_result"
    }
   ],
   "source": [
    "GNB_model.get_params()"
   ]
  },
  {
   "cell_type": "code",
   "execution_count": 39,
   "id": "simple-newton",
   "metadata": {},
   "outputs": [
    {
     "data": {
      "text/plain": [
       "GaussianNB()"
      ]
     },
     "execution_count": 39,
     "metadata": {},
     "output_type": "execute_result"
    }
   ],
   "source": [
    "GNB_model.fit(X=x, y=y)"
   ]
  },
  {
   "cell_type": "code",
   "execution_count": 40,
   "id": "solar-nightlife",
   "metadata": {},
   "outputs": [],
   "source": [
    "GNB_predicted = GNB_model.predict(y_test)"
   ]
  },
  {
   "cell_type": "code",
   "execution_count": 41,
   "id": "connected-dealer",
   "metadata": {},
   "outputs": [
    {
     "name": "stdout",
     "output_type": "stream",
     "text": [
      "The accuracy score for Naive Bayes Classifier is 0.793939393939394\n"
     ]
    }
   ],
   "source": [
    "gnb_acu_sc = accuracy_score(y_true=y_actual, y_pred=GNB_predicted)\n",
    "print('The accuracy score for Naive Bayes Classifier is {}'.format(gnb_acu_sc))"
   ]
  },
  {
   "cell_type": "markdown",
   "id": "unknown-episode",
   "metadata": {},
   "source": [
    "## Multilayer Perceptron Classifier \n",
    "Using the neural network multilayer perceptron classifier for training the dataset"
   ]
  },
  {
   "cell_type": "code",
   "execution_count": 42,
   "id": "statistical-madison",
   "metadata": {},
   "outputs": [],
   "source": [
    "from sklearn.neural_network import MLPClassifier"
   ]
  },
  {
   "cell_type": "code",
   "execution_count": 43,
   "id": "south-grave",
   "metadata": {},
   "outputs": [],
   "source": [
    "MLP_model = MLPClassifier(solver='lbfgs', alpha=1,\n",
    "                          hidden_layer_sizes=(5, 2), random_state=1, max_iter=9000)"
   ]
  },
  {
   "cell_type": "code",
   "execution_count": 44,
   "id": "hazardous-superior",
   "metadata": {},
   "outputs": [
    {
     "data": {
      "text/plain": [
       "{'activation': 'relu',\n",
       " 'alpha': 1,\n",
       " 'batch_size': 'auto',\n",
       " 'beta_1': 0.9,\n",
       " 'beta_2': 0.999,\n",
       " 'early_stopping': False,\n",
       " 'epsilon': 1e-08,\n",
       " 'hidden_layer_sizes': (5, 2),\n",
       " 'learning_rate': 'constant',\n",
       " 'learning_rate_init': 0.001,\n",
       " 'max_fun': 15000,\n",
       " 'max_iter': 9000,\n",
       " 'momentum': 0.9,\n",
       " 'n_iter_no_change': 10,\n",
       " 'nesterovs_momentum': True,\n",
       " 'power_t': 0.5,\n",
       " 'random_state': 1,\n",
       " 'shuffle': True,\n",
       " 'solver': 'lbfgs',\n",
       " 'tol': 0.0001,\n",
       " 'validation_fraction': 0.1,\n",
       " 'verbose': False,\n",
       " 'warm_start': False}"
      ]
     },
     "execution_count": 44,
     "metadata": {},
     "output_type": "execute_result"
    }
   ],
   "source": [
    "MLP_model.get_params()"
   ]
  },
  {
   "cell_type": "code",
   "execution_count": 45,
   "id": "ultimate-socket",
   "metadata": {},
   "outputs": [
    {
     "data": {
      "text/plain": [
       "MLPClassifier(alpha=1, hidden_layer_sizes=(5, 2), max_iter=9000, random_state=1,\n",
       "              solver='lbfgs')"
      ]
     },
     "execution_count": 45,
     "metadata": {},
     "output_type": "execute_result"
    }
   ],
   "source": [
    "MLP_model.fit(X=x, y=y)"
   ]
  },
  {
   "cell_type": "code",
   "execution_count": 46,
   "id": "improved-brooklyn",
   "metadata": {},
   "outputs": [],
   "source": [
    "MLP_predicted = MLP_model.predict(y_test)"
   ]
  },
  {
   "cell_type": "code",
   "execution_count": 47,
   "id": "wound-grammar",
   "metadata": {},
   "outputs": [
    {
     "name": "stdout",
     "output_type": "stream",
     "text": [
      "The accuracy score for Multilayer Perceptron Classifier is 0.8575757575757575\n"
     ]
    }
   ],
   "source": [
    "mlp_acu_sc = accuracy_score(y_true=y_actual, y_pred=MLP_predicted)\n",
    "print('The accuracy score for Multilayer Perceptron Classifier is {}'.format(mlp_acu_sc))"
   ]
  },
  {
   "cell_type": "markdown",
   "id": "banned-tribe",
   "metadata": {},
   "source": [
    "## Random Forest and Ada Boost Classifier \n",
    "Using the ensemble classifiers; random forest and ada boost for training the dataset"
   ]
  },
  {
   "cell_type": "code",
   "execution_count": 48,
   "id": "cordless-thirty",
   "metadata": {},
   "outputs": [],
   "source": [
    "from sklearn.ensemble import RandomForestClassifier, AdaBoostClassifier"
   ]
  },
  {
   "cell_type": "markdown",
   "id": "recovered-anniversary",
   "metadata": {},
   "source": [
    "### RandomForest Classifier"
   ]
  },
  {
   "cell_type": "code",
   "execution_count": 49,
   "id": "possible-exhaust",
   "metadata": {},
   "outputs": [],
   "source": [
    "RFC_model = RandomForestClassifier(max_depth=50, n_estimators=100)"
   ]
  },
  {
   "cell_type": "code",
   "execution_count": 50,
   "id": "adapted-selection",
   "metadata": {},
   "outputs": [
    {
     "data": {
      "text/plain": [
       "{'bootstrap': True,\n",
       " 'ccp_alpha': 0.0,\n",
       " 'class_weight': None,\n",
       " 'criterion': 'gini',\n",
       " 'max_depth': 50,\n",
       " 'max_features': 'auto',\n",
       " 'max_leaf_nodes': None,\n",
       " 'max_samples': None,\n",
       " 'min_impurity_decrease': 0.0,\n",
       " 'min_impurity_split': None,\n",
       " 'min_samples_leaf': 1,\n",
       " 'min_samples_split': 2,\n",
       " 'min_weight_fraction_leaf': 0.0,\n",
       " 'n_estimators': 100,\n",
       " 'n_jobs': None,\n",
       " 'oob_score': False,\n",
       " 'random_state': None,\n",
       " 'verbose': 0,\n",
       " 'warm_start': False}"
      ]
     },
     "execution_count": 50,
     "metadata": {},
     "output_type": "execute_result"
    }
   ],
   "source": [
    "RFC_model.get_params()"
   ]
  },
  {
   "cell_type": "code",
   "execution_count": 51,
   "id": "continuous-mexican",
   "metadata": {},
   "outputs": [
    {
     "data": {
      "text/plain": [
       "RandomForestClassifier(max_depth=50)"
      ]
     },
     "execution_count": 51,
     "metadata": {},
     "output_type": "execute_result"
    }
   ],
   "source": [
    "RFC_model.fit(X=x, y=y)"
   ]
  },
  {
   "cell_type": "code",
   "execution_count": 52,
   "id": "bigger-tulsa",
   "metadata": {},
   "outputs": [],
   "source": [
    "RFC_predicted = RFC_model.predict(y_test)"
   ]
  },
  {
   "cell_type": "code",
   "execution_count": 53,
   "id": "available-ocean",
   "metadata": {},
   "outputs": [
    {
     "name": "stdout",
     "output_type": "stream",
     "text": [
      "The accuracy score for RandomForest Classifier is 0.8833333333333333\n"
     ]
    }
   ],
   "source": [
    "rfc_acu_sc = accuracy_score(y_true=y_actual, y_pred=RFC_predicted)\n",
    "print('The accuracy score for RandomForest Classifier is {}'.format(rfc_acu_sc))"
   ]
  },
  {
   "cell_type": "markdown",
   "id": "noted-segment",
   "metadata": {},
   "source": [
    "### AdaBoost Classifier"
   ]
  },
  {
   "cell_type": "code",
   "execution_count": 54,
   "id": "young-solution",
   "metadata": {},
   "outputs": [],
   "source": [
    "ABC_model = AdaBoostClassifier(learning_rate=2.0)"
   ]
  },
  {
   "cell_type": "code",
   "execution_count": 55,
   "id": "continent-thong",
   "metadata": {},
   "outputs": [
    {
     "data": {
      "text/plain": [
       "{'algorithm': 'SAMME.R',\n",
       " 'base_estimator': None,\n",
       " 'learning_rate': 2.0,\n",
       " 'n_estimators': 50,\n",
       " 'random_state': None}"
      ]
     },
     "execution_count": 55,
     "metadata": {},
     "output_type": "execute_result"
    }
   ],
   "source": [
    "ABC_model.get_params()"
   ]
  },
  {
   "cell_type": "code",
   "execution_count": 56,
   "id": "adult-reminder",
   "metadata": {},
   "outputs": [
    {
     "data": {
      "text/plain": [
       "AdaBoostClassifier(learning_rate=2.0)"
      ]
     },
     "execution_count": 56,
     "metadata": {},
     "output_type": "execute_result"
    }
   ],
   "source": [
    "ABC_model.fit(X=x, y=y)"
   ]
  },
  {
   "cell_type": "code",
   "execution_count": 57,
   "id": "coated-friend",
   "metadata": {},
   "outputs": [],
   "source": [
    "ABC_predicted = ABC_model.predict(y_test)"
   ]
  },
  {
   "cell_type": "code",
   "execution_count": 58,
   "id": "cleared-innocent",
   "metadata": {},
   "outputs": [
    {
     "name": "stdout",
     "output_type": "stream",
     "text": [
      "The accuracy score for AdaBoost Classifier is 0.8621212121212121\n"
     ]
    }
   ],
   "source": [
    "abc_acu_sc = accuracy_score(y_true=y_actual, y_pred=ABC_predicted)\n",
    "print('The accuracy score for AdaBoost Classifier is {}'.format(abc_acu_sc))"
   ]
  },
  {
   "cell_type": "markdown",
   "id": "dynamic-julian",
   "metadata": {},
   "source": [
    "## Gaussian Process Classifier \n",
    "Using the Gaussian process classifier for training the dataset"
   ]
  },
  {
   "cell_type": "code",
   "execution_count": 59,
   "id": "transsexual-effort",
   "metadata": {},
   "outputs": [],
   "source": [
    "from sklearn.gaussian_process import GaussianProcessClassifier"
   ]
  },
  {
   "cell_type": "code",
   "execution_count": 60,
   "id": "handed-reception",
   "metadata": {},
   "outputs": [],
   "source": [
    "GPC_model = GaussianProcessClassifier()"
   ]
  },
  {
   "cell_type": "code",
   "execution_count": 61,
   "id": "unable-devil",
   "metadata": {},
   "outputs": [
    {
     "data": {
      "text/plain": [
       "{'copy_X_train': True,\n",
       " 'kernel': None,\n",
       " 'max_iter_predict': 100,\n",
       " 'multi_class': 'one_vs_rest',\n",
       " 'n_jobs': None,\n",
       " 'n_restarts_optimizer': 0,\n",
       " 'optimizer': 'fmin_l_bfgs_b',\n",
       " 'random_state': None,\n",
       " 'warm_start': False}"
      ]
     },
     "execution_count": 61,
     "metadata": {},
     "output_type": "execute_result"
    }
   ],
   "source": [
    "GPC_model.get_params()"
   ]
  },
  {
   "cell_type": "code",
   "execution_count": 62,
   "id": "standard-reggae",
   "metadata": {},
   "outputs": [
    {
     "data": {
      "text/plain": [
       "GaussianProcessClassifier()"
      ]
     },
     "execution_count": 62,
     "metadata": {},
     "output_type": "execute_result"
    }
   ],
   "source": [
    "GPC_model.fit(X=x, y=y)"
   ]
  },
  {
   "cell_type": "code",
   "execution_count": 63,
   "id": "sorted-listening",
   "metadata": {},
   "outputs": [],
   "source": [
    "GPC_predicted = GPC_model.predict(y_test)"
   ]
  },
  {
   "cell_type": "code",
   "execution_count": 64,
   "id": "universal-draft",
   "metadata": {},
   "outputs": [
    {
     "name": "stdout",
     "output_type": "stream",
     "text": [
      "The accuracy score for GaussianProcess Classifier is 0.8590909090909091\n"
     ]
    }
   ],
   "source": [
    "gpc_acu_sc = accuracy_score(y_true=y_actual, y_pred=GPC_predicted)\n",
    "print('The accuracy score for GaussianProcess Classifier is {}'.format(gpc_acu_sc))"
   ]
  },
  {
   "cell_type": "markdown",
   "id": "prospective-nepal",
   "metadata": {},
   "source": [
    "# Conclusion"
   ]
  },
  {
   "cell_type": "markdown",
   "id": "bright-reviewer",
   "metadata": {},
   "source": [
    "The best performing classifier on the Marketing firm dataset is the RandomForest Classifier with an accuracy score of: 0.88...\n"
   ]
  },
  {
   "cell_type": "code",
   "execution_count": null,
   "id": "superior-excerpt",
   "metadata": {},
   "outputs": [],
   "source": []
  }
 ],
 "metadata": {
  "kernelspec": {
   "display_name": "Python 3",
   "language": "python",
   "name": "python3"
  },
  "language_info": {
   "codemirror_mode": {
    "name": "ipython",
    "version": 3
   },
   "file_extension": ".py",
   "mimetype": "text/x-python",
   "name": "python",
   "nbconvert_exporter": "python",
   "pygments_lexer": "ipython3",
   "version": "3.8.5"
  }
 },
 "nbformat": 4,
 "nbformat_minor": 5
}
