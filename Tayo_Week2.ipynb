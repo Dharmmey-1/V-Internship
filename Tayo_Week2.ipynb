{
 "cells": [
  {
   "cell_type": "markdown",
   "metadata": {
    "slideshow": {
     "slide_type": "slide"
    }
   },
   "source": [
    "# Carry out an exploratory analysis to glean out insights and trends in the dataset."
   ]
  },
  {
   "cell_type": "markdown",
   "metadata": {
    "slideshow": {
     "slide_type": "subslide"
    }
   },
   "source": [
    "## Find a means to relate it with external data to help understand user behaviour. Try to notice trends in what triggers transactions at certain times of the year, what could be the possible cause of increased failed transactions… etc."
   ]
  },
  {
   "cell_type": "markdown",
   "metadata": {
    "slideshow": {
     "slide_type": "subslide"
    }
   },
   "source": [
    "## Make a mini presentation with the use of the jupyter slides extension and hide the input cells of the selected pages of the slide."
   ]
  },
  {
   "cell_type": "code",
   "execution_count": 2,
   "metadata": {
    "slideshow": {
     "slide_type": "skip"
    }
   },
   "outputs": [],
   "source": [
    "# import dependencies\n",
    "\n",
    "import numpy as np\n",
    "import pandas as pd\n",
    "import datetime as dt\n",
    "import seaborn as sns\n",
    "import matplotlib.pyplot as plt "
   ]
  },
  {
   "cell_type": "markdown",
   "metadata": {
    "slideshow": {
     "slide_type": "slide"
    }
   },
   "source": [
    "### See imported data below. It is name 'transData'"
   ]
  },
  {
   "cell_type": "code",
   "execution_count": 141,
   "metadata": {
    "slideshow": {
     "slide_type": "subslide"
    }
   },
   "outputs": [
    {
     "data": {
      "text/html": [
       "<div>\n",
       "<style scoped>\n",
       "    .dataframe tbody tr th:only-of-type {\n",
       "        vertical-align: middle;\n",
       "    }\n",
       "\n",
       "    .dataframe tbody tr th {\n",
       "        vertical-align: top;\n",
       "    }\n",
       "\n",
       "    .dataframe thead th {\n",
       "        text-align: right;\n",
       "    }\n",
       "</style>\n",
       "<table border=\"1\" class=\"dataframe\">\n",
       "  <thead>\n",
       "    <tr style=\"text-align: right;\">\n",
       "      <th></th>\n",
       "      <th>acct_no</th>\n",
       "      <th>txnYear</th>\n",
       "      <th>txnMonth</th>\n",
       "      <th>txnDay</th>\n",
       "      <th>status</th>\n",
       "      <th>no of txns</th>\n",
       "    </tr>\n",
       "  </thead>\n",
       "  <tbody>\n",
       "    <tr>\n",
       "      <td>0</td>\n",
       "      <td>1001192k</td>\n",
       "      <td>2019</td>\n",
       "      <td>10</td>\n",
       "      <td>29</td>\n",
       "      <td>successful</td>\n",
       "      <td>1</td>\n",
       "    </tr>\n",
       "    <tr>\n",
       "      <td>1</td>\n",
       "      <td>1001192k</td>\n",
       "      <td>2019</td>\n",
       "      <td>11</td>\n",
       "      <td>12</td>\n",
       "      <td>failed</td>\n",
       "      <td>2</td>\n",
       "    </tr>\n",
       "    <tr>\n",
       "      <td>2</td>\n",
       "      <td>1001192k</td>\n",
       "      <td>2019</td>\n",
       "      <td>11</td>\n",
       "      <td>18</td>\n",
       "      <td>failed</td>\n",
       "      <td>1</td>\n",
       "    </tr>\n",
       "    <tr>\n",
       "      <td>3</td>\n",
       "      <td>1001192k</td>\n",
       "      <td>2019</td>\n",
       "      <td>11</td>\n",
       "      <td>27</td>\n",
       "      <td>successful</td>\n",
       "      <td>1</td>\n",
       "    </tr>\n",
       "    <tr>\n",
       "      <td>4</td>\n",
       "      <td>1001192k</td>\n",
       "      <td>2019</td>\n",
       "      <td>12</td>\n",
       "      <td>8</td>\n",
       "      <td>failed</td>\n",
       "      <td>1</td>\n",
       "    </tr>\n",
       "    <tr>\n",
       "      <td>...</td>\n",
       "      <td>...</td>\n",
       "      <td>...</td>\n",
       "      <td>...</td>\n",
       "      <td>...</td>\n",
       "      <td>...</td>\n",
       "      <td>...</td>\n",
       "    </tr>\n",
       "    <tr>\n",
       "      <td>513242</td>\n",
       "      <td>9999437n</td>\n",
       "      <td>2020</td>\n",
       "      <td>10</td>\n",
       "      <td>15</td>\n",
       "      <td>successful</td>\n",
       "      <td>2</td>\n",
       "    </tr>\n",
       "    <tr>\n",
       "      <td>513243</td>\n",
       "      <td>9999437n</td>\n",
       "      <td>2020</td>\n",
       "      <td>10</td>\n",
       "      <td>16</td>\n",
       "      <td>successful</td>\n",
       "      <td>1</td>\n",
       "    </tr>\n",
       "    <tr>\n",
       "      <td>513244</td>\n",
       "      <td>9999437n</td>\n",
       "      <td>2020</td>\n",
       "      <td>10</td>\n",
       "      <td>21</td>\n",
       "      <td>successful</td>\n",
       "      <td>2</td>\n",
       "    </tr>\n",
       "    <tr>\n",
       "      <td>513245</td>\n",
       "      <td>9999437n</td>\n",
       "      <td>2020</td>\n",
       "      <td>10</td>\n",
       "      <td>23</td>\n",
       "      <td>successful</td>\n",
       "      <td>2</td>\n",
       "    </tr>\n",
       "    <tr>\n",
       "      <td>513246</td>\n",
       "      <td>9999437n</td>\n",
       "      <td>2020</td>\n",
       "      <td>10</td>\n",
       "      <td>26</td>\n",
       "      <td>successful</td>\n",
       "      <td>1</td>\n",
       "    </tr>\n",
       "  </tbody>\n",
       "</table>\n",
       "<p>513247 rows × 6 columns</p>\n",
       "</div>"
      ],
      "text/plain": [
       "         acct_no  txnYear  txnMonth  txnDay      status  no of txns\n",
       "0       1001192k     2019        10      29  successful           1\n",
       "1       1001192k     2019        11      12      failed           2\n",
       "2       1001192k     2019        11      18      failed           1\n",
       "3       1001192k     2019        11      27  successful           1\n",
       "4       1001192k     2019        12       8      failed           1\n",
       "...          ...      ...       ...     ...         ...         ...\n",
       "513242  9999437n     2020        10      15  successful           2\n",
       "513243  9999437n     2020        10      16  successful           1\n",
       "513244  9999437n     2020        10      21  successful           2\n",
       "513245  9999437n     2020        10      23  successful           2\n",
       "513246  9999437n     2020        10      26  successful           1\n",
       "\n",
       "[513247 rows x 6 columns]"
      ]
     },
     "execution_count": 141,
     "metadata": {},
     "output_type": "execute_result"
    }
   ],
   "source": [
    "# import necessary data\n",
    "\n",
    "transData = pd.read_csv(\"txn_data.csv\", index_col='Unnamed: 0')\n",
    "transData"
   ]
  },
  {
   "cell_type": "markdown",
   "metadata": {
    "slideshow": {
     "slide_type": "subslide"
    }
   },
   "source": [
    "### A time series was derived from the imported data above"
   ]
  },
  {
   "cell_type": "code",
   "execution_count": 4,
   "metadata": {
    "slideshow": {
     "slide_type": "subslide"
    }
   },
   "outputs": [
    {
     "data": {
      "text/html": [
       "<div>\n",
       "<style scoped>\n",
       "    .dataframe tbody tr th:only-of-type {\n",
       "        vertical-align: middle;\n",
       "    }\n",
       "\n",
       "    .dataframe tbody tr th {\n",
       "        vertical-align: top;\n",
       "    }\n",
       "\n",
       "    .dataframe thead th {\n",
       "        text-align: right;\n",
       "    }\n",
       "</style>\n",
       "<table border=\"1\" class=\"dataframe\">\n",
       "  <thead>\n",
       "    <tr style=\"text-align: right;\">\n",
       "      <th></th>\n",
       "      <th>acct_no</th>\n",
       "      <th>txnYear</th>\n",
       "      <th>txnMonth</th>\n",
       "      <th>txnDay</th>\n",
       "      <th>status</th>\n",
       "      <th>no of txns</th>\n",
       "      <th>date</th>\n",
       "      <th>year_month</th>\n",
       "    </tr>\n",
       "  </thead>\n",
       "  <tbody>\n",
       "    <tr>\n",
       "      <td>0</td>\n",
       "      <td>1001192k</td>\n",
       "      <td>2019</td>\n",
       "      <td>10</td>\n",
       "      <td>29</td>\n",
       "      <td>successful</td>\n",
       "      <td>1</td>\n",
       "      <td>2019-10-29</td>\n",
       "      <td>2019-10</td>\n",
       "    </tr>\n",
       "    <tr>\n",
       "      <td>1</td>\n",
       "      <td>1001192k</td>\n",
       "      <td>2019</td>\n",
       "      <td>11</td>\n",
       "      <td>12</td>\n",
       "      <td>failed</td>\n",
       "      <td>2</td>\n",
       "      <td>2019-11-12</td>\n",
       "      <td>2019-11</td>\n",
       "    </tr>\n",
       "    <tr>\n",
       "      <td>2</td>\n",
       "      <td>1001192k</td>\n",
       "      <td>2019</td>\n",
       "      <td>11</td>\n",
       "      <td>18</td>\n",
       "      <td>failed</td>\n",
       "      <td>1</td>\n",
       "      <td>2019-11-18</td>\n",
       "      <td>2019-11</td>\n",
       "    </tr>\n",
       "    <tr>\n",
       "      <td>3</td>\n",
       "      <td>1001192k</td>\n",
       "      <td>2019</td>\n",
       "      <td>11</td>\n",
       "      <td>27</td>\n",
       "      <td>successful</td>\n",
       "      <td>1</td>\n",
       "      <td>2019-11-27</td>\n",
       "      <td>2019-11</td>\n",
       "    </tr>\n",
       "    <tr>\n",
       "      <td>4</td>\n",
       "      <td>1001192k</td>\n",
       "      <td>2019</td>\n",
       "      <td>12</td>\n",
       "      <td>8</td>\n",
       "      <td>failed</td>\n",
       "      <td>1</td>\n",
       "      <td>2019-12-08</td>\n",
       "      <td>2019-12</td>\n",
       "    </tr>\n",
       "    <tr>\n",
       "      <td>...</td>\n",
       "      <td>...</td>\n",
       "      <td>...</td>\n",
       "      <td>...</td>\n",
       "      <td>...</td>\n",
       "      <td>...</td>\n",
       "      <td>...</td>\n",
       "      <td>...</td>\n",
       "      <td>...</td>\n",
       "    </tr>\n",
       "    <tr>\n",
       "      <td>513242</td>\n",
       "      <td>9999437n</td>\n",
       "      <td>2020</td>\n",
       "      <td>10</td>\n",
       "      <td>15</td>\n",
       "      <td>successful</td>\n",
       "      <td>2</td>\n",
       "      <td>2020-10-15</td>\n",
       "      <td>2020-10</td>\n",
       "    </tr>\n",
       "    <tr>\n",
       "      <td>513243</td>\n",
       "      <td>9999437n</td>\n",
       "      <td>2020</td>\n",
       "      <td>10</td>\n",
       "      <td>16</td>\n",
       "      <td>successful</td>\n",
       "      <td>1</td>\n",
       "      <td>2020-10-16</td>\n",
       "      <td>2020-10</td>\n",
       "    </tr>\n",
       "    <tr>\n",
       "      <td>513244</td>\n",
       "      <td>9999437n</td>\n",
       "      <td>2020</td>\n",
       "      <td>10</td>\n",
       "      <td>21</td>\n",
       "      <td>successful</td>\n",
       "      <td>2</td>\n",
       "      <td>2020-10-21</td>\n",
       "      <td>2020-10</td>\n",
       "    </tr>\n",
       "    <tr>\n",
       "      <td>513245</td>\n",
       "      <td>9999437n</td>\n",
       "      <td>2020</td>\n",
       "      <td>10</td>\n",
       "      <td>23</td>\n",
       "      <td>successful</td>\n",
       "      <td>2</td>\n",
       "      <td>2020-10-23</td>\n",
       "      <td>2020-10</td>\n",
       "    </tr>\n",
       "    <tr>\n",
       "      <td>513246</td>\n",
       "      <td>9999437n</td>\n",
       "      <td>2020</td>\n",
       "      <td>10</td>\n",
       "      <td>26</td>\n",
       "      <td>successful</td>\n",
       "      <td>1</td>\n",
       "      <td>2020-10-26</td>\n",
       "      <td>2020-10</td>\n",
       "    </tr>\n",
       "  </tbody>\n",
       "</table>\n",
       "<p>513247 rows × 8 columns</p>\n",
       "</div>"
      ],
      "text/plain": [
       "         acct_no txnYear txnMonth txnDay      status  no of txns       date  \\\n",
       "0       1001192k    2019       10     29  successful           1 2019-10-29   \n",
       "1       1001192k    2019       11     12      failed           2 2019-11-12   \n",
       "2       1001192k    2019       11     18      failed           1 2019-11-18   \n",
       "3       1001192k    2019       11     27  successful           1 2019-11-27   \n",
       "4       1001192k    2019       12      8      failed           1 2019-12-08   \n",
       "...          ...     ...      ...    ...         ...         ...        ...   \n",
       "513242  9999437n    2020       10     15  successful           2 2020-10-15   \n",
       "513243  9999437n    2020       10     16  successful           1 2020-10-16   \n",
       "513244  9999437n    2020       10     21  successful           2 2020-10-21   \n",
       "513245  9999437n    2020       10     23  successful           2 2020-10-23   \n",
       "513246  9999437n    2020       10     26  successful           1 2020-10-26   \n",
       "\n",
       "       year_month  \n",
       "0         2019-10  \n",
       "1         2019-11  \n",
       "2         2019-11  \n",
       "3         2019-11  \n",
       "4         2019-12  \n",
       "...           ...  \n",
       "513242    2020-10  \n",
       "513243    2020-10  \n",
       "513244    2020-10  \n",
       "513245    2020-10  \n",
       "513246    2020-10  \n",
       "\n",
       "[513247 rows x 8 columns]"
      ]
     },
     "execution_count": 4,
     "metadata": {},
     "output_type": "execute_result"
    }
   ],
   "source": [
    "# derive a timeseries from given data\n",
    "\n",
    "transData['txnYear'], transData['txnMonth'], transData['txnDay'] = transData['txnYear'].astype(str), transData['txnMonth'].astype(str), transData['txnDay'].astype(str)\n",
    "transData['date'] = transData['txnYear'] + transData['txnMonth'] + transData['txnDay']\n",
    "transData['date'] = transData['date'].apply(lambda x:dt.datetime.strptime(x, '%Y%m%d'))\n",
    "transData['year_month'] = transData['txnYear'] + '-' + transData['txnMonth']\n",
    "transData"
   ]
  },
  {
   "cell_type": "markdown",
   "metadata": {
    "slideshow": {
     "slide_type": "subslide"
    }
   },
   "source": [
    "### Data was then sorted by dates after which date was used as the index"
   ]
  },
  {
   "cell_type": "code",
   "execution_count": 5,
   "metadata": {
    "slideshow": {
     "slide_type": "subslide"
    }
   },
   "outputs": [
    {
     "data": {
      "text/html": [
       "<div>\n",
       "<style scoped>\n",
       "    .dataframe tbody tr th:only-of-type {\n",
       "        vertical-align: middle;\n",
       "    }\n",
       "\n",
       "    .dataframe tbody tr th {\n",
       "        vertical-align: top;\n",
       "    }\n",
       "\n",
       "    .dataframe thead th {\n",
       "        text-align: right;\n",
       "    }\n",
       "</style>\n",
       "<table border=\"1\" class=\"dataframe\">\n",
       "  <thead>\n",
       "    <tr style=\"text-align: right;\">\n",
       "      <th></th>\n",
       "      <th>acct_no</th>\n",
       "      <th>txnYear</th>\n",
       "      <th>txnMonth</th>\n",
       "      <th>txnDay</th>\n",
       "      <th>status</th>\n",
       "      <th>no of txns</th>\n",
       "      <th>date</th>\n",
       "      <th>year_month</th>\n",
       "    </tr>\n",
       "  </thead>\n",
       "  <tbody>\n",
       "    <tr>\n",
       "      <td>2019-05-21</td>\n",
       "      <td>1718601l</td>\n",
       "      <td>2019</td>\n",
       "      <td>5</td>\n",
       "      <td>21</td>\n",
       "      <td>successful</td>\n",
       "      <td>3</td>\n",
       "      <td>2019-05-21</td>\n",
       "      <td>2019-5</td>\n",
       "    </tr>\n",
       "    <tr>\n",
       "      <td>2019-05-21</td>\n",
       "      <td>6013170r</td>\n",
       "      <td>2019</td>\n",
       "      <td>5</td>\n",
       "      <td>21</td>\n",
       "      <td>successful</td>\n",
       "      <td>1</td>\n",
       "      <td>2019-05-21</td>\n",
       "      <td>2019-5</td>\n",
       "    </tr>\n",
       "    <tr>\n",
       "      <td>2019-05-21</td>\n",
       "      <td>3800682k</td>\n",
       "      <td>2019</td>\n",
       "      <td>5</td>\n",
       "      <td>21</td>\n",
       "      <td>successful</td>\n",
       "      <td>1</td>\n",
       "      <td>2019-05-21</td>\n",
       "      <td>2019-5</td>\n",
       "    </tr>\n",
       "    <tr>\n",
       "      <td>2019-05-21</td>\n",
       "      <td>7988606p</td>\n",
       "      <td>2019</td>\n",
       "      <td>5</td>\n",
       "      <td>21</td>\n",
       "      <td>successful</td>\n",
       "      <td>2</td>\n",
       "      <td>2019-05-21</td>\n",
       "      <td>2019-5</td>\n",
       "    </tr>\n",
       "    <tr>\n",
       "      <td>2019-05-21</td>\n",
       "      <td>6485922j</td>\n",
       "      <td>2019</td>\n",
       "      <td>5</td>\n",
       "      <td>21</td>\n",
       "      <td>successful</td>\n",
       "      <td>4</td>\n",
       "      <td>2019-05-21</td>\n",
       "      <td>2019-5</td>\n",
       "    </tr>\n",
       "    <tr>\n",
       "      <td>...</td>\n",
       "      <td>...</td>\n",
       "      <td>...</td>\n",
       "      <td>...</td>\n",
       "      <td>...</td>\n",
       "      <td>...</td>\n",
       "      <td>...</td>\n",
       "      <td>...</td>\n",
       "      <td>...</td>\n",
       "    </tr>\n",
       "    <tr>\n",
       "      <td>2020-12-09</td>\n",
       "      <td>9985393s</td>\n",
       "      <td>2020</td>\n",
       "      <td>1</td>\n",
       "      <td>29</td>\n",
       "      <td>successful</td>\n",
       "      <td>2</td>\n",
       "      <td>2020-12-09</td>\n",
       "      <td>2020-1</td>\n",
       "    </tr>\n",
       "    <tr>\n",
       "      <td>2020-12-09</td>\n",
       "      <td>6038095m</td>\n",
       "      <td>2020</td>\n",
       "      <td>1</td>\n",
       "      <td>29</td>\n",
       "      <td>successful</td>\n",
       "      <td>3</td>\n",
       "      <td>2020-12-09</td>\n",
       "      <td>2020-1</td>\n",
       "    </tr>\n",
       "    <tr>\n",
       "      <td>2020-12-09</td>\n",
       "      <td>6033179m</td>\n",
       "      <td>2020</td>\n",
       "      <td>1</td>\n",
       "      <td>29</td>\n",
       "      <td>successful</td>\n",
       "      <td>1</td>\n",
       "      <td>2020-12-09</td>\n",
       "      <td>2020-1</td>\n",
       "    </tr>\n",
       "    <tr>\n",
       "      <td>2020-12-09</td>\n",
       "      <td>6030222l</td>\n",
       "      <td>2020</td>\n",
       "      <td>1</td>\n",
       "      <td>29</td>\n",
       "      <td>successful</td>\n",
       "      <td>1</td>\n",
       "      <td>2020-12-09</td>\n",
       "      <td>2020-1</td>\n",
       "    </tr>\n",
       "    <tr>\n",
       "      <td>2020-12-09</td>\n",
       "      <td>4301681r</td>\n",
       "      <td>2020</td>\n",
       "      <td>1</td>\n",
       "      <td>29</td>\n",
       "      <td>failed</td>\n",
       "      <td>1</td>\n",
       "      <td>2020-12-09</td>\n",
       "      <td>2020-1</td>\n",
       "    </tr>\n",
       "  </tbody>\n",
       "</table>\n",
       "<p>513247 rows × 8 columns</p>\n",
       "</div>"
      ],
      "text/plain": [
       "             acct_no txnYear txnMonth txnDay      status  no of txns  \\\n",
       "2019-05-21  1718601l    2019        5     21  successful           3   \n",
       "2019-05-21  6013170r    2019        5     21  successful           1   \n",
       "2019-05-21  3800682k    2019        5     21  successful           1   \n",
       "2019-05-21  7988606p    2019        5     21  successful           2   \n",
       "2019-05-21  6485922j    2019        5     21  successful           4   \n",
       "...              ...     ...      ...    ...         ...         ...   \n",
       "2020-12-09  9985393s    2020        1     29  successful           2   \n",
       "2020-12-09  6038095m    2020        1     29  successful           3   \n",
       "2020-12-09  6033179m    2020        1     29  successful           1   \n",
       "2020-12-09  6030222l    2020        1     29  successful           1   \n",
       "2020-12-09  4301681r    2020        1     29      failed           1   \n",
       "\n",
       "                 date year_month  \n",
       "2019-05-21 2019-05-21     2019-5  \n",
       "2019-05-21 2019-05-21     2019-5  \n",
       "2019-05-21 2019-05-21     2019-5  \n",
       "2019-05-21 2019-05-21     2019-5  \n",
       "2019-05-21 2019-05-21     2019-5  \n",
       "...               ...        ...  \n",
       "2020-12-09 2020-12-09     2020-1  \n",
       "2020-12-09 2020-12-09     2020-1  \n",
       "2020-12-09 2020-12-09     2020-1  \n",
       "2020-12-09 2020-12-09     2020-1  \n",
       "2020-12-09 2020-12-09     2020-1  \n",
       "\n",
       "[513247 rows x 8 columns]"
      ]
     },
     "execution_count": 5,
     "metadata": {},
     "output_type": "execute_result"
    }
   ],
   "source": [
    "transData = transData.sort_values(by='date', ascending = True)\n",
    "transData = transData.set_index(transData['date'].values)\n",
    "\n",
    "transData"
   ]
  },
  {
   "cell_type": "code",
   "execution_count": 6,
   "metadata": {
    "slideshow": {
     "slide_type": "skip"
    }
   },
   "outputs": [],
   "source": [
    "transData = transData.drop('date', axis=1)"
   ]
  },
  {
   "cell_type": "code",
   "execution_count": 7,
   "metadata": {
    "slideshow": {
     "slide_type": "skip"
    }
   },
   "outputs": [],
   "source": [
    "transData = transData.rename(columns={'no of txns':'txnCount'})"
   ]
  },
  {
   "cell_type": "markdown",
   "metadata": {
    "slideshow": {
     "slide_type": "slide"
    }
   },
   "source": [
    "### Some basic info about the transaction data"
   ]
  },
  {
   "cell_type": "code",
   "execution_count": 8,
   "metadata": {
    "slideshow": {
     "slide_type": "skip"
    }
   },
   "outputs": [
    {
     "name": "stdout",
     "output_type": "stream",
     "text": [
      "There are 8040 unique users over the period\n"
     ]
    }
   ],
   "source": [
    "print(f'There are {transData[\"acct_no\"].nunique()} unique users over the period')"
   ]
  },
  {
   "cell_type": "markdown",
   "metadata": {
    "slideshow": {
     "slide_type": "notes"
    }
   },
   "source": [
    "#### There are 8040 unique users over the period"
   ]
  },
  {
   "cell_type": "code",
   "execution_count": 84,
   "metadata": {
    "slideshow": {
     "slide_type": "skip"
    }
   },
   "outputs": [
    {
     "name": "stdout",
     "output_type": "stream",
     "text": [
      "1237429 transactions were consumated from 2019 May 21 to 2020 December 09\n"
     ]
    }
   ],
   "source": [
    "print(f'{transData[\"txnCount\"].sum()} transactions were consumated from {transData.index[0].strftime(\"%Y %B %d\")} to {transData.index[-1].strftime(\"%Y %B %d\")}')"
   ]
  },
  {
   "cell_type": "markdown",
   "metadata": {
    "slideshow": {
     "slide_type": "notes"
    }
   },
   "source": [
    "#### 1237429 transactions were consumated from 2019 May 21 to 2020 December 09"
   ]
  },
  {
   "cell_type": "code",
   "execution_count": 10,
   "metadata": {
    "slideshow": {
     "slide_type": "skip"
    }
   },
   "outputs": [],
   "source": [
    "transData[\"yr_mth\"] = transData.index.strftime('%Y-%m')"
   ]
  },
  {
   "cell_type": "code",
   "execution_count": 11,
   "metadata": {
    "slideshow": {
     "slide_type": "skip"
    }
   },
   "outputs": [
    {
     "data": {
      "text/html": [
       "<div>\n",
       "<style scoped>\n",
       "    .dataframe tbody tr th:only-of-type {\n",
       "        vertical-align: middle;\n",
       "    }\n",
       "\n",
       "    .dataframe tbody tr th {\n",
       "        vertical-align: top;\n",
       "    }\n",
       "\n",
       "    .dataframe thead th {\n",
       "        text-align: right;\n",
       "    }\n",
       "</style>\n",
       "<table border=\"1\" class=\"dataframe\">\n",
       "  <thead>\n",
       "    <tr style=\"text-align: right;\">\n",
       "      <th></th>\n",
       "      <th>acct_no</th>\n",
       "      <th>txnYear</th>\n",
       "      <th>txnMonth</th>\n",
       "      <th>txnDay</th>\n",
       "      <th>status</th>\n",
       "      <th>txnCount</th>\n",
       "      <th>year_month</th>\n",
       "    </tr>\n",
       "  </thead>\n",
       "  <tbody>\n",
       "    <tr>\n",
       "      <td>2019-05-21</td>\n",
       "      <td>1718601l</td>\n",
       "      <td>2019</td>\n",
       "      <td>5</td>\n",
       "      <td>21</td>\n",
       "      <td>successful</td>\n",
       "      <td>3</td>\n",
       "      <td>2019-05</td>\n",
       "    </tr>\n",
       "    <tr>\n",
       "      <td>2019-05-21</td>\n",
       "      <td>6013170r</td>\n",
       "      <td>2019</td>\n",
       "      <td>5</td>\n",
       "      <td>21</td>\n",
       "      <td>successful</td>\n",
       "      <td>1</td>\n",
       "      <td>2019-05</td>\n",
       "    </tr>\n",
       "    <tr>\n",
       "      <td>2019-05-21</td>\n",
       "      <td>3800682k</td>\n",
       "      <td>2019</td>\n",
       "      <td>5</td>\n",
       "      <td>21</td>\n",
       "      <td>successful</td>\n",
       "      <td>1</td>\n",
       "      <td>2019-05</td>\n",
       "    </tr>\n",
       "    <tr>\n",
       "      <td>2019-05-21</td>\n",
       "      <td>7988606p</td>\n",
       "      <td>2019</td>\n",
       "      <td>5</td>\n",
       "      <td>21</td>\n",
       "      <td>successful</td>\n",
       "      <td>2</td>\n",
       "      <td>2019-05</td>\n",
       "    </tr>\n",
       "    <tr>\n",
       "      <td>2019-05-21</td>\n",
       "      <td>6485922j</td>\n",
       "      <td>2019</td>\n",
       "      <td>5</td>\n",
       "      <td>21</td>\n",
       "      <td>successful</td>\n",
       "      <td>4</td>\n",
       "      <td>2019-05</td>\n",
       "    </tr>\n",
       "    <tr>\n",
       "      <td>...</td>\n",
       "      <td>...</td>\n",
       "      <td>...</td>\n",
       "      <td>...</td>\n",
       "      <td>...</td>\n",
       "      <td>...</td>\n",
       "      <td>...</td>\n",
       "      <td>...</td>\n",
       "    </tr>\n",
       "    <tr>\n",
       "      <td>2020-12-09</td>\n",
       "      <td>9985393s</td>\n",
       "      <td>2020</td>\n",
       "      <td>1</td>\n",
       "      <td>29</td>\n",
       "      <td>successful</td>\n",
       "      <td>2</td>\n",
       "      <td>2020-12</td>\n",
       "    </tr>\n",
       "    <tr>\n",
       "      <td>2020-12-09</td>\n",
       "      <td>6038095m</td>\n",
       "      <td>2020</td>\n",
       "      <td>1</td>\n",
       "      <td>29</td>\n",
       "      <td>successful</td>\n",
       "      <td>3</td>\n",
       "      <td>2020-12</td>\n",
       "    </tr>\n",
       "    <tr>\n",
       "      <td>2020-12-09</td>\n",
       "      <td>6033179m</td>\n",
       "      <td>2020</td>\n",
       "      <td>1</td>\n",
       "      <td>29</td>\n",
       "      <td>successful</td>\n",
       "      <td>1</td>\n",
       "      <td>2020-12</td>\n",
       "    </tr>\n",
       "    <tr>\n",
       "      <td>2020-12-09</td>\n",
       "      <td>6030222l</td>\n",
       "      <td>2020</td>\n",
       "      <td>1</td>\n",
       "      <td>29</td>\n",
       "      <td>successful</td>\n",
       "      <td>1</td>\n",
       "      <td>2020-12</td>\n",
       "    </tr>\n",
       "    <tr>\n",
       "      <td>2020-12-09</td>\n",
       "      <td>4301681r</td>\n",
       "      <td>2020</td>\n",
       "      <td>1</td>\n",
       "      <td>29</td>\n",
       "      <td>failed</td>\n",
       "      <td>1</td>\n",
       "      <td>2020-12</td>\n",
       "    </tr>\n",
       "  </tbody>\n",
       "</table>\n",
       "<p>513247 rows × 7 columns</p>\n",
       "</div>"
      ],
      "text/plain": [
       "             acct_no txnYear txnMonth txnDay      status  txnCount year_month\n",
       "2019-05-21  1718601l    2019        5     21  successful         3    2019-05\n",
       "2019-05-21  6013170r    2019        5     21  successful         1    2019-05\n",
       "2019-05-21  3800682k    2019        5     21  successful         1    2019-05\n",
       "2019-05-21  7988606p    2019        5     21  successful         2    2019-05\n",
       "2019-05-21  6485922j    2019        5     21  successful         4    2019-05\n",
       "...              ...     ...      ...    ...         ...       ...        ...\n",
       "2020-12-09  9985393s    2020        1     29  successful         2    2020-12\n",
       "2020-12-09  6038095m    2020        1     29  successful         3    2020-12\n",
       "2020-12-09  6033179m    2020        1     29  successful         1    2020-12\n",
       "2020-12-09  6030222l    2020        1     29  successful         1    2020-12\n",
       "2020-12-09  4301681r    2020        1     29      failed         1    2020-12\n",
       "\n",
       "[513247 rows x 7 columns]"
      ]
     },
     "execution_count": 11,
     "metadata": {},
     "output_type": "execute_result"
    }
   ],
   "source": [
    "transData = transData.drop('year_month', axis=1)\n",
    "transData = transData.rename(columns={'yr_mth':'year_month'})\n",
    "transData"
   ]
  },
  {
   "cell_type": "code",
   "execution_count": 12,
   "metadata": {
    "slideshow": {
     "slide_type": "skip"
    }
   },
   "outputs": [],
   "source": [
    "transMetric = transData.groupby('year_month')['txnCount'].sum()"
   ]
  },
  {
   "cell_type": "code",
   "execution_count": 15,
   "metadata": {
    "slideshow": {
     "slide_type": "skip"
    }
   },
   "outputs": [
    {
     "name": "stdout",
     "output_type": "stream",
     "text": [
      "The average monthly transaction count is 61871.45\n"
     ]
    }
   ],
   "source": [
    "print(f'The average monthly transaction count is {transMetric.mean()}')"
   ]
  },
  {
   "cell_type": "markdown",
   "metadata": {
    "slideshow": {
     "slide_type": "notes"
    }
   },
   "source": [
    "#### The average monthly transaction count is 61871.45"
   ]
  },
  {
   "cell_type": "code",
   "execution_count": 17,
   "metadata": {
    "slideshow": {
     "slide_type": "skip"
    }
   },
   "outputs": [
    {
     "data": {
      "text/plain": [
       "year_month\n",
       "2019-05     10297\n",
       "2019-06     32338\n",
       "2019-07     40347\n",
       "2019-08     46421\n",
       "2019-09     39670\n",
       "2019-10     48327\n",
       "2019-11     47065\n",
       "2019-12     37280\n",
       "2020-01     12789\n",
       "2020-02     46043\n",
       "2020-03     51950\n",
       "2020-04     47632\n",
       "2020-05     67864\n",
       "2020-06     64521\n",
       "2020-07     83585\n",
       "2020-08     59166\n",
       "2020-09    200178\n",
       "2020-10    240997\n",
       "2020-11     48447\n",
       "2020-12     12512\n",
       "Name: txnCount, dtype: int64"
      ]
     },
     "execution_count": 17,
     "metadata": {},
     "output_type": "execute_result"
    }
   ],
   "source": [
    "transMetric"
   ]
  },
  {
   "cell_type": "code",
   "execution_count": 21,
   "metadata": {
    "slideshow": {
     "slide_type": "skip"
    }
   },
   "outputs": [],
   "source": [
    "txnCount_perMonth = pd.DataFrame(transMetric)"
   ]
  },
  {
   "cell_type": "markdown",
   "metadata": {
    "slideshow": {
     "slide_type": "slide"
    }
   },
   "source": [
    "### Transaction count per month"
   ]
  },
  {
   "cell_type": "code",
   "execution_count": 22,
   "metadata": {
    "slideshow": {
     "slide_type": "subslide"
    }
   },
   "outputs": [
    {
     "data": {
      "text/html": [
       "<div>\n",
       "<style scoped>\n",
       "    .dataframe tbody tr th:only-of-type {\n",
       "        vertical-align: middle;\n",
       "    }\n",
       "\n",
       "    .dataframe tbody tr th {\n",
       "        vertical-align: top;\n",
       "    }\n",
       "\n",
       "    .dataframe thead th {\n",
       "        text-align: right;\n",
       "    }\n",
       "</style>\n",
       "<table border=\"1\" class=\"dataframe\">\n",
       "  <thead>\n",
       "    <tr style=\"text-align: right;\">\n",
       "      <th></th>\n",
       "      <th>txnCount</th>\n",
       "    </tr>\n",
       "    <tr>\n",
       "      <th>year_month</th>\n",
       "      <th></th>\n",
       "    </tr>\n",
       "  </thead>\n",
       "  <tbody>\n",
       "    <tr>\n",
       "      <td>2019-05</td>\n",
       "      <td>10297</td>\n",
       "    </tr>\n",
       "    <tr>\n",
       "      <td>2019-06</td>\n",
       "      <td>32338</td>\n",
       "    </tr>\n",
       "    <tr>\n",
       "      <td>2019-07</td>\n",
       "      <td>40347</td>\n",
       "    </tr>\n",
       "    <tr>\n",
       "      <td>2019-08</td>\n",
       "      <td>46421</td>\n",
       "    </tr>\n",
       "    <tr>\n",
       "      <td>2019-09</td>\n",
       "      <td>39670</td>\n",
       "    </tr>\n",
       "    <tr>\n",
       "      <td>2019-10</td>\n",
       "      <td>48327</td>\n",
       "    </tr>\n",
       "    <tr>\n",
       "      <td>2019-11</td>\n",
       "      <td>47065</td>\n",
       "    </tr>\n",
       "    <tr>\n",
       "      <td>2019-12</td>\n",
       "      <td>37280</td>\n",
       "    </tr>\n",
       "    <tr>\n",
       "      <td>2020-01</td>\n",
       "      <td>12789</td>\n",
       "    </tr>\n",
       "    <tr>\n",
       "      <td>2020-02</td>\n",
       "      <td>46043</td>\n",
       "    </tr>\n",
       "    <tr>\n",
       "      <td>2020-03</td>\n",
       "      <td>51950</td>\n",
       "    </tr>\n",
       "    <tr>\n",
       "      <td>2020-04</td>\n",
       "      <td>47632</td>\n",
       "    </tr>\n",
       "    <tr>\n",
       "      <td>2020-05</td>\n",
       "      <td>67864</td>\n",
       "    </tr>\n",
       "    <tr>\n",
       "      <td>2020-06</td>\n",
       "      <td>64521</td>\n",
       "    </tr>\n",
       "    <tr>\n",
       "      <td>2020-07</td>\n",
       "      <td>83585</td>\n",
       "    </tr>\n",
       "    <tr>\n",
       "      <td>2020-08</td>\n",
       "      <td>59166</td>\n",
       "    </tr>\n",
       "    <tr>\n",
       "      <td>2020-09</td>\n",
       "      <td>200178</td>\n",
       "    </tr>\n",
       "    <tr>\n",
       "      <td>2020-10</td>\n",
       "      <td>240997</td>\n",
       "    </tr>\n",
       "    <tr>\n",
       "      <td>2020-11</td>\n",
       "      <td>48447</td>\n",
       "    </tr>\n",
       "    <tr>\n",
       "      <td>2020-12</td>\n",
       "      <td>12512</td>\n",
       "    </tr>\n",
       "  </tbody>\n",
       "</table>\n",
       "</div>"
      ],
      "text/plain": [
       "            txnCount\n",
       "year_month          \n",
       "2019-05        10297\n",
       "2019-06        32338\n",
       "2019-07        40347\n",
       "2019-08        46421\n",
       "2019-09        39670\n",
       "2019-10        48327\n",
       "2019-11        47065\n",
       "2019-12        37280\n",
       "2020-01        12789\n",
       "2020-02        46043\n",
       "2020-03        51950\n",
       "2020-04        47632\n",
       "2020-05        67864\n",
       "2020-06        64521\n",
       "2020-07        83585\n",
       "2020-08        59166\n",
       "2020-09       200178\n",
       "2020-10       240997\n",
       "2020-11        48447\n",
       "2020-12        12512"
      ]
     },
     "execution_count": 22,
     "metadata": {},
     "output_type": "execute_result"
    }
   ],
   "source": [
    "txnCount_perMonth"
   ]
  },
  {
   "cell_type": "code",
   "execution_count": 35,
   "metadata": {
    "slideshow": {
     "slide_type": "subslide"
    }
   },
   "outputs": [
    {
     "data": {
      "image/png": "[encoded data removed]",
      "text/plain": [
       "<Figure size 1800x576 with 1 Axes>"
      ]
     },
     "metadata": {
      "needs_background": "light"
     },
     "output_type": "display_data"
    }
   ],
   "source": [
    "plt.figure(figsize=(25,8))\n",
    "plt.title('Monthly Transaction Count', fontsize = 20)\n",
    "ax = sns.barplot(x=txnCount_perMonth.index, y=txnCount_perMonth['txnCount'], data = txnCount_perMonth)\n",
    "ax.set_xlabel('Months', fontsize=12)\n",
    "ax.set_ylabel('Transaction Count', fontsize=12)\n",
    "plt.show()"
   ]
  },
  {
   "cell_type": "markdown",
   "metadata": {
    "slideshow": {
     "slide_type": "notes"
    }
   },
   "source": [
    "### In September and October, the transaction count is on the high. This is attributed to the EndSars Protest which occurred in that same period."
   ]
  },
  {
   "cell_type": "code",
   "execution_count": 37,
   "metadata": {
    "slideshow": {
     "slide_type": "skip"
    }
   },
   "outputs": [],
   "source": [
    "userMetric = transData.groupby('acct_no')['txnCount'].sum()\n",
    "txnCount_perUser = pd.DataFrame(userMetric)\n",
    "txnCount_perUser = txnCount_perUser.sort_values(by='txnCount', ascending = False)"
   ]
  },
  {
   "cell_type": "markdown",
   "metadata": {
    "slideshow": {
     "slide_type": "slide"
    }
   },
   "source": [
    "### Top Users"
   ]
  },
  {
   "cell_type": "code",
   "execution_count": 41,
   "metadata": {
    "slideshow": {
     "slide_type": "subslide"
    }
   },
   "outputs": [
    {
     "data": {
      "text/html": [
       "<div>\n",
       "<style scoped>\n",
       "    .dataframe tbody tr th:only-of-type {\n",
       "        vertical-align: middle;\n",
       "    }\n",
       "\n",
       "    .dataframe tbody tr th {\n",
       "        vertical-align: top;\n",
       "    }\n",
       "\n",
       "    .dataframe thead th {\n",
       "        text-align: right;\n",
       "    }\n",
       "</style>\n",
       "<table border=\"1\" class=\"dataframe\">\n",
       "  <thead>\n",
       "    <tr style=\"text-align: right;\">\n",
       "      <th></th>\n",
       "      <th>txnCount</th>\n",
       "    </tr>\n",
       "    <tr>\n",
       "      <th>acct_no</th>\n",
       "      <th></th>\n",
       "    </tr>\n",
       "  </thead>\n",
       "  <tbody>\n",
       "    <tr>\n",
       "      <td>4203382q</td>\n",
       "      <td>109155</td>\n",
       "    </tr>\n",
       "    <tr>\n",
       "      <td>5843310m</td>\n",
       "      <td>13957</td>\n",
       "    </tr>\n",
       "    <tr>\n",
       "      <td>8056313r</td>\n",
       "      <td>13164</td>\n",
       "    </tr>\n",
       "    <tr>\n",
       "      <td>9850157q</td>\n",
       "      <td>7243</td>\n",
       "    </tr>\n",
       "    <tr>\n",
       "      <td>2029125q</td>\n",
       "      <td>5749</td>\n",
       "    </tr>\n",
       "  </tbody>\n",
       "</table>\n",
       "</div>"
      ],
      "text/plain": [
       "          txnCount\n",
       "acct_no           \n",
       "4203382q    109155\n",
       "5843310m     13957\n",
       "8056313r     13164\n",
       "9850157q      7243\n",
       "2029125q      5749"
      ]
     },
     "execution_count": 41,
     "metadata": {},
     "output_type": "execute_result"
    }
   ],
   "source": [
    "topUsers = txnCount_perUser.head()\n",
    "topUsers"
   ]
  },
  {
   "cell_type": "code",
   "execution_count": 45,
   "metadata": {
    "slideshow": {
     "slide_type": "subslide"
    }
   },
   "outputs": [
    {
     "data": {
      "image/png": "[encoded data removed]",
      "text/plain": [
       "<Figure size 1800x576 with 1 Axes>"
      ]
     },
     "metadata": {
      "needs_background": "light"
     },
     "output_type": "display_data"
    }
   ],
   "source": [
    "plt.figure(figsize=(25,8))\n",
    "plt.title('Top 5 Users in terms of transaction volume', fontsize = 20)\n",
    "ax = sns.barplot(x=topUsers['txnCount'], y=topUsers.index, data = topUsers)\n",
    "ax.set_xlabel('Transaction Count', fontsize=12)\n",
    "ax.set_ylabel('Users', fontsize=12)\n",
    "plt.show()"
   ]
  },
  {
   "cell_type": "markdown",
   "metadata": {
    "slideshow": {
     "slide_type": "notes"
    }
   },
   "source": [
    "#### User 4203382q is the top user over ther whole period"
   ]
  },
  {
   "cell_type": "markdown",
   "metadata": {
    "slideshow": {
     "slide_type": "slide"
    }
   },
   "source": [
    "### Top Users with Successful Transactions"
   ]
  },
  {
   "cell_type": "code",
   "execution_count": 52,
   "metadata": {
    "slideshow": {
     "slide_type": "subslide"
    }
   },
   "outputs": [
    {
     "data": {
      "text/html": [
       "<div>\n",
       "<style scoped>\n",
       "    .dataframe tbody tr th:only-of-type {\n",
       "        vertical-align: middle;\n",
       "    }\n",
       "\n",
       "    .dataframe tbody tr th {\n",
       "        vertical-align: top;\n",
       "    }\n",
       "\n",
       "    .dataframe thead th {\n",
       "        text-align: right;\n",
       "    }\n",
       "</style>\n",
       "<table border=\"1\" class=\"dataframe\">\n",
       "  <thead>\n",
       "    <tr style=\"text-align: right;\">\n",
       "      <th></th>\n",
       "      <th>txnCount</th>\n",
       "    </tr>\n",
       "    <tr>\n",
       "      <th>acct_no</th>\n",
       "      <th></th>\n",
       "    </tr>\n",
       "  </thead>\n",
       "  <tbody>\n",
       "    <tr>\n",
       "      <td>4203382q</td>\n",
       "      <td>102082</td>\n",
       "    </tr>\n",
       "    <tr>\n",
       "      <td>5843310m</td>\n",
       "      <td>13166</td>\n",
       "    </tr>\n",
       "    <tr>\n",
       "      <td>8056313r</td>\n",
       "      <td>12142</td>\n",
       "    </tr>\n",
       "    <tr>\n",
       "      <td>9850157q</td>\n",
       "      <td>6680</td>\n",
       "    </tr>\n",
       "    <tr>\n",
       "      <td>4495282m</td>\n",
       "      <td>4279</td>\n",
       "    </tr>\n",
       "  </tbody>\n",
       "</table>\n",
       "</div>"
      ],
      "text/plain": [
       "          txnCount\n",
       "acct_no           \n",
       "4203382q    102082\n",
       "5843310m     13166\n",
       "8056313r     12142\n",
       "9850157q      6680\n",
       "4495282m      4279"
      ]
     },
     "execution_count": 52,
     "metadata": {},
     "output_type": "execute_result"
    }
   ],
   "source": [
    "userMetric_SuccTrans = transData[transData['status']=='successful'].groupby('acct_no').sum()\n",
    "SucctxnCount_perUser = pd.DataFrame(userMetric_SuccTrans)\n",
    "SucctxnCount_perUser = SucctxnCount_perUser.sort_values(by='txnCount', ascending = False)\n",
    "topSuccUsers = SucctxnCount_perUser.head()\n",
    "topSuccUsers"
   ]
  },
  {
   "cell_type": "code",
   "execution_count": 53,
   "metadata": {
    "slideshow": {
     "slide_type": "subslide"
    }
   },
   "outputs": [
    {
     "data": {
      "image/png": "[encoded data removed]",
      "text/plain": [
       "<Figure size 1800x576 with 1 Axes>"
      ]
     },
     "metadata": {
      "needs_background": "light"
     },
     "output_type": "display_data"
    }
   ],
   "source": [
    "plt.figure(figsize=(25,8))\n",
    "plt.title('Top 5 Users in terms of successful transactions', fontsize = 20)\n",
    "ax = sns.barplot(x=topSuccUsers['txnCount'], y=topSuccUsers.index, data = topSuccUsers)\n",
    "ax.set_xlabel('Transaction Count', fontsize=12)\n",
    "ax.set_ylabel('Users', fontsize=12)\n",
    "plt.show()"
   ]
  },
  {
   "cell_type": "markdown",
   "metadata": {
    "slideshow": {
     "slide_type": "notes"
    }
   },
   "source": [
    "#### User 4203382q also had the most successful transactions"
   ]
  },
  {
   "cell_type": "code",
   "execution_count": 54,
   "metadata": {
    "slideshow": {
     "slide_type": "skip"
    }
   },
   "outputs": [
    {
     "data": {
      "text/html": [
       "<div>\n",
       "<style scoped>\n",
       "    .dataframe tbody tr th:only-of-type {\n",
       "        vertical-align: middle;\n",
       "    }\n",
       "\n",
       "    .dataframe tbody tr th {\n",
       "        vertical-align: top;\n",
       "    }\n",
       "\n",
       "    .dataframe thead th {\n",
       "        text-align: right;\n",
       "    }\n",
       "</style>\n",
       "<table border=\"1\" class=\"dataframe\">\n",
       "  <thead>\n",
       "    <tr style=\"text-align: right;\">\n",
       "      <th></th>\n",
       "      <th>acct_no</th>\n",
       "      <th>txnYear</th>\n",
       "      <th>txnMonth</th>\n",
       "      <th>txnDay</th>\n",
       "      <th>status</th>\n",
       "      <th>txnCount</th>\n",
       "      <th>year_month</th>\n",
       "    </tr>\n",
       "  </thead>\n",
       "  <tbody>\n",
       "    <tr>\n",
       "      <td>2019-05-21</td>\n",
       "      <td>1718601l</td>\n",
       "      <td>2019</td>\n",
       "      <td>5</td>\n",
       "      <td>21</td>\n",
       "      <td>successful</td>\n",
       "      <td>3</td>\n",
       "      <td>2019-05</td>\n",
       "    </tr>\n",
       "    <tr>\n",
       "      <td>2019-05-21</td>\n",
       "      <td>6013170r</td>\n",
       "      <td>2019</td>\n",
       "      <td>5</td>\n",
       "      <td>21</td>\n",
       "      <td>successful</td>\n",
       "      <td>1</td>\n",
       "      <td>2019-05</td>\n",
       "    </tr>\n",
       "    <tr>\n",
       "      <td>2019-05-21</td>\n",
       "      <td>3800682k</td>\n",
       "      <td>2019</td>\n",
       "      <td>5</td>\n",
       "      <td>21</td>\n",
       "      <td>successful</td>\n",
       "      <td>1</td>\n",
       "      <td>2019-05</td>\n",
       "    </tr>\n",
       "    <tr>\n",
       "      <td>2019-05-21</td>\n",
       "      <td>7988606p</td>\n",
       "      <td>2019</td>\n",
       "      <td>5</td>\n",
       "      <td>21</td>\n",
       "      <td>successful</td>\n",
       "      <td>2</td>\n",
       "      <td>2019-05</td>\n",
       "    </tr>\n",
       "    <tr>\n",
       "      <td>2019-05-21</td>\n",
       "      <td>6485922j</td>\n",
       "      <td>2019</td>\n",
       "      <td>5</td>\n",
       "      <td>21</td>\n",
       "      <td>successful</td>\n",
       "      <td>4</td>\n",
       "      <td>2019-05</td>\n",
       "    </tr>\n",
       "    <tr>\n",
       "      <td>...</td>\n",
       "      <td>...</td>\n",
       "      <td>...</td>\n",
       "      <td>...</td>\n",
       "      <td>...</td>\n",
       "      <td>...</td>\n",
       "      <td>...</td>\n",
       "      <td>...</td>\n",
       "    </tr>\n",
       "    <tr>\n",
       "      <td>2020-12-09</td>\n",
       "      <td>9985393s</td>\n",
       "      <td>2020</td>\n",
       "      <td>1</td>\n",
       "      <td>29</td>\n",
       "      <td>successful</td>\n",
       "      <td>2</td>\n",
       "      <td>2020-12</td>\n",
       "    </tr>\n",
       "    <tr>\n",
       "      <td>2020-12-09</td>\n",
       "      <td>6038095m</td>\n",
       "      <td>2020</td>\n",
       "      <td>1</td>\n",
       "      <td>29</td>\n",
       "      <td>successful</td>\n",
       "      <td>3</td>\n",
       "      <td>2020-12</td>\n",
       "    </tr>\n",
       "    <tr>\n",
       "      <td>2020-12-09</td>\n",
       "      <td>6033179m</td>\n",
       "      <td>2020</td>\n",
       "      <td>1</td>\n",
       "      <td>29</td>\n",
       "      <td>successful</td>\n",
       "      <td>1</td>\n",
       "      <td>2020-12</td>\n",
       "    </tr>\n",
       "    <tr>\n",
       "      <td>2020-12-09</td>\n",
       "      <td>6030222l</td>\n",
       "      <td>2020</td>\n",
       "      <td>1</td>\n",
       "      <td>29</td>\n",
       "      <td>successful</td>\n",
       "      <td>1</td>\n",
       "      <td>2020-12</td>\n",
       "    </tr>\n",
       "    <tr>\n",
       "      <td>2020-12-09</td>\n",
       "      <td>4301681r</td>\n",
       "      <td>2020</td>\n",
       "      <td>1</td>\n",
       "      <td>29</td>\n",
       "      <td>failed</td>\n",
       "      <td>1</td>\n",
       "      <td>2020-12</td>\n",
       "    </tr>\n",
       "  </tbody>\n",
       "</table>\n",
       "<p>513247 rows × 7 columns</p>\n",
       "</div>"
      ],
      "text/plain": [
       "             acct_no txnYear txnMonth txnDay      status  txnCount year_month\n",
       "2019-05-21  1718601l    2019        5     21  successful         3    2019-05\n",
       "2019-05-21  6013170r    2019        5     21  successful         1    2019-05\n",
       "2019-05-21  3800682k    2019        5     21  successful         1    2019-05\n",
       "2019-05-21  7988606p    2019        5     21  successful         2    2019-05\n",
       "2019-05-21  6485922j    2019        5     21  successful         4    2019-05\n",
       "...              ...     ...      ...    ...         ...       ...        ...\n",
       "2020-12-09  9985393s    2020        1     29  successful         2    2020-12\n",
       "2020-12-09  6038095m    2020        1     29  successful         3    2020-12\n",
       "2020-12-09  6033179m    2020        1     29  successful         1    2020-12\n",
       "2020-12-09  6030222l    2020        1     29  successful         1    2020-12\n",
       "2020-12-09  4301681r    2020        1     29      failed         1    2020-12\n",
       "\n",
       "[513247 rows x 7 columns]"
      ]
     },
     "execution_count": 54,
     "metadata": {},
     "output_type": "execute_result"
    }
   ],
   "source": [
    "transData"
   ]
  },
  {
   "cell_type": "markdown",
   "metadata": {
    "slideshow": {
     "slide_type": "slide"
    }
   },
   "source": [
    "## Transaction Count by Status"
   ]
  },
  {
   "cell_type": "code",
   "execution_count": 81,
   "metadata": {
    "slideshow": {
     "slide_type": "subslide"
    }
   },
   "outputs": [
    {
     "data": {
      "text/html": [
       "<div>\n",
       "<style scoped>\n",
       "    .dataframe tbody tr th:only-of-type {\n",
       "        vertical-align: middle;\n",
       "    }\n",
       "\n",
       "    .dataframe tbody tr th {\n",
       "        vertical-align: top;\n",
       "    }\n",
       "\n",
       "    .dataframe thead th {\n",
       "        text-align: right;\n",
       "    }\n",
       "</style>\n",
       "<table border=\"1\" class=\"dataframe\">\n",
       "  <thead>\n",
       "    <tr style=\"text-align: right;\">\n",
       "      <th></th>\n",
       "      <th>txnCount</th>\n",
       "    </tr>\n",
       "    <tr>\n",
       "      <th>status</th>\n",
       "      <th></th>\n",
       "    </tr>\n",
       "  </thead>\n",
       "  <tbody>\n",
       "    <tr>\n",
       "      <td>successful</td>\n",
       "      <td>1176531</td>\n",
       "    </tr>\n",
       "    <tr>\n",
       "      <td>failed</td>\n",
       "      <td>46239</td>\n",
       "    </tr>\n",
       "    <tr>\n",
       "      <td>declined</td>\n",
       "      <td>13091</td>\n",
       "    </tr>\n",
       "    <tr>\n",
       "      <td>initialized</td>\n",
       "      <td>1466</td>\n",
       "    </tr>\n",
       "    <tr>\n",
       "      <td>pending</td>\n",
       "      <td>65</td>\n",
       "    </tr>\n",
       "    <tr>\n",
       "      <td>debited</td>\n",
       "      <td>37</td>\n",
       "    </tr>\n",
       "  </tbody>\n",
       "</table>\n",
       "</div>"
      ],
      "text/plain": [
       "             txnCount\n",
       "status               \n",
       "successful    1176531\n",
       "failed          46239\n",
       "declined        13091\n",
       "initialized      1466\n",
       "pending            65\n",
       "debited            37"
      ]
     },
     "execution_count": 81,
     "metadata": {},
     "output_type": "execute_result"
    }
   ],
   "source": [
    "statusData = transData.drop(['txnYear','txnMonth','txnDay','year_month'], axis='columns')\n",
    "statusData = statusData.groupby('status').sum()\n",
    "statusData = statusData.sort_values(by='txnCount', ascending = False)\n",
    "statusData\n",
    "# SucctxnCount_perUser = pd.DataFrame(userMetric_SuccTrans)\n",
    "# SucctxnCount_perUser = SucctxnCount_perUser.sort_values(by='txnCount', ascending = False)\n",
    "# topSuccUsers = SucctxnCount_perUser.head()\n",
    "# topSuccUsers"
   ]
  },
  {
   "cell_type": "code",
   "execution_count": 83,
   "metadata": {
    "slideshow": {
     "slide_type": "subslide"
    }
   },
   "outputs": [
    {
     "data": {
      "image/png": "[encoded data removed]",
      "text/plain": [
       "<Figure size 1800x576 with 1 Axes>"
      ]
     },
     "metadata": {
      "needs_background": "light"
     },
     "output_type": "display_data"
    }
   ],
   "source": [
    "plt.figure(figsize=(25,8))\n",
    "plt.title('Transaction Status Analysis', fontsize = 20)\n",
    "ax = sns.barplot(x=statusData.index, y=statusData['txnCount'], data = statusData)\n",
    "ax.set_xlabel('Status', fontsize=16)\n",
    "ax.set_ylabel('Transaction Count', fontsize=16)\n",
    "plt.show()"
   ]
  },
  {
   "cell_type": "markdown",
   "metadata": {
    "slideshow": {
     "slide_type": "notes"
    }
   },
   "source": [
    "#### 95% of all transactions carried out over the period were successful"
   ]
  },
  {
   "cell_type": "markdown",
   "metadata": {
    "slideshow": {
     "slide_type": "slide"
    }
   },
   "source": [
    "# END SARS PERIOD"
   ]
  },
  {
   "cell_type": "markdown",
   "metadata": {
    "slideshow": {
     "slide_type": "subslide"
    }
   },
   "source": [
    "### These were transactions that happened in September 2020 and October 2020"
   ]
  },
  {
   "cell_type": "code",
   "execution_count": 86,
   "metadata": {
    "slideshow": {
     "slide_type": "subslide"
    }
   },
   "outputs": [
    {
     "data": {
      "text/html": [
       "<div>\n",
       "<style scoped>\n",
       "    .dataframe tbody tr th:only-of-type {\n",
       "        vertical-align: middle;\n",
       "    }\n",
       "\n",
       "    .dataframe tbody tr th {\n",
       "        vertical-align: top;\n",
       "    }\n",
       "\n",
       "    .dataframe thead th {\n",
       "        text-align: right;\n",
       "    }\n",
       "</style>\n",
       "<table border=\"1\" class=\"dataframe\">\n",
       "  <thead>\n",
       "    <tr style=\"text-align: right;\">\n",
       "      <th></th>\n",
       "      <th>acct_no</th>\n",
       "      <th>txnYear</th>\n",
       "      <th>txnMonth</th>\n",
       "      <th>txnDay</th>\n",
       "      <th>status</th>\n",
       "      <th>txnCount</th>\n",
       "      <th>Date</th>\n",
       "    </tr>\n",
       "    <tr>\n",
       "      <th>year_month</th>\n",
       "      <th></th>\n",
       "      <th></th>\n",
       "      <th></th>\n",
       "      <th></th>\n",
       "      <th></th>\n",
       "      <th></th>\n",
       "      <th></th>\n",
       "    </tr>\n",
       "  </thead>\n",
       "  <tbody>\n",
       "    <tr>\n",
       "      <td>2020-09</td>\n",
       "      <td>8334711r</td>\n",
       "      <td>2020</td>\n",
       "      <td>9</td>\n",
       "      <td>1</td>\n",
       "      <td>successful</td>\n",
       "      <td>1</td>\n",
       "      <td>2020-09-01</td>\n",
       "    </tr>\n",
       "    <tr>\n",
       "      <td>2020-09</td>\n",
       "      <td>6382078m</td>\n",
       "      <td>2020</td>\n",
       "      <td>9</td>\n",
       "      <td>1</td>\n",
       "      <td>successful</td>\n",
       "      <td>14</td>\n",
       "      <td>2020-09-01</td>\n",
       "    </tr>\n",
       "    <tr>\n",
       "      <td>2020-09</td>\n",
       "      <td>9980365k</td>\n",
       "      <td>2020</td>\n",
       "      <td>9</td>\n",
       "      <td>1</td>\n",
       "      <td>failed</td>\n",
       "      <td>3</td>\n",
       "      <td>2020-09-01</td>\n",
       "    </tr>\n",
       "    <tr>\n",
       "      <td>2020-09</td>\n",
       "      <td>5975512m</td>\n",
       "      <td>2020</td>\n",
       "      <td>9</td>\n",
       "      <td>1</td>\n",
       "      <td>successful</td>\n",
       "      <td>6</td>\n",
       "      <td>2020-09-01</td>\n",
       "    </tr>\n",
       "    <tr>\n",
       "      <td>2020-09</td>\n",
       "      <td>2946418k</td>\n",
       "      <td>2020</td>\n",
       "      <td>9</td>\n",
       "      <td>1</td>\n",
       "      <td>successful</td>\n",
       "      <td>1</td>\n",
       "      <td>2020-09-01</td>\n",
       "    </tr>\n",
       "    <tr>\n",
       "      <td>...</td>\n",
       "      <td>...</td>\n",
       "      <td>...</td>\n",
       "      <td>...</td>\n",
       "      <td>...</td>\n",
       "      <td>...</td>\n",
       "      <td>...</td>\n",
       "      <td>...</td>\n",
       "    </tr>\n",
       "    <tr>\n",
       "      <td>2020-10</td>\n",
       "      <td>3827748m</td>\n",
       "      <td>2020</td>\n",
       "      <td>10</td>\n",
       "      <td>31</td>\n",
       "      <td>successful</td>\n",
       "      <td>4</td>\n",
       "      <td>2020-10-31</td>\n",
       "    </tr>\n",
       "    <tr>\n",
       "      <td>2020-10</td>\n",
       "      <td>1661396q</td>\n",
       "      <td>2020</td>\n",
       "      <td>10</td>\n",
       "      <td>31</td>\n",
       "      <td>successful</td>\n",
       "      <td>1</td>\n",
       "      <td>2020-10-31</td>\n",
       "    </tr>\n",
       "    <tr>\n",
       "      <td>2020-10</td>\n",
       "      <td>1843337o</td>\n",
       "      <td>2020</td>\n",
       "      <td>10</td>\n",
       "      <td>31</td>\n",
       "      <td>successful</td>\n",
       "      <td>2</td>\n",
       "      <td>2020-10-31</td>\n",
       "    </tr>\n",
       "    <tr>\n",
       "      <td>2020-10</td>\n",
       "      <td>3784265m</td>\n",
       "      <td>2020</td>\n",
       "      <td>10</td>\n",
       "      <td>31</td>\n",
       "      <td>successful</td>\n",
       "      <td>1</td>\n",
       "      <td>2020-10-31</td>\n",
       "    </tr>\n",
       "    <tr>\n",
       "      <td>2020-10</td>\n",
       "      <td>5178662s</td>\n",
       "      <td>2020</td>\n",
       "      <td>10</td>\n",
       "      <td>31</td>\n",
       "      <td>successful</td>\n",
       "      <td>1</td>\n",
       "      <td>2020-10-31</td>\n",
       "    </tr>\n",
       "  </tbody>\n",
       "</table>\n",
       "<p>150567 rows × 7 columns</p>\n",
       "</div>"
      ],
      "text/plain": [
       "             acct_no txnYear txnMonth txnDay      status  txnCount       Date\n",
       "year_month                                                                   \n",
       "2020-09     8334711r    2020        9      1  successful         1 2020-09-01\n",
       "2020-09     6382078m    2020        9      1  successful        14 2020-09-01\n",
       "2020-09     9980365k    2020        9      1      failed         3 2020-09-01\n",
       "2020-09     5975512m    2020        9      1  successful         6 2020-09-01\n",
       "2020-09     2946418k    2020        9      1  successful         1 2020-09-01\n",
       "...              ...     ...      ...    ...         ...       ...        ...\n",
       "2020-10     3827748m    2020       10     31  successful         4 2020-10-31\n",
       "2020-10     1661396q    2020       10     31  successful         1 2020-10-31\n",
       "2020-10     1843337o    2020       10     31  successful         2 2020-10-31\n",
       "2020-10     3784265m    2020       10     31  successful         1 2020-10-31\n",
       "2020-10     5178662s    2020       10     31  successful         1 2020-10-31\n",
       "\n",
       "[150567 rows x 7 columns]"
      ]
     },
     "execution_count": 86,
     "metadata": {},
     "output_type": "execute_result"
    }
   ],
   "source": [
    "transData['Date'] = transData.index\n",
    "endSARS_period = transData.set_index('year_month').loc['2020-09':'2020-10']\n",
    "endSARS_period"
   ]
  },
  {
   "cell_type": "code",
   "execution_count": 87,
   "metadata": {
    "slideshow": {
     "slide_type": "skip"
    }
   },
   "outputs": [
    {
     "name": "stdout",
     "output_type": "stream",
     "text": [
      "There are 5861 unique users during the End Sars period\n"
     ]
    }
   ],
   "source": [
    "print(f'There are {endSARS_period[\"acct_no\"].nunique()} unique users during the End Sars period')"
   ]
  },
  {
   "cell_type": "markdown",
   "metadata": {
    "slideshow": {
     "slide_type": "notes"
    }
   },
   "source": [
    "#### There are 5861 unique users during the End Sars period"
   ]
  },
  {
   "cell_type": "code",
   "execution_count": 97,
   "metadata": {
    "slideshow": {
     "slide_type": "skip"
    }
   },
   "outputs": [
    {
     "name": "stdout",
     "output_type": "stream",
     "text": [
      "441175 transactions were consumated during the End Sars Period which is way higher than the average monthly transaction volume which is 61871.45\n"
     ]
    }
   ],
   "source": [
    "print(f'{endSARS_period[\"txnCount\"].sum()} transactions were consumated during the End Sars Period which is way higher than the average monthly transaction volume which is {transMetric.mean()}')"
   ]
  },
  {
   "cell_type": "markdown",
   "metadata": {
    "slideshow": {
     "slide_type": "notes"
    }
   },
   "source": [
    "#### 441175 transactions were consumated during the End Sars Period which is way higher than the average monthly transaction volume which is 61871.45"
   ]
  },
  {
   "cell_type": "markdown",
   "metadata": {
    "slideshow": {
     "slide_type": "subslide"
    }
   },
   "source": [
    "### Top Users during the EndSARS period"
   ]
  },
  {
   "cell_type": "code",
   "execution_count": 116,
   "metadata": {
    "slideshow": {
     "slide_type": "skip"
    }
   },
   "outputs": [],
   "source": [
    "userMetric_ES = endSARS_period.groupby('acct_no')['txnCount'].sum()\n",
    "txnCount_perUser_ES = pd.DataFrame(userMetric_ES)\n",
    "txnCount_perUser_ES = txnCount_perUser_ES.sort_values(by='txnCount', ascending = False)"
   ]
  },
  {
   "cell_type": "code",
   "execution_count": 117,
   "metadata": {
    "slideshow": {
     "slide_type": "subslide"
    }
   },
   "outputs": [
    {
     "data": {
      "text/html": [
       "<div>\n",
       "<style scoped>\n",
       "    .dataframe tbody tr th:only-of-type {\n",
       "        vertical-align: middle;\n",
       "    }\n",
       "\n",
       "    .dataframe tbody tr th {\n",
       "        vertical-align: top;\n",
       "    }\n",
       "\n",
       "    .dataframe thead th {\n",
       "        text-align: right;\n",
       "    }\n",
       "</style>\n",
       "<table border=\"1\" class=\"dataframe\">\n",
       "  <thead>\n",
       "    <tr style=\"text-align: right;\">\n",
       "      <th></th>\n",
       "      <th>txnCount</th>\n",
       "    </tr>\n",
       "    <tr>\n",
       "      <th>acct_no</th>\n",
       "      <th></th>\n",
       "    </tr>\n",
       "  </thead>\n",
       "  <tbody>\n",
       "    <tr>\n",
       "      <td>4203382q</td>\n",
       "      <td>19408</td>\n",
       "    </tr>\n",
       "    <tr>\n",
       "      <td>9850157q</td>\n",
       "      <td>6039</td>\n",
       "    </tr>\n",
       "    <tr>\n",
       "      <td>5843310m</td>\n",
       "      <td>3652</td>\n",
       "    </tr>\n",
       "    <tr>\n",
       "      <td>7502779o</td>\n",
       "      <td>3515</td>\n",
       "    </tr>\n",
       "    <tr>\n",
       "      <td>2029125q</td>\n",
       "      <td>2586</td>\n",
       "    </tr>\n",
       "  </tbody>\n",
       "</table>\n",
       "</div>"
      ],
      "text/plain": [
       "          txnCount\n",
       "acct_no           \n",
       "4203382q     19408\n",
       "9850157q      6039\n",
       "5843310m      3652\n",
       "7502779o      3515\n",
       "2029125q      2586"
      ]
     },
     "execution_count": 117,
     "metadata": {},
     "output_type": "execute_result"
    }
   ],
   "source": [
    "topUsers_ES = txnCount_perUser_ES.head()\n",
    "topUsers_ES"
   ]
  },
  {
   "cell_type": "code",
   "execution_count": 118,
   "metadata": {
    "slideshow": {
     "slide_type": "subslide"
    }
   },
   "outputs": [
    {
     "data": {
      "image/png": "[encoded data removed]",
      "text/plain": [
       "<Figure size 1800x576 with 1 Axes>"
      ]
     },
     "metadata": {
      "needs_background": "light"
     },
     "output_type": "display_data"
    }
   ],
   "source": [
    "plt.figure(figsize=(25,8))\n",
    "plt.title('Top 5 Users in terms of transaction volume during EndSARS', fontsize = 20)\n",
    "ax = sns.barplot(x=topUsers_ES['txnCount'], y=topUsers_ES.index, data = topUsers_ES)\n",
    "ax.set_xlabel('Transaction Count', fontsize=12)\n",
    "ax.set_ylabel('Users', fontsize=12)\n",
    "plt.show()"
   ]
  },
  {
   "cell_type": "markdown",
   "metadata": {
    "slideshow": {
     "slide_type": "subslide"
    }
   },
   "source": [
    "#### User 4203382q is also the top user during the EndSARS period"
   ]
  },
  {
   "cell_type": "markdown",
   "metadata": {
    "slideshow": {
     "slide_type": "subslide"
    }
   },
   "source": [
    "## Transaction Count by Status during EndSARS"
   ]
  },
  {
   "cell_type": "code",
   "execution_count": 122,
   "metadata": {
    "slideshow": {
     "slide_type": "subslide"
    }
   },
   "outputs": [
    {
     "data": {
      "text/html": [
       "<div>\n",
       "<style scoped>\n",
       "    .dataframe tbody tr th:only-of-type {\n",
       "        vertical-align: middle;\n",
       "    }\n",
       "\n",
       "    .dataframe tbody tr th {\n",
       "        vertical-align: top;\n",
       "    }\n",
       "\n",
       "    .dataframe thead th {\n",
       "        text-align: right;\n",
       "    }\n",
       "</style>\n",
       "<table border=\"1\" class=\"dataframe\">\n",
       "  <thead>\n",
       "    <tr style=\"text-align: right;\">\n",
       "      <th></th>\n",
       "      <th>txnCount</th>\n",
       "    </tr>\n",
       "    <tr>\n",
       "      <th>status</th>\n",
       "      <th></th>\n",
       "    </tr>\n",
       "  </thead>\n",
       "  <tbody>\n",
       "    <tr>\n",
       "      <td>successful</td>\n",
       "      <td>424312</td>\n",
       "    </tr>\n",
       "    <tr>\n",
       "      <td>failed</td>\n",
       "      <td>10900</td>\n",
       "    </tr>\n",
       "    <tr>\n",
       "      <td>declined</td>\n",
       "      <td>5567</td>\n",
       "    </tr>\n",
       "    <tr>\n",
       "      <td>initialized</td>\n",
       "      <td>375</td>\n",
       "    </tr>\n",
       "    <tr>\n",
       "      <td>pending</td>\n",
       "      <td>20</td>\n",
       "    </tr>\n",
       "    <tr>\n",
       "      <td>debited</td>\n",
       "      <td>1</td>\n",
       "    </tr>\n",
       "  </tbody>\n",
       "</table>\n",
       "</div>"
      ],
      "text/plain": [
       "             txnCount\n",
       "status               \n",
       "successful     424312\n",
       "failed          10900\n",
       "declined         5567\n",
       "initialized       375\n",
       "pending            20\n",
       "debited             1"
      ]
     },
     "execution_count": 122,
     "metadata": {},
     "output_type": "execute_result"
    }
   ],
   "source": [
    "statusData_ES = endSARS_period.drop(['txnYear','txnMonth','txnDay'], axis='columns')\n",
    "statusData_ES = statusData_ES.groupby('status').sum()\n",
    "statusData_ES = statusData_ES.sort_values(by='txnCount', ascending = False)\n",
    "statusData_ES\n",
    "#endSARS_period"
   ]
  },
  {
   "cell_type": "code",
   "execution_count": 123,
   "metadata": {
    "slideshow": {
     "slide_type": "subslide"
    }
   },
   "outputs": [
    {
     "data": {
      "image/png": "[encoded data removed]",
      "text/plain": [
       "<Figure size 1800x576 with 1 Axes>"
      ]
     },
     "metadata": {
      "needs_background": "light"
     },
     "output_type": "display_data"
    }
   ],
   "source": [
    "plt.figure(figsize=(25,8))\n",
    "plt.title('Transaction Status Analysis during EndSARS', fontsize = 20)\n",
    "ax = sns.barplot(x=statusData_ES.index, y=statusData_ES['txnCount'], data = statusData_ES)\n",
    "ax.set_xlabel('Status', fontsize=16)\n",
    "ax.set_ylabel('Transaction Count', fontsize=16)\n",
    "plt.show()"
   ]
  },
  {
   "cell_type": "markdown",
   "metadata": {
    "slideshow": {
     "slide_type": "slide"
    }
   },
   "source": [
    "### Weekday Analysis"
   ]
  },
  {
   "cell_type": "code",
   "execution_count": 126,
   "metadata": {
    "slideshow": {
     "slide_type": "subslide"
    }
   },
   "outputs": [
    {
     "data": {
      "text/html": [
       "<div>\n",
       "<style scoped>\n",
       "    .dataframe tbody tr th:only-of-type {\n",
       "        vertical-align: middle;\n",
       "    }\n",
       "\n",
       "    .dataframe tbody tr th {\n",
       "        vertical-align: top;\n",
       "    }\n",
       "\n",
       "    .dataframe thead th {\n",
       "        text-align: right;\n",
       "    }\n",
       "</style>\n",
       "<table border=\"1\" class=\"dataframe\">\n",
       "  <thead>\n",
       "    <tr style=\"text-align: right;\">\n",
       "      <th></th>\n",
       "      <th>acct_no</th>\n",
       "      <th>status</th>\n",
       "      <th>txnCount</th>\n",
       "      <th>year_month</th>\n",
       "      <th>Date</th>\n",
       "      <th>txnWeekDay</th>\n",
       "      <th>txnMonth</th>\n",
       "      <th>txnYear</th>\n",
       "      <th>txnDay</th>\n",
       "    </tr>\n",
       "  </thead>\n",
       "  <tbody>\n",
       "    <tr>\n",
       "      <td>2019-05-21</td>\n",
       "      <td>1718601l</td>\n",
       "      <td>successful</td>\n",
       "      <td>3</td>\n",
       "      <td>2019-05</td>\n",
       "      <td>2019-05-21</td>\n",
       "      <td>1</td>\n",
       "      <td>5</td>\n",
       "      <td>2019</td>\n",
       "      <td>21</td>\n",
       "    </tr>\n",
       "    <tr>\n",
       "      <td>2019-05-21</td>\n",
       "      <td>6013170r</td>\n",
       "      <td>successful</td>\n",
       "      <td>1</td>\n",
       "      <td>2019-05</td>\n",
       "      <td>2019-05-21</td>\n",
       "      <td>1</td>\n",
       "      <td>5</td>\n",
       "      <td>2019</td>\n",
       "      <td>21</td>\n",
       "    </tr>\n",
       "    <tr>\n",
       "      <td>2019-05-21</td>\n",
       "      <td>3800682k</td>\n",
       "      <td>successful</td>\n",
       "      <td>1</td>\n",
       "      <td>2019-05</td>\n",
       "      <td>2019-05-21</td>\n",
       "      <td>1</td>\n",
       "      <td>5</td>\n",
       "      <td>2019</td>\n",
       "      <td>21</td>\n",
       "    </tr>\n",
       "    <tr>\n",
       "      <td>2019-05-21</td>\n",
       "      <td>7988606p</td>\n",
       "      <td>successful</td>\n",
       "      <td>2</td>\n",
       "      <td>2019-05</td>\n",
       "      <td>2019-05-21</td>\n",
       "      <td>1</td>\n",
       "      <td>5</td>\n",
       "      <td>2019</td>\n",
       "      <td>21</td>\n",
       "    </tr>\n",
       "    <tr>\n",
       "      <td>2019-05-21</td>\n",
       "      <td>6485922j</td>\n",
       "      <td>successful</td>\n",
       "      <td>4</td>\n",
       "      <td>2019-05</td>\n",
       "      <td>2019-05-21</td>\n",
       "      <td>1</td>\n",
       "      <td>5</td>\n",
       "      <td>2019</td>\n",
       "      <td>21</td>\n",
       "    </tr>\n",
       "    <tr>\n",
       "      <td>...</td>\n",
       "      <td>...</td>\n",
       "      <td>...</td>\n",
       "      <td>...</td>\n",
       "      <td>...</td>\n",
       "      <td>...</td>\n",
       "      <td>...</td>\n",
       "      <td>...</td>\n",
       "      <td>...</td>\n",
       "      <td>...</td>\n",
       "    </tr>\n",
       "    <tr>\n",
       "      <td>2020-12-09</td>\n",
       "      <td>9985393s</td>\n",
       "      <td>successful</td>\n",
       "      <td>2</td>\n",
       "      <td>2020-12</td>\n",
       "      <td>2020-12-09</td>\n",
       "      <td>2</td>\n",
       "      <td>12</td>\n",
       "      <td>2020</td>\n",
       "      <td>9</td>\n",
       "    </tr>\n",
       "    <tr>\n",
       "      <td>2020-12-09</td>\n",
       "      <td>6038095m</td>\n",
       "      <td>successful</td>\n",
       "      <td>3</td>\n",
       "      <td>2020-12</td>\n",
       "      <td>2020-12-09</td>\n",
       "      <td>2</td>\n",
       "      <td>12</td>\n",
       "      <td>2020</td>\n",
       "      <td>9</td>\n",
       "    </tr>\n",
       "    <tr>\n",
       "      <td>2020-12-09</td>\n",
       "      <td>6033179m</td>\n",
       "      <td>successful</td>\n",
       "      <td>1</td>\n",
       "      <td>2020-12</td>\n",
       "      <td>2020-12-09</td>\n",
       "      <td>2</td>\n",
       "      <td>12</td>\n",
       "      <td>2020</td>\n",
       "      <td>9</td>\n",
       "    </tr>\n",
       "    <tr>\n",
       "      <td>2020-12-09</td>\n",
       "      <td>6030222l</td>\n",
       "      <td>successful</td>\n",
       "      <td>1</td>\n",
       "      <td>2020-12</td>\n",
       "      <td>2020-12-09</td>\n",
       "      <td>2</td>\n",
       "      <td>12</td>\n",
       "      <td>2020</td>\n",
       "      <td>9</td>\n",
       "    </tr>\n",
       "    <tr>\n",
       "      <td>2020-12-09</td>\n",
       "      <td>4301681r</td>\n",
       "      <td>failed</td>\n",
       "      <td>1</td>\n",
       "      <td>2020-12</td>\n",
       "      <td>2020-12-09</td>\n",
       "      <td>2</td>\n",
       "      <td>12</td>\n",
       "      <td>2020</td>\n",
       "      <td>9</td>\n",
       "    </tr>\n",
       "  </tbody>\n",
       "</table>\n",
       "<p>513247 rows × 9 columns</p>\n",
       "</div>"
      ],
      "text/plain": [
       "             acct_no      status  txnCount year_month       Date  txnWeekDay  \\\n",
       "2019-05-21  1718601l  successful         3    2019-05 2019-05-21           1   \n",
       "2019-05-21  6013170r  successful         1    2019-05 2019-05-21           1   \n",
       "2019-05-21  3800682k  successful         1    2019-05 2019-05-21           1   \n",
       "2019-05-21  7988606p  successful         2    2019-05 2019-05-21           1   \n",
       "2019-05-21  6485922j  successful         4    2019-05 2019-05-21           1   \n",
       "...              ...         ...       ...        ...        ...         ...   \n",
       "2020-12-09  9985393s  successful         2    2020-12 2020-12-09           2   \n",
       "2020-12-09  6038095m  successful         3    2020-12 2020-12-09           2   \n",
       "2020-12-09  6033179m  successful         1    2020-12 2020-12-09           2   \n",
       "2020-12-09  6030222l  successful         1    2020-12 2020-12-09           2   \n",
       "2020-12-09  4301681r      failed         1    2020-12 2020-12-09           2   \n",
       "\n",
       "            txnMonth  txnYear  txnDay  \n",
       "2019-05-21         5     2019      21  \n",
       "2019-05-21         5     2019      21  \n",
       "2019-05-21         5     2019      21  \n",
       "2019-05-21         5     2019      21  \n",
       "2019-05-21         5     2019      21  \n",
       "...              ...      ...     ...  \n",
       "2020-12-09        12     2020       9  \n",
       "2020-12-09        12     2020       9  \n",
       "2020-12-09        12     2020       9  \n",
       "2020-12-09        12     2020       9  \n",
       "2020-12-09        12     2020       9  \n",
       "\n",
       "[513247 rows x 9 columns]"
      ]
     },
     "execution_count": 126,
     "metadata": {},
     "output_type": "execute_result"
    }
   ],
   "source": [
    "transData['txnWeekDay'] = pd.DatetimeIndex(transData.Date).weekday\n",
    "newData = transData.drop(['txnYear','txnMonth','txnDay','txnWeek'], axis='columns')\n",
    "newData['txnMonth'] = pd.DatetimeIndex(newData.Date).month\n",
    "newData['txnYear'] = pd.DatetimeIndex(newData.Date).year\n",
    "newData['txnDay'] = pd.DatetimeIndex(newData.Date).day\n",
    "newData"
   ]
  },
  {
   "cell_type": "code",
   "execution_count": 131,
   "metadata": {
    "slideshow": {
     "slide_type": "skip"
    }
   },
   "outputs": [
    {
     "data": {
      "text/html": [
       "<div>\n",
       "<style scoped>\n",
       "    .dataframe tbody tr th:only-of-type {\n",
       "        vertical-align: middle;\n",
       "    }\n",
       "\n",
       "    .dataframe tbody tr th {\n",
       "        vertical-align: top;\n",
       "    }\n",
       "\n",
       "    .dataframe thead th {\n",
       "        text-align: right;\n",
       "    }\n",
       "</style>\n",
       "<table border=\"1\" class=\"dataframe\">\n",
       "  <thead>\n",
       "    <tr style=\"text-align: right;\">\n",
       "      <th></th>\n",
       "      <th>status</th>\n",
       "      <th>txnCount</th>\n",
       "      <th>txnWeekDay</th>\n",
       "    </tr>\n",
       "  </thead>\n",
       "  <tbody>\n",
       "    <tr>\n",
       "      <td>0</td>\n",
       "      <td>successful</td>\n",
       "      <td>3</td>\n",
       "      <td>1</td>\n",
       "    </tr>\n",
       "    <tr>\n",
       "      <td>1</td>\n",
       "      <td>successful</td>\n",
       "      <td>1</td>\n",
       "      <td>1</td>\n",
       "    </tr>\n",
       "    <tr>\n",
       "      <td>2</td>\n",
       "      <td>successful</td>\n",
       "      <td>1</td>\n",
       "      <td>1</td>\n",
       "    </tr>\n",
       "    <tr>\n",
       "      <td>3</td>\n",
       "      <td>successful</td>\n",
       "      <td>2</td>\n",
       "      <td>1</td>\n",
       "    </tr>\n",
       "    <tr>\n",
       "      <td>4</td>\n",
       "      <td>successful</td>\n",
       "      <td>4</td>\n",
       "      <td>1</td>\n",
       "    </tr>\n",
       "    <tr>\n",
       "      <td>...</td>\n",
       "      <td>...</td>\n",
       "      <td>...</td>\n",
       "      <td>...</td>\n",
       "    </tr>\n",
       "    <tr>\n",
       "      <td>513242</td>\n",
       "      <td>successful</td>\n",
       "      <td>2</td>\n",
       "      <td>2</td>\n",
       "    </tr>\n",
       "    <tr>\n",
       "      <td>513243</td>\n",
       "      <td>successful</td>\n",
       "      <td>3</td>\n",
       "      <td>2</td>\n",
       "    </tr>\n",
       "    <tr>\n",
       "      <td>513244</td>\n",
       "      <td>successful</td>\n",
       "      <td>1</td>\n",
       "      <td>2</td>\n",
       "    </tr>\n",
       "    <tr>\n",
       "      <td>513245</td>\n",
       "      <td>successful</td>\n",
       "      <td>1</td>\n",
       "      <td>2</td>\n",
       "    </tr>\n",
       "    <tr>\n",
       "      <td>513246</td>\n",
       "      <td>failed</td>\n",
       "      <td>1</td>\n",
       "      <td>2</td>\n",
       "    </tr>\n",
       "  </tbody>\n",
       "</table>\n",
       "<p>513247 rows × 3 columns</p>\n",
       "</div>"
      ],
      "text/plain": [
       "            status  txnCount  txnWeekDay\n",
       "0       successful         3           1\n",
       "1       successful         1           1\n",
       "2       successful         1           1\n",
       "3       successful         2           1\n",
       "4       successful         4           1\n",
       "...            ...       ...         ...\n",
       "513242  successful         2           2\n",
       "513243  successful         3           2\n",
       "513244  successful         1           2\n",
       "513245  successful         1           2\n",
       "513246      failed         1           2\n",
       "\n",
       "[513247 rows x 3 columns]"
      ]
     },
     "execution_count": 131,
     "metadata": {},
     "output_type": "execute_result"
    }
   ],
   "source": [
    "weeklyTrans = newData.reset_index()\n",
    "weeklyTrans = weeklyTrans.drop(['txnYear','txnMonth','txnDay','acct_no','index','year_month','Date'], axis='columns')\n",
    "weekDayTrans = weeklyTrans\n",
    "weekDayTrans"
   ]
  },
  {
   "cell_type": "markdown",
   "metadata": {
    "slideshow": {
     "slide_type": "subslide"
    }
   },
   "source": [
    "### Created a Pivot from the data"
   ]
  },
  {
   "cell_type": "code",
   "execution_count": 138,
   "metadata": {
    "slideshow": {
     "slide_type": "subslide"
    }
   },
   "outputs": [
    {
     "data": {
      "text/html": [
       "<div>\n",
       "<style scoped>\n",
       "    .dataframe tbody tr th:only-of-type {\n",
       "        vertical-align: middle;\n",
       "    }\n",
       "\n",
       "    .dataframe tbody tr th {\n",
       "        vertical-align: top;\n",
       "    }\n",
       "\n",
       "    .dataframe thead tr th {\n",
       "        text-align: left;\n",
       "    }\n",
       "\n",
       "    .dataframe thead tr:last-of-type th {\n",
       "        text-align: right;\n",
       "    }\n",
       "</style>\n",
       "<table border=\"1\" class=\"dataframe\">\n",
       "  <thead>\n",
       "    <tr>\n",
       "      <th></th>\n",
       "      <th colspan=\"6\" halign=\"left\">txnCount</th>\n",
       "    </tr>\n",
       "    <tr>\n",
       "      <th>status</th>\n",
       "      <th>debited</th>\n",
       "      <th>declined</th>\n",
       "      <th>failed</th>\n",
       "      <th>initialized</th>\n",
       "      <th>pending</th>\n",
       "      <th>successful</th>\n",
       "    </tr>\n",
       "    <tr>\n",
       "      <th>txnWeekDay</th>\n",
       "      <th></th>\n",
       "      <th></th>\n",
       "      <th></th>\n",
       "      <th></th>\n",
       "      <th></th>\n",
       "      <th></th>\n",
       "    </tr>\n",
       "  </thead>\n",
       "  <tbody>\n",
       "    <tr>\n",
       "      <td>0</td>\n",
       "      <td>3.0</td>\n",
       "      <td>2238.0</td>\n",
       "      <td>9165.0</td>\n",
       "      <td>358.0</td>\n",
       "      <td>37.0</td>\n",
       "      <td>192282.0</td>\n",
       "    </tr>\n",
       "    <tr>\n",
       "      <td>1</td>\n",
       "      <td>21.0</td>\n",
       "      <td>1615.0</td>\n",
       "      <td>7547.0</td>\n",
       "      <td>274.0</td>\n",
       "      <td>13.0</td>\n",
       "      <td>183509.0</td>\n",
       "    </tr>\n",
       "    <tr>\n",
       "      <td>2</td>\n",
       "      <td>9.0</td>\n",
       "      <td>2212.0</td>\n",
       "      <td>7193.0</td>\n",
       "      <td>257.0</td>\n",
       "      <td>7.0</td>\n",
       "      <td>181347.0</td>\n",
       "    </tr>\n",
       "    <tr>\n",
       "      <td>3</td>\n",
       "      <td>NaN</td>\n",
       "      <td>2011.0</td>\n",
       "      <td>6325.0</td>\n",
       "      <td>270.0</td>\n",
       "      <td>7.0</td>\n",
       "      <td>183404.0</td>\n",
       "    </tr>\n",
       "    <tr>\n",
       "      <td>4</td>\n",
       "      <td>3.0</td>\n",
       "      <td>1715.0</td>\n",
       "      <td>5488.0</td>\n",
       "      <td>152.0</td>\n",
       "      <td>NaN</td>\n",
       "      <td>172687.0</td>\n",
       "    </tr>\n",
       "    <tr>\n",
       "      <td>5</td>\n",
       "      <td>1.0</td>\n",
       "      <td>1723.0</td>\n",
       "      <td>6224.0</td>\n",
       "      <td>117.0</td>\n",
       "      <td>1.0</td>\n",
       "      <td>171743.0</td>\n",
       "    </tr>\n",
       "    <tr>\n",
       "      <td>6</td>\n",
       "      <td>NaN</td>\n",
       "      <td>1577.0</td>\n",
       "      <td>4297.0</td>\n",
       "      <td>38.0</td>\n",
       "      <td>NaN</td>\n",
       "      <td>91559.0</td>\n",
       "    </tr>\n",
       "  </tbody>\n",
       "</table>\n",
       "</div>"
      ],
      "text/plain": [
       "           txnCount                                                \n",
       "status      debited declined  failed initialized pending successful\n",
       "txnWeekDay                                                         \n",
       "0               3.0   2238.0  9165.0       358.0    37.0   192282.0\n",
       "1              21.0   1615.0  7547.0       274.0    13.0   183509.0\n",
       "2               9.0   2212.0  7193.0       257.0     7.0   181347.0\n",
       "3               NaN   2011.0  6325.0       270.0     7.0   183404.0\n",
       "4               3.0   1715.0  5488.0       152.0     NaN   172687.0\n",
       "5               1.0   1723.0  6224.0       117.0     1.0   171743.0\n",
       "6               NaN   1577.0  4297.0        38.0     NaN    91559.0"
      ]
     },
     "execution_count": 138,
     "metadata": {},
     "output_type": "execute_result"
    }
   ],
   "source": [
    "weekDayTrans_pivot = pd.pivot_table(weekDayTrans, index=['txnWeekDay'], columns=['status'], values=['txnCount'], aggfunc='sum')\n",
    "weekDayTrans_pivot"
   ]
  },
  {
   "cell_type": "markdown",
   "metadata": {
    "slideshow": {
     "slide_type": "notes"
    }
   },
   "source": [
    "#### Compared to other weekdays, Weekday 6 has a lesser number of successful transactions"
   ]
  },
  {
   "cell_type": "markdown",
   "metadata": {
    "slideshow": {
     "slide_type": "notes"
    }
   },
   "source": [
    "#### Generally, transactions are lower on weekday 6"
   ]
  },
  {
   "cell_type": "code",
   "execution_count": 140,
   "metadata": {
    "slideshow": {
     "slide_type": "skip"
    }
   },
   "outputs": [
    {
     "ename": "SyntaxError",
     "evalue": "positional argument follows keyword argument (<ipython-input-140-43e50148bbf7>, line 1)",
     "output_type": "error",
     "traceback": [
      "\u001b[1;36m  File \u001b[1;32m\"<ipython-input-140-43e50148bbf7>\"\u001b[1;36m, line \u001b[1;32m1\u001b[0m\n\u001b[1;33m    ax3 = weekDayTrans_pivot.plot(xticks=weekDayTrans_pivot.index, figsize(16,8))\u001b[0m\n\u001b[1;37m                                                                  ^\u001b[0m\n\u001b[1;31mSyntaxError\u001b[0m\u001b[1;31m:\u001b[0m positional argument follows keyword argument\n"
     ]
    }
   ],
   "source": [
    "ax3 = weekDayTrans_pivot.plot(xticks=weekDayTrans_pivot.index, figsize(16,8))\n",
    "ylab = ax3.set_ylabel('txnCount')"
   ]
  },
  {
   "cell_type": "code",
   "execution_count": 79,
   "metadata": {
    "slideshow": {
     "slide_type": "skip"
    }
   },
   "outputs": [
    {
     "data": {
      "image/png": "[encoded data removed]",
      "text/plain": [
       "<Figure size 1440x864 with 1 Axes>"
      ]
     },
     "metadata": {},
     "output_type": "display_data"
    }
   ],
   "source": [
    "pie, ax2 = plt.subplots(figsize=[20,12])\n",
    "labels = statusData.index\n",
    "explode = (0,0,0,0,0,0.1)\n",
    "plt.title('Transaction Status Analysis', fontsize = 20)\n",
    "plt.pie(x=statusData['txnCount'], autopct=\"%.1f%%\", labels=labels, explode=explode)\n",
    "# ax = sns.barplot(x=topSuccUsers['txnCount'], y=topSuccUsers.index, data = topSuccUsers)\n",
    "# ax.set_xlabel('Transaction Count', fontsize=12)\n",
    "# ax.set_ylabel('Users', fontsize=12)\n",
    "plt.show()"
   ]
  },
  {
   "cell_type": "code",
   "execution_count": null,
   "metadata": {},
   "outputs": [],
   "source": []
  }
 ],
 "metadata": {
  "celltoolbar": "Slideshow",
  "kernelspec": {
   "display_name": "Python 3",
   "language": "python",
   "name": "python3"
  },
  "language_info": {
   "codemirror_mode": {
    "name": "ipython",
    "version": 3
   },
   "file_extension": ".py",
   "mimetype": "text/x-python",
   "name": "python",
   "nbconvert_exporter": "python",
   "pygments_lexer": "ipython3",
   "version": "3.7.4"
  }
 },
 "nbformat": 4,
 "nbformat_minor": 2
}
