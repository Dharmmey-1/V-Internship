{
 "cells": [
  {
   "cell_type": "markdown",
   "id": "chubby-harassment",
   "metadata": {},
   "source": [
    "## Univelcity Virtual Intership -- Week 1"
   ]
  },
  {
   "cell_type": "markdown",
   "id": "casual-finance",
   "metadata": {},
   "source": [
    "#### Instruction :There are two documents attached; one contains the list of people who registered for a program while the other contains the list of those that eventually got enrolled.\n",
    "\n",
    "1. Applying Data Analysis and Visualization, glean out insights from both datasets with respect to the Gender of the applicants.\n",
    "2. What is the probability that a randomly selected registered female will be enrolled in the program?\n",
    "3. What is the probability that a randomly selected registered male will be enrolled in the program?\n",
    "4. What is the probability that a registered applicant will eventually enroll in the program?\n",
    "\n"
   ]
  },
  {
   "cell_type": "code",
   "execution_count": 1,
   "id": "personalized-completion",
   "metadata": {},
   "outputs": [],
   "source": [
    "import pandas as pd\n",
    "import numpy as np\n",
    "\n",
    "import seaborn as sns\n",
    "sns.set_theme(context='paper', \n",
    "              style='whitegrid', \n",
    "              palette='coolwarm_r')\n",
    "\n",
    "import matplotlib.pyplot as plt \n",
    "%matplotlib inline"
   ]
  },
  {
   "cell_type": "code",
   "execution_count": 2,
   "id": "intensive-problem",
   "metadata": {},
   "outputs": [],
   "source": [
    "enrolled = pd.read_csv('enrolled applicants.csv')\n",
    "registered = pd.read_csv('registered applicants.csv')"
   ]
  },
  {
   "cell_type": "markdown",
   "id": "cardiovascular-concentration",
   "metadata": {},
   "source": [
    "## Data Wrangling\n",
    "#### Enrolled"
   ]
  },
  {
   "cell_type": "code",
   "execution_count": 3,
   "id": "better-liability",
   "metadata": {},
   "outputs": [
    {
     "data": {
      "text/html": [
       "<div>\n",
       "<style scoped>\n",
       "    .dataframe tbody tr th:only-of-type {\n",
       "        vertical-align: middle;\n",
       "    }\n",
       "\n",
       "    .dataframe tbody tr th {\n",
       "        vertical-align: top;\n",
       "    }\n",
       "\n",
       "    .dataframe thead th {\n",
       "        text-align: right;\n",
       "    }\n",
       "</style>\n",
       "<table border=\"1\" class=\"dataframe\">\n",
       "  <thead>\n",
       "    <tr style=\"text-align: right;\">\n",
       "      <th></th>\n",
       "      <th>Unnamed: 0</th>\n",
       "      <th>FIRST NAME</th>\n",
       "      <th>LAST NAME</th>\n",
       "      <th>SOURCE</th>\n",
       "      <th>COURSE</th>\n",
       "      <th>TRACK</th>\n",
       "      <th>GENDER</th>\n",
       "    </tr>\n",
       "  </thead>\n",
       "  <tbody>\n",
       "    <tr>\n",
       "      <th>0</th>\n",
       "      <td>1120</td>\n",
       "      <td>Robert</td>\n",
       "      <td>Mccain</td>\n",
       "      <td>WEBSITE</td>\n",
       "      <td>Full Stack</td>\n",
       "      <td>Weekday</td>\n",
       "      <td>Male</td>\n",
       "    </tr>\n",
       "    <tr>\n",
       "      <th>1</th>\n",
       "      <td>2557</td>\n",
       "      <td>Russel</td>\n",
       "      <td>Reagin</td>\n",
       "      <td>Mr Simps</td>\n",
       "      <td>Full Stack</td>\n",
       "      <td>Weekday</td>\n",
       "      <td>Male</td>\n",
       "    </tr>\n",
       "    <tr>\n",
       "      <th>2</th>\n",
       "      <td>1682</td>\n",
       "      <td>Barry</td>\n",
       "      <td>Dickson</td>\n",
       "      <td>WEBSITE</td>\n",
       "      <td>Full Stack</td>\n",
       "      <td>Weekday</td>\n",
       "      <td>Male</td>\n",
       "    </tr>\n",
       "    <tr>\n",
       "      <th>3</th>\n",
       "      <td>1961</td>\n",
       "      <td>Allen</td>\n",
       "      <td>Williams</td>\n",
       "      <td>Mr Simps</td>\n",
       "      <td>NaN</td>\n",
       "      <td>Weekday</td>\n",
       "      <td>Male</td>\n",
       "    </tr>\n",
       "    <tr>\n",
       "      <th>4</th>\n",
       "      <td>295</td>\n",
       "      <td>Brian</td>\n",
       "      <td>Bryon</td>\n",
       "      <td>Social Media</td>\n",
       "      <td>Python For Data Science</td>\n",
       "      <td>Weekend</td>\n",
       "      <td>Male</td>\n",
       "    </tr>\n",
       "  </tbody>\n",
       "</table>\n",
       "</div>"
      ],
      "text/plain": [
       "   Unnamed: 0 FIRST NAME LAST NAME        SOURCE                   COURSE  \\\n",
       "0        1120     Robert    Mccain       WEBSITE               Full Stack   \n",
       "1        2557     Russel    Reagin      Mr Simps               Full Stack   \n",
       "2        1682      Barry   Dickson       WEBSITE               Full Stack   \n",
       "3        1961      Allen  Williams      Mr Simps                      NaN   \n",
       "4         295      Brian     Bryon  Social Media  Python For Data Science   \n",
       "\n",
       "     TRACK GENDER  \n",
       "0  Weekday   Male  \n",
       "1  Weekday   Male  \n",
       "2  Weekday   Male  \n",
       "3  Weekday   Male  \n",
       "4  Weekend   Male  "
      ]
     },
     "execution_count": 3,
     "metadata": {},
     "output_type": "execute_result"
    }
   ],
   "source": [
    "enrolled.head()"
   ]
  },
  {
   "cell_type": "code",
   "execution_count": 4,
   "id": "advisory-consequence",
   "metadata": {},
   "outputs": [
    {
     "data": {
      "text/plain": [
       "Male      1611\n",
       "Female     142\n",
       "male        12\n",
       "female       1\n",
       "Name: GENDER, dtype: int64"
      ]
     },
     "execution_count": 4,
     "metadata": {},
     "output_type": "execute_result"
    }
   ],
   "source": [
    "enrolled['GENDER'].value_counts()"
   ]
  },
  {
   "cell_type": "code",
   "execution_count": 5,
   "id": "billion-cursor",
   "metadata": {},
   "outputs": [
    {
     "data": {
      "text/plain": [
       "array(['Male', 'Female'], dtype=object)"
      ]
     },
     "execution_count": 5,
     "metadata": {},
     "output_type": "execute_result"
    }
   ],
   "source": [
    "enrolled['GENDER'] = enrolled['GENDER'].apply(lambda x: x.capitalize())\n",
    "enrolled['GENDER'].unique()"
   ]
  },
  {
   "cell_type": "code",
   "execution_count": 6,
   "id": "greenhouse-dream",
   "metadata": {},
   "outputs": [
    {
     "data": {
      "text/html": [
       "<div>\n",
       "<style scoped>\n",
       "    .dataframe tbody tr th:only-of-type {\n",
       "        vertical-align: middle;\n",
       "    }\n",
       "\n",
       "    .dataframe tbody tr th {\n",
       "        vertical-align: top;\n",
       "    }\n",
       "\n",
       "    .dataframe thead th {\n",
       "        text-align: right;\n",
       "    }\n",
       "</style>\n",
       "<table border=\"1\" class=\"dataframe\">\n",
       "  <thead>\n",
       "    <tr style=\"text-align: right;\">\n",
       "      <th></th>\n",
       "      <th>count</th>\n",
       "      <th>unique</th>\n",
       "      <th>top</th>\n",
       "      <th>freq</th>\n",
       "    </tr>\n",
       "  </thead>\n",
       "  <tbody>\n",
       "    <tr>\n",
       "      <th>FIRST NAME</th>\n",
       "      <td>1766</td>\n",
       "      <td>550</td>\n",
       "      <td>James</td>\n",
       "      <td>63</td>\n",
       "    </tr>\n",
       "    <tr>\n",
       "      <th>LAST NAME</th>\n",
       "      <td>1766</td>\n",
       "      <td>1323</td>\n",
       "      <td>Williams</td>\n",
       "      <td>16</td>\n",
       "    </tr>\n",
       "    <tr>\n",
       "      <th>SOURCE</th>\n",
       "      <td>1754</td>\n",
       "      <td>3</td>\n",
       "      <td>Social Media</td>\n",
       "      <td>1096</td>\n",
       "    </tr>\n",
       "    <tr>\n",
       "      <th>COURSE</th>\n",
       "      <td>1741</td>\n",
       "      <td>13</td>\n",
       "      <td>Full Stack</td>\n",
       "      <td>310</td>\n",
       "    </tr>\n",
       "    <tr>\n",
       "      <th>TRACK</th>\n",
       "      <td>1766</td>\n",
       "      <td>3</td>\n",
       "      <td>Weekday</td>\n",
       "      <td>1131</td>\n",
       "    </tr>\n",
       "    <tr>\n",
       "      <th>GENDER</th>\n",
       "      <td>1766</td>\n",
       "      <td>2</td>\n",
       "      <td>Male</td>\n",
       "      <td>1623</td>\n",
       "    </tr>\n",
       "  </tbody>\n",
       "</table>\n",
       "</div>"
      ],
      "text/plain": [
       "           count unique           top  freq\n",
       "FIRST NAME  1766    550         James    63\n",
       "LAST NAME   1766   1323      Williams    16\n",
       "SOURCE      1754      3  Social Media  1096\n",
       "COURSE      1741     13    Full Stack   310\n",
       "TRACK       1766      3       Weekday  1131\n",
       "GENDER      1766      2          Male  1623"
      ]
     },
     "execution_count": 6,
     "metadata": {},
     "output_type": "execute_result"
    }
   ],
   "source": [
    "enrolled.describe(include='O').T"
   ]
  },
  {
   "cell_type": "markdown",
   "id": "demonstrated-lobby",
   "metadata": {},
   "source": [
    "#### Registered"
   ]
  },
  {
   "cell_type": "code",
   "execution_count": 7,
   "id": "warming-catalog",
   "metadata": {},
   "outputs": [
    {
     "data": {
      "text/html": [
       "<div>\n",
       "<style scoped>\n",
       "    .dataframe tbody tr th:only-of-type {\n",
       "        vertical-align: middle;\n",
       "    }\n",
       "\n",
       "    .dataframe tbody tr th {\n",
       "        vertical-align: top;\n",
       "    }\n",
       "\n",
       "    .dataframe thead th {\n",
       "        text-align: right;\n",
       "    }\n",
       "</style>\n",
       "<table border=\"1\" class=\"dataframe\">\n",
       "  <thead>\n",
       "    <tr style=\"text-align: right;\">\n",
       "      <th></th>\n",
       "      <th>Unnamed: 0</th>\n",
       "      <th>FIRST NAME</th>\n",
       "      <th>LAST NAME</th>\n",
       "      <th>SOURCE</th>\n",
       "      <th>COURSE</th>\n",
       "      <th>TRACK</th>\n",
       "      <th>GENDER</th>\n",
       "    </tr>\n",
       "  </thead>\n",
       "  <tbody>\n",
       "    <tr>\n",
       "      <th>0</th>\n",
       "      <td>2373</td>\n",
       "      <td>Brian</td>\n",
       "      <td>May</td>\n",
       "      <td>Social Media</td>\n",
       "      <td>Python For DataScience</td>\n",
       "      <td>Weekend</td>\n",
       "      <td>Male</td>\n",
       "    </tr>\n",
       "    <tr>\n",
       "      <th>1</th>\n",
       "      <td>758</td>\n",
       "      <td>Leon</td>\n",
       "      <td>Melvin</td>\n",
       "      <td>Social Media</td>\n",
       "      <td>Product Design(UI/UX)</td>\n",
       "      <td>Weekend</td>\n",
       "      <td>Male</td>\n",
       "    </tr>\n",
       "    <tr>\n",
       "      <th>2</th>\n",
       "      <td>2287</td>\n",
       "      <td>Juan</td>\n",
       "      <td>Harris</td>\n",
       "      <td>Mr Simps</td>\n",
       "      <td>Product Design(UI/UX)</td>\n",
       "      <td>Weekday</td>\n",
       "      <td>Male</td>\n",
       "    </tr>\n",
       "    <tr>\n",
       "      <th>3</th>\n",
       "      <td>2480</td>\n",
       "      <td>Gilbert</td>\n",
       "      <td>Denson</td>\n",
       "      <td>Social Media</td>\n",
       "      <td>Figma Design to Webflow</td>\n",
       "      <td>Weekend</td>\n",
       "      <td>Male</td>\n",
       "    </tr>\n",
       "    <tr>\n",
       "      <th>4</th>\n",
       "      <td>1359</td>\n",
       "      <td>Larry</td>\n",
       "      <td>Williams</td>\n",
       "      <td>WEBSITE</td>\n",
       "      <td>Python For DataScience</td>\n",
       "      <td>Weekday</td>\n",
       "      <td>Male</td>\n",
       "    </tr>\n",
       "  </tbody>\n",
       "</table>\n",
       "</div>"
      ],
      "text/plain": [
       "   Unnamed: 0 FIRST NAME LAST NAME        SOURCE                   COURSE  \\\n",
       "0        2373      Brian       May  Social Media   Python For DataScience   \n",
       "1         758       Leon    Melvin  Social Media    Product Design(UI/UX)   \n",
       "2        2287       Juan    Harris      Mr Simps    Product Design(UI/UX)   \n",
       "3        2480    Gilbert    Denson  Social Media  Figma Design to Webflow   \n",
       "4        1359      Larry  Williams       WEBSITE   Python For DataScience   \n",
       "\n",
       "     TRACK GENDER  \n",
       "0  Weekend   Male  \n",
       "1  Weekend   Male  \n",
       "2  Weekday   Male  \n",
       "3  Weekend   Male  \n",
       "4  Weekday   Male  "
      ]
     },
     "execution_count": 7,
     "metadata": {},
     "output_type": "execute_result"
    }
   ],
   "source": [
    "registered.head()"
   ]
  },
  {
   "cell_type": "code",
   "execution_count": 8,
   "id": "private-albert",
   "metadata": {},
   "outputs": [
    {
     "data": {
      "text/plain": [
       "Unnamed: 0    0.000\n",
       "FIRST NAME    0.000\n",
       "LAST NAME     0.000\n",
       "SOURCE        0.007\n",
       "COURSE        0.007\n",
       "TRACK         0.000\n",
       "GENDER        0.015\n",
       "dtype: float64"
      ]
     },
     "execution_count": 8,
     "metadata": {},
     "output_type": "execute_result"
    }
   ],
   "source": [
    "# Missing values\n",
    "registered.isnull().mean().round(3)"
   ]
  },
  {
   "cell_type": "code",
   "execution_count": 9,
   "id": "olympic-question",
   "metadata": {},
   "outputs": [],
   "source": [
    "missing_features = [x for x in registered.columns if registered[x].isnull().mean()]\n",
    "\n",
    "for missing in missing_features:\n",
    "    registered[missing] = registered[missing].replace(np.NaN, registered[missing].mode()[0])"
   ]
  },
  {
   "cell_type": "code",
   "execution_count": 10,
   "id": "separate-sweden",
   "metadata": {},
   "outputs": [
    {
     "data": {
      "text/plain": [
       "array(['Male', 'Female', 'male', 'female'], dtype=object)"
      ]
     },
     "execution_count": 10,
     "metadata": {},
     "output_type": "execute_result"
    }
   ],
   "source": [
    "registered['GENDER'].unique()"
   ]
  },
  {
   "cell_type": "code",
   "execution_count": 11,
   "id": "decreased-jones",
   "metadata": {},
   "outputs": [
    {
     "data": {
      "text/plain": [
       "array(['Male', 'Female'], dtype=object)"
      ]
     },
     "execution_count": 11,
     "metadata": {},
     "output_type": "execute_result"
    }
   ],
   "source": [
    "registered['GENDER'] = registered['GENDER'].apply(lambda x: str(x).capitalize())\n",
    "registered['GENDER'].unique()"
   ]
  },
  {
   "cell_type": "code",
   "execution_count": 12,
   "id": "cloudy-present",
   "metadata": {},
   "outputs": [
    {
     "data": {
      "text/html": [
       "<div>\n",
       "<style scoped>\n",
       "    .dataframe tbody tr th:only-of-type {\n",
       "        vertical-align: middle;\n",
       "    }\n",
       "\n",
       "    .dataframe tbody tr th {\n",
       "        vertical-align: top;\n",
       "    }\n",
       "\n",
       "    .dataframe thead th {\n",
       "        text-align: right;\n",
       "    }\n",
       "</style>\n",
       "<table border=\"1\" class=\"dataframe\">\n",
       "  <thead>\n",
       "    <tr style=\"text-align: right;\">\n",
       "      <th></th>\n",
       "      <th>count</th>\n",
       "      <th>unique</th>\n",
       "      <th>top</th>\n",
       "      <th>freq</th>\n",
       "    </tr>\n",
       "  </thead>\n",
       "  <tbody>\n",
       "    <tr>\n",
       "      <th>FIRST NAME</th>\n",
       "      <td>3676</td>\n",
       "      <td>921</td>\n",
       "      <td>James</td>\n",
       "      <td>121</td>\n",
       "    </tr>\n",
       "    <tr>\n",
       "      <th>LAST NAME</th>\n",
       "      <td>3676</td>\n",
       "      <td>2453</td>\n",
       "      <td>Williams</td>\n",
       "      <td>33</td>\n",
       "    </tr>\n",
       "    <tr>\n",
       "      <th>SOURCE</th>\n",
       "      <td>3676</td>\n",
       "      <td>3</td>\n",
       "      <td>Social Media</td>\n",
       "      <td>2251</td>\n",
       "    </tr>\n",
       "    <tr>\n",
       "      <th>COURSE</th>\n",
       "      <td>3676</td>\n",
       "      <td>13</td>\n",
       "      <td>Full Stack</td>\n",
       "      <td>693</td>\n",
       "    </tr>\n",
       "    <tr>\n",
       "      <th>TRACK</th>\n",
       "      <td>3676</td>\n",
       "      <td>3</td>\n",
       "      <td>Weekday</td>\n",
       "      <td>2312</td>\n",
       "    </tr>\n",
       "    <tr>\n",
       "      <th>GENDER</th>\n",
       "      <td>3676</td>\n",
       "      <td>2</td>\n",
       "      <td>Male</td>\n",
       "      <td>2959</td>\n",
       "    </tr>\n",
       "  </tbody>\n",
       "</table>\n",
       "</div>"
      ],
      "text/plain": [
       "           count unique           top  freq\n",
       "FIRST NAME  3676    921         James   121\n",
       "LAST NAME   3676   2453      Williams    33\n",
       "SOURCE      3676      3  Social Media  2251\n",
       "COURSE      3676     13    Full Stack   693\n",
       "TRACK       3676      3       Weekday  2312\n",
       "GENDER      3676      2          Male  2959"
      ]
     },
     "execution_count": 12,
     "metadata": {},
     "output_type": "execute_result"
    }
   ],
   "source": [
    "registered.describe(include='O').T"
   ]
  },
  {
   "cell_type": "markdown",
   "id": "applicable-physiology",
   "metadata": {},
   "source": [
    "### Merge"
   ]
  },
  {
   "cell_type": "code",
   "execution_count": 13,
   "id": "lonely-vehicle",
   "metadata": {},
   "outputs": [
    {
     "data": {
      "text/html": [
       "<div>\n",
       "<style scoped>\n",
       "    .dataframe tbody tr th:only-of-type {\n",
       "        vertical-align: middle;\n",
       "    }\n",
       "\n",
       "    .dataframe tbody tr th {\n",
       "        vertical-align: top;\n",
       "    }\n",
       "\n",
       "    .dataframe thead th {\n",
       "        text-align: right;\n",
       "    }\n",
       "</style>\n",
       "<table border=\"1\" class=\"dataframe\">\n",
       "  <thead>\n",
       "    <tr style=\"text-align: right;\">\n",
       "      <th></th>\n",
       "      <th>Unnamed: 0</th>\n",
       "      <th>FIRST NAME</th>\n",
       "      <th>LAST NAME</th>\n",
       "      <th>SOURCE</th>\n",
       "      <th>COURSE</th>\n",
       "      <th>TRACK</th>\n",
       "      <th>GENDER</th>\n",
       "      <th>status</th>\n",
       "    </tr>\n",
       "  </thead>\n",
       "  <tbody>\n",
       "    <tr>\n",
       "      <th>0</th>\n",
       "      <td>1</td>\n",
       "      <td>Rodney</td>\n",
       "      <td>Doe</td>\n",
       "      <td>WEBSITE</td>\n",
       "      <td>Full Stack</td>\n",
       "      <td>Weekday</td>\n",
       "      <td>Male</td>\n",
       "      <td>Not_Enrolled</td>\n",
       "    </tr>\n",
       "    <tr>\n",
       "      <th>1</th>\n",
       "      <td>2</td>\n",
       "      <td>James</td>\n",
       "      <td>Stanger</td>\n",
       "      <td>WEBSITE</td>\n",
       "      <td>Full Stack</td>\n",
       "      <td>Weekday</td>\n",
       "      <td>Male</td>\n",
       "      <td>Enrolled</td>\n",
       "    </tr>\n",
       "    <tr>\n",
       "      <th>2</th>\n",
       "      <td>3</td>\n",
       "      <td>Gilbert</td>\n",
       "      <td>Vance</td>\n",
       "      <td>WEBSITE</td>\n",
       "      <td>Full Stack</td>\n",
       "      <td>Weekday</td>\n",
       "      <td>Male</td>\n",
       "      <td>Not_Enrolled</td>\n",
       "    </tr>\n",
       "    <tr>\n",
       "      <th>3</th>\n",
       "      <td>4</td>\n",
       "      <td>Brett</td>\n",
       "      <td>Schmidt</td>\n",
       "      <td>WEBSITE</td>\n",
       "      <td>Full Stack</td>\n",
       "      <td>Weekday</td>\n",
       "      <td>Male</td>\n",
       "      <td>Enrolled</td>\n",
       "    </tr>\n",
       "    <tr>\n",
       "      <th>4</th>\n",
       "      <td>5</td>\n",
       "      <td>Candice</td>\n",
       "      <td>Koetter</td>\n",
       "      <td>WEBSITE</td>\n",
       "      <td>Python For Data Science</td>\n",
       "      <td>Weekday</td>\n",
       "      <td>Female</td>\n",
       "      <td>Not_Enrolled</td>\n",
       "    </tr>\n",
       "  </tbody>\n",
       "</table>\n",
       "</div>"
      ],
      "text/plain": [
       "   Unnamed: 0 FIRST NAME LAST NAME   SOURCE                   COURSE    TRACK  \\\n",
       "0           1     Rodney       Doe  WEBSITE               Full Stack  Weekday   \n",
       "1           2      James   Stanger  WEBSITE               Full Stack  Weekday   \n",
       "2           3    Gilbert     Vance  WEBSITE               Full Stack  Weekday   \n",
       "3           4      Brett   Schmidt  WEBSITE               Full Stack  Weekday   \n",
       "4           5    Candice   Koetter  WEBSITE  Python For Data Science  Weekday   \n",
       "\n",
       "   GENDER        status  \n",
       "0    Male  Not_Enrolled  \n",
       "1    Male      Enrolled  \n",
       "2    Male  Not_Enrolled  \n",
       "3    Male      Enrolled  \n",
       "4  Female  Not_Enrolled  "
      ]
     },
     "execution_count": 13,
     "metadata": {},
     "output_type": "execute_result"
    }
   ],
   "source": [
    "data = registered.merge(right=enrolled[['Unnamed: 0']], sort=True, how='outer', on='Unnamed: 0', indicator=True)\n",
    "data['status'] = np.where(data['_merge']=='both', 'Enrolled', 'Not_Enrolled')\n",
    "data = data.drop(['_merge'], axis=1)\n",
    "data.head()"
   ]
  },
  {
   "cell_type": "code",
   "execution_count": 14,
   "id": "chinese-selling",
   "metadata": {},
   "outputs": [
    {
     "data": {
      "text/html": [
       "<div>\n",
       "<style scoped>\n",
       "    .dataframe tbody tr th:only-of-type {\n",
       "        vertical-align: middle;\n",
       "    }\n",
       "\n",
       "    .dataframe tbody tr th {\n",
       "        vertical-align: top;\n",
       "    }\n",
       "\n",
       "    .dataframe thead th {\n",
       "        text-align: right;\n",
       "    }\n",
       "</style>\n",
       "<table border=\"1\" class=\"dataframe\">\n",
       "  <thead>\n",
       "    <tr style=\"text-align: right;\">\n",
       "      <th></th>\n",
       "      <th>FIRST NAME</th>\n",
       "      <th>LAST NAME</th>\n",
       "      <th>SOURCE</th>\n",
       "      <th>COURSE</th>\n",
       "      <th>TRACK</th>\n",
       "      <th>GENDER</th>\n",
       "      <th>status</th>\n",
       "    </tr>\n",
       "  </thead>\n",
       "  <tbody>\n",
       "    <tr>\n",
       "      <th>count</th>\n",
       "      <td>3676</td>\n",
       "      <td>3676</td>\n",
       "      <td>3676</td>\n",
       "      <td>3676</td>\n",
       "      <td>3676</td>\n",
       "      <td>3676</td>\n",
       "      <td>3676</td>\n",
       "    </tr>\n",
       "    <tr>\n",
       "      <th>unique</th>\n",
       "      <td>921</td>\n",
       "      <td>2453</td>\n",
       "      <td>3</td>\n",
       "      <td>13</td>\n",
       "      <td>3</td>\n",
       "      <td>2</td>\n",
       "      <td>2</td>\n",
       "    </tr>\n",
       "    <tr>\n",
       "      <th>top</th>\n",
       "      <td>James</td>\n",
       "      <td>Williams</td>\n",
       "      <td>Social Media</td>\n",
       "      <td>Full Stack</td>\n",
       "      <td>Weekday</td>\n",
       "      <td>Male</td>\n",
       "      <td>Not_Enrolled</td>\n",
       "    </tr>\n",
       "    <tr>\n",
       "      <th>freq</th>\n",
       "      <td>121</td>\n",
       "      <td>33</td>\n",
       "      <td>2251</td>\n",
       "      <td>693</td>\n",
       "      <td>2312</td>\n",
       "      <td>2959</td>\n",
       "      <td>1910</td>\n",
       "    </tr>\n",
       "  </tbody>\n",
       "</table>\n",
       "</div>"
      ],
      "text/plain": [
       "       FIRST NAME LAST NAME        SOURCE      COURSE    TRACK GENDER  \\\n",
       "count        3676      3676          3676        3676     3676   3676   \n",
       "unique        921      2453             3          13        3      2   \n",
       "top         James  Williams  Social Media  Full Stack  Weekday   Male   \n",
       "freq          121        33          2251         693     2312   2959   \n",
       "\n",
       "              status  \n",
       "count           3676  \n",
       "unique             2  \n",
       "top     Not_Enrolled  \n",
       "freq            1910  "
      ]
     },
     "execution_count": 14,
     "metadata": {},
     "output_type": "execute_result"
    }
   ],
   "source": [
    "data.describe(include='O')"
   ]
  },
  {
   "cell_type": "code",
   "execution_count": 15,
   "id": "hindu-engagement",
   "metadata": {},
   "outputs": [
    {
     "data": {
      "text/plain": [
       "array(['Full Stack', 'Python For Data Science', 'Product Design(UI/UX)',\n",
       "       'Backend With Python Django', 'Figma Design to Webflow',\n",
       "       'Frontend', 'Product Design(UI/UX) ONLINE', 'CyberSecurity',\n",
       "       'Frontend Web Development', 'FullStack', 'Product Management',\n",
       "       'Python For DataScience', 'Product Design'], dtype=object)"
      ]
     },
     "execution_count": 15,
     "metadata": {},
     "output_type": "execute_result"
    }
   ],
   "source": [
    "data['COURSE'].unique()"
   ]
  },
  {
   "cell_type": "code",
   "execution_count": 16,
   "id": "municipal-benjamin",
   "metadata": {},
   "outputs": [
    {
     "data": {
      "text/plain": [
       "array(['FullStack', 'PythonForDataScience', 'ProductDesign',\n",
       "       'BackendWithPythonDjango', 'FigmaDesigntoWebflow', 'Frontend',\n",
       "       'CyberSecurity', 'ProductManagement'], dtype=object)"
      ]
     },
     "execution_count": 16,
     "metadata": {},
     "output_type": "execute_result"
    }
   ],
   "source": [
    "#  Cleaning Courses column\n",
    "\n",
    "data['COURSE'] = data['COURSE'].apply(lambda x:str(x).replace(' ',''))\n",
    "data['COURSE']= data['COURSE'].replace(['ProductDesign(UI/UX)','ProductDesign(UI/UX)ONLINE'], 'ProductDesign')\n",
    "data['COURSE'] =data['COURSE'].replace(['FrontendWebDevelopment'], 'Frontend')\n",
    "data['COURSE'] =data['COURSE'].replace(['nan'], data['COURSE'].mode()[0])\n",
    "\n",
    "data['COURSE'].unique()"
   ]
  },
  {
   "cell_type": "code",
   "execution_count": 17,
   "id": "fresh-referral",
   "metadata": {},
   "outputs": [
    {
     "data": {
      "image/png": "[encoded data removed]",
      "text/plain": [
       "<Figure size 1440x720 with 4 Axes>"
      ]
     },
     "metadata": {
      "needs_background": "light"
     },
     "output_type": "display_data"
    }
   ],
   "source": [
    "features = [x for x in data.columns if data[x].dtypes and data[x].nunique() < 10]\n",
    "features.pop(-2)\n",
    "features\n",
    "\n",
    "fig, axs = plt.subplots(nrows=2, ncols=2, figsize=(2,3))\n",
    "fig.set_size_inches(20, 10)\n",
    "fig.subplots_adjust(wspace=0.2)\n",
    "fig.subplots_adjust(hspace=0.5)\n",
    "\n",
    "for feature, ax in zip(features, axs.flatten()):\n",
    "    sns.countplot(x=data[feature], ax=ax, hue='GENDER', data=data)\n",
    "#     ax.set_title(feature)\n",
    "    ax.tick_params(axis='x', labelrotation=30)\n",
    "\n",
    "plt.show()"
   ]
  },
  {
   "cell_type": "markdown",
   "id": "annoying-causing",
   "metadata": {},
   "source": [
    "###### Question 2 & 3: What is the probability that a randomly selected registered Female / Male will be enrolled in the program?"
   ]
  },
  {
   "cell_type": "markdown",
   "id": "directed-material",
   "metadata": {},
   "source": [
    "##### Female"
   ]
  },
  {
   "cell_type": "code",
   "execution_count": 18,
   "id": "hybrid-saturn",
   "metadata": {},
   "outputs": [
    {
     "name": "stdout",
     "output_type": "stream",
     "text": [
      "Probability of randomly selecting a Female who enrolled is 0.199\n"
     ]
    }
   ],
   "source": [
    "num_female_enrolled = len(data[(data['GENDER']=='Female') & (data['status'] == 'Enrolled')])\n",
    "total_number_female = len(data[(data['GENDER']=='Female')])\n",
    "\n",
    "print('Probability of randomly selecting a Female who enrolled is {}'.format(round(num_female_enrolled/total_number_female,3)))"
   ]
  },
  {
   "cell_type": "markdown",
   "id": "extra-browse",
   "metadata": {},
   "source": [
    "##### Male"
   ]
  },
  {
   "cell_type": "code",
   "execution_count": 19,
   "id": "expected-insertion",
   "metadata": {},
   "outputs": [
    {
     "name": "stdout",
     "output_type": "stream",
     "text": [
      "Probability of randomly selecting a Male who enrolled is 0.548\n"
     ]
    }
   ],
   "source": [
    "num_male_enrolled = len(data[(data['GENDER']=='Male') & (data['status'] == 'Enrolled')])\n",
    "total_number_male = len(data[(data['GENDER']=='Male')])\n",
    "\n",
    "print('Probability of randomly selecting a Male who enrolled is {}'.format(round(num_male_enrolled/total_number_male,3)))"
   ]
  },
  {
   "cell_type": "code",
   "execution_count": 20,
   "id": "gross-point",
   "metadata": {},
   "outputs": [
    {
     "data": {
      "image/png": "[encoded data removed]",
      "text/plain": [
       "<Figure size 720x720 with 1 Axes>"
      ]
     },
     "metadata": {},
     "output_type": "display_data"
    }
   ],
   "source": [
    "gender_enrolled = data[['GENDER','status']].groupby(['GENDER','status'])['status'].count()\n",
    "\n",
    "pie, ax = plt.subplots(figsize=[10,10])\n",
    "labels = gender_enrolled.keys()\n",
    "plt.pie(x=gender_enrolled, autopct=\"%.1f%%\", explode=[0.02]*4, labels=labels, pctdistance=0.5)\n",
    "plt.title(\"Gender by Enrolled\", fontsize=14);\n",
    "plt.show()"
   ]
  },
  {
   "cell_type": "markdown",
   "id": "successful-amateur",
   "metadata": {},
   "source": [
    "###### Question 4: What is the probability that a registered applicant will eventually enroll in the program?"
   ]
  },
  {
   "cell_type": "code",
   "execution_count": 21,
   "id": "communist-shade",
   "metadata": {},
   "outputs": [
    {
     "data": {
      "image/png": "[encoded data removed]",
      "text/plain": [
       "<Figure size 720x720 with 1 Axes>"
      ]
     },
     "metadata": {},
     "output_type": "display_data"
    }
   ],
   "source": [
    "status_data = list(data['status'].value_counts())\n",
    "label=['Not Enrolled', 'Enrolled']\n",
    "\n",
    "plt.figure(figsize=(10, 10))\n",
    "\n",
    "plt.pie(x = status_data, labels=label,autopct=\"%.1f%%\",explode=[0.02]*2, pctdistance=0.5)\n",
    "plt.title('Enrolled vs Not Enrolled', fontsize=14)\n",
    "plt.show()"
   ]
  },
  {
   "cell_type": "code",
   "execution_count": 22,
   "id": "regulation-miniature",
   "metadata": {},
   "outputs": [
    {
     "name": "stdout",
     "output_type": "stream",
     "text": [
      "Probability of randomly selecting a person who enrolled is 0.48\n"
     ]
    }
   ],
   "source": [
    "num_enrolled = len(data[(data['status']=='Enrolled')])\n",
    "total_number_enrolled = len(data)\n",
    "\n",
    "print('Probability of randomly selecting a person who enrolled is {}'.format(round(num_enrolled/total_number_enrolled,2)))"
   ]
  },
  {
   "cell_type": "markdown",
   "id": "committed-honey",
   "metadata": {},
   "source": [
    "### Conclusion"
   ]
  },
  {
   "cell_type": "code",
   "execution_count": 23,
   "id": "bridal-hamilton",
   "metadata": {},
   "outputs": [
    {
     "name": "stdout",
     "output_type": "stream",
     "text": [
      "1. Probability of randomly selecting a Female who enrolled is 0.2\n",
      "2. Probability of randomly selecting a Male who enrolled is 0.55\n",
      "3. Probability of randomly selecting a person who enrolled is 0.48\n"
     ]
    }
   ],
   "source": [
    "print('1. Probability of randomly selecting a Female who enrolled is {}'.format(round(num_female_enrolled/total_number_female,2)))\n",
    "print('2. Probability of randomly selecting a Male who enrolled is {}'.format(round(num_male_enrolled/total_number_male,2)))\n",
    "print('3. Probability of randomly selecting a person who enrolled is {}'.format(round(num_enrolled/total_number_enrolled,2)))"
   ]
  }
 ],
 "metadata": {
  "kernelspec": {
   "display_name": "Python 3",
   "language": "python",
   "name": "python3"
  },
  "language_info": {
   "codemirror_mode": {
    "name": "ipython",
    "version": 3
   },
   "file_extension": ".py",
   "mimetype": "text/x-python",
   "name": "python",
   "nbconvert_exporter": "python",
   "pygments_lexer": "ipython3",
   "version": "3.7.9"
  }
 },
 "nbformat": 4,
 "nbformat_minor": 5
}
