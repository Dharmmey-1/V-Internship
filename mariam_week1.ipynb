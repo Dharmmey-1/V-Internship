{
 "cells": [
  {
   "cell_type": "code",
   "execution_count": 2,
   "id": "extra-flash",
   "metadata": {},
   "outputs": [],
   "source": [
    "from matplotlib import pyplot as plt\n",
    "import numpy as np\n",
    "import seaborn as sns\n",
    "plt.style.use(\"ggplot\")\n",
    "import pandas as pd\n",
    "import pymysql.cursors\n",
    "import random\n",
    "import sys\n",
    "# from pylab import *\n",
    "# %pip install seaborn"
   ]
  },
  {
   "cell_type": "markdown",
   "id": "uniform-triangle",
   "metadata": {},
   "source": [
    "There are two documents attached; one contains the list of people who registered for a program while the other contains the list of those that eventually got enrolled.\n",
    "\n",
    "1. Applying Data Analysis and Visualization, glean out insights from both datasets with respect to the Gender of the applicants.\n",
    "2. What is the probability that a randomly selected registered female will be enrolled in the program?\n",
    "3. What is the probability that a randomly selected registered male will be enrolled in the program?\n",
    "4. What is the probability that a registered applicant will eventually enroll in the program?\n"
   ]
  },
  {
   "cell_type": "code",
   "execution_count": 3,
   "id": "short-medline",
   "metadata": {
    "scrolled": false
   },
   "outputs": [],
   "source": [
    "# connection = pymysql.connect(host='localhost',\n",
    "#                              user='root',\n",
    "#                              password='',\n",
    "#                              database='applicants',\n",
    "#                              charset ='utf8mb4',\n",
    "#                              cursorclass = pymysql.cursors.DictCursor)\n",
    "\n",
    "# with connection.cursor() as cursor:\n",
    "#     # Read a single record\n",
    "#     sql = \"SELECT `unnamed: 0`, `first name`, `last name`, `source`, `course`, `track`, `gender` FROM `enrolled_applicants1`\"\n",
    "    \n",
    "#     cursor.execute(sql)\n",
    "\n",
    "#     result = cursor.fetchall()\n",
    "#     print(result)"
   ]
  },
  {
   "cell_type": "code",
   "execution_count": 4,
   "id": "interim-trade",
   "metadata": {},
   "outputs": [
    {
     "data": {
      "text/html": [
       "<div>\n",
       "<style scoped>\n",
       "    .dataframe tbody tr th:only-of-type {\n",
       "        vertical-align: middle;\n",
       "    }\n",
       "\n",
       "    .dataframe tbody tr th {\n",
       "        vertical-align: top;\n",
       "    }\n",
       "\n",
       "    .dataframe thead th {\n",
       "        text-align: right;\n",
       "    }\n",
       "</style>\n",
       "<table border=\"1\" class=\"dataframe\">\n",
       "  <thead>\n",
       "    <tr style=\"text-align: right;\">\n",
       "      <th></th>\n",
       "      <th>Unnamed: 0</th>\n",
       "      <th>FIRST NAME</th>\n",
       "      <th>LAST NAME</th>\n",
       "      <th>SOURCE</th>\n",
       "      <th>COURSE</th>\n",
       "      <th>TRACK</th>\n",
       "      <th>GENDER</th>\n",
       "    </tr>\n",
       "  </thead>\n",
       "  <tbody>\n",
       "    <tr>\n",
       "      <th>0</th>\n",
       "      <td>1120</td>\n",
       "      <td>Robert</td>\n",
       "      <td>Mccain</td>\n",
       "      <td>WEBSITE</td>\n",
       "      <td>Full Stack</td>\n",
       "      <td>Weekday</td>\n",
       "      <td>male</td>\n",
       "    </tr>\n",
       "    <tr>\n",
       "      <th>1</th>\n",
       "      <td>2557</td>\n",
       "      <td>Russel</td>\n",
       "      <td>Reagin</td>\n",
       "      <td>Mr Simps</td>\n",
       "      <td>Full Stack</td>\n",
       "      <td>Weekday</td>\n",
       "      <td>male</td>\n",
       "    </tr>\n",
       "    <tr>\n",
       "      <th>2</th>\n",
       "      <td>1682</td>\n",
       "      <td>Barry</td>\n",
       "      <td>Dickson</td>\n",
       "      <td>WEBSITE</td>\n",
       "      <td>Full Stack</td>\n",
       "      <td>Weekday</td>\n",
       "      <td>male</td>\n",
       "    </tr>\n",
       "    <tr>\n",
       "      <th>3</th>\n",
       "      <td>1961</td>\n",
       "      <td>Allen</td>\n",
       "      <td>Williams</td>\n",
       "      <td>Mr Simps</td>\n",
       "      <td>NaN</td>\n",
       "      <td>Weekday</td>\n",
       "      <td>male</td>\n",
       "    </tr>\n",
       "    <tr>\n",
       "      <th>4</th>\n",
       "      <td>295</td>\n",
       "      <td>Brian</td>\n",
       "      <td>Bryon</td>\n",
       "      <td>Social Media</td>\n",
       "      <td>Python For Data Science</td>\n",
       "      <td>Weekend</td>\n",
       "      <td>male</td>\n",
       "    </tr>\n",
       "    <tr>\n",
       "      <th>...</th>\n",
       "      <td>...</td>\n",
       "      <td>...</td>\n",
       "      <td>...</td>\n",
       "      <td>...</td>\n",
       "      <td>...</td>\n",
       "      <td>...</td>\n",
       "      <td>...</td>\n",
       "    </tr>\n",
       "    <tr>\n",
       "      <th>1761</th>\n",
       "      <td>2020</td>\n",
       "      <td>Edward</td>\n",
       "      <td>Johnston</td>\n",
       "      <td>WEBSITE</td>\n",
       "      <td>Backend With Python Django</td>\n",
       "      <td>Weekday</td>\n",
       "      <td>male</td>\n",
       "    </tr>\n",
       "    <tr>\n",
       "      <th>1762</th>\n",
       "      <td>1295</td>\n",
       "      <td>Brian</td>\n",
       "      <td>Hargrove</td>\n",
       "      <td>Social Media</td>\n",
       "      <td>Full Stack</td>\n",
       "      <td>Weekday</td>\n",
       "      <td>male</td>\n",
       "    </tr>\n",
       "    <tr>\n",
       "      <th>1763</th>\n",
       "      <td>2827</td>\n",
       "      <td>Grady</td>\n",
       "      <td>Sullens</td>\n",
       "      <td>Social Media</td>\n",
       "      <td>Frontend Web Development</td>\n",
       "      <td>ONLINE</td>\n",
       "      <td>male</td>\n",
       "    </tr>\n",
       "    <tr>\n",
       "      <th>1764</th>\n",
       "      <td>1894</td>\n",
       "      <td>Felipe</td>\n",
       "      <td>Fassino</td>\n",
       "      <td>Social Media</td>\n",
       "      <td>Figma Design to Webflow</td>\n",
       "      <td>Weekday</td>\n",
       "      <td>male</td>\n",
       "    </tr>\n",
       "    <tr>\n",
       "      <th>1765</th>\n",
       "      <td>1662</td>\n",
       "      <td>John</td>\n",
       "      <td>Easley</td>\n",
       "      <td>Social Media</td>\n",
       "      <td>Python For DataScience</td>\n",
       "      <td>ONLINE</td>\n",
       "      <td>male</td>\n",
       "    </tr>\n",
       "  </tbody>\n",
       "</table>\n",
       "<p>1766 rows × 7 columns</p>\n",
       "</div>"
      ],
      "text/plain": [
       "      Unnamed: 0 FIRST NAME LAST NAME        SOURCE  \\\n",
       "0           1120     Robert    Mccain       WEBSITE   \n",
       "1           2557     Russel    Reagin      Mr Simps   \n",
       "2           1682      Barry   Dickson       WEBSITE   \n",
       "3           1961      Allen  Williams      Mr Simps   \n",
       "4            295      Brian     Bryon  Social Media   \n",
       "...          ...        ...       ...           ...   \n",
       "1761        2020     Edward  Johnston       WEBSITE   \n",
       "1762        1295      Brian  Hargrove  Social Media   \n",
       "1763        2827      Grady   Sullens  Social Media   \n",
       "1764        1894     Felipe   Fassino  Social Media   \n",
       "1765        1662       John    Easley  Social Media   \n",
       "\n",
       "                          COURSE    TRACK GENDER  \n",
       "0                     Full Stack  Weekday   male  \n",
       "1                     Full Stack  Weekday   male  \n",
       "2                     Full Stack  Weekday   male  \n",
       "3                            NaN  Weekday   male  \n",
       "4        Python For Data Science  Weekend   male  \n",
       "...                          ...      ...    ...  \n",
       "1761  Backend With Python Django  Weekday   male  \n",
       "1762                  Full Stack  Weekday   male  \n",
       "1763    Frontend Web Development   ONLINE   male  \n",
       "1764     Figma Design to Webflow  Weekday   male  \n",
       "1765      Python For DataScience   ONLINE   male  \n",
       "\n",
       "[1766 rows x 7 columns]"
      ]
     },
     "execution_count": 4,
     "metadata": {},
     "output_type": "execute_result"
    }
   ],
   "source": [
    "data = pd.read_csv('~/Desktop\\Data Science Univel\\Programs\\Internship Projects\\enrolled applicants.csv')\n",
    "data"
   ]
  },
  {
   "cell_type": "code",
   "execution_count": 5,
   "id": "distant-logic",
   "metadata": {},
   "outputs": [
    {
     "data": {
      "text/html": [
       "<div>\n",
       "<style scoped>\n",
       "    .dataframe tbody tr th:only-of-type {\n",
       "        vertical-align: middle;\n",
       "    }\n",
       "\n",
       "    .dataframe tbody tr th {\n",
       "        vertical-align: top;\n",
       "    }\n",
       "\n",
       "    .dataframe thead th {\n",
       "        text-align: right;\n",
       "    }\n",
       "</style>\n",
       "<table border=\"1\" class=\"dataframe\">\n",
       "  <thead>\n",
       "    <tr style=\"text-align: right;\">\n",
       "      <th></th>\n",
       "      <th>FIRST NAME</th>\n",
       "      <th>GENDER</th>\n",
       "    </tr>\n",
       "  </thead>\n",
       "  <tbody>\n",
       "    <tr>\n",
       "      <th>0</th>\n",
       "      <td>Robert</td>\n",
       "      <td>male</td>\n",
       "    </tr>\n",
       "    <tr>\n",
       "      <th>1</th>\n",
       "      <td>Russel</td>\n",
       "      <td>male</td>\n",
       "    </tr>\n",
       "    <tr>\n",
       "      <th>2</th>\n",
       "      <td>Barry</td>\n",
       "      <td>male</td>\n",
       "    </tr>\n",
       "    <tr>\n",
       "      <th>3</th>\n",
       "      <td>Allen</td>\n",
       "      <td>male</td>\n",
       "    </tr>\n",
       "    <tr>\n",
       "      <th>4</th>\n",
       "      <td>Brian</td>\n",
       "      <td>male</td>\n",
       "    </tr>\n",
       "    <tr>\n",
       "      <th>...</th>\n",
       "      <td>...</td>\n",
       "      <td>...</td>\n",
       "    </tr>\n",
       "    <tr>\n",
       "      <th>1761</th>\n",
       "      <td>Edward</td>\n",
       "      <td>male</td>\n",
       "    </tr>\n",
       "    <tr>\n",
       "      <th>1762</th>\n",
       "      <td>Brian</td>\n",
       "      <td>male</td>\n",
       "    </tr>\n",
       "    <tr>\n",
       "      <th>1763</th>\n",
       "      <td>Grady</td>\n",
       "      <td>male</td>\n",
       "    </tr>\n",
       "    <tr>\n",
       "      <th>1764</th>\n",
       "      <td>Felipe</td>\n",
       "      <td>male</td>\n",
       "    </tr>\n",
       "    <tr>\n",
       "      <th>1765</th>\n",
       "      <td>John</td>\n",
       "      <td>male</td>\n",
       "    </tr>\n",
       "  </tbody>\n",
       "</table>\n",
       "<p>1766 rows × 2 columns</p>\n",
       "</div>"
      ],
      "text/plain": [
       "     FIRST NAME GENDER\n",
       "0        Robert   male\n",
       "1        Russel   male\n",
       "2         Barry   male\n",
       "3         Allen   male\n",
       "4         Brian   male\n",
       "...         ...    ...\n",
       "1761     Edward   male\n",
       "1762      Brian   male\n",
       "1763      Grady   male\n",
       "1764     Felipe   male\n",
       "1765       John   male\n",
       "\n",
       "[1766 rows x 2 columns]"
      ]
     },
     "execution_count": 5,
     "metadata": {},
     "output_type": "execute_result"
    }
   ],
   "source": [
    "data1 = data[['FIRST NAME','GENDER']]\n",
    "data1"
   ]
  },
  {
   "cell_type": "code",
   "execution_count": 13,
   "id": "medium-invasion",
   "metadata": {},
   "outputs": [
    {
     "data": {
      "text/plain": [
       "Unnamed: 0     0\n",
       "FIRST NAME     0\n",
       "LAST NAME      0\n",
       "SOURCE        12\n",
       "COURSE        25\n",
       "TRACK          0\n",
       "GENDER         0\n",
       "dtype: int64"
      ]
     },
     "execution_count": 13,
     "metadata": {},
     "output_type": "execute_result"
    }
   ],
   "source": [
    "data.isnull().sum()"
   ]
  },
  {
   "cell_type": "code",
   "execution_count": 6,
   "id": "organizational-general",
   "metadata": {},
   "outputs": [
    {
     "data": {
      "text/plain": [
       "0       male\n",
       "1       male\n",
       "2       male\n",
       "3       male\n",
       "4       male\n",
       "        ... \n",
       "1761    male\n",
       "1762    male\n",
       "1763    male\n",
       "1764    male\n",
       "1765    male\n",
       "Name: GENDER, Length: 1766, dtype: object"
      ]
     },
     "execution_count": 6,
     "metadata": {},
     "output_type": "execute_result"
    }
   ],
   "source": [
    "data['GENDER']"
   ]
  },
  {
   "cell_type": "code",
   "execution_count": 8,
   "id": "danish-texas",
   "metadata": {},
   "outputs": [
    {
     "data": {
      "text/plain": [
       "0       True\n",
       "1       True\n",
       "2       True\n",
       "3       True\n",
       "4       True\n",
       "        ... \n",
       "1761    True\n",
       "1762    True\n",
       "1763    True\n",
       "1764    True\n",
       "1765    True\n",
       "Name: GENDER, Length: 1766, dtype: bool"
      ]
     },
     "execution_count": 8,
     "metadata": {},
     "output_type": "execute_result"
    }
   ],
   "source": [
    "enrolled_male = data['GENDER'] == 'male'\n",
    "enrolled_male"
   ]
  },
  {
   "cell_type": "code",
   "execution_count": 11,
   "id": "physical-tutorial",
   "metadata": {},
   "outputs": [
    {
     "data": {
      "text/plain": [
       "5       female\n",
       "16      female\n",
       "23      female\n",
       "46      female\n",
       "80      female\n",
       "         ...  \n",
       "1724    female\n",
       "1738    female\n",
       "1744    female\n",
       "1753    female\n",
       "1760    female\n",
       "Name: GENDER, Length: 143, dtype: object"
      ]
     },
     "execution_count": 11,
     "metadata": {},
     "output_type": "execute_result"
    }
   ],
   "source": [
    "enrolled_female = data['GENDER'][data['GENDER'] == 'female']\n",
    "enrolled_female"
   ]
  },
  {
   "cell_type": "code",
   "execution_count": 4,
   "id": "experimental-cotton",
   "metadata": {},
   "outputs": [
    {
     "data": {
      "image/png": "[encoded data removed]",
      "text/plain": [
       "<Figure size 432x288 with 1 Axes>"
      ]
     },
     "metadata": {},
     "output_type": "display_data"
    }
   ],
   "source": [
    "# Visualization of enrolled 'gender' data in the file.  \n",
    "fig, ax = plt.subplots()  \n",
    "x = data1.GENDER.unique()  \n",
    "# Counting 'Males' and 'Females' in the dataset  \n",
    "y = data1.GENDER.value_counts()  \n",
    "# Plotting the bar graph  \n",
    "ax.bar(x, y)  \n",
    "ax.set_xlabel('Gender')  \n",
    "ax.set_ylabel('Count')\n",
    "# sns.countplot(data1.GENDER)  \n",
    "plt.show()  \n"
   ]
  },
  {
   "cell_type": "code",
   "execution_count": 28,
   "id": "hidden-ensemble",
   "metadata": {},
   "outputs": [],
   "source": [
    "# plt.figure(figsize = (20,10)) # increase figure size or chart\n",
    "# plt.pie(x, labels = y.keys())\n",
    "# plt.show()"
   ]
  },
  {
   "cell_type": "code",
   "execution_count": 16,
   "id": "stainless-gallery",
   "metadata": {
    "scrolled": true
   },
   "outputs": [
    {
     "data": {
      "text/html": [
       "<div>\n",
       "<style scoped>\n",
       "    .dataframe tbody tr th:only-of-type {\n",
       "        vertical-align: middle;\n",
       "    }\n",
       "\n",
       "    .dataframe tbody tr th {\n",
       "        vertical-align: top;\n",
       "    }\n",
       "\n",
       "    .dataframe thead th {\n",
       "        text-align: right;\n",
       "    }\n",
       "</style>\n",
       "<table border=\"1\" class=\"dataframe\">\n",
       "  <thead>\n",
       "    <tr style=\"text-align: right;\">\n",
       "      <th></th>\n",
       "      <th>Unnamed: 0</th>\n",
       "      <th>FIRST NAME</th>\n",
       "      <th>LAST NAME</th>\n",
       "      <th>SOURCE</th>\n",
       "      <th>COURSE</th>\n",
       "      <th>TRACK</th>\n",
       "      <th>GENDER</th>\n",
       "    </tr>\n",
       "  </thead>\n",
       "  <tbody>\n",
       "    <tr>\n",
       "      <th>0</th>\n",
       "      <td>2373</td>\n",
       "      <td>Brian</td>\n",
       "      <td>May</td>\n",
       "      <td>Social Media</td>\n",
       "      <td>Python For DataScience</td>\n",
       "      <td>Weekend</td>\n",
       "      <td>male</td>\n",
       "    </tr>\n",
       "    <tr>\n",
       "      <th>1</th>\n",
       "      <td>758</td>\n",
       "      <td>Leon</td>\n",
       "      <td>Melvin</td>\n",
       "      <td>Social Media</td>\n",
       "      <td>Product Design(UI/UX)</td>\n",
       "      <td>Weekend</td>\n",
       "      <td>male</td>\n",
       "    </tr>\n",
       "    <tr>\n",
       "      <th>2</th>\n",
       "      <td>2287</td>\n",
       "      <td>Juan</td>\n",
       "      <td>Harris</td>\n",
       "      <td>Mr Simps</td>\n",
       "      <td>Product Design(UI/UX)</td>\n",
       "      <td>Weekday</td>\n",
       "      <td>male</td>\n",
       "    </tr>\n",
       "    <tr>\n",
       "      <th>3</th>\n",
       "      <td>2480</td>\n",
       "      <td>Gilbert</td>\n",
       "      <td>Denson</td>\n",
       "      <td>Social Media</td>\n",
       "      <td>Figma Design to Webflow</td>\n",
       "      <td>Weekend</td>\n",
       "      <td>male</td>\n",
       "    </tr>\n",
       "    <tr>\n",
       "      <th>4</th>\n",
       "      <td>1359</td>\n",
       "      <td>Larry</td>\n",
       "      <td>Williams</td>\n",
       "      <td>WEBSITE</td>\n",
       "      <td>Python For DataScience</td>\n",
       "      <td>Weekday</td>\n",
       "      <td>male</td>\n",
       "    </tr>\n",
       "    <tr>\n",
       "      <th>...</th>\n",
       "      <td>...</td>\n",
       "      <td>...</td>\n",
       "      <td>...</td>\n",
       "      <td>...</td>\n",
       "      <td>...</td>\n",
       "      <td>...</td>\n",
       "      <td>...</td>\n",
       "    </tr>\n",
       "    <tr>\n",
       "      <th>3671</th>\n",
       "      <td>1990</td>\n",
       "      <td>Donald</td>\n",
       "      <td>Peno</td>\n",
       "      <td>Social Media</td>\n",
       "      <td>Python For Data Science</td>\n",
       "      <td>Weekday</td>\n",
       "      <td>male</td>\n",
       "    </tr>\n",
       "    <tr>\n",
       "      <th>3672</th>\n",
       "      <td>245</td>\n",
       "      <td>Patrick</td>\n",
       "      <td>Azar</td>\n",
       "      <td>Mr Simps</td>\n",
       "      <td>Full Stack</td>\n",
       "      <td>Weekday</td>\n",
       "      <td>male</td>\n",
       "    </tr>\n",
       "    <tr>\n",
       "      <th>3673</th>\n",
       "      <td>2548</td>\n",
       "      <td>Billy</td>\n",
       "      <td>Jones</td>\n",
       "      <td>WEBSITE</td>\n",
       "      <td>Full Stack</td>\n",
       "      <td>ONLINE</td>\n",
       "      <td>male</td>\n",
       "    </tr>\n",
       "    <tr>\n",
       "      <th>3674</th>\n",
       "      <td>2162</td>\n",
       "      <td>Luis</td>\n",
       "      <td>Tellez</td>\n",
       "      <td>Social Media</td>\n",
       "      <td>Full Stack</td>\n",
       "      <td>Weekday</td>\n",
       "      <td>male</td>\n",
       "    </tr>\n",
       "    <tr>\n",
       "      <th>3675</th>\n",
       "      <td>3190</td>\n",
       "      <td>Ethel</td>\n",
       "      <td>Labonte</td>\n",
       "      <td>Social Media</td>\n",
       "      <td>FullStack</td>\n",
       "      <td>Weekday</td>\n",
       "      <td>female</td>\n",
       "    </tr>\n",
       "  </tbody>\n",
       "</table>\n",
       "<p>3676 rows × 7 columns</p>\n",
       "</div>"
      ],
      "text/plain": [
       "      Unnamed: 0 FIRST NAME LAST NAME        SOURCE                   COURSE  \\\n",
       "0           2373      Brian       May  Social Media   Python For DataScience   \n",
       "1            758       Leon    Melvin  Social Media    Product Design(UI/UX)   \n",
       "2           2287       Juan    Harris      Mr Simps    Product Design(UI/UX)   \n",
       "3           2480    Gilbert    Denson  Social Media  Figma Design to Webflow   \n",
       "4           1359      Larry  Williams       WEBSITE   Python For DataScience   \n",
       "...          ...        ...       ...           ...                      ...   \n",
       "3671        1990     Donald      Peno  Social Media  Python For Data Science   \n",
       "3672         245    Patrick      Azar      Mr Simps               Full Stack   \n",
       "3673        2548      Billy     Jones       WEBSITE               Full Stack   \n",
       "3674        2162       Luis    Tellez  Social Media               Full Stack   \n",
       "3675        3190      Ethel   Labonte  Social Media                FullStack   \n",
       "\n",
       "        TRACK  GENDER  \n",
       "0     Weekend    male  \n",
       "1     Weekend    male  \n",
       "2     Weekday    male  \n",
       "3     Weekend    male  \n",
       "4     Weekday    male  \n",
       "...       ...     ...  \n",
       "3671  Weekday    male  \n",
       "3672  Weekday    male  \n",
       "3673   ONLINE    male  \n",
       "3674  Weekday    male  \n",
       "3675  Weekday  female  \n",
       "\n",
       "[3676 rows x 7 columns]"
      ]
     },
     "execution_count": 16,
     "metadata": {},
     "output_type": "execute_result"
    }
   ],
   "source": [
    "registered_data = pd.read_csv(r\"C:\\Users\\ACER\\Desktop\\Data Science Univel\\Programs\\Internship Projects\\registered applicants.csv\")\n",
    "registered_data\n"
   ]
  },
  {
   "cell_type": "code",
   "execution_count": 14,
   "id": "dominican-excitement",
   "metadata": {},
   "outputs": [
    {
     "data": {
      "text/html": [
       "<div>\n",
       "<style scoped>\n",
       "    .dataframe tbody tr th:only-of-type {\n",
       "        vertical-align: middle;\n",
       "    }\n",
       "\n",
       "    .dataframe tbody tr th {\n",
       "        vertical-align: top;\n",
       "    }\n",
       "\n",
       "    .dataframe thead th {\n",
       "        text-align: right;\n",
       "    }\n",
       "</style>\n",
       "<table border=\"1\" class=\"dataframe\">\n",
       "  <thead>\n",
       "    <tr style=\"text-align: right;\">\n",
       "      <th></th>\n",
       "      <th>ID</th>\n",
       "      <th>FIRST NAME</th>\n",
       "      <th>GENDER</th>\n",
       "    </tr>\n",
       "  </thead>\n",
       "  <tbody>\n",
       "    <tr>\n",
       "      <th>0</th>\n",
       "      <td>0</td>\n",
       "      <td>Brian</td>\n",
       "      <td>male</td>\n",
       "    </tr>\n",
       "    <tr>\n",
       "      <th>1</th>\n",
       "      <td>1</td>\n",
       "      <td>Leon</td>\n",
       "      <td>male</td>\n",
       "    </tr>\n",
       "    <tr>\n",
       "      <th>2</th>\n",
       "      <td>2</td>\n",
       "      <td>Juan</td>\n",
       "      <td>male</td>\n",
       "    </tr>\n",
       "    <tr>\n",
       "      <th>3</th>\n",
       "      <td>3</td>\n",
       "      <td>Gilbert</td>\n",
       "      <td>male</td>\n",
       "    </tr>\n",
       "    <tr>\n",
       "      <th>4</th>\n",
       "      <td>4</td>\n",
       "      <td>Larry</td>\n",
       "      <td>male</td>\n",
       "    </tr>\n",
       "    <tr>\n",
       "      <th>...</th>\n",
       "      <td>...</td>\n",
       "      <td>...</td>\n",
       "      <td>...</td>\n",
       "    </tr>\n",
       "    <tr>\n",
       "      <th>3671</th>\n",
       "      <td>3671</td>\n",
       "      <td>Donald</td>\n",
       "      <td>male</td>\n",
       "    </tr>\n",
       "    <tr>\n",
       "      <th>3672</th>\n",
       "      <td>3672</td>\n",
       "      <td>Patrick</td>\n",
       "      <td>male</td>\n",
       "    </tr>\n",
       "    <tr>\n",
       "      <th>3673</th>\n",
       "      <td>3673</td>\n",
       "      <td>Billy</td>\n",
       "      <td>male</td>\n",
       "    </tr>\n",
       "    <tr>\n",
       "      <th>3674</th>\n",
       "      <td>3674</td>\n",
       "      <td>Luis</td>\n",
       "      <td>male</td>\n",
       "    </tr>\n",
       "    <tr>\n",
       "      <th>3675</th>\n",
       "      <td>3675</td>\n",
       "      <td>Ethel</td>\n",
       "      <td>female</td>\n",
       "    </tr>\n",
       "  </tbody>\n",
       "</table>\n",
       "<p>3676 rows × 3 columns</p>\n",
       "</div>"
      ],
      "text/plain": [
       "        ID FIRST NAME  GENDER\n",
       "0        0      Brian    male\n",
       "1        1       Leon    male\n",
       "2        2       Juan    male\n",
       "3        3    Gilbert    male\n",
       "4        4      Larry    male\n",
       "...    ...        ...     ...\n",
       "3671  3671     Donald    male\n",
       "3672  3672    Patrick    male\n",
       "3673  3673      Billy    male\n",
       "3674  3674       Luis    male\n",
       "3675  3675      Ethel  female\n",
       "\n",
       "[3676 rows x 3 columns]"
      ]
     },
     "execution_count": 14,
     "metadata": {},
     "output_type": "execute_result"
    }
   ],
   "source": [
    "data2 = registered_data[['FIRST NAME','GENDER']]\n",
    "data2.insert(0, 'ID', range(0, 0 + len(registered_data)))\n",
    "# data2.columns = ['First name', 'Gender']\n",
    "data2\n",
    "# print(data2.dtypes)\n",
    "# data2['GENDER'] = data2['GENDER'].astype(float)"
   ]
  },
  {
   "cell_type": "code",
   "execution_count": 17,
   "id": "wired-closure",
   "metadata": {},
   "outputs": [
    {
     "data": {
      "text/plain": [
       "0        True\n",
       "1        True\n",
       "2        True\n",
       "3        True\n",
       "4        True\n",
       "        ...  \n",
       "3671     True\n",
       "3672     True\n",
       "3673     True\n",
       "3674     True\n",
       "3675    False\n",
       "Name: GENDER, Length: 3676, dtype: bool"
      ]
     },
     "execution_count": 17,
     "metadata": {},
     "output_type": "execute_result"
    }
   ],
   "source": [
    "# Set out the male gender\n",
    "registered_male = registered_data['GENDER'] == 'male'\n",
    "registered_male"
   ]
  },
  {
   "cell_type": "code",
   "execution_count": 18,
   "id": "chubby-capitol",
   "metadata": {},
   "outputs": [
    {
     "data": {
      "text/plain": [
       "5       female\n",
       "11      female\n",
       "13      female\n",
       "42      female\n",
       "47      female\n",
       "         ...  \n",
       "3657    female\n",
       "3658    female\n",
       "3664    female\n",
       "3668    female\n",
       "3675    female\n",
       "Name: GENDER, Length: 717, dtype: object"
      ]
     },
     "execution_count": 18,
     "metadata": {},
     "output_type": "execute_result"
    }
   ],
   "source": [
    "# Set out female gender from the data\n",
    "registered_female = registered_data['GENDER'][registered_data['GENDER'] == 'female']\n",
    "registered_female"
   ]
  },
  {
   "cell_type": "code",
   "execution_count": 39,
   "id": "passive-thursday",
   "metadata": {},
   "outputs": [],
   "source": [
    "# Let's start by visualizing the distribution of gender in the dataset.  \n",
    "# fig, ax = plt.subplots()  \n",
    "# x = data2.GENDER.unique()  \n",
    "# Counting 'Males' and 'Females' in the dataset  \n",
    "# y = data2.GENDER.count()\n",
    "# Plotting the bar graph  \n",
    "# data2.groupby(['ID','GENDER']).size().unstack().plot(kind='bar',stacked=True)\n",
    "# ax.bar(x, y)  \n",
    "# ax.set_xlabel('Gender')  \n",
    "# ax.set_ylabel('Count')\n",
    "# sns.countplot(data1.GENDER)  \n",
    "\n",
    "# plt.figure(figsize=(10,25))\n",
    "# plt.barh(data2.GENDER, data2.ID)\n",
    "# plt.show()  \n"
   ]
  },
  {
   "cell_type": "code",
   "execution_count": 35,
   "id": "mobile-clause",
   "metadata": {},
   "outputs": [
    {
     "data": {
      "image/png": "[encoded data removed]",
      "text/plain": [
       "<Figure size 432x288 with 1 Axes>"
      ]
     },
     "metadata": {},
     "output_type": "display_data"
    }
   ],
   "source": [
    "# Visualization of the data for registered applicants.\n",
    "# data2.groupby(['GENDER']).size().plot(kind='bar',stacked=True)\n",
    "data2.groupby(\"GENDER\")[\"ID\"].count().plot.barh()\n",
    "plt.show()"
   ]
  },
  {
   "cell_type": "code",
   "execution_count": 27,
   "id": "proof-massachusetts",
   "metadata": {},
   "outputs": [
    {
     "data": {
      "text/plain": [
       "Unnamed: 0    0.2\n",
       "FIRST NAME    0.2\n",
       "LAST NAME     0.2\n",
       "SOURCE        0.2\n",
       "COURSE        0.2\n",
       "TRACK         0.2\n",
       "GENDER        0.2\n",
       "dtype: float64"
      ]
     },
     "execution_count": 27,
     "metadata": {},
     "output_type": "execute_result"
    }
   ],
   "source": [
    "# probability that a randomly selected registered female will be enrolled in the program?\n",
    "probability_female = registered_female.count()/registered_data.count()\n",
    "probability_female.round(2)"
   ]
  },
  {
   "cell_type": "code",
   "execution_count": 26,
   "id": "julian-shadow",
   "metadata": {},
   "outputs": [
    {
     "data": {
      "text/plain": [
       "Unnamed: 0    1.00\n",
       "FIRST NAME    1.00\n",
       "LAST NAME     1.00\n",
       "SOURCE        1.01\n",
       "COURSE        1.01\n",
       "TRACK         1.00\n",
       "GENDER        1.02\n",
       "dtype: float64"
      ]
     },
     "execution_count": 26,
     "metadata": {},
     "output_type": "execute_result"
    }
   ],
   "source": [
    "# What is the probability that a randomly selected registered male will be enrolled in the program?\n",
    "probability_male = registered_male.count()/registered_data.count()\n",
    "probability_male.round(2)"
   ]
  },
  {
   "cell_type": "code",
   "execution_count": 28,
   "id": "taken-fancy",
   "metadata": {},
   "outputs": [
    {
     "data": {
      "text/plain": [
       "Unnamed: 0    0.48\n",
       "FIRST NAME    0.48\n",
       "LAST NAME     0.48\n",
       "SOURCE        0.48\n",
       "COURSE        0.48\n",
       "TRACK         0.48\n",
       "GENDER        0.49\n",
       "dtype: float64"
      ]
     },
     "execution_count": 28,
     "metadata": {},
     "output_type": "execute_result"
    }
   ],
   "source": [
    "# What is the probability that a registered applicant will eventually enroll in the program?\n",
    "probability= data.count()/registered_data.count()\n",
    "probability\n",
    "probability.round(2)"
   ]
  },
  {
   "cell_type": "code",
   "execution_count": null,
   "id": "commercial-stanford",
   "metadata": {},
   "outputs": [],
   "source": []
  }
 ],
 "metadata": {
  "kernelspec": {
   "display_name": "Python 3",
   "language": "python",
   "name": "python3"
  },
  "language_info": {
   "codemirror_mode": {
    "name": "ipython",
    "version": 3
   },
   "file_extension": ".py",
   "mimetype": "text/x-python",
   "name": "python",
   "nbconvert_exporter": "python",
   "pygments_lexer": "ipython3",
   "version": "3.7.9"
  }
 },
 "nbformat": 4,
 "nbformat_minor": 5
}
